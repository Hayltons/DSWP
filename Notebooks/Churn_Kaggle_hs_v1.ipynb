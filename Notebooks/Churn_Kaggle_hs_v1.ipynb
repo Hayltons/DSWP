{
  "nbformat": 4,
  "nbformat_minor": 0,
  "metadata": {
    "kernelspec": {
      "display_name": "Python 3",
      "language": "python",
      "name": "python3"
    },
    "language_info": {
      "codemirror_mode": {
        "name": "ipython",
        "version": 3
      },
      "file_extension": ".py",
      "mimetype": "text/x-python",
      "name": "python",
      "nbconvert_exporter": "python",
      "pygments_lexer": "ipython3",
      "version": "3.7.6"
    },
    "toc": {
      "base_numbering": 1,
      "nav_menu": {},
      "number_sections": true,
      "sideBar": true,
      "skip_h1_title": true,
      "title_cell": "Table of Contents",
      "title_sidebar": "Contents",
      "toc_cell": false,
      "toc_position": {
        "height": "calc(100% - 180px)",
        "left": "10px",
        "top": "150px",
        "width": "341.306px"
      },
      "toc_section_display": true,
      "toc_window_display": true
    },
    "varInspector": {
      "cols": {
        "lenName": 16,
        "lenType": 16,
        "lenVar": 40
      },
      "kernels_config": {
        "python": {
          "delete_cmd_postfix": "",
          "delete_cmd_prefix": "del ",
          "library": "var_list.py",
          "varRefreshCmd": "print(var_dic_list())"
        },
        "r": {
          "delete_cmd_postfix": ") ",
          "delete_cmd_prefix": "rm(",
          "library": "var_list.r",
          "varRefreshCmd": "cat(var_dic_list()) "
        }
      },
      "types_to_exclude": [
        "module",
        "function",
        "builtin_function_or_method",
        "instance",
        "_Feature"
      ],
      "window_display": false
    },
    "colab": {
      "name": "Churn_Kaggle_hs.ipynb",
      "provenance": []
    }
  },
  "cells": [
    {
      "cell_type": "markdown",
      "metadata": {
        "id": "liluVuCHPY4W"
      },
      "source": [
        "## NOTEBOOK DE EXEMPLO - COPIADO DO MARIO - usado como base para aprendizado no Kaggle - Desafio Churn\n",
        "\n",
        "* Versão 1"
      ]
    },
    {
      "cell_type": "markdown",
      "metadata": {
        "id": "l8di6VsoPUq_"
      },
      "source": [
        "## Problema:\n",
        "O objetivo desta análise consiste em prever a probabilidade de churn dos clientes de uma empresa de telecomunicações, isto é, a probabilidade de o cliente deixar de ser cliente."
      ]
    },
    {
      "cell_type": "markdown",
      "metadata": {
        "id": "AgcOVcw8PUrB"
      },
      "source": [
        "## Controle de versões\n",
        "1. Versão 1 : Seleção de variáveis - uso de variaveis selecionadas no modelo <br>\n",
        "Score: ? <br>\n",
        "2. Versão: Uso de todas as variáveis no modelo<br>\n",
        "Score: ?"
      ]
    },
    {
      "cell_type": "markdown",
      "metadata": {
        "id": "HVe_ysSYPUrD"
      },
      "source": [
        "## Configuração do ambiente"
      ]
    },
    {
      "cell_type": "code",
      "metadata": {
        "id": "qfHPwU4fPUrF",
        "outputId": "606201b1-462c-42d5-de3e-2aa3812fb652",
        "colab": {
          "base_uri": "https://localhost:8080/"
        }
      },
      "source": [
        "from platform import python_version\n",
        "print(python_version())"
      ],
      "execution_count": 85,
      "outputs": [
        {
          "output_type": "stream",
          "text": [
            "3.6.9\n"
          ],
          "name": "stdout"
        }
      ]
    },
    {
      "cell_type": "markdown",
      "metadata": {
        "id": "4By57kWoPUrM"
      },
      "source": [
        "## Obtenção dos dados"
      ]
    },
    {
      "cell_type": "markdown",
      "metadata": {
        "id": "CWtj2C0nPUrN"
      },
      "source": [
        "### Importação das bibliotecas"
      ]
    },
    {
      "cell_type": "code",
      "metadata": {
        "id": "CzCX0a1bPUrO"
      },
      "source": [
        "import pandas as pd\n",
        "import numpy as np\n",
        "import matplotlib.pyplot as plt\n",
        "import seaborn as sns\n",
        "import warnings\n",
        "warnings.filterwarnings(\"ignore\", category=FutureWarning)\n",
        "pd.options.display.float_format = '{:,.2f}'.format\n",
        "pd.set_option('display.max_columns', None)\n",
        "pd.set_option('display.max_rows', 72)"
      ],
      "execution_count": 86,
      "outputs": []
    },
    {
      "cell_type": "markdown",
      "metadata": {
        "id": "rU0xVegqPUrT"
      },
      "source": [
        "### Carregamento dos dados"
      ]
    },
    {
      "cell_type": "code",
      "metadata": {
        "id": "KG0Ev5enYNy9"
      },
      "source": [
        "url = 'https://raw.githubusercontent.com/Hayltons/DSWP/Kaggle_Churn/Dataframes/1_churn_train.csv'"
      ],
      "execution_count": 87,
      "outputs": []
    },
    {
      "cell_type": "code",
      "metadata": {
        "id": "12zFGJRrPUrU"
      },
      "source": [
        "df_treino = pd.read_csv(url,sep=',')"
      ],
      "execution_count": 88,
      "outputs": []
    },
    {
      "cell_type": "markdown",
      "metadata": {
        "id": "jh0xw3vOPUre"
      },
      "source": [
        "### Visualização das linhas iniciais de dados"
      ]
    },
    {
      "cell_type": "code",
      "metadata": {
        "id": "MRNsTV3hPUrf",
        "outputId": "8c9ff7a5-0cba-4f77-b81c-0d758e128a00",
        "colab": {
          "base_uri": "https://localhost:8080/",
          "height": 309
        }
      },
      "source": [
        "df_treino.head()"
      ],
      "execution_count": 89,
      "outputs": [
        {
          "output_type": "execute_result",
          "data": {
            "text/html": [
              "<div>\n",
              "<style scoped>\n",
              "    .dataframe tbody tr th:only-of-type {\n",
              "        vertical-align: middle;\n",
              "    }\n",
              "\n",
              "    .dataframe tbody tr th {\n",
              "        vertical-align: top;\n",
              "    }\n",
              "\n",
              "    .dataframe thead th {\n",
              "        text-align: right;\n",
              "    }\n",
              "</style>\n",
              "<table border=\"1\" class=\"dataframe\">\n",
              "  <thead>\n",
              "    <tr style=\"text-align: right;\">\n",
              "      <th></th>\n",
              "      <th>id</th>\n",
              "      <th>gender</th>\n",
              "      <th>SeniorCitizen</th>\n",
              "      <th>Partner</th>\n",
              "      <th>Dependents</th>\n",
              "      <th>tenure</th>\n",
              "      <th>PhoneService</th>\n",
              "      <th>MultipleLines</th>\n",
              "      <th>InternetService</th>\n",
              "      <th>OnlineSecurity</th>\n",
              "      <th>OnlineBackup</th>\n",
              "      <th>DeviceProtection</th>\n",
              "      <th>TechSupport</th>\n",
              "      <th>StreamingTV</th>\n",
              "      <th>StreamingMovies</th>\n",
              "      <th>Contract</th>\n",
              "      <th>PaperlessBilling</th>\n",
              "      <th>PaymentMethod</th>\n",
              "      <th>MonthlyCharges</th>\n",
              "      <th>TotalCharges</th>\n",
              "      <th>Churn</th>\n",
              "    </tr>\n",
              "  </thead>\n",
              "  <tbody>\n",
              "    <tr>\n",
              "      <th>0</th>\n",
              "      <td>4030</td>\n",
              "      <td>Female</td>\n",
              "      <td>0</td>\n",
              "      <td>No</td>\n",
              "      <td>No</td>\n",
              "      <td>56.00</td>\n",
              "      <td>No</td>\n",
              "      <td>No phone service</td>\n",
              "      <td>DSL</td>\n",
              "      <td>Yes</td>\n",
              "      <td>Yes</td>\n",
              "      <td>Yes</td>\n",
              "      <td>Yes</td>\n",
              "      <td>No</td>\n",
              "      <td>No</td>\n",
              "      <td>Two year</td>\n",
              "      <td>No</td>\n",
              "      <td>NaN</td>\n",
              "      <td>45.05</td>\n",
              "      <td>2560.1</td>\n",
              "      <td>0</td>\n",
              "    </tr>\n",
              "    <tr>\n",
              "      <th>1</th>\n",
              "      <td>6731</td>\n",
              "      <td>Male</td>\n",
              "      <td>0</td>\n",
              "      <td>Yes</td>\n",
              "      <td>Yes</td>\n",
              "      <td>nan</td>\n",
              "      <td>Yes</td>\n",
              "      <td>No</td>\n",
              "      <td>No</td>\n",
              "      <td>No internet service</td>\n",
              "      <td>No internet service</td>\n",
              "      <td>No internet service</td>\n",
              "      <td>No internet service</td>\n",
              "      <td>No internet service</td>\n",
              "      <td>No internet service</td>\n",
              "      <td>One year</td>\n",
              "      <td>No</td>\n",
              "      <td>Mailed check</td>\n",
              "      <td>19.65</td>\n",
              "      <td>332.65</td>\n",
              "      <td>0</td>\n",
              "    </tr>\n",
              "    <tr>\n",
              "      <th>2</th>\n",
              "      <td>6479</td>\n",
              "      <td>Female</td>\n",
              "      <td>0</td>\n",
              "      <td>Yes</td>\n",
              "      <td>No</td>\n",
              "      <td>60.00</td>\n",
              "      <td>Yes</td>\n",
              "      <td>Yes</td>\n",
              "      <td>Fiber optic</td>\n",
              "      <td>No</td>\n",
              "      <td>Yes</td>\n",
              "      <td>Yes</td>\n",
              "      <td>Yes</td>\n",
              "      <td>Yes</td>\n",
              "      <td>Yes</td>\n",
              "      <td>Two year</td>\n",
              "      <td>Yes</td>\n",
              "      <td>Credit card (automatic)</td>\n",
              "      <td>110.80</td>\n",
              "      <td>6640.7</td>\n",
              "      <td>0</td>\n",
              "    </tr>\n",
              "    <tr>\n",
              "      <th>3</th>\n",
              "      <td>6861</td>\n",
              "      <td>Female</td>\n",
              "      <td>0</td>\n",
              "      <td>No</td>\n",
              "      <td>No</td>\n",
              "      <td>37.00</td>\n",
              "      <td>Yes</td>\n",
              "      <td>Yes</td>\n",
              "      <td>Fiber optic</td>\n",
              "      <td>No</td>\n",
              "      <td>Yes</td>\n",
              "      <td>Yes</td>\n",
              "      <td>No</td>\n",
              "      <td>Yes</td>\n",
              "      <td>Yes</td>\n",
              "      <td>Month-to-month</td>\n",
              "      <td>Yes</td>\n",
              "      <td>Bank transfer (automatic)</td>\n",
              "      <td>101.90</td>\n",
              "      <td>3545.35</td>\n",
              "      <td>1</td>\n",
              "    </tr>\n",
              "    <tr>\n",
              "      <th>4</th>\n",
              "      <td>3266</td>\n",
              "      <td>Male</td>\n",
              "      <td>0</td>\n",
              "      <td>Yes</td>\n",
              "      <td>Yes</td>\n",
              "      <td>29.00</td>\n",
              "      <td>Yes</td>\n",
              "      <td>No</td>\n",
              "      <td>Fiber optic</td>\n",
              "      <td>No</td>\n",
              "      <td>No</td>\n",
              "      <td>No</td>\n",
              "      <td>No</td>\n",
              "      <td>No</td>\n",
              "      <td>No</td>\n",
              "      <td>Month-to-month</td>\n",
              "      <td>Yes</td>\n",
              "      <td>Electronic check</td>\n",
              "      <td>70.75</td>\n",
              "      <td>1974.8</td>\n",
              "      <td>1</td>\n",
              "    </tr>\n",
              "  </tbody>\n",
              "</table>\n",
              "</div>"
            ],
            "text/plain": [
              "     id  gender  SeniorCitizen Partner Dependents  tenure PhoneService  \\\n",
              "0  4030  Female              0      No         No   56.00           No   \n",
              "1  6731    Male              0     Yes        Yes     nan          Yes   \n",
              "2  6479  Female              0     Yes         No   60.00          Yes   \n",
              "3  6861  Female              0      No         No   37.00          Yes   \n",
              "4  3266    Male              0     Yes        Yes   29.00          Yes   \n",
              "\n",
              "      MultipleLines InternetService       OnlineSecurity         OnlineBackup  \\\n",
              "0  No phone service             DSL                  Yes                  Yes   \n",
              "1                No              No  No internet service  No internet service   \n",
              "2               Yes     Fiber optic                   No                  Yes   \n",
              "3               Yes     Fiber optic                   No                  Yes   \n",
              "4                No     Fiber optic                   No                   No   \n",
              "\n",
              "      DeviceProtection          TechSupport          StreamingTV  \\\n",
              "0                  Yes                  Yes                   No   \n",
              "1  No internet service  No internet service  No internet service   \n",
              "2                  Yes                  Yes                  Yes   \n",
              "3                  Yes                   No                  Yes   \n",
              "4                   No                   No                   No   \n",
              "\n",
              "       StreamingMovies        Contract PaperlessBilling  \\\n",
              "0                   No        Two year               No   \n",
              "1  No internet service        One year               No   \n",
              "2                  Yes        Two year              Yes   \n",
              "3                  Yes  Month-to-month              Yes   \n",
              "4                   No  Month-to-month              Yes   \n",
              "\n",
              "               PaymentMethod  MonthlyCharges TotalCharges  Churn  \n",
              "0                        NaN           45.05       2560.1      0  \n",
              "1               Mailed check           19.65       332.65      0  \n",
              "2    Credit card (automatic)          110.80       6640.7      0  \n",
              "3  Bank transfer (automatic)          101.90      3545.35      1  \n",
              "4           Electronic check           70.75       1974.8      1  "
            ]
          },
          "metadata": {
            "tags": []
          },
          "execution_count": 89
        }
      ]
    },
    {
      "cell_type": "code",
      "metadata": {
        "id": "h8SQTfBcDYrv",
        "outputId": "1e9171e5-68fe-411c-9f4d-bb432afa820e",
        "colab": {
          "base_uri": "https://localhost:8080/",
          "height": 309
        }
      },
      "source": [
        "df_treino.tail()"
      ],
      "execution_count": 90,
      "outputs": [
        {
          "output_type": "execute_result",
          "data": {
            "text/html": [
              "<div>\n",
              "<style scoped>\n",
              "    .dataframe tbody tr th:only-of-type {\n",
              "        vertical-align: middle;\n",
              "    }\n",
              "\n",
              "    .dataframe tbody tr th {\n",
              "        vertical-align: top;\n",
              "    }\n",
              "\n",
              "    .dataframe thead th {\n",
              "        text-align: right;\n",
              "    }\n",
              "</style>\n",
              "<table border=\"1\" class=\"dataframe\">\n",
              "  <thead>\n",
              "    <tr style=\"text-align: right;\">\n",
              "      <th></th>\n",
              "      <th>id</th>\n",
              "      <th>gender</th>\n",
              "      <th>SeniorCitizen</th>\n",
              "      <th>Partner</th>\n",
              "      <th>Dependents</th>\n",
              "      <th>tenure</th>\n",
              "      <th>PhoneService</th>\n",
              "      <th>MultipleLines</th>\n",
              "      <th>InternetService</th>\n",
              "      <th>OnlineSecurity</th>\n",
              "      <th>OnlineBackup</th>\n",
              "      <th>DeviceProtection</th>\n",
              "      <th>TechSupport</th>\n",
              "      <th>StreamingTV</th>\n",
              "      <th>StreamingMovies</th>\n",
              "      <th>Contract</th>\n",
              "      <th>PaperlessBilling</th>\n",
              "      <th>PaymentMethod</th>\n",
              "      <th>MonthlyCharges</th>\n",
              "      <th>TotalCharges</th>\n",
              "      <th>Churn</th>\n",
              "    </tr>\n",
              "  </thead>\n",
              "  <tbody>\n",
              "    <tr>\n",
              "      <th>5629</th>\n",
              "      <td>6684</td>\n",
              "      <td>Male</td>\n",
              "      <td>0</td>\n",
              "      <td>No</td>\n",
              "      <td>No</td>\n",
              "      <td>43.00</td>\n",
              "      <td>No</td>\n",
              "      <td>No phone service</td>\n",
              "      <td>DSL</td>\n",
              "      <td>No</td>\n",
              "      <td>No</td>\n",
              "      <td>Yes</td>\n",
              "      <td>Yes</td>\n",
              "      <td>No</td>\n",
              "      <td>Yes</td>\n",
              "      <td>One year</td>\n",
              "      <td>No</td>\n",
              "      <td>Electronic check</td>\n",
              "      <td>44.15</td>\n",
              "      <td>1931.3</td>\n",
              "      <td>0</td>\n",
              "    </tr>\n",
              "    <tr>\n",
              "      <th>5630</th>\n",
              "      <td>604</td>\n",
              "      <td>Male</td>\n",
              "      <td>0</td>\n",
              "      <td>No</td>\n",
              "      <td>No</td>\n",
              "      <td>nan</td>\n",
              "      <td>Yes</td>\n",
              "      <td>Yes</td>\n",
              "      <td>Fiber optic</td>\n",
              "      <td>No</td>\n",
              "      <td>Yes</td>\n",
              "      <td>Yes</td>\n",
              "      <td>Yes</td>\n",
              "      <td>Yes</td>\n",
              "      <td>Yes</td>\n",
              "      <td>Two year</td>\n",
              "      <td>No</td>\n",
              "      <td>Electronic check</td>\n",
              "      <td>108.65</td>\n",
              "      <td>4903.2</td>\n",
              "      <td>0</td>\n",
              "    </tr>\n",
              "    <tr>\n",
              "      <th>5631</th>\n",
              "      <td>4803</td>\n",
              "      <td>Female</td>\n",
              "      <td>0</td>\n",
              "      <td>No</td>\n",
              "      <td>No</td>\n",
              "      <td>28.00</td>\n",
              "      <td>Yes</td>\n",
              "      <td>No</td>\n",
              "      <td>DSL</td>\n",
              "      <td>No</td>\n",
              "      <td>Yes</td>\n",
              "      <td>No</td>\n",
              "      <td>Yes</td>\n",
              "      <td>No</td>\n",
              "      <td>No</td>\n",
              "      <td>Month-to-month</td>\n",
              "      <td>No</td>\n",
              "      <td>Bank transfer (automatic)</td>\n",
              "      <td>54.65</td>\n",
              "      <td>1517.5</td>\n",
              "      <td>0</td>\n",
              "    </tr>\n",
              "    <tr>\n",
              "      <th>5632</th>\n",
              "      <td>6317</td>\n",
              "      <td>Male</td>\n",
              "      <td>0</td>\n",
              "      <td>Yes</td>\n",
              "      <td>Yes</td>\n",
              "      <td>63.00</td>\n",
              "      <td>Yes</td>\n",
              "      <td>Yes</td>\n",
              "      <td>No</td>\n",
              "      <td>No internet service</td>\n",
              "      <td>No internet service</td>\n",
              "      <td>No internet service</td>\n",
              "      <td>No internet service</td>\n",
              "      <td>No internet service</td>\n",
              "      <td>No internet service</td>\n",
              "      <td>Two year</td>\n",
              "      <td>No</td>\n",
              "      <td>Mailed check</td>\n",
              "      <td>25.25</td>\n",
              "      <td>1573.05</td>\n",
              "      <td>0</td>\n",
              "    </tr>\n",
              "    <tr>\n",
              "      <th>5633</th>\n",
              "      <td>103</td>\n",
              "      <td>Male</td>\n",
              "      <td>0</td>\n",
              "      <td>No</td>\n",
              "      <td>No</td>\n",
              "      <td>38.00</td>\n",
              "      <td>Yes</td>\n",
              "      <td>Yes</td>\n",
              "      <td>Fiber optic</td>\n",
              "      <td>No</td>\n",
              "      <td>No</td>\n",
              "      <td>Yes</td>\n",
              "      <td>Yes</td>\n",
              "      <td>Yes</td>\n",
              "      <td>No</td>\n",
              "      <td>One year</td>\n",
              "      <td>No</td>\n",
              "      <td>Bank transfer (automatic)</td>\n",
              "      <td>95.00</td>\n",
              "      <td>3605.6</td>\n",
              "      <td>0</td>\n",
              "    </tr>\n",
              "  </tbody>\n",
              "</table>\n",
              "</div>"
            ],
            "text/plain": [
              "        id  gender  SeniorCitizen Partner Dependents  tenure PhoneService  \\\n",
              "5629  6684    Male              0      No         No   43.00           No   \n",
              "5630   604    Male              0      No         No     nan          Yes   \n",
              "5631  4803  Female              0      No         No   28.00          Yes   \n",
              "5632  6317    Male              0     Yes        Yes   63.00          Yes   \n",
              "5633   103    Male              0      No         No   38.00          Yes   \n",
              "\n",
              "         MultipleLines InternetService       OnlineSecurity  \\\n",
              "5629  No phone service             DSL                   No   \n",
              "5630               Yes     Fiber optic                   No   \n",
              "5631                No             DSL                   No   \n",
              "5632               Yes              No  No internet service   \n",
              "5633               Yes     Fiber optic                   No   \n",
              "\n",
              "             OnlineBackup     DeviceProtection          TechSupport  \\\n",
              "5629                   No                  Yes                  Yes   \n",
              "5630                  Yes                  Yes                  Yes   \n",
              "5631                  Yes                   No                  Yes   \n",
              "5632  No internet service  No internet service  No internet service   \n",
              "5633                   No                  Yes                  Yes   \n",
              "\n",
              "              StreamingTV      StreamingMovies        Contract  \\\n",
              "5629                   No                  Yes        One year   \n",
              "5630                  Yes                  Yes        Two year   \n",
              "5631                   No                   No  Month-to-month   \n",
              "5632  No internet service  No internet service        Two year   \n",
              "5633                  Yes                   No        One year   \n",
              "\n",
              "     PaperlessBilling              PaymentMethod  MonthlyCharges TotalCharges  \\\n",
              "5629               No           Electronic check           44.15       1931.3   \n",
              "5630               No           Electronic check          108.65       4903.2   \n",
              "5631               No  Bank transfer (automatic)           54.65       1517.5   \n",
              "5632               No               Mailed check           25.25      1573.05   \n",
              "5633               No  Bank transfer (automatic)           95.00       3605.6   \n",
              "\n",
              "      Churn  \n",
              "5629      0  \n",
              "5630      0  \n",
              "5631      0  \n",
              "5632      0  \n",
              "5633      0  "
            ]
          },
          "metadata": {
            "tags": []
          },
          "execution_count": 90
        }
      ]
    },
    {
      "cell_type": "markdown",
      "metadata": {
        "id": "AkziuiCCPUrl"
      },
      "source": [
        "## Manipulação inicial do banco de dados"
      ]
    },
    {
      "cell_type": "markdown",
      "metadata": {
        "id": "OmUYp6WNPUrm"
      },
      "source": [
        "### Renomeando as colunas do Dataframe para minusculas"
      ]
    },
    {
      "cell_type": "code",
      "metadata": {
        "id": "X5S3fRWuPUrn"
      },
      "source": [
        "df_treino.columns = df_treino.columns.str.lower()"
      ],
      "execution_count": 91,
      "outputs": []
    },
    {
      "cell_type": "code",
      "metadata": {
        "id": "HsyQvvYPaPqF",
        "outputId": "9081b3c7-927b-4318-8827-a1d26f04d76a",
        "colab": {
          "base_uri": "https://localhost:8080/"
        }
      },
      "source": [
        "df_treino.columns"
      ],
      "execution_count": 92,
      "outputs": [
        {
          "output_type": "execute_result",
          "data": {
            "text/plain": [
              "Index(['id', 'gender', 'seniorcitizen', 'partner', 'dependents', 'tenure',\n",
              "       'phoneservice', 'multiplelines', 'internetservice', 'onlinesecurity',\n",
              "       'onlinebackup', 'deviceprotection', 'techsupport', 'streamingtv',\n",
              "       'streamingmovies', 'contract', 'paperlessbilling', 'paymentmethod',\n",
              "       'monthlycharges', 'totalcharges', 'churn'],\n",
              "      dtype='object')"
            ]
          },
          "metadata": {
            "tags": []
          },
          "execution_count": 92
        }
      ]
    },
    {
      "cell_type": "markdown",
      "metadata": {
        "id": "Q7th6qQDPUrr"
      },
      "source": [
        "### Visualizando o banco de dados"
      ]
    },
    {
      "cell_type": "code",
      "metadata": {
        "id": "e2R55DalPUrs",
        "outputId": "47bf9b8f-2820-4b22-a364-a35331110e35",
        "colab": {
          "base_uri": "https://localhost:8080/",
          "height": 853
        }
      },
      "source": [
        "df_treino.head(10).T  #.T faz a transposta da exibiçao do comando head"
      ],
      "execution_count": 93,
      "outputs": [
        {
          "output_type": "execute_result",
          "data": {
            "text/html": [
              "<div>\n",
              "<style scoped>\n",
              "    .dataframe tbody tr th:only-of-type {\n",
              "        vertical-align: middle;\n",
              "    }\n",
              "\n",
              "    .dataframe tbody tr th {\n",
              "        vertical-align: top;\n",
              "    }\n",
              "\n",
              "    .dataframe thead th {\n",
              "        text-align: right;\n",
              "    }\n",
              "</style>\n",
              "<table border=\"1\" class=\"dataframe\">\n",
              "  <thead>\n",
              "    <tr style=\"text-align: right;\">\n",
              "      <th></th>\n",
              "      <th>0</th>\n",
              "      <th>1</th>\n",
              "      <th>2</th>\n",
              "      <th>3</th>\n",
              "      <th>4</th>\n",
              "      <th>5</th>\n",
              "      <th>6</th>\n",
              "      <th>7</th>\n",
              "      <th>8</th>\n",
              "      <th>9</th>\n",
              "    </tr>\n",
              "  </thead>\n",
              "  <tbody>\n",
              "    <tr>\n",
              "      <th>id</th>\n",
              "      <td>4030</td>\n",
              "      <td>6731</td>\n",
              "      <td>6479</td>\n",
              "      <td>6861</td>\n",
              "      <td>3266</td>\n",
              "      <td>6368</td>\n",
              "      <td>5830</td>\n",
              "      <td>4476</td>\n",
              "      <td>1508</td>\n",
              "      <td>2921</td>\n",
              "    </tr>\n",
              "    <tr>\n",
              "      <th>gender</th>\n",
              "      <td>Female</td>\n",
              "      <td>Male</td>\n",
              "      <td>Female</td>\n",
              "      <td>Female</td>\n",
              "      <td>Male</td>\n",
              "      <td>Male</td>\n",
              "      <td>Male</td>\n",
              "      <td>Female</td>\n",
              "      <td>Male</td>\n",
              "      <td>Female</td>\n",
              "    </tr>\n",
              "    <tr>\n",
              "      <th>seniorcitizen</th>\n",
              "      <td>0</td>\n",
              "      <td>0</td>\n",
              "      <td>0</td>\n",
              "      <td>0</td>\n",
              "      <td>0</td>\n",
              "      <td>0</td>\n",
              "      <td>0</td>\n",
              "      <td>0</td>\n",
              "      <td>0</td>\n",
              "      <td>0</td>\n",
              "    </tr>\n",
              "    <tr>\n",
              "      <th>partner</th>\n",
              "      <td>No</td>\n",
              "      <td>Yes</td>\n",
              "      <td>Yes</td>\n",
              "      <td>No</td>\n",
              "      <td>Yes</td>\n",
              "      <td>No</td>\n",
              "      <td>Yes</td>\n",
              "      <td>No</td>\n",
              "      <td>No</td>\n",
              "      <td>Yes</td>\n",
              "    </tr>\n",
              "    <tr>\n",
              "      <th>dependents</th>\n",
              "      <td>No</td>\n",
              "      <td>Yes</td>\n",
              "      <td>No</td>\n",
              "      <td>No</td>\n",
              "      <td>Yes</td>\n",
              "      <td>No</td>\n",
              "      <td>Yes</td>\n",
              "      <td>No</td>\n",
              "      <td>No</td>\n",
              "      <td>No</td>\n",
              "    </tr>\n",
              "    <tr>\n",
              "      <th>tenure</th>\n",
              "      <td>56.00</td>\n",
              "      <td>NaN</td>\n",
              "      <td>60.00</td>\n",
              "      <td>37.00</td>\n",
              "      <td>29.00</td>\n",
              "      <td>70.00</td>\n",
              "      <td>31.00</td>\n",
              "      <td>3.00</td>\n",
              "      <td>54.00</td>\n",
              "      <td>72.00</td>\n",
              "    </tr>\n",
              "    <tr>\n",
              "      <th>phoneservice</th>\n",
              "      <td>No</td>\n",
              "      <td>Yes</td>\n",
              "      <td>Yes</td>\n",
              "      <td>Yes</td>\n",
              "      <td>Yes</td>\n",
              "      <td>No</td>\n",
              "      <td>No</td>\n",
              "      <td>Yes</td>\n",
              "      <td>Yes</td>\n",
              "      <td>Yes</td>\n",
              "    </tr>\n",
              "    <tr>\n",
              "      <th>multiplelines</th>\n",
              "      <td>No phone service</td>\n",
              "      <td>No</td>\n",
              "      <td>Yes</td>\n",
              "      <td>Yes</td>\n",
              "      <td>No</td>\n",
              "      <td>No phone service</td>\n",
              "      <td>No phone service</td>\n",
              "      <td>No</td>\n",
              "      <td>No</td>\n",
              "      <td>No</td>\n",
              "    </tr>\n",
              "    <tr>\n",
              "      <th>internetservice</th>\n",
              "      <td>DSL</td>\n",
              "      <td>No</td>\n",
              "      <td>Fiber optic</td>\n",
              "      <td>Fiber optic</td>\n",
              "      <td>Fiber optic</td>\n",
              "      <td>DSL</td>\n",
              "      <td>DSL</td>\n",
              "      <td>No</td>\n",
              "      <td>No</td>\n",
              "      <td>DSL</td>\n",
              "    </tr>\n",
              "    <tr>\n",
              "      <th>onlinesecurity</th>\n",
              "      <td>Yes</td>\n",
              "      <td>No internet service</td>\n",
              "      <td>No</td>\n",
              "      <td>No</td>\n",
              "      <td>No</td>\n",
              "      <td>Yes</td>\n",
              "      <td>Yes</td>\n",
              "      <td>No internet service</td>\n",
              "      <td>No internet service</td>\n",
              "      <td>Yes</td>\n",
              "    </tr>\n",
              "    <tr>\n",
              "      <th>onlinebackup</th>\n",
              "      <td>Yes</td>\n",
              "      <td>No internet service</td>\n",
              "      <td>Yes</td>\n",
              "      <td>Yes</td>\n",
              "      <td>No</td>\n",
              "      <td>No</td>\n",
              "      <td>No</td>\n",
              "      <td>No internet service</td>\n",
              "      <td>No internet service</td>\n",
              "      <td>Yes</td>\n",
              "    </tr>\n",
              "    <tr>\n",
              "      <th>deviceprotection</th>\n",
              "      <td>Yes</td>\n",
              "      <td>No internet service</td>\n",
              "      <td>Yes</td>\n",
              "      <td>Yes</td>\n",
              "      <td>No</td>\n",
              "      <td>Yes</td>\n",
              "      <td>Yes</td>\n",
              "      <td>No internet service</td>\n",
              "      <td>No internet service</td>\n",
              "      <td>Yes</td>\n",
              "    </tr>\n",
              "    <tr>\n",
              "      <th>techsupport</th>\n",
              "      <td>Yes</td>\n",
              "      <td>No internet service</td>\n",
              "      <td>Yes</td>\n",
              "      <td>No</td>\n",
              "      <td>No</td>\n",
              "      <td>Yes</td>\n",
              "      <td>Yes</td>\n",
              "      <td>No internet service</td>\n",
              "      <td>No internet service</td>\n",
              "      <td>Yes</td>\n",
              "    </tr>\n",
              "    <tr>\n",
              "      <th>streamingtv</th>\n",
              "      <td>No</td>\n",
              "      <td>No internet service</td>\n",
              "      <td>Yes</td>\n",
              "      <td>Yes</td>\n",
              "      <td>No</td>\n",
              "      <td>No</td>\n",
              "      <td>Yes</td>\n",
              "      <td>No internet service</td>\n",
              "      <td>No internet service</td>\n",
              "      <td>Yes</td>\n",
              "    </tr>\n",
              "    <tr>\n",
              "      <th>streamingmovies</th>\n",
              "      <td>No</td>\n",
              "      <td>No internet service</td>\n",
              "      <td>Yes</td>\n",
              "      <td>Yes</td>\n",
              "      <td>No</td>\n",
              "      <td>Yes</td>\n",
              "      <td>Yes</td>\n",
              "      <td>No internet service</td>\n",
              "      <td>No internet service</td>\n",
              "      <td>Yes</td>\n",
              "    </tr>\n",
              "    <tr>\n",
              "      <th>contract</th>\n",
              "      <td>Two year</td>\n",
              "      <td>One year</td>\n",
              "      <td>Two year</td>\n",
              "      <td>Month-to-month</td>\n",
              "      <td>Month-to-month</td>\n",
              "      <td>Two year</td>\n",
              "      <td>One year</td>\n",
              "      <td>Month-to-month</td>\n",
              "      <td>Two year</td>\n",
              "      <td>Two year</td>\n",
              "    </tr>\n",
              "    <tr>\n",
              "      <th>paperlessbilling</th>\n",
              "      <td>No</td>\n",
              "      <td>No</td>\n",
              "      <td>Yes</td>\n",
              "      <td>Yes</td>\n",
              "      <td>Yes</td>\n",
              "      <td>No</td>\n",
              "      <td>No</td>\n",
              "      <td>No</td>\n",
              "      <td>No</td>\n",
              "      <td>No</td>\n",
              "    </tr>\n",
              "    <tr>\n",
              "      <th>paymentmethod</th>\n",
              "      <td>NaN</td>\n",
              "      <td>Mailed check</td>\n",
              "      <td>Credit card (automatic)</td>\n",
              "      <td>Bank transfer (automatic)</td>\n",
              "      <td>Electronic check</td>\n",
              "      <td>Bank transfer (automatic)</td>\n",
              "      <td>Electronic check</td>\n",
              "      <td>Electronic check</td>\n",
              "      <td>Credit card (automatic)</td>\n",
              "      <td>Mailed check</td>\n",
              "    </tr>\n",
              "    <tr>\n",
              "      <th>monthlycharges</th>\n",
              "      <td>45.05</td>\n",
              "      <td>19.65</td>\n",
              "      <td>110.80</td>\n",
              "      <td>101.90</td>\n",
              "      <td>70.75</td>\n",
              "      <td>48.40</td>\n",
              "      <td>59.95</td>\n",
              "      <td>19.55</td>\n",
              "      <td>19.65</td>\n",
              "      <td>85.10</td>\n",
              "    </tr>\n",
              "    <tr>\n",
              "      <th>totalcharges</th>\n",
              "      <td>2560.1</td>\n",
              "      <td>332.65</td>\n",
              "      <td>6640.7</td>\n",
              "      <td>3545.35</td>\n",
              "      <td>1974.8</td>\n",
              "      <td>3442.8</td>\n",
              "      <td>1848.8</td>\n",
              "      <td>61.05</td>\n",
              "      <td>1008.7</td>\n",
              "      <td>6155.4</td>\n",
              "    </tr>\n",
              "    <tr>\n",
              "      <th>churn</th>\n",
              "      <td>0</td>\n",
              "      <td>0</td>\n",
              "      <td>0</td>\n",
              "      <td>1</td>\n",
              "      <td>1</td>\n",
              "      <td>0</td>\n",
              "      <td>0</td>\n",
              "      <td>0</td>\n",
              "      <td>0</td>\n",
              "      <td>0</td>\n",
              "    </tr>\n",
              "  </tbody>\n",
              "</table>\n",
              "</div>"
            ],
            "text/plain": [
              "                                 0                    1  \\\n",
              "id                            4030                 6731   \n",
              "gender                      Female                 Male   \n",
              "seniorcitizen                    0                    0   \n",
              "partner                         No                  Yes   \n",
              "dependents                      No                  Yes   \n",
              "tenure                       56.00                  NaN   \n",
              "phoneservice                    No                  Yes   \n",
              "multiplelines     No phone service                   No   \n",
              "internetservice                DSL                   No   \n",
              "onlinesecurity                 Yes  No internet service   \n",
              "onlinebackup                   Yes  No internet service   \n",
              "deviceprotection               Yes  No internet service   \n",
              "techsupport                    Yes  No internet service   \n",
              "streamingtv                     No  No internet service   \n",
              "streamingmovies                 No  No internet service   \n",
              "contract                  Two year             One year   \n",
              "paperlessbilling                No                   No   \n",
              "paymentmethod                  NaN         Mailed check   \n",
              "monthlycharges               45.05                19.65   \n",
              "totalcharges                2560.1               332.65   \n",
              "churn                            0                    0   \n",
              "\n",
              "                                        2                          3  \\\n",
              "id                                   6479                       6861   \n",
              "gender                             Female                     Female   \n",
              "seniorcitizen                           0                          0   \n",
              "partner                               Yes                         No   \n",
              "dependents                             No                         No   \n",
              "tenure                              60.00                      37.00   \n",
              "phoneservice                          Yes                        Yes   \n",
              "multiplelines                         Yes                        Yes   \n",
              "internetservice               Fiber optic                Fiber optic   \n",
              "onlinesecurity                         No                         No   \n",
              "onlinebackup                          Yes                        Yes   \n",
              "deviceprotection                      Yes                        Yes   \n",
              "techsupport                           Yes                         No   \n",
              "streamingtv                           Yes                        Yes   \n",
              "streamingmovies                       Yes                        Yes   \n",
              "contract                         Two year             Month-to-month   \n",
              "paperlessbilling                      Yes                        Yes   \n",
              "paymentmethod     Credit card (automatic)  Bank transfer (automatic)   \n",
              "monthlycharges                     110.80                     101.90   \n",
              "totalcharges                       6640.7                    3545.35   \n",
              "churn                                   0                          1   \n",
              "\n",
              "                                 4                          5  \\\n",
              "id                            3266                       6368   \n",
              "gender                        Male                       Male   \n",
              "seniorcitizen                    0                          0   \n",
              "partner                        Yes                         No   \n",
              "dependents                     Yes                         No   \n",
              "tenure                       29.00                      70.00   \n",
              "phoneservice                   Yes                         No   \n",
              "multiplelines                   No           No phone service   \n",
              "internetservice        Fiber optic                        DSL   \n",
              "onlinesecurity                  No                        Yes   \n",
              "onlinebackup                    No                         No   \n",
              "deviceprotection                No                        Yes   \n",
              "techsupport                     No                        Yes   \n",
              "streamingtv                     No                         No   \n",
              "streamingmovies                 No                        Yes   \n",
              "contract            Month-to-month                   Two year   \n",
              "paperlessbilling               Yes                         No   \n",
              "paymentmethod     Electronic check  Bank transfer (automatic)   \n",
              "monthlycharges               70.75                      48.40   \n",
              "totalcharges                1974.8                     3442.8   \n",
              "churn                            1                          0   \n",
              "\n",
              "                                 6                    7  \\\n",
              "id                            5830                 4476   \n",
              "gender                        Male               Female   \n",
              "seniorcitizen                    0                    0   \n",
              "partner                        Yes                   No   \n",
              "dependents                     Yes                   No   \n",
              "tenure                       31.00                 3.00   \n",
              "phoneservice                    No                  Yes   \n",
              "multiplelines     No phone service                   No   \n",
              "internetservice                DSL                   No   \n",
              "onlinesecurity                 Yes  No internet service   \n",
              "onlinebackup                    No  No internet service   \n",
              "deviceprotection               Yes  No internet service   \n",
              "techsupport                    Yes  No internet service   \n",
              "streamingtv                    Yes  No internet service   \n",
              "streamingmovies                Yes  No internet service   \n",
              "contract                  One year       Month-to-month   \n",
              "paperlessbilling                No                   No   \n",
              "paymentmethod     Electronic check     Electronic check   \n",
              "monthlycharges               59.95                19.55   \n",
              "totalcharges                1848.8                61.05   \n",
              "churn                            0                    0   \n",
              "\n",
              "                                        8             9  \n",
              "id                                   1508          2921  \n",
              "gender                               Male        Female  \n",
              "seniorcitizen                           0             0  \n",
              "partner                                No           Yes  \n",
              "dependents                             No            No  \n",
              "tenure                              54.00         72.00  \n",
              "phoneservice                          Yes           Yes  \n",
              "multiplelines                          No            No  \n",
              "internetservice                        No           DSL  \n",
              "onlinesecurity        No internet service           Yes  \n",
              "onlinebackup          No internet service           Yes  \n",
              "deviceprotection      No internet service           Yes  \n",
              "techsupport           No internet service           Yes  \n",
              "streamingtv           No internet service           Yes  \n",
              "streamingmovies       No internet service           Yes  \n",
              "contract                         Two year      Two year  \n",
              "paperlessbilling                       No            No  \n",
              "paymentmethod     Credit card (automatic)  Mailed check  \n",
              "monthlycharges                      19.65         85.10  \n",
              "totalcharges                       1008.7        6155.4  \n",
              "churn                                   0             0  "
            ]
          },
          "metadata": {
            "tags": []
          },
          "execution_count": 93
        }
      ]
    },
    {
      "cell_type": "markdown",
      "metadata": {
        "id": "NhY-xHGnPUrx"
      },
      "source": [
        "### Verificando os tipos de dados"
      ]
    },
    {
      "cell_type": "code",
      "metadata": {
        "id": "vOZt-E-XPUry",
        "outputId": "fc70b3f9-d745-42fa-b96f-3313e9b8bd59",
        "colab": {
          "base_uri": "https://localhost:8080/"
        }
      },
      "source": [
        "df_treino.info()"
      ],
      "execution_count": 94,
      "outputs": [
        {
          "output_type": "stream",
          "text": [
            "<class 'pandas.core.frame.DataFrame'>\n",
            "RangeIndex: 5634 entries, 0 to 5633\n",
            "Data columns (total 21 columns):\n",
            " #   Column            Non-Null Count  Dtype  \n",
            "---  ------            --------------  -----  \n",
            " 0   id                5634 non-null   int64  \n",
            " 1   gender            5634 non-null   object \n",
            " 2   seniorcitizen     5634 non-null   int64  \n",
            " 3   partner           5634 non-null   object \n",
            " 4   dependents        5416 non-null   object \n",
            " 5   tenure            5173 non-null   float64\n",
            " 6   phoneservice      5634 non-null   object \n",
            " 7   multiplelines     5634 non-null   object \n",
            " 8   internetservice   5634 non-null   object \n",
            " 9   onlinesecurity    5634 non-null   object \n",
            " 10  onlinebackup      5634 non-null   object \n",
            " 11  deviceprotection  5634 non-null   object \n",
            " 12  techsupport       5634 non-null   object \n",
            " 13  streamingtv       5634 non-null   object \n",
            " 14  streamingmovies   5634 non-null   object \n",
            " 15  contract          5634 non-null   object \n",
            " 16  paperlessbilling  5634 non-null   object \n",
            " 17  paymentmethod     5535 non-null   object \n",
            " 18  monthlycharges    5634 non-null   float64\n",
            " 19  totalcharges      5634 non-null   object \n",
            " 20  churn             5634 non-null   int64  \n",
            "dtypes: float64(2), int64(3), object(16)\n",
            "memory usage: 924.5+ KB\n"
          ],
          "name": "stdout"
        }
      ]
    },
    {
      "cell_type": "markdown",
      "metadata": {
        "id": "TGTn0zeFPUr2"
      },
      "source": [
        "## EDA - Análise Exploratória de Dados"
      ]
    },
    {
      "cell_type": "markdown",
      "metadata": {
        "id": "6mWI4La7PUr3"
      },
      "source": [
        "### Separando as variáveis por tipo"
      ]
    },
    {
      "cell_type": "code",
      "metadata": {
        "id": "WEBvkLLKPUr5"
      },
      "source": [
        "df_quant = df_treino[['tenure','monthlycharges','totalcharges']]\n",
        "df_categ = df_treino.drop(columns=['id','tenure','monthlycharges','totalcharges','churn'], axis=1)\n",
        "df_target = df_treino['churn']"
      ],
      "execution_count": 95,
      "outputs": []
    },
    {
      "cell_type": "code",
      "metadata": {
        "id": "ZH64Xg8pPUr_",
        "outputId": "3523cb20-b0b3-4f73-eb55-91387c34e6a1",
        "colab": {
          "base_uri": "https://localhost:8080/",
          "height": 204
        }
      },
      "source": [
        "df_quant.head()"
      ],
      "execution_count": 96,
      "outputs": [
        {
          "output_type": "execute_result",
          "data": {
            "text/html": [
              "<div>\n",
              "<style scoped>\n",
              "    .dataframe tbody tr th:only-of-type {\n",
              "        vertical-align: middle;\n",
              "    }\n",
              "\n",
              "    .dataframe tbody tr th {\n",
              "        vertical-align: top;\n",
              "    }\n",
              "\n",
              "    .dataframe thead th {\n",
              "        text-align: right;\n",
              "    }\n",
              "</style>\n",
              "<table border=\"1\" class=\"dataframe\">\n",
              "  <thead>\n",
              "    <tr style=\"text-align: right;\">\n",
              "      <th></th>\n",
              "      <th>tenure</th>\n",
              "      <th>monthlycharges</th>\n",
              "      <th>totalcharges</th>\n",
              "    </tr>\n",
              "  </thead>\n",
              "  <tbody>\n",
              "    <tr>\n",
              "      <th>0</th>\n",
              "      <td>56.00</td>\n",
              "      <td>45.05</td>\n",
              "      <td>2560.1</td>\n",
              "    </tr>\n",
              "    <tr>\n",
              "      <th>1</th>\n",
              "      <td>nan</td>\n",
              "      <td>19.65</td>\n",
              "      <td>332.65</td>\n",
              "    </tr>\n",
              "    <tr>\n",
              "      <th>2</th>\n",
              "      <td>60.00</td>\n",
              "      <td>110.80</td>\n",
              "      <td>6640.7</td>\n",
              "    </tr>\n",
              "    <tr>\n",
              "      <th>3</th>\n",
              "      <td>37.00</td>\n",
              "      <td>101.90</td>\n",
              "      <td>3545.35</td>\n",
              "    </tr>\n",
              "    <tr>\n",
              "      <th>4</th>\n",
              "      <td>29.00</td>\n",
              "      <td>70.75</td>\n",
              "      <td>1974.8</td>\n",
              "    </tr>\n",
              "  </tbody>\n",
              "</table>\n",
              "</div>"
            ],
            "text/plain": [
              "   tenure  monthlycharges totalcharges\n",
              "0   56.00           45.05       2560.1\n",
              "1     nan           19.65       332.65\n",
              "2   60.00          110.80       6640.7\n",
              "3   37.00          101.90      3545.35\n",
              "4   29.00           70.75       1974.8"
            ]
          },
          "metadata": {
            "tags": []
          },
          "execution_count": 96
        }
      ]
    },
    {
      "cell_type": "code",
      "metadata": {
        "id": "e68an48HC7Ma",
        "outputId": "8fa2158f-1268-421b-da88-3e5f39f1ae9d",
        "colab": {
          "base_uri": "https://localhost:8080/",
          "height": 204
        }
      },
      "source": [
        "df_quant.tail()"
      ],
      "execution_count": 97,
      "outputs": [
        {
          "output_type": "execute_result",
          "data": {
            "text/html": [
              "<div>\n",
              "<style scoped>\n",
              "    .dataframe tbody tr th:only-of-type {\n",
              "        vertical-align: middle;\n",
              "    }\n",
              "\n",
              "    .dataframe tbody tr th {\n",
              "        vertical-align: top;\n",
              "    }\n",
              "\n",
              "    .dataframe thead th {\n",
              "        text-align: right;\n",
              "    }\n",
              "</style>\n",
              "<table border=\"1\" class=\"dataframe\">\n",
              "  <thead>\n",
              "    <tr style=\"text-align: right;\">\n",
              "      <th></th>\n",
              "      <th>tenure</th>\n",
              "      <th>monthlycharges</th>\n",
              "      <th>totalcharges</th>\n",
              "    </tr>\n",
              "  </thead>\n",
              "  <tbody>\n",
              "    <tr>\n",
              "      <th>5629</th>\n",
              "      <td>43.00</td>\n",
              "      <td>44.15</td>\n",
              "      <td>1931.3</td>\n",
              "    </tr>\n",
              "    <tr>\n",
              "      <th>5630</th>\n",
              "      <td>nan</td>\n",
              "      <td>108.65</td>\n",
              "      <td>4903.2</td>\n",
              "    </tr>\n",
              "    <tr>\n",
              "      <th>5631</th>\n",
              "      <td>28.00</td>\n",
              "      <td>54.65</td>\n",
              "      <td>1517.5</td>\n",
              "    </tr>\n",
              "    <tr>\n",
              "      <th>5632</th>\n",
              "      <td>63.00</td>\n",
              "      <td>25.25</td>\n",
              "      <td>1573.05</td>\n",
              "    </tr>\n",
              "    <tr>\n",
              "      <th>5633</th>\n",
              "      <td>38.00</td>\n",
              "      <td>95.00</td>\n",
              "      <td>3605.6</td>\n",
              "    </tr>\n",
              "  </tbody>\n",
              "</table>\n",
              "</div>"
            ],
            "text/plain": [
              "      tenure  monthlycharges totalcharges\n",
              "5629   43.00           44.15       1931.3\n",
              "5630     nan          108.65       4903.2\n",
              "5631   28.00           54.65       1517.5\n",
              "5632   63.00           25.25      1573.05\n",
              "5633   38.00           95.00       3605.6"
            ]
          },
          "metadata": {
            "tags": []
          },
          "execution_count": 97
        }
      ]
    },
    {
      "cell_type": "code",
      "metadata": {
        "id": "V2CnnivOPUsF",
        "outputId": "1a9f3088-9b0f-4a5a-d575-af8c175022c6",
        "colab": {
          "base_uri": "https://localhost:8080/",
          "height": 309
        }
      },
      "source": [
        "df_categ.head()"
      ],
      "execution_count": 98,
      "outputs": [
        {
          "output_type": "execute_result",
          "data": {
            "text/html": [
              "<div>\n",
              "<style scoped>\n",
              "    .dataframe tbody tr th:only-of-type {\n",
              "        vertical-align: middle;\n",
              "    }\n",
              "\n",
              "    .dataframe tbody tr th {\n",
              "        vertical-align: top;\n",
              "    }\n",
              "\n",
              "    .dataframe thead th {\n",
              "        text-align: right;\n",
              "    }\n",
              "</style>\n",
              "<table border=\"1\" class=\"dataframe\">\n",
              "  <thead>\n",
              "    <tr style=\"text-align: right;\">\n",
              "      <th></th>\n",
              "      <th>gender</th>\n",
              "      <th>seniorcitizen</th>\n",
              "      <th>partner</th>\n",
              "      <th>dependents</th>\n",
              "      <th>phoneservice</th>\n",
              "      <th>multiplelines</th>\n",
              "      <th>internetservice</th>\n",
              "      <th>onlinesecurity</th>\n",
              "      <th>onlinebackup</th>\n",
              "      <th>deviceprotection</th>\n",
              "      <th>techsupport</th>\n",
              "      <th>streamingtv</th>\n",
              "      <th>streamingmovies</th>\n",
              "      <th>contract</th>\n",
              "      <th>paperlessbilling</th>\n",
              "      <th>paymentmethod</th>\n",
              "    </tr>\n",
              "  </thead>\n",
              "  <tbody>\n",
              "    <tr>\n",
              "      <th>0</th>\n",
              "      <td>Female</td>\n",
              "      <td>0</td>\n",
              "      <td>No</td>\n",
              "      <td>No</td>\n",
              "      <td>No</td>\n",
              "      <td>No phone service</td>\n",
              "      <td>DSL</td>\n",
              "      <td>Yes</td>\n",
              "      <td>Yes</td>\n",
              "      <td>Yes</td>\n",
              "      <td>Yes</td>\n",
              "      <td>No</td>\n",
              "      <td>No</td>\n",
              "      <td>Two year</td>\n",
              "      <td>No</td>\n",
              "      <td>NaN</td>\n",
              "    </tr>\n",
              "    <tr>\n",
              "      <th>1</th>\n",
              "      <td>Male</td>\n",
              "      <td>0</td>\n",
              "      <td>Yes</td>\n",
              "      <td>Yes</td>\n",
              "      <td>Yes</td>\n",
              "      <td>No</td>\n",
              "      <td>No</td>\n",
              "      <td>No internet service</td>\n",
              "      <td>No internet service</td>\n",
              "      <td>No internet service</td>\n",
              "      <td>No internet service</td>\n",
              "      <td>No internet service</td>\n",
              "      <td>No internet service</td>\n",
              "      <td>One year</td>\n",
              "      <td>No</td>\n",
              "      <td>Mailed check</td>\n",
              "    </tr>\n",
              "    <tr>\n",
              "      <th>2</th>\n",
              "      <td>Female</td>\n",
              "      <td>0</td>\n",
              "      <td>Yes</td>\n",
              "      <td>No</td>\n",
              "      <td>Yes</td>\n",
              "      <td>Yes</td>\n",
              "      <td>Fiber optic</td>\n",
              "      <td>No</td>\n",
              "      <td>Yes</td>\n",
              "      <td>Yes</td>\n",
              "      <td>Yes</td>\n",
              "      <td>Yes</td>\n",
              "      <td>Yes</td>\n",
              "      <td>Two year</td>\n",
              "      <td>Yes</td>\n",
              "      <td>Credit card (automatic)</td>\n",
              "    </tr>\n",
              "    <tr>\n",
              "      <th>3</th>\n",
              "      <td>Female</td>\n",
              "      <td>0</td>\n",
              "      <td>No</td>\n",
              "      <td>No</td>\n",
              "      <td>Yes</td>\n",
              "      <td>Yes</td>\n",
              "      <td>Fiber optic</td>\n",
              "      <td>No</td>\n",
              "      <td>Yes</td>\n",
              "      <td>Yes</td>\n",
              "      <td>No</td>\n",
              "      <td>Yes</td>\n",
              "      <td>Yes</td>\n",
              "      <td>Month-to-month</td>\n",
              "      <td>Yes</td>\n",
              "      <td>Bank transfer (automatic)</td>\n",
              "    </tr>\n",
              "    <tr>\n",
              "      <th>4</th>\n",
              "      <td>Male</td>\n",
              "      <td>0</td>\n",
              "      <td>Yes</td>\n",
              "      <td>Yes</td>\n",
              "      <td>Yes</td>\n",
              "      <td>No</td>\n",
              "      <td>Fiber optic</td>\n",
              "      <td>No</td>\n",
              "      <td>No</td>\n",
              "      <td>No</td>\n",
              "      <td>No</td>\n",
              "      <td>No</td>\n",
              "      <td>No</td>\n",
              "      <td>Month-to-month</td>\n",
              "      <td>Yes</td>\n",
              "      <td>Electronic check</td>\n",
              "    </tr>\n",
              "  </tbody>\n",
              "</table>\n",
              "</div>"
            ],
            "text/plain": [
              "   gender  seniorcitizen partner dependents phoneservice     multiplelines  \\\n",
              "0  Female              0      No         No           No  No phone service   \n",
              "1    Male              0     Yes        Yes          Yes                No   \n",
              "2  Female              0     Yes         No          Yes               Yes   \n",
              "3  Female              0      No         No          Yes               Yes   \n",
              "4    Male              0     Yes        Yes          Yes                No   \n",
              "\n",
              "  internetservice       onlinesecurity         onlinebackup  \\\n",
              "0             DSL                  Yes                  Yes   \n",
              "1              No  No internet service  No internet service   \n",
              "2     Fiber optic                   No                  Yes   \n",
              "3     Fiber optic                   No                  Yes   \n",
              "4     Fiber optic                   No                   No   \n",
              "\n",
              "      deviceprotection          techsupport          streamingtv  \\\n",
              "0                  Yes                  Yes                   No   \n",
              "1  No internet service  No internet service  No internet service   \n",
              "2                  Yes                  Yes                  Yes   \n",
              "3                  Yes                   No                  Yes   \n",
              "4                   No                   No                   No   \n",
              "\n",
              "       streamingmovies        contract paperlessbilling  \\\n",
              "0                   No        Two year               No   \n",
              "1  No internet service        One year               No   \n",
              "2                  Yes        Two year              Yes   \n",
              "3                  Yes  Month-to-month              Yes   \n",
              "4                   No  Month-to-month              Yes   \n",
              "\n",
              "               paymentmethod  \n",
              "0                        NaN  \n",
              "1               Mailed check  \n",
              "2    Credit card (automatic)  \n",
              "3  Bank transfer (automatic)  \n",
              "4           Electronic check  "
            ]
          },
          "metadata": {
            "tags": []
          },
          "execution_count": 98
        }
      ]
    },
    {
      "cell_type": "code",
      "metadata": {
        "id": "KgJWgDxePUsI",
        "outputId": "5fab3d87-491a-43f4-8da1-c39f74aa2743",
        "colab": {
          "base_uri": "https://localhost:8080/"
        }
      },
      "source": [
        "df_target.head()"
      ],
      "execution_count": 99,
      "outputs": [
        {
          "output_type": "execute_result",
          "data": {
            "text/plain": [
              "0    0\n",
              "1    0\n",
              "2    0\n",
              "3    1\n",
              "4    1\n",
              "Name: churn, dtype: int64"
            ]
          },
          "metadata": {
            "tags": []
          },
          "execution_count": 99
        }
      ]
    },
    {
      "cell_type": "markdown",
      "metadata": {
        "id": "4FusAbYkPUsL"
      },
      "source": [
        "### Variáveis df_quant"
      ]
    },
    {
      "cell_type": "markdown",
      "metadata": {
        "id": "TGggAxILPUsM"
      },
      "source": [
        "#### Verificação dos tipos de dados das variáveis df_quant"
      ]
    },
    {
      "cell_type": "code",
      "metadata": {
        "id": "NMIYKm7DPUsN",
        "outputId": "cbd25627-aa9f-48a9-aea2-a4764d1a3af0",
        "colab": {
          "base_uri": "https://localhost:8080/"
        }
      },
      "source": [
        "df_quant.dtypes"
      ],
      "execution_count": 100,
      "outputs": [
        {
          "output_type": "execute_result",
          "data": {
            "text/plain": [
              "tenure            float64\n",
              "monthlycharges    float64\n",
              "totalcharges       object\n",
              "dtype: object"
            ]
          },
          "metadata": {
            "tags": []
          },
          "execution_count": 100
        }
      ]
    },
    {
      "cell_type": "markdown",
      "metadata": {
        "id": "IlTyRFEWPUsQ"
      },
      "source": [
        "#### Correção da variável 'totalcharges'\n",
        "Essa variável é quantitativa, mas foi importada como sendo do tipo Object. <br>\n",
        "Portanto, precisa ser alterada para o tipo numerico."
      ]
    },
    {
      "cell_type": "code",
      "metadata": {
        "id": "ivCwxh4jPUsT"
      },
      "source": [
        "df_treino['totalcharges'] = pd.to_numeric(df_treino['totalcharges'], errors='coerce')"
      ],
      "execution_count": 101,
      "outputs": []
    },
    {
      "cell_type": "code",
      "metadata": {
        "id": "i71Jo5JlCkXp",
        "outputId": "507bd834-9baa-46a5-f169-ad5cb13de96c",
        "colab": {
          "base_uri": "https://localhost:8080/"
        }
      },
      "source": [
        "df_quant['totalcharges'] = pd.to_numeric(df_quant['totalcharges'], errors='coerce')"
      ],
      "execution_count": 102,
      "outputs": [
        {
          "output_type": "stream",
          "text": [
            "/usr/local/lib/python3.6/dist-packages/ipykernel_launcher.py:1: SettingWithCopyWarning: \n",
            "A value is trying to be set on a copy of a slice from a DataFrame.\n",
            "Try using .loc[row_indexer,col_indexer] = value instead\n",
            "\n",
            "See the caveats in the documentation: https://pandas.pydata.org/pandas-docs/stable/user_guide/indexing.html#returning-a-view-versus-a-copy\n",
            "  \"\"\"Entry point for launching an IPython kernel.\n"
          ],
          "name": "stderr"
        }
      ]
    },
    {
      "cell_type": "code",
      "metadata": {
        "id": "YQiR5I5HCl2R",
        "outputId": "a748ae84-094f-4ae2-87c0-46ba935faffe",
        "colab": {
          "base_uri": "https://localhost:8080/",
          "height": 204
        }
      },
      "source": [
        "df_quant.tail(5)"
      ],
      "execution_count": 103,
      "outputs": [
        {
          "output_type": "execute_result",
          "data": {
            "text/html": [
              "<div>\n",
              "<style scoped>\n",
              "    .dataframe tbody tr th:only-of-type {\n",
              "        vertical-align: middle;\n",
              "    }\n",
              "\n",
              "    .dataframe tbody tr th {\n",
              "        vertical-align: top;\n",
              "    }\n",
              "\n",
              "    .dataframe thead th {\n",
              "        text-align: right;\n",
              "    }\n",
              "</style>\n",
              "<table border=\"1\" class=\"dataframe\">\n",
              "  <thead>\n",
              "    <tr style=\"text-align: right;\">\n",
              "      <th></th>\n",
              "      <th>tenure</th>\n",
              "      <th>monthlycharges</th>\n",
              "      <th>totalcharges</th>\n",
              "    </tr>\n",
              "  </thead>\n",
              "  <tbody>\n",
              "    <tr>\n",
              "      <th>5629</th>\n",
              "      <td>43.00</td>\n",
              "      <td>44.15</td>\n",
              "      <td>1,931.30</td>\n",
              "    </tr>\n",
              "    <tr>\n",
              "      <th>5630</th>\n",
              "      <td>nan</td>\n",
              "      <td>108.65</td>\n",
              "      <td>4,903.20</td>\n",
              "    </tr>\n",
              "    <tr>\n",
              "      <th>5631</th>\n",
              "      <td>28.00</td>\n",
              "      <td>54.65</td>\n",
              "      <td>1,517.50</td>\n",
              "    </tr>\n",
              "    <tr>\n",
              "      <th>5632</th>\n",
              "      <td>63.00</td>\n",
              "      <td>25.25</td>\n",
              "      <td>1,573.05</td>\n",
              "    </tr>\n",
              "    <tr>\n",
              "      <th>5633</th>\n",
              "      <td>38.00</td>\n",
              "      <td>95.00</td>\n",
              "      <td>3,605.60</td>\n",
              "    </tr>\n",
              "  </tbody>\n",
              "</table>\n",
              "</div>"
            ],
            "text/plain": [
              "      tenure  monthlycharges  totalcharges\n",
              "5629   43.00           44.15      1,931.30\n",
              "5630     nan          108.65      4,903.20\n",
              "5631   28.00           54.65      1,517.50\n",
              "5632   63.00           25.25      1,573.05\n",
              "5633   38.00           95.00      3,605.60"
            ]
          },
          "metadata": {
            "tags": []
          },
          "execution_count": 103
        }
      ]
    },
    {
      "cell_type": "markdown",
      "metadata": {
        "id": "3nbr5fXyPUsV"
      },
      "source": [
        "#### Verificação dos tipos de dados.\n",
        "Verifica-se que totalcharges foi corrigida."
      ]
    },
    {
      "cell_type": "code",
      "metadata": {
        "id": "wBB5mT0sPUsW",
        "outputId": "7ebe2dff-8423-4db1-c3a7-1adcc5a85cc3",
        "colab": {
          "base_uri": "https://localhost:8080/"
        }
      },
      "source": [
        "df_quant.info()"
      ],
      "execution_count": 104,
      "outputs": [
        {
          "output_type": "stream",
          "text": [
            "<class 'pandas.core.frame.DataFrame'>\n",
            "RangeIndex: 5634 entries, 0 to 5633\n",
            "Data columns (total 3 columns):\n",
            " #   Column          Non-Null Count  Dtype  \n",
            "---  ------          --------------  -----  \n",
            " 0   tenure          5173 non-null   float64\n",
            " 1   monthlycharges  5634 non-null   float64\n",
            " 2   totalcharges    5626 non-null   float64\n",
            "dtypes: float64(3)\n",
            "memory usage: 132.2 KB\n"
          ],
          "name": "stdout"
        }
      ]
    },
    {
      "cell_type": "markdown",
      "metadata": {
        "id": "4GUWV0ZpPUsa"
      },
      "source": [
        "#### Sumário estatístico das variáveis df_quant"
      ]
    },
    {
      "cell_type": "code",
      "metadata": {
        "scrolled": false,
        "id": "3S-W8aSsPUsb",
        "outputId": "053e488c-949b-4b7c-ddc1-c51925ff4731",
        "colab": {
          "base_uri": "https://localhost:8080/",
          "height": 297
        }
      },
      "source": [
        "df_quant.describe()"
      ],
      "execution_count": 105,
      "outputs": [
        {
          "output_type": "execute_result",
          "data": {
            "text/html": [
              "<div>\n",
              "<style scoped>\n",
              "    .dataframe tbody tr th:only-of-type {\n",
              "        vertical-align: middle;\n",
              "    }\n",
              "\n",
              "    .dataframe tbody tr th {\n",
              "        vertical-align: top;\n",
              "    }\n",
              "\n",
              "    .dataframe thead th {\n",
              "        text-align: right;\n",
              "    }\n",
              "</style>\n",
              "<table border=\"1\" class=\"dataframe\">\n",
              "  <thead>\n",
              "    <tr style=\"text-align: right;\">\n",
              "      <th></th>\n",
              "      <th>tenure</th>\n",
              "      <th>monthlycharges</th>\n",
              "      <th>totalcharges</th>\n",
              "    </tr>\n",
              "  </thead>\n",
              "  <tbody>\n",
              "    <tr>\n",
              "      <th>count</th>\n",
              "      <td>5,173.00</td>\n",
              "      <td>5,634.00</td>\n",
              "      <td>5,626.00</td>\n",
              "    </tr>\n",
              "    <tr>\n",
              "      <th>mean</th>\n",
              "      <td>32.33</td>\n",
              "      <td>64.63</td>\n",
              "      <td>2,273.51</td>\n",
              "    </tr>\n",
              "    <tr>\n",
              "      <th>std</th>\n",
              "      <td>24.46</td>\n",
              "      <td>30.02</td>\n",
              "      <td>2,258.38</td>\n",
              "    </tr>\n",
              "    <tr>\n",
              "      <th>min</th>\n",
              "      <td>0.00</td>\n",
              "      <td>18.25</td>\n",
              "      <td>18.80</td>\n",
              "    </tr>\n",
              "    <tr>\n",
              "      <th>25%</th>\n",
              "      <td>9.00</td>\n",
              "      <td>35.46</td>\n",
              "      <td>401.59</td>\n",
              "    </tr>\n",
              "    <tr>\n",
              "      <th>50%</th>\n",
              "      <td>29.00</td>\n",
              "      <td>70.25</td>\n",
              "      <td>1,396.12</td>\n",
              "    </tr>\n",
              "    <tr>\n",
              "      <th>75%</th>\n",
              "      <td>55.00</td>\n",
              "      <td>89.80</td>\n",
              "      <td>3,764.29</td>\n",
              "    </tr>\n",
              "    <tr>\n",
              "      <th>max</th>\n",
              "      <td>72.00</td>\n",
              "      <td>118.75</td>\n",
              "      <td>8,684.80</td>\n",
              "    </tr>\n",
              "  </tbody>\n",
              "</table>\n",
              "</div>"
            ],
            "text/plain": [
              "        tenure  monthlycharges  totalcharges\n",
              "count 5,173.00        5,634.00      5,626.00\n",
              "mean     32.33           64.63      2,273.51\n",
              "std      24.46           30.02      2,258.38\n",
              "min       0.00           18.25         18.80\n",
              "25%       9.00           35.46        401.59\n",
              "50%      29.00           70.25      1,396.12\n",
              "75%      55.00           89.80      3,764.29\n",
              "max      72.00          118.75      8,684.80"
            ]
          },
          "metadata": {
            "tags": []
          },
          "execution_count": 105
        }
      ]
    },
    {
      "cell_type": "markdown",
      "metadata": {
        "id": "BDUUkRN2PUse"
      },
      "source": [
        "#### Boxplot"
      ]
    },
    {
      "cell_type": "code",
      "metadata": {
        "id": "ZEB9X6vYPUsf",
        "outputId": "aaf3ccf2-bf95-4e09-9add-f604b0d3010f",
        "colab": {
          "base_uri": "https://localhost:8080/",
          "height": 530
        }
      },
      "source": [
        "sns.catplot(data=df_quant,\n",
        "              kind='box',\n",
        "              height=7,\n",
        "              aspect=2.5)"
      ],
      "execution_count": 106,
      "outputs": [
        {
          "output_type": "execute_result",
          "data": {
            "text/plain": [
              "<seaborn.axisgrid.FacetGrid at 0x7fb208ae0cc0>"
            ]
          },
          "metadata": {
            "tags": []
          },
          "execution_count": 106
        },
        {
          "output_type": "display_data",
          "data": {
            "image/png": "[encoded data removed]",
            "text/plain": [
              "<Figure size 1260x504 with 1 Axes>"
            ]
          },
          "metadata": {
            "tags": [],
            "needs_background": "light"
          }
        }
      ]
    },
    {
      "cell_type": "markdown",
      "metadata": {
        "id": "kzV7LOC-PUsh"
      },
      "source": [
        "#### Verificação dos missing values das variáveis df_quant"
      ]
    },
    {
      "cell_type": "code",
      "metadata": {
        "id": "YtRlhqRoPUsi",
        "outputId": "284ed9ec-bb1d-4433-d58e-bba5af726dc0",
        "colab": {
          "base_uri": "https://localhost:8080/"
        }
      },
      "source": [
        "df_quant.isnull().sum()"
      ],
      "execution_count": 107,
      "outputs": [
        {
          "output_type": "execute_result",
          "data": {
            "text/plain": [
              "tenure            461\n",
              "monthlycharges      0\n",
              "totalcharges        8\n",
              "dtype: int64"
            ]
          },
          "metadata": {
            "tags": []
          },
          "execution_count": 107
        }
      ]
    },
    {
      "cell_type": "markdown",
      "metadata": {
        "id": "N0eFMvY6PUsm"
      },
      "source": [
        "#### Variável quantitativa 'monthlycharges'"
      ]
    },
    {
      "cell_type": "code",
      "metadata": {
        "id": "huSnX-jYPUsm",
        "outputId": "5a8bf39e-0d4f-44db-8389-2abd62e3cf67",
        "colab": {
          "base_uri": "https://localhost:8080/",
          "height": 315
        }
      },
      "source": [
        "df_quant[['monthlycharges']].hist(bins=150)"
      ],
      "execution_count": 108,
      "outputs": [
        {
          "output_type": "execute_result",
          "data": {
            "text/plain": [
              "array([[<matplotlib.axes._subplots.AxesSubplot object at 0x7fb208a7dda0>]],\n",
              "      dtype=object)"
            ]
          },
          "metadata": {
            "tags": []
          },
          "execution_count": 108
        },
        {
          "output_type": "display_data",
          "data": {
            "image/png": "[encoded data removed]",
            "text/plain": [
              "<Figure size 432x288 with 1 Axes>"
            ]
          },
          "metadata": {
            "tags": [],
            "needs_background": "light"
          }
        }
      ]
    },
    {
      "cell_type": "code",
      "metadata": {
        "id": "b8zHFdcPPUsp",
        "outputId": "c65fedf0-b383-483b-af11-6982f4824218",
        "colab": {
          "base_uri": "https://localhost:8080/",
          "height": 80
        }
      },
      "source": [
        "df_quant[['monthlycharges']].mode()"
      ],
      "execution_count": 109,
      "outputs": [
        {
          "output_type": "execute_result",
          "data": {
            "text/html": [
              "<div>\n",
              "<style scoped>\n",
              "    .dataframe tbody tr th:only-of-type {\n",
              "        vertical-align: middle;\n",
              "    }\n",
              "\n",
              "    .dataframe tbody tr th {\n",
              "        vertical-align: top;\n",
              "    }\n",
              "\n",
              "    .dataframe thead th {\n",
              "        text-align: right;\n",
              "    }\n",
              "</style>\n",
              "<table border=\"1\" class=\"dataframe\">\n",
              "  <thead>\n",
              "    <tr style=\"text-align: right;\">\n",
              "      <th></th>\n",
              "      <th>monthlycharges</th>\n",
              "    </tr>\n",
              "  </thead>\n",
              "  <tbody>\n",
              "    <tr>\n",
              "      <th>0</th>\n",
              "      <td>20.05</td>\n",
              "    </tr>\n",
              "  </tbody>\n",
              "</table>\n",
              "</div>"
            ],
            "text/plain": [
              "   monthlycharges\n",
              "0           20.05"
            ]
          },
          "metadata": {
            "tags": []
          },
          "execution_count": 109
        }
      ]
    },
    {
      "cell_type": "code",
      "metadata": {
        "id": "-bc0axtOPUsr",
        "outputId": "3ba5c016-8e5f-445a-cb3f-787d5c8723b5",
        "colab": {
          "base_uri": "https://localhost:8080/",
          "height": 297
        }
      },
      "source": [
        "df_quant[['monthlycharges']].describe()"
      ],
      "execution_count": 111,
      "outputs": [
        {
          "output_type": "execute_result",
          "data": {
            "text/html": [
              "<div>\n",
              "<style scoped>\n",
              "    .dataframe tbody tr th:only-of-type {\n",
              "        vertical-align: middle;\n",
              "    }\n",
              "\n",
              "    .dataframe tbody tr th {\n",
              "        vertical-align: top;\n",
              "    }\n",
              "\n",
              "    .dataframe thead th {\n",
              "        text-align: right;\n",
              "    }\n",
              "</style>\n",
              "<table border=\"1\" class=\"dataframe\">\n",
              "  <thead>\n",
              "    <tr style=\"text-align: right;\">\n",
              "      <th></th>\n",
              "      <th>monthlycharges</th>\n",
              "    </tr>\n",
              "  </thead>\n",
              "  <tbody>\n",
              "    <tr>\n",
              "      <th>count</th>\n",
              "      <td>5,634.00</td>\n",
              "    </tr>\n",
              "    <tr>\n",
              "      <th>mean</th>\n",
              "      <td>64.63</td>\n",
              "    </tr>\n",
              "    <tr>\n",
              "      <th>std</th>\n",
              "      <td>30.02</td>\n",
              "    </tr>\n",
              "    <tr>\n",
              "      <th>min</th>\n",
              "      <td>18.25</td>\n",
              "    </tr>\n",
              "    <tr>\n",
              "      <th>25%</th>\n",
              "      <td>35.46</td>\n",
              "    </tr>\n",
              "    <tr>\n",
              "      <th>50%</th>\n",
              "      <td>70.25</td>\n",
              "    </tr>\n",
              "    <tr>\n",
              "      <th>75%</th>\n",
              "      <td>89.80</td>\n",
              "    </tr>\n",
              "    <tr>\n",
              "      <th>max</th>\n",
              "      <td>118.75</td>\n",
              "    </tr>\n",
              "  </tbody>\n",
              "</table>\n",
              "</div>"
            ],
            "text/plain": [
              "       monthlycharges\n",
              "count        5,634.00\n",
              "mean            64.63\n",
              "std             30.02\n",
              "min             18.25\n",
              "25%             35.46\n",
              "50%             70.25\n",
              "75%             89.80\n",
              "max            118.75"
            ]
          },
          "metadata": {
            "tags": []
          },
          "execution_count": 111
        }
      ]
    },
    {
      "cell_type": "code",
      "metadata": {
        "id": "ocNzfmDjPUsu",
        "outputId": "710923f5-518c-4947-8f83-e947b4d20814",
        "colab": {
          "base_uri": "https://localhost:8080/"
        }
      },
      "source": [
        "# Coeficiente de variação\n",
        "df_quant[['monthlycharges']].std()/df_quant[['monthlycharges']].mean()*100"
      ],
      "execution_count": 112,
      "outputs": [
        {
          "output_type": "execute_result",
          "data": {
            "text/plain": [
              "monthlycharges   46.45\n",
              "dtype: float64"
            ]
          },
          "metadata": {
            "tags": []
          },
          "execution_count": 112
        }
      ]
    },
    {
      "cell_type": "code",
      "metadata": {
        "id": "W6OhbbzLPUsx",
        "outputId": "2ecf82af-bf09-4264-f556-a9a2a0409150",
        "colab": {
          "base_uri": "https://localhost:8080/",
          "height": 206
        }
      },
      "source": [
        "sns.catplot(data=df_quant[['monthlycharges']],\n",
        "              kind='box',\n",
        "              height=2.5,\n",
        "              aspect=2.5)"
      ],
      "execution_count": 113,
      "outputs": [
        {
          "output_type": "execute_result",
          "data": {
            "text/plain": [
              "<seaborn.axisgrid.FacetGrid at 0x7fb2088745c0>"
            ]
          },
          "metadata": {
            "tags": []
          },
          "execution_count": 113
        },
        {
          "output_type": "display_data",
          "data": {
            "image/png": "[encoded data removed]",
            "text/plain": [
              "<Figure size 450x180 with 1 Axes>"
            ]
          },
          "metadata": {
            "tags": [],
            "needs_background": "light"
          }
        }
      ]
    },
    {
      "cell_type": "markdown",
      "metadata": {
        "id": "q5Wi5wf_PUs0"
      },
      "source": [
        "#### Variável quantitativa 'totalcharges'"
      ]
    },
    {
      "cell_type": "code",
      "metadata": {
        "id": "t3usFwn_6_a-",
        "outputId": "90455b07-d3d0-4634-d325-536569946562",
        "colab": {
          "base_uri": "https://localhost:8080/",
          "height": 315
        }
      },
      "source": [
        "df_quant[['totalcharges']].hist(bins=150)"
      ],
      "execution_count": 114,
      "outputs": [
        {
          "output_type": "execute_result",
          "data": {
            "text/plain": [
              "array([[<matplotlib.axes._subplots.AxesSubplot object at 0x7fb2088740f0>]],\n",
              "      dtype=object)"
            ]
          },
          "metadata": {
            "tags": []
          },
          "execution_count": 114
        },
        {
          "output_type": "display_data",
          "data": {
            "image/png": "[encoded data removed]",
            "text/plain": [
              "<Figure size 432x288 with 1 Axes>"
            ]
          },
          "metadata": {
            "tags": [],
            "needs_background": "light"
          }
        }
      ]
    },
    {
      "cell_type": "code",
      "metadata": {
        "id": "xueMYZgXPUs1",
        "outputId": "3d294565-61f7-4de9-8498-2963aa57ab19",
        "colab": {
          "base_uri": "https://localhost:8080/",
          "height": 297
        }
      },
      "source": [
        "df_quant[['totalcharges']].describe()"
      ],
      "execution_count": 115,
      "outputs": [
        {
          "output_type": "execute_result",
          "data": {
            "text/html": [
              "<div>\n",
              "<style scoped>\n",
              "    .dataframe tbody tr th:only-of-type {\n",
              "        vertical-align: middle;\n",
              "    }\n",
              "\n",
              "    .dataframe tbody tr th {\n",
              "        vertical-align: top;\n",
              "    }\n",
              "\n",
              "    .dataframe thead th {\n",
              "        text-align: right;\n",
              "    }\n",
              "</style>\n",
              "<table border=\"1\" class=\"dataframe\">\n",
              "  <thead>\n",
              "    <tr style=\"text-align: right;\">\n",
              "      <th></th>\n",
              "      <th>totalcharges</th>\n",
              "    </tr>\n",
              "  </thead>\n",
              "  <tbody>\n",
              "    <tr>\n",
              "      <th>count</th>\n",
              "      <td>5,626.00</td>\n",
              "    </tr>\n",
              "    <tr>\n",
              "      <th>mean</th>\n",
              "      <td>2,273.51</td>\n",
              "    </tr>\n",
              "    <tr>\n",
              "      <th>std</th>\n",
              "      <td>2,258.38</td>\n",
              "    </tr>\n",
              "    <tr>\n",
              "      <th>min</th>\n",
              "      <td>18.80</td>\n",
              "    </tr>\n",
              "    <tr>\n",
              "      <th>25%</th>\n",
              "      <td>401.59</td>\n",
              "    </tr>\n",
              "    <tr>\n",
              "      <th>50%</th>\n",
              "      <td>1,396.12</td>\n",
              "    </tr>\n",
              "    <tr>\n",
              "      <th>75%</th>\n",
              "      <td>3,764.29</td>\n",
              "    </tr>\n",
              "    <tr>\n",
              "      <th>max</th>\n",
              "      <td>8,684.80</td>\n",
              "    </tr>\n",
              "  </tbody>\n",
              "</table>\n",
              "</div>"
            ],
            "text/plain": [
              "       totalcharges\n",
              "count      5,626.00\n",
              "mean       2,273.51\n",
              "std        2,258.38\n",
              "min           18.80\n",
              "25%          401.59\n",
              "50%        1,396.12\n",
              "75%        3,764.29\n",
              "max        8,684.80"
            ]
          },
          "metadata": {
            "tags": []
          },
          "execution_count": 115
        }
      ]
    },
    {
      "cell_type": "code",
      "metadata": {
        "id": "GHaE7wwdPUs3",
        "outputId": "1abaa923-72e6-496c-a673-d269a42d45f9",
        "colab": {
          "base_uri": "https://localhost:8080/"
        }
      },
      "source": [
        "# Coeficiente de variação\n",
        "df_quant[['totalcharges']].std() / df_quant[['totalcharges']].mean() * 100"
      ],
      "execution_count": 116,
      "outputs": [
        {
          "output_type": "execute_result",
          "data": {
            "text/plain": [
              "totalcharges   99.33\n",
              "dtype: float64"
            ]
          },
          "metadata": {
            "tags": []
          },
          "execution_count": 116
        }
      ]
    },
    {
      "cell_type": "code",
      "metadata": {
        "scrolled": true,
        "id": "sQoKHSMpPUs6",
        "outputId": "146e1345-2778-484b-962a-9a1cd9549e6a",
        "colab": {
          "base_uri": "https://localhost:8080/",
          "height": 80
        }
      },
      "source": [
        "df_quant[['totalcharges']].mode()"
      ],
      "execution_count": 117,
      "outputs": [
        {
          "output_type": "execute_result",
          "data": {
            "text/html": [
              "<div>\n",
              "<style scoped>\n",
              "    .dataframe tbody tr th:only-of-type {\n",
              "        vertical-align: middle;\n",
              "    }\n",
              "\n",
              "    .dataframe tbody tr th {\n",
              "        vertical-align: top;\n",
              "    }\n",
              "\n",
              "    .dataframe thead th {\n",
              "        text-align: right;\n",
              "    }\n",
              "</style>\n",
              "<table border=\"1\" class=\"dataframe\">\n",
              "  <thead>\n",
              "    <tr style=\"text-align: right;\">\n",
              "      <th></th>\n",
              "      <th>totalcharges</th>\n",
              "    </tr>\n",
              "  </thead>\n",
              "  <tbody>\n",
              "    <tr>\n",
              "      <th>0</th>\n",
              "      <td>20.20</td>\n",
              "    </tr>\n",
              "  </tbody>\n",
              "</table>\n",
              "</div>"
            ],
            "text/plain": [
              "   totalcharges\n",
              "0         20.20"
            ]
          },
          "metadata": {
            "tags": []
          },
          "execution_count": 117
        }
      ]
    },
    {
      "cell_type": "code",
      "metadata": {
        "id": "CnvWFxEcPUtB",
        "outputId": "c0ffdc5a-5270-42f9-89b6-785d345bb91c",
        "colab": {
          "base_uri": "https://localhost:8080/",
          "height": 242
        }
      },
      "source": [
        "sns.catplot(data=df_quant[['totalcharges']],\n",
        "              kind='box',\n",
        "              height=3,\n",
        "              aspect=2.5)"
      ],
      "execution_count": 118,
      "outputs": [
        {
          "output_type": "execute_result",
          "data": {
            "text/plain": [
              "<seaborn.axisgrid.FacetGrid at 0x7fb20879fe10>"
            ]
          },
          "metadata": {
            "tags": []
          },
          "execution_count": 118
        },
        {
          "output_type": "display_data",
          "data": {
            "image/png": "[encoded data removed]",
            "text/plain": [
              "<Figure size 540x216 with 1 Axes>"
            ]
          },
          "metadata": {
            "tags": [],
            "needs_background": "light"
          }
        }
      ]
    },
    {
      "cell_type": "code",
      "metadata": {
        "id": "J-qvspwcPUtE",
        "outputId": "52c66f65-57d7-40b1-c3e7-b90f9fc53a2d",
        "colab": {
          "base_uri": "https://localhost:8080/"
        }
      },
      "source": [
        "df_quant['totalcharges_2'] = df_quant['totalcharges'].fillna(df_quant['totalcharges'].mode()[0])"
      ],
      "execution_count": 119,
      "outputs": [
        {
          "output_type": "stream",
          "text": [
            "/usr/local/lib/python3.6/dist-packages/ipykernel_launcher.py:1: SettingWithCopyWarning: \n",
            "A value is trying to be set on a copy of a slice from a DataFrame.\n",
            "Try using .loc[row_indexer,col_indexer] = value instead\n",
            "\n",
            "See the caveats in the documentation: https://pandas.pydata.org/pandas-docs/stable/user_guide/indexing.html#returning-a-view-versus-a-copy\n",
            "  \"\"\"Entry point for launching an IPython kernel.\n"
          ],
          "name": "stderr"
        }
      ]
    },
    {
      "cell_type": "code",
      "metadata": {
        "id": "qpsiC_KSPUtG",
        "outputId": "cce21f72-c9d3-4436-aa01-8312ac692f1f",
        "colab": {
          "base_uri": "https://localhost:8080/"
        }
      },
      "source": [
        "df_quant[['totalcharges_2']].isnull().any()"
      ],
      "execution_count": 120,
      "outputs": [
        {
          "output_type": "execute_result",
          "data": {
            "text/plain": [
              "totalcharges_2    False\n",
              "dtype: bool"
            ]
          },
          "metadata": {
            "tags": []
          },
          "execution_count": 120
        }
      ]
    },
    {
      "cell_type": "markdown",
      "metadata": {
        "id": "xtlDt9cQPUtJ"
      },
      "source": [
        "#### Variável quantitativa 'tenure' (quantidade de meses como cliente da companhia)"
      ]
    },
    {
      "cell_type": "code",
      "metadata": {
        "id": "xWsLZSyOPUtJ",
        "outputId": "2067a95e-3658-4d1e-c750-6ede1fe3da46",
        "colab": {
          "base_uri": "https://localhost:8080/",
          "height": 193
        }
      },
      "source": [
        "df_quant.head(23).T"
      ],
      "execution_count": 121,
      "outputs": [
        {
          "output_type": "execute_result",
          "data": {
            "text/html": [
              "<div>\n",
              "<style scoped>\n",
              "    .dataframe tbody tr th:only-of-type {\n",
              "        vertical-align: middle;\n",
              "    }\n",
              "\n",
              "    .dataframe tbody tr th {\n",
              "        vertical-align: top;\n",
              "    }\n",
              "\n",
              "    .dataframe thead th {\n",
              "        text-align: right;\n",
              "    }\n",
              "</style>\n",
              "<table border=\"1\" class=\"dataframe\">\n",
              "  <thead>\n",
              "    <tr style=\"text-align: right;\">\n",
              "      <th></th>\n",
              "      <th>0</th>\n",
              "      <th>1</th>\n",
              "      <th>2</th>\n",
              "      <th>3</th>\n",
              "      <th>4</th>\n",
              "      <th>5</th>\n",
              "      <th>6</th>\n",
              "      <th>7</th>\n",
              "      <th>8</th>\n",
              "      <th>9</th>\n",
              "      <th>10</th>\n",
              "      <th>11</th>\n",
              "      <th>12</th>\n",
              "      <th>13</th>\n",
              "      <th>14</th>\n",
              "      <th>15</th>\n",
              "      <th>16</th>\n",
              "      <th>17</th>\n",
              "      <th>18</th>\n",
              "      <th>19</th>\n",
              "      <th>20</th>\n",
              "      <th>21</th>\n",
              "      <th>22</th>\n",
              "    </tr>\n",
              "  </thead>\n",
              "  <tbody>\n",
              "    <tr>\n",
              "      <th>tenure</th>\n",
              "      <td>56.00</td>\n",
              "      <td>nan</td>\n",
              "      <td>60.00</td>\n",
              "      <td>37.00</td>\n",
              "      <td>29.00</td>\n",
              "      <td>70.00</td>\n",
              "      <td>31.00</td>\n",
              "      <td>3.00</td>\n",
              "      <td>54.00</td>\n",
              "      <td>72.00</td>\n",
              "      <td>6.00</td>\n",
              "      <td>nan</td>\n",
              "      <td>7.00</td>\n",
              "      <td>1.00</td>\n",
              "      <td>72.00</td>\n",
              "      <td>19.00</td>\n",
              "      <td>8.00</td>\n",
              "      <td>72.00</td>\n",
              "      <td>4.00</td>\n",
              "      <td>38.00</td>\n",
              "      <td>17.00</td>\n",
              "      <td>25.00</td>\n",
              "      <td>70.00</td>\n",
              "    </tr>\n",
              "    <tr>\n",
              "      <th>monthlycharges</th>\n",
              "      <td>45.05</td>\n",
              "      <td>19.65</td>\n",
              "      <td>110.80</td>\n",
              "      <td>101.90</td>\n",
              "      <td>70.75</td>\n",
              "      <td>48.40</td>\n",
              "      <td>59.95</td>\n",
              "      <td>19.55</td>\n",
              "      <td>19.65</td>\n",
              "      <td>85.10</td>\n",
              "      <td>18.95</td>\n",
              "      <td>94.90</td>\n",
              "      <td>66.85</td>\n",
              "      <td>69.80</td>\n",
              "      <td>84.45</td>\n",
              "      <td>69.60</td>\n",
              "      <td>43.45</td>\n",
              "      <td>90.45</td>\n",
              "      <td>76.05</td>\n",
              "      <td>81.85</td>\n",
              "      <td>44.45</td>\n",
              "      <td>61.60</td>\n",
              "      <td>57.80</td>\n",
              "    </tr>\n",
              "    <tr>\n",
              "      <th>totalcharges</th>\n",
              "      <td>2,560.10</td>\n",
              "      <td>332.65</td>\n",
              "      <td>6,640.70</td>\n",
              "      <td>3,545.35</td>\n",
              "      <td>1,974.80</td>\n",
              "      <td>3,442.80</td>\n",
              "      <td>1,848.80</td>\n",
              "      <td>61.05</td>\n",
              "      <td>1,008.70</td>\n",
              "      <td>6,155.40</td>\n",
              "      <td>110.15</td>\n",
              "      <td>4,422.95</td>\n",
              "      <td>458.10</td>\n",
              "      <td>69.80</td>\n",
              "      <td>6,033.10</td>\n",
              "      <td>1,394.55</td>\n",
              "      <td>345.50</td>\n",
              "      <td>6,565.85</td>\n",
              "      <td>318.90</td>\n",
              "      <td>3,141.70</td>\n",
              "      <td>792.15</td>\n",
              "      <td>1,611.00</td>\n",
              "      <td>4,039.30</td>\n",
              "    </tr>\n",
              "    <tr>\n",
              "      <th>totalcharges_2</th>\n",
              "      <td>2,560.10</td>\n",
              "      <td>332.65</td>\n",
              "      <td>6,640.70</td>\n",
              "      <td>3,545.35</td>\n",
              "      <td>1,974.80</td>\n",
              "      <td>3,442.80</td>\n",
              "      <td>1,848.80</td>\n",
              "      <td>61.05</td>\n",
              "      <td>1,008.70</td>\n",
              "      <td>6,155.40</td>\n",
              "      <td>110.15</td>\n",
              "      <td>4,422.95</td>\n",
              "      <td>458.10</td>\n",
              "      <td>69.80</td>\n",
              "      <td>6,033.10</td>\n",
              "      <td>1,394.55</td>\n",
              "      <td>345.50</td>\n",
              "      <td>6,565.85</td>\n",
              "      <td>318.90</td>\n",
              "      <td>3,141.70</td>\n",
              "      <td>792.15</td>\n",
              "      <td>1,611.00</td>\n",
              "      <td>4,039.30</td>\n",
              "    </tr>\n",
              "  </tbody>\n",
              "</table>\n",
              "</div>"
            ],
            "text/plain": [
              "                     0      1        2        3        4        5        6   \\\n",
              "tenure            56.00    nan    60.00    37.00    29.00    70.00    31.00   \n",
              "monthlycharges    45.05  19.65   110.80   101.90    70.75    48.40    59.95   \n",
              "totalcharges   2,560.10 332.65 6,640.70 3,545.35 1,974.80 3,442.80 1,848.80   \n",
              "totalcharges_2 2,560.10 332.65 6,640.70 3,545.35 1,974.80 3,442.80 1,848.80   \n",
              "\n",
              "                  7        8        9      10       11     12    13       14  \\\n",
              "tenure          3.00    54.00    72.00   6.00      nan   7.00  1.00    72.00   \n",
              "monthlycharges 19.55    19.65    85.10  18.95    94.90  66.85 69.80    84.45   \n",
              "totalcharges   61.05 1,008.70 6,155.40 110.15 4,422.95 458.10 69.80 6,033.10   \n",
              "totalcharges_2 61.05 1,008.70 6,155.40 110.15 4,422.95 458.10 69.80 6,033.10   \n",
              "\n",
              "                     15     16       17     18       19     20       21  \\\n",
              "tenure            19.00   8.00    72.00   4.00    38.00  17.00    25.00   \n",
              "monthlycharges    69.60  43.45    90.45  76.05    81.85  44.45    61.60   \n",
              "totalcharges   1,394.55 345.50 6,565.85 318.90 3,141.70 792.15 1,611.00   \n",
              "totalcharges_2 1,394.55 345.50 6,565.85 318.90 3,141.70 792.15 1,611.00   \n",
              "\n",
              "                     22  \n",
              "tenure            70.00  \n",
              "monthlycharges    57.80  \n",
              "totalcharges   4,039.30  \n",
              "totalcharges_2 4,039.30  "
            ]
          },
          "metadata": {
            "tags": []
          },
          "execution_count": 121
        }
      ]
    },
    {
      "cell_type": "code",
      "metadata": {
        "id": "PjfLeUAxPUtM",
        "outputId": "cc78b814-006d-4b13-be33-74618b079d5a",
        "colab": {
          "base_uri": "https://localhost:8080/"
        }
      },
      "source": [
        "df_quant['RazaoCobrTotalMensal'] = df_quant['totalcharges']/df_quant['monthlycharges']"
      ],
      "execution_count": 122,
      "outputs": [
        {
          "output_type": "stream",
          "text": [
            "/usr/local/lib/python3.6/dist-packages/ipykernel_launcher.py:1: SettingWithCopyWarning: \n",
            "A value is trying to be set on a copy of a slice from a DataFrame.\n",
            "Try using .loc[row_indexer,col_indexer] = value instead\n",
            "\n",
            "See the caveats in the documentation: https://pandas.pydata.org/pandas-docs/stable/user_guide/indexing.html#returning-a-view-versus-a-copy\n",
            "  \"\"\"Entry point for launching an IPython kernel.\n"
          ],
          "name": "stderr"
        }
      ]
    },
    {
      "cell_type": "code",
      "metadata": {
        "id": "4VQxq0ebPUtQ",
        "outputId": "eab2637a-a3f8-4c54-c992-b3f94f8d7551",
        "colab": {
          "base_uri": "https://localhost:8080/"
        }
      },
      "source": [
        "df_quant['DiferencapercRazaoCobrTotMensal'] = (df_quant['tenure']-df_quant['RazaoCobrTotalMensal'])/df_quant['tenure']"
      ],
      "execution_count": 123,
      "outputs": [
        {
          "output_type": "stream",
          "text": [
            "/usr/local/lib/python3.6/dist-packages/ipykernel_launcher.py:1: SettingWithCopyWarning: \n",
            "A value is trying to be set on a copy of a slice from a DataFrame.\n",
            "Try using .loc[row_indexer,col_indexer] = value instead\n",
            "\n",
            "See the caveats in the documentation: https://pandas.pydata.org/pandas-docs/stable/user_guide/indexing.html#returning-a-view-versus-a-copy\n",
            "  \"\"\"Entry point for launching an IPython kernel.\n"
          ],
          "name": "stderr"
        }
      ]
    },
    {
      "cell_type": "markdown",
      "metadata": {
        "id": "O03YNLpMPUtT"
      },
      "source": [
        "Verifica-se que a razão entre os valores das variáveis CobrancaTotal e CobrancaMensal é um bom indicador<br>\n",
        "do valor da variável MesesNaCompanhia. Dessa forma, vamos usar essa razão para preencher os valores faltantes <br>\n",
        "da variável 'MesesNaCompanhia'."
      ]
    },
    {
      "cell_type": "code",
      "metadata": {
        "id": "K1CPUaq7PUtU",
        "outputId": "fd655198-73c5-4d72-8658-b740a84a3263",
        "colab": {
          "base_uri": "https://localhost:8080/",
          "height": 255
        }
      },
      "source": [
        "df_quant.tail(23).T"
      ],
      "execution_count": 124,
      "outputs": [
        {
          "output_type": "execute_result",
          "data": {
            "text/html": [
              "<div>\n",
              "<style scoped>\n",
              "    .dataframe tbody tr th:only-of-type {\n",
              "        vertical-align: middle;\n",
              "    }\n",
              "\n",
              "    .dataframe tbody tr th {\n",
              "        vertical-align: top;\n",
              "    }\n",
              "\n",
              "    .dataframe thead th {\n",
              "        text-align: right;\n",
              "    }\n",
              "</style>\n",
              "<table border=\"1\" class=\"dataframe\">\n",
              "  <thead>\n",
              "    <tr style=\"text-align: right;\">\n",
              "      <th></th>\n",
              "      <th>5611</th>\n",
              "      <th>5612</th>\n",
              "      <th>5613</th>\n",
              "      <th>5614</th>\n",
              "      <th>5615</th>\n",
              "      <th>5616</th>\n",
              "      <th>5617</th>\n",
              "      <th>5618</th>\n",
              "      <th>5619</th>\n",
              "      <th>5620</th>\n",
              "      <th>5621</th>\n",
              "      <th>5622</th>\n",
              "      <th>5623</th>\n",
              "      <th>5624</th>\n",
              "      <th>5625</th>\n",
              "      <th>5626</th>\n",
              "      <th>5627</th>\n",
              "      <th>5628</th>\n",
              "      <th>5629</th>\n",
              "      <th>5630</th>\n",
              "      <th>5631</th>\n",
              "      <th>5632</th>\n",
              "      <th>5633</th>\n",
              "    </tr>\n",
              "  </thead>\n",
              "  <tbody>\n",
              "    <tr>\n",
              "      <th>tenure</th>\n",
              "      <td>9.00</td>\n",
              "      <td>2.00</td>\n",
              "      <td>nan</td>\n",
              "      <td>41.00</td>\n",
              "      <td>14.00</td>\n",
              "      <td>71.00</td>\n",
              "      <td>68.00</td>\n",
              "      <td>17.00</td>\n",
              "      <td>71.00</td>\n",
              "      <td>3.00</td>\n",
              "      <td>49.00</td>\n",
              "      <td>42.00</td>\n",
              "      <td>nan</td>\n",
              "      <td>2.00</td>\n",
              "      <td>64.00</td>\n",
              "      <td>45.00</td>\n",
              "      <td>44.00</td>\n",
              "      <td>3.00</td>\n",
              "      <td>43.00</td>\n",
              "      <td>nan</td>\n",
              "      <td>28.00</td>\n",
              "      <td>63.00</td>\n",
              "      <td>38.00</td>\n",
              "    </tr>\n",
              "    <tr>\n",
              "      <th>monthlycharges</th>\n",
              "      <td>24.60</td>\n",
              "      <td>20.35</td>\n",
              "      <td>29.90</td>\n",
              "      <td>20.25</td>\n",
              "      <td>19.50</td>\n",
              "      <td>104.05</td>\n",
              "      <td>95.90</td>\n",
              "      <td>81.50</td>\n",
              "      <td>23.95</td>\n",
              "      <td>18.80</td>\n",
              "      <td>93.85</td>\n",
              "      <td>22.95</td>\n",
              "      <td>49.85</td>\n",
              "      <td>76.40</td>\n",
              "      <td>74.65</td>\n",
              "      <td>25.50</td>\n",
              "      <td>65.40</td>\n",
              "      <td>74.40</td>\n",
              "      <td>44.15</td>\n",
              "      <td>108.65</td>\n",
              "      <td>54.65</td>\n",
              "      <td>25.25</td>\n",
              "      <td>95.00</td>\n",
              "    </tr>\n",
              "    <tr>\n",
              "      <th>totalcharges</th>\n",
              "      <td>190.10</td>\n",
              "      <td>33.20</td>\n",
              "      <td>118.25</td>\n",
              "      <td>865.00</td>\n",
              "      <td>272.00</td>\n",
              "      <td>7,413.55</td>\n",
              "      <td>6,503.20</td>\n",
              "      <td>1,329.20</td>\n",
              "      <td>1,756.20</td>\n",
              "      <td>56.00</td>\n",
              "      <td>4,733.10</td>\n",
              "      <td>1,014.25</td>\n",
              "      <td>1,336.15</td>\n",
              "      <td>151.80</td>\n",
              "      <td>4,869.35</td>\n",
              "      <td>1,121.05</td>\n",
              "      <td>2,774.55</td>\n",
              "      <td>215.80</td>\n",
              "      <td>1,931.30</td>\n",
              "      <td>4,903.20</td>\n",
              "      <td>1,517.50</td>\n",
              "      <td>1,573.05</td>\n",
              "      <td>3,605.60</td>\n",
              "    </tr>\n",
              "    <tr>\n",
              "      <th>totalcharges_2</th>\n",
              "      <td>190.10</td>\n",
              "      <td>33.20</td>\n",
              "      <td>118.25</td>\n",
              "      <td>865.00</td>\n",
              "      <td>272.00</td>\n",
              "      <td>7,413.55</td>\n",
              "      <td>6,503.20</td>\n",
              "      <td>1,329.20</td>\n",
              "      <td>1,756.20</td>\n",
              "      <td>56.00</td>\n",
              "      <td>4,733.10</td>\n",
              "      <td>1,014.25</td>\n",
              "      <td>1,336.15</td>\n",
              "      <td>151.80</td>\n",
              "      <td>4,869.35</td>\n",
              "      <td>1,121.05</td>\n",
              "      <td>2,774.55</td>\n",
              "      <td>215.80</td>\n",
              "      <td>1,931.30</td>\n",
              "      <td>4,903.20</td>\n",
              "      <td>1,517.50</td>\n",
              "      <td>1,573.05</td>\n",
              "      <td>3,605.60</td>\n",
              "    </tr>\n",
              "    <tr>\n",
              "      <th>RazaoCobrTotalMensal</th>\n",
              "      <td>7.73</td>\n",
              "      <td>1.63</td>\n",
              "      <td>3.95</td>\n",
              "      <td>42.72</td>\n",
              "      <td>13.95</td>\n",
              "      <td>71.25</td>\n",
              "      <td>67.81</td>\n",
              "      <td>16.31</td>\n",
              "      <td>73.33</td>\n",
              "      <td>2.98</td>\n",
              "      <td>50.43</td>\n",
              "      <td>44.19</td>\n",
              "      <td>26.80</td>\n",
              "      <td>1.99</td>\n",
              "      <td>65.23</td>\n",
              "      <td>43.96</td>\n",
              "      <td>42.42</td>\n",
              "      <td>2.90</td>\n",
              "      <td>43.74</td>\n",
              "      <td>45.13</td>\n",
              "      <td>27.77</td>\n",
              "      <td>62.30</td>\n",
              "      <td>37.95</td>\n",
              "    </tr>\n",
              "    <tr>\n",
              "      <th>DiferencapercRazaoCobrTotMensal</th>\n",
              "      <td>0.14</td>\n",
              "      <td>0.18</td>\n",
              "      <td>nan</td>\n",
              "      <td>-0.04</td>\n",
              "      <td>0.00</td>\n",
              "      <td>-0.00</td>\n",
              "      <td>0.00</td>\n",
              "      <td>0.04</td>\n",
              "      <td>-0.03</td>\n",
              "      <td>0.01</td>\n",
              "      <td>-0.03</td>\n",
              "      <td>-0.05</td>\n",
              "      <td>nan</td>\n",
              "      <td>0.01</td>\n",
              "      <td>-0.02</td>\n",
              "      <td>0.02</td>\n",
              "      <td>0.04</td>\n",
              "      <td>0.03</td>\n",
              "      <td>-0.02</td>\n",
              "      <td>nan</td>\n",
              "      <td>0.01</td>\n",
              "      <td>0.01</td>\n",
              "      <td>0.00</td>\n",
              "    </tr>\n",
              "  </tbody>\n",
              "</table>\n",
              "</div>"
            ],
            "text/plain": [
              "                                  5611  5612   5613   5614   5615     5616  \\\n",
              "tenure                            9.00  2.00    nan  41.00  14.00    71.00   \n",
              "monthlycharges                   24.60 20.35  29.90  20.25  19.50   104.05   \n",
              "totalcharges                    190.10 33.20 118.25 865.00 272.00 7,413.55   \n",
              "totalcharges_2                  190.10 33.20 118.25 865.00 272.00 7,413.55   \n",
              "RazaoCobrTotalMensal              7.73  1.63   3.95  42.72  13.95    71.25   \n",
              "DiferencapercRazaoCobrTotMensal   0.14  0.18    nan  -0.04   0.00    -0.00   \n",
              "\n",
              "                                    5617     5618     5619  5620     5621  \\\n",
              "tenure                             68.00    17.00    71.00  3.00    49.00   \n",
              "monthlycharges                     95.90    81.50    23.95 18.80    93.85   \n",
              "totalcharges                    6,503.20 1,329.20 1,756.20 56.00 4,733.10   \n",
              "totalcharges_2                  6,503.20 1,329.20 1,756.20 56.00 4,733.10   \n",
              "RazaoCobrTotalMensal               67.81    16.31    73.33  2.98    50.43   \n",
              "DiferencapercRazaoCobrTotMensal     0.00     0.04    -0.03  0.01    -0.03   \n",
              "\n",
              "                                    5622     5623   5624     5625     5626  \\\n",
              "tenure                             42.00      nan   2.00    64.00    45.00   \n",
              "monthlycharges                     22.95    49.85  76.40    74.65    25.50   \n",
              "totalcharges                    1,014.25 1,336.15 151.80 4,869.35 1,121.05   \n",
              "totalcharges_2                  1,014.25 1,336.15 151.80 4,869.35 1,121.05   \n",
              "RazaoCobrTotalMensal               44.19    26.80   1.99    65.23    43.96   \n",
              "DiferencapercRazaoCobrTotMensal    -0.05      nan   0.01    -0.02     0.02   \n",
              "\n",
              "                                    5627   5628     5629     5630     5631  \\\n",
              "tenure                             44.00   3.00    43.00      nan    28.00   \n",
              "monthlycharges                     65.40  74.40    44.15   108.65    54.65   \n",
              "totalcharges                    2,774.55 215.80 1,931.30 4,903.20 1,517.50   \n",
              "totalcharges_2                  2,774.55 215.80 1,931.30 4,903.20 1,517.50   \n",
              "RazaoCobrTotalMensal               42.42   2.90    43.74    45.13    27.77   \n",
              "DiferencapercRazaoCobrTotMensal     0.04   0.03    -0.02      nan     0.01   \n",
              "\n",
              "                                    5632     5633  \n",
              "tenure                             63.00    38.00  \n",
              "monthlycharges                     25.25    95.00  \n",
              "totalcharges                    1,573.05 3,605.60  \n",
              "totalcharges_2                  1,573.05 3,605.60  \n",
              "RazaoCobrTotalMensal               62.30    37.95  \n",
              "DiferencapercRazaoCobrTotMensal     0.01     0.00  "
            ]
          },
          "metadata": {
            "tags": []
          },
          "execution_count": 124
        }
      ]
    },
    {
      "cell_type": "code",
      "metadata": {
        "id": "191WypIpPUtX"
      },
      "source": [
        "df_quant = df_quant.drop(columns=['RazaoCobrTotalMensal','DiferencapercRazaoCobrTotMensal'],\n",
        "                   axis=1)"
      ],
      "execution_count": 125,
      "outputs": []
    },
    {
      "cell_type": "code",
      "metadata": {
        "id": "1C19x7WHPUtZ",
        "outputId": "7fa3b8c9-255a-40fe-e08d-446c18bdea52",
        "colab": {
          "base_uri": "https://localhost:8080/",
          "height": 173
        }
      },
      "source": [
        "df_quant.head().T"
      ],
      "execution_count": 126,
      "outputs": [
        {
          "output_type": "execute_result",
          "data": {
            "text/html": [
              "<div>\n",
              "<style scoped>\n",
              "    .dataframe tbody tr th:only-of-type {\n",
              "        vertical-align: middle;\n",
              "    }\n",
              "\n",
              "    .dataframe tbody tr th {\n",
              "        vertical-align: top;\n",
              "    }\n",
              "\n",
              "    .dataframe thead th {\n",
              "        text-align: right;\n",
              "    }\n",
              "</style>\n",
              "<table border=\"1\" class=\"dataframe\">\n",
              "  <thead>\n",
              "    <tr style=\"text-align: right;\">\n",
              "      <th></th>\n",
              "      <th>0</th>\n",
              "      <th>1</th>\n",
              "      <th>2</th>\n",
              "      <th>3</th>\n",
              "      <th>4</th>\n",
              "    </tr>\n",
              "  </thead>\n",
              "  <tbody>\n",
              "    <tr>\n",
              "      <th>tenure</th>\n",
              "      <td>56.00</td>\n",
              "      <td>nan</td>\n",
              "      <td>60.00</td>\n",
              "      <td>37.00</td>\n",
              "      <td>29.00</td>\n",
              "    </tr>\n",
              "    <tr>\n",
              "      <th>monthlycharges</th>\n",
              "      <td>45.05</td>\n",
              "      <td>19.65</td>\n",
              "      <td>110.80</td>\n",
              "      <td>101.90</td>\n",
              "      <td>70.75</td>\n",
              "    </tr>\n",
              "    <tr>\n",
              "      <th>totalcharges</th>\n",
              "      <td>2,560.10</td>\n",
              "      <td>332.65</td>\n",
              "      <td>6,640.70</td>\n",
              "      <td>3,545.35</td>\n",
              "      <td>1,974.80</td>\n",
              "    </tr>\n",
              "    <tr>\n",
              "      <th>totalcharges_2</th>\n",
              "      <td>2,560.10</td>\n",
              "      <td>332.65</td>\n",
              "      <td>6,640.70</td>\n",
              "      <td>3,545.35</td>\n",
              "      <td>1,974.80</td>\n",
              "    </tr>\n",
              "  </tbody>\n",
              "</table>\n",
              "</div>"
            ],
            "text/plain": [
              "                      0      1        2        3        4\n",
              "tenure            56.00    nan    60.00    37.00    29.00\n",
              "monthlycharges    45.05  19.65   110.80   101.90    70.75\n",
              "totalcharges   2,560.10 332.65 6,640.70 3,545.35 1,974.80\n",
              "totalcharges_2 2,560.10 332.65 6,640.70 3,545.35 1,974.80"
            ]
          },
          "metadata": {
            "tags": []
          },
          "execution_count": 126
        }
      ]
    },
    {
      "cell_type": "code",
      "metadata": {
        "id": "fBd3m7guPUtc"
      },
      "source": [
        "df_quant['tenure_2']  = df_quant['tenure'].fillna(df_quant['totalcharges_2']/df_quant['monthlycharges'])"
      ],
      "execution_count": 127,
      "outputs": []
    },
    {
      "cell_type": "code",
      "metadata": {
        "id": "qMpSjslSPUtg",
        "outputId": "4569d0ee-8c5c-4479-b77e-74fcf87d18bc",
        "colab": {
          "base_uri": "https://localhost:8080/",
          "height": 224
        }
      },
      "source": [
        "df_quant.head(20).T"
      ],
      "execution_count": 128,
      "outputs": [
        {
          "output_type": "execute_result",
          "data": {
            "text/html": [
              "<div>\n",
              "<style scoped>\n",
              "    .dataframe tbody tr th:only-of-type {\n",
              "        vertical-align: middle;\n",
              "    }\n",
              "\n",
              "    .dataframe tbody tr th {\n",
              "        vertical-align: top;\n",
              "    }\n",
              "\n",
              "    .dataframe thead th {\n",
              "        text-align: right;\n",
              "    }\n",
              "</style>\n",
              "<table border=\"1\" class=\"dataframe\">\n",
              "  <thead>\n",
              "    <tr style=\"text-align: right;\">\n",
              "      <th></th>\n",
              "      <th>0</th>\n",
              "      <th>1</th>\n",
              "      <th>2</th>\n",
              "      <th>3</th>\n",
              "      <th>4</th>\n",
              "      <th>5</th>\n",
              "      <th>6</th>\n",
              "      <th>7</th>\n",
              "      <th>8</th>\n",
              "      <th>9</th>\n",
              "      <th>10</th>\n",
              "      <th>11</th>\n",
              "      <th>12</th>\n",
              "      <th>13</th>\n",
              "      <th>14</th>\n",
              "      <th>15</th>\n",
              "      <th>16</th>\n",
              "      <th>17</th>\n",
              "      <th>18</th>\n",
              "      <th>19</th>\n",
              "    </tr>\n",
              "  </thead>\n",
              "  <tbody>\n",
              "    <tr>\n",
              "      <th>tenure</th>\n",
              "      <td>56.00</td>\n",
              "      <td>nan</td>\n",
              "      <td>60.00</td>\n",
              "      <td>37.00</td>\n",
              "      <td>29.00</td>\n",
              "      <td>70.00</td>\n",
              "      <td>31.00</td>\n",
              "      <td>3.00</td>\n",
              "      <td>54.00</td>\n",
              "      <td>72.00</td>\n",
              "      <td>6.00</td>\n",
              "      <td>nan</td>\n",
              "      <td>7.00</td>\n",
              "      <td>1.00</td>\n",
              "      <td>72.00</td>\n",
              "      <td>19.00</td>\n",
              "      <td>8.00</td>\n",
              "      <td>72.00</td>\n",
              "      <td>4.00</td>\n",
              "      <td>38.00</td>\n",
              "    </tr>\n",
              "    <tr>\n",
              "      <th>monthlycharges</th>\n",
              "      <td>45.05</td>\n",
              "      <td>19.65</td>\n",
              "      <td>110.80</td>\n",
              "      <td>101.90</td>\n",
              "      <td>70.75</td>\n",
              "      <td>48.40</td>\n",
              "      <td>59.95</td>\n",
              "      <td>19.55</td>\n",
              "      <td>19.65</td>\n",
              "      <td>85.10</td>\n",
              "      <td>18.95</td>\n",
              "      <td>94.90</td>\n",
              "      <td>66.85</td>\n",
              "      <td>69.80</td>\n",
              "      <td>84.45</td>\n",
              "      <td>69.60</td>\n",
              "      <td>43.45</td>\n",
              "      <td>90.45</td>\n",
              "      <td>76.05</td>\n",
              "      <td>81.85</td>\n",
              "    </tr>\n",
              "    <tr>\n",
              "      <th>totalcharges</th>\n",
              "      <td>2,560.10</td>\n",
              "      <td>332.65</td>\n",
              "      <td>6,640.70</td>\n",
              "      <td>3,545.35</td>\n",
              "      <td>1,974.80</td>\n",
              "      <td>3,442.80</td>\n",
              "      <td>1,848.80</td>\n",
              "      <td>61.05</td>\n",
              "      <td>1,008.70</td>\n",
              "      <td>6,155.40</td>\n",
              "      <td>110.15</td>\n",
              "      <td>4,422.95</td>\n",
              "      <td>458.10</td>\n",
              "      <td>69.80</td>\n",
              "      <td>6,033.10</td>\n",
              "      <td>1,394.55</td>\n",
              "      <td>345.50</td>\n",
              "      <td>6,565.85</td>\n",
              "      <td>318.90</td>\n",
              "      <td>3,141.70</td>\n",
              "    </tr>\n",
              "    <tr>\n",
              "      <th>totalcharges_2</th>\n",
              "      <td>2,560.10</td>\n",
              "      <td>332.65</td>\n",
              "      <td>6,640.70</td>\n",
              "      <td>3,545.35</td>\n",
              "      <td>1,974.80</td>\n",
              "      <td>3,442.80</td>\n",
              "      <td>1,848.80</td>\n",
              "      <td>61.05</td>\n",
              "      <td>1,008.70</td>\n",
              "      <td>6,155.40</td>\n",
              "      <td>110.15</td>\n",
              "      <td>4,422.95</td>\n",
              "      <td>458.10</td>\n",
              "      <td>69.80</td>\n",
              "      <td>6,033.10</td>\n",
              "      <td>1,394.55</td>\n",
              "      <td>345.50</td>\n",
              "      <td>6,565.85</td>\n",
              "      <td>318.90</td>\n",
              "      <td>3,141.70</td>\n",
              "    </tr>\n",
              "    <tr>\n",
              "      <th>tenure_2</th>\n",
              "      <td>56.00</td>\n",
              "      <td>16.93</td>\n",
              "      <td>60.00</td>\n",
              "      <td>37.00</td>\n",
              "      <td>29.00</td>\n",
              "      <td>70.00</td>\n",
              "      <td>31.00</td>\n",
              "      <td>3.00</td>\n",
              "      <td>54.00</td>\n",
              "      <td>72.00</td>\n",
              "      <td>6.00</td>\n",
              "      <td>46.61</td>\n",
              "      <td>7.00</td>\n",
              "      <td>1.00</td>\n",
              "      <td>72.00</td>\n",
              "      <td>19.00</td>\n",
              "      <td>8.00</td>\n",
              "      <td>72.00</td>\n",
              "      <td>4.00</td>\n",
              "      <td>38.00</td>\n",
              "    </tr>\n",
              "  </tbody>\n",
              "</table>\n",
              "</div>"
            ],
            "text/plain": [
              "                     0      1        2        3        4        5        6   \\\n",
              "tenure            56.00    nan    60.00    37.00    29.00    70.00    31.00   \n",
              "monthlycharges    45.05  19.65   110.80   101.90    70.75    48.40    59.95   \n",
              "totalcharges   2,560.10 332.65 6,640.70 3,545.35 1,974.80 3,442.80 1,848.80   \n",
              "totalcharges_2 2,560.10 332.65 6,640.70 3,545.35 1,974.80 3,442.80 1,848.80   \n",
              "tenure_2          56.00  16.93    60.00    37.00    29.00    70.00    31.00   \n",
              "\n",
              "                  7        8        9      10       11     12    13       14  \\\n",
              "tenure          3.00    54.00    72.00   6.00      nan   7.00  1.00    72.00   \n",
              "monthlycharges 19.55    19.65    85.10  18.95    94.90  66.85 69.80    84.45   \n",
              "totalcharges   61.05 1,008.70 6,155.40 110.15 4,422.95 458.10 69.80 6,033.10   \n",
              "totalcharges_2 61.05 1,008.70 6,155.40 110.15 4,422.95 458.10 69.80 6,033.10   \n",
              "tenure_2        3.00    54.00    72.00   6.00    46.61   7.00  1.00    72.00   \n",
              "\n",
              "                     15     16       17     18       19  \n",
              "tenure            19.00   8.00    72.00   4.00    38.00  \n",
              "monthlycharges    69.60  43.45    90.45  76.05    81.85  \n",
              "totalcharges   1,394.55 345.50 6,565.85 318.90 3,141.70  \n",
              "totalcharges_2 1,394.55 345.50 6,565.85 318.90 3,141.70  \n",
              "tenure_2          19.00   8.00    72.00   4.00    38.00  "
            ]
          },
          "metadata": {
            "tags": []
          },
          "execution_count": 128
        }
      ]
    },
    {
      "cell_type": "code",
      "metadata": {
        "id": "qydsoT_lPUtj"
      },
      "source": [
        "df_quant_2 = df_quant[['monthlycharges','totalcharges_2','tenure_2']]"
      ],
      "execution_count": 129,
      "outputs": []
    },
    {
      "cell_type": "code",
      "metadata": {
        "id": "RMyC5VqJPUto",
        "outputId": "97c79e38-7ef7-4d54-e0d3-5c0a2f8b6123",
        "colab": {
          "base_uri": "https://localhost:8080/"
        }
      },
      "source": [
        "df_quant_2.isnull().sum()"
      ],
      "execution_count": 130,
      "outputs": [
        {
          "output_type": "execute_result",
          "data": {
            "text/plain": [
              "monthlycharges    0\n",
              "totalcharges_2    0\n",
              "tenure_2          0\n",
              "dtype: int64"
            ]
          },
          "metadata": {
            "tags": []
          },
          "execution_count": 130
        }
      ]
    },
    {
      "cell_type": "markdown",
      "metadata": {
        "id": "gMMETG7rPUtu"
      },
      "source": [
        "### Discretização das variáveis quantitativas"
      ]
    },
    {
      "cell_type": "code",
      "metadata": {
        "id": "kqkwQgrbPUtv",
        "outputId": "55cda57e-f3a8-4119-f83f-b7e57698ad6d",
        "colab": {
          "base_uri": "https://localhost:8080/"
        }
      },
      "source": [
        "df_quant_2.nunique()"
      ],
      "execution_count": 132,
      "outputs": [
        {
          "output_type": "execute_result",
          "data": {
            "text/plain": [
              "monthlycharges    1505\n",
              "totalcharges_2    5285\n",
              "tenure_2           490\n",
              "dtype: int64"
            ]
          },
          "metadata": {
            "tags": []
          },
          "execution_count": 132
        }
      ]
    },
    {
      "cell_type": "code",
      "metadata": {
        "id": "q3kqVfKlPUtz"
      },
      "source": [
        "from sklearn.preprocessing import KBinsDiscretizer"
      ],
      "execution_count": 133,
      "outputs": []
    },
    {
      "cell_type": "code",
      "metadata": {
        "id": "nqI4YLRWPUt1"
      },
      "source": [
        "discretizer = KBinsDiscretizer(n_bins=5,\n",
        "                              encode='ordinal',\n",
        "                              strategy='quantile')"
      ],
      "execution_count": 134,
      "outputs": []
    },
    {
      "cell_type": "code",
      "metadata": {
        "id": "kud7TuifPUt4",
        "outputId": "e40b2788-0324-443d-8ed9-fda66547bded",
        "colab": {
          "base_uri": "https://localhost:8080/"
        }
      },
      "source": [
        "discretizer.fit(df_quant_2)"
      ],
      "execution_count": 135,
      "outputs": [
        {
          "output_type": "execute_result",
          "data": {
            "text/plain": [
              "KBinsDiscretizer(encode='ordinal', n_bins=5, strategy='quantile')"
            ]
          },
          "metadata": {
            "tags": []
          },
          "execution_count": 135
        }
      ]
    },
    {
      "cell_type": "code",
      "metadata": {
        "id": "bOb4sTQLPUt6"
      },
      "source": [
        "bining = discretizer.fit_transform(df_quant_2)"
      ],
      "execution_count": 136,
      "outputs": []
    },
    {
      "cell_type": "code",
      "metadata": {
        "id": "SMnn7ieYPUt-"
      },
      "source": [
        "df_quant_bining = pd.DataFrame(bining,\n",
        "                                    columns=['monthlycharges',\n",
        "                                             'totalcharges_2',\n",
        "                                             'tenure_2'])"
      ],
      "execution_count": 137,
      "outputs": []
    },
    {
      "cell_type": "code",
      "metadata": {
        "id": "cA_9AKayPUuD",
        "outputId": "4a0a5077-3b20-4121-ccd5-3bb380ac1754",
        "colab": {
          "base_uri": "https://localhost:8080/",
          "height": 162
        }
      },
      "source": [
        "df_quant_bining.head(30).T"
      ],
      "execution_count": 138,
      "outputs": [
        {
          "output_type": "execute_result",
          "data": {
            "text/html": [
              "<div>\n",
              "<style scoped>\n",
              "    .dataframe tbody tr th:only-of-type {\n",
              "        vertical-align: middle;\n",
              "    }\n",
              "\n",
              "    .dataframe tbody tr th {\n",
              "        vertical-align: top;\n",
              "    }\n",
              "\n",
              "    .dataframe thead th {\n",
              "        text-align: right;\n",
              "    }\n",
              "</style>\n",
              "<table border=\"1\" class=\"dataframe\">\n",
              "  <thead>\n",
              "    <tr style=\"text-align: right;\">\n",
              "      <th></th>\n",
              "      <th>0</th>\n",
              "      <th>1</th>\n",
              "      <th>2</th>\n",
              "      <th>3</th>\n",
              "      <th>4</th>\n",
              "      <th>5</th>\n",
              "      <th>6</th>\n",
              "      <th>7</th>\n",
              "      <th>8</th>\n",
              "      <th>9</th>\n",
              "      <th>10</th>\n",
              "      <th>11</th>\n",
              "      <th>12</th>\n",
              "      <th>13</th>\n",
              "      <th>14</th>\n",
              "      <th>15</th>\n",
              "      <th>16</th>\n",
              "      <th>17</th>\n",
              "      <th>18</th>\n",
              "      <th>19</th>\n",
              "      <th>20</th>\n",
              "      <th>21</th>\n",
              "      <th>22</th>\n",
              "      <th>23</th>\n",
              "      <th>24</th>\n",
              "      <th>25</th>\n",
              "      <th>26</th>\n",
              "      <th>27</th>\n",
              "      <th>28</th>\n",
              "      <th>29</th>\n",
              "    </tr>\n",
              "  </thead>\n",
              "  <tbody>\n",
              "    <tr>\n",
              "      <th>monthlycharges</th>\n",
              "      <td>1.00</td>\n",
              "      <td>0.00</td>\n",
              "      <td>4.00</td>\n",
              "      <td>4.00</td>\n",
              "      <td>2.00</td>\n",
              "      <td>1.00</td>\n",
              "      <td>2.00</td>\n",
              "      <td>0.00</td>\n",
              "      <td>0.00</td>\n",
              "      <td>3.00</td>\n",
              "      <td>0.00</td>\n",
              "      <td>4.00</td>\n",
              "      <td>2.00</td>\n",
              "      <td>2.00</td>\n",
              "      <td>3.00</td>\n",
              "      <td>2.00</td>\n",
              "      <td>1.00</td>\n",
              "      <td>3.00</td>\n",
              "      <td>2.00</td>\n",
              "      <td>3.00</td>\n",
              "      <td>1.00</td>\n",
              "      <td>2.00</td>\n",
              "      <td>1.00</td>\n",
              "      <td>2.00</td>\n",
              "      <td>1.00</td>\n",
              "      <td>3.00</td>\n",
              "      <td>1.00</td>\n",
              "      <td>2.00</td>\n",
              "      <td>4.00</td>\n",
              "      <td>0.00</td>\n",
              "    </tr>\n",
              "    <tr>\n",
              "      <th>totalcharges_2</th>\n",
              "      <td>3.00</td>\n",
              "      <td>1.00</td>\n",
              "      <td>4.00</td>\n",
              "      <td>3.00</td>\n",
              "      <td>2.00</td>\n",
              "      <td>3.00</td>\n",
              "      <td>2.00</td>\n",
              "      <td>0.00</td>\n",
              "      <td>2.00</td>\n",
              "      <td>4.00</td>\n",
              "      <td>0.00</td>\n",
              "      <td>3.00</td>\n",
              "      <td>1.00</td>\n",
              "      <td>0.00</td>\n",
              "      <td>4.00</td>\n",
              "      <td>2.00</td>\n",
              "      <td>1.00</td>\n",
              "      <td>4.00</td>\n",
              "      <td>1.00</td>\n",
              "      <td>3.00</td>\n",
              "      <td>1.00</td>\n",
              "      <td>2.00</td>\n",
              "      <td>3.00</td>\n",
              "      <td>3.00</td>\n",
              "      <td>3.00</td>\n",
              "      <td>4.00</td>\n",
              "      <td>3.00</td>\n",
              "      <td>3.00</td>\n",
              "      <td>4.00</td>\n",
              "      <td>1.00</td>\n",
              "    </tr>\n",
              "    <tr>\n",
              "      <th>tenure_2</th>\n",
              "      <td>3.00</td>\n",
              "      <td>1.00</td>\n",
              "      <td>4.00</td>\n",
              "      <td>2.00</td>\n",
              "      <td>2.00</td>\n",
              "      <td>4.00</td>\n",
              "      <td>2.00</td>\n",
              "      <td>0.00</td>\n",
              "      <td>3.00</td>\n",
              "      <td>4.00</td>\n",
              "      <td>1.00</td>\n",
              "      <td>3.00</td>\n",
              "      <td>1.00</td>\n",
              "      <td>0.00</td>\n",
              "      <td>4.00</td>\n",
              "      <td>1.00</td>\n",
              "      <td>1.00</td>\n",
              "      <td>4.00</td>\n",
              "      <td>0.00</td>\n",
              "      <td>2.00</td>\n",
              "      <td>1.00</td>\n",
              "      <td>2.00</td>\n",
              "      <td>4.00</td>\n",
              "      <td>3.00</td>\n",
              "      <td>4.00</td>\n",
              "      <td>4.00</td>\n",
              "      <td>3.00</td>\n",
              "      <td>4.00</td>\n",
              "      <td>4.00</td>\n",
              "      <td>1.00</td>\n",
              "    </tr>\n",
              "  </tbody>\n",
              "</table>\n",
              "</div>"
            ],
            "text/plain": [
              "                 0    1    2    3    4    5    6    7    8    9    10   11  \\\n",
              "monthlycharges 1.00 0.00 4.00 4.00 2.00 1.00 2.00 0.00 0.00 3.00 0.00 4.00   \n",
              "totalcharges_2 3.00 1.00 4.00 3.00 2.00 3.00 2.00 0.00 2.00 4.00 0.00 3.00   \n",
              "tenure_2       3.00 1.00 4.00 2.00 2.00 4.00 2.00 0.00 3.00 4.00 1.00 3.00   \n",
              "\n",
              "                 12   13   14   15   16   17   18   19   20   21   22   23  \\\n",
              "monthlycharges 2.00 2.00 3.00 2.00 1.00 3.00 2.00 3.00 1.00 2.00 1.00 2.00   \n",
              "totalcharges_2 1.00 0.00 4.00 2.00 1.00 4.00 1.00 3.00 1.00 2.00 3.00 3.00   \n",
              "tenure_2       1.00 0.00 4.00 1.00 1.00 4.00 0.00 2.00 1.00 2.00 4.00 3.00   \n",
              "\n",
              "                 24   25   26   27   28   29  \n",
              "monthlycharges 1.00 3.00 1.00 2.00 4.00 0.00  \n",
              "totalcharges_2 3.00 4.00 3.00 3.00 4.00 1.00  \n",
              "tenure_2       4.00 4.00 3.00 4.00 4.00 1.00  "
            ]
          },
          "metadata": {
            "tags": []
          },
          "execution_count": 138
        }
      ]
    },
    {
      "cell_type": "markdown",
      "metadata": {
        "id": "lZerPWzBPUuF"
      },
      "source": [
        "### Variáveis categóricas"
      ]
    },
    {
      "cell_type": "code",
      "metadata": {
        "id": "q6FvwQLwPUuG"
      },
      "source": [
        "categóricas.head()"
      ],
      "execution_count": null,
      "outputs": []
    },
    {
      "cell_type": "code",
      "metadata": {
        "id": "UIX8bVusPUuM"
      },
      "source": [
        "categóricas.isna().sum()"
      ],
      "execution_count": null,
      "outputs": []
    },
    {
      "cell_type": "markdown",
      "metadata": {
        "id": "n1dpPzsuPUuP"
      },
      "source": [
        "#### Contagem de valores da variavel genero"
      ]
    },
    {
      "cell_type": "code",
      "metadata": {
        "id": "WQwH0HRfPUuQ"
      },
      "source": [
        "categóricas['genero'].value_counts()"
      ],
      "execution_count": null,
      "outputs": []
    },
    {
      "cell_type": "markdown",
      "metadata": {
        "id": "a7h8gQQyPUuU"
      },
      "source": [
        "#### Tabela de frequencias Churn x genero"
      ]
    },
    {
      "cell_type": "code",
      "metadata": {
        "id": "n0WPm-6oPUuU"
      },
      "source": [
        "# Table of survival vs. sex\n",
        "Churn_genero = pd.crosstab(index=dados[\"Churn\"], \n",
        "                           columns=dados[\"genero\"],\n",
        "                          margins=True)\n",
        "\n",
        "Churn_genero.columns=['Female','Male',\"rowtotal\"]\n",
        "Churn_genero.index= [\"0\",\"1\",\"coltotal\"]\n",
        "\n",
        "Churn_genero"
      ],
      "execution_count": null,
      "outputs": []
    },
    {
      "cell_type": "code",
      "metadata": {
        "id": "akk8AO4FPUuY"
      },
      "source": [
        "Churn_genero/Churn_genero.loc[\"coltotal\",\"rowtotal\"]"
      ],
      "execution_count": null,
      "outputs": []
    },
    {
      "cell_type": "markdown",
      "metadata": {
        "id": "Vpn5hwGjPUua"
      },
      "source": [
        "#Temos missing values em duas variáveis categóricas:\n",
        "#'TemParceiro'        categórica\n",
        "#'MetodoPagamento'    categórica"
      ]
    },
    {
      "cell_type": "markdown",
      "metadata": {
        "id": "LmhuKeWiPUua"
      },
      "source": [
        "#### Imputação de missing values na variável 'TemDependente'\n",
        "Como 'TemDependente' é uma variável categórica, criaremos uma nova categoria, chamada 'Miss', a qual será imputada a todos os missing values dessa variável."
      ]
    },
    {
      "cell_type": "code",
      "metadata": {
        "id": "PLKSiivjPUub"
      },
      "source": [
        "categóricas['TemDependentes'] = categóricas['TemDependentes'].fillna(categóricas['TemDependentes']=='Miss')"
      ],
      "execution_count": null,
      "outputs": []
    },
    {
      "cell_type": "code",
      "metadata": {
        "id": "yCM-mJ2jPUuc"
      },
      "source": [
        "categóricas['TemDependentes'].isnull().any()"
      ],
      "execution_count": null,
      "outputs": []
    },
    {
      "cell_type": "markdown",
      "metadata": {
        "id": "lyQuL6iAPUug"
      },
      "source": [
        "#### Imputação de missing values na variável 'MetodoPagamento'"
      ]
    },
    {
      "cell_type": "code",
      "metadata": {
        "id": "CdNLvDEmPUuh"
      },
      "source": [
        "categóricas['MetodoPagamento'] = categóricas['MetodoPagamento'].fillna(categóricas['MetodoPagamento']=='Miss')\n"
      ],
      "execution_count": null,
      "outputs": []
    },
    {
      "cell_type": "code",
      "metadata": {
        "id": "OAAxNeMGPUul"
      },
      "source": [
        "categóricas['MetodoPagamento'].isnull().any()"
      ],
      "execution_count": null,
      "outputs": []
    },
    {
      "cell_type": "code",
      "metadata": {
        "id": "b78pvaPdPUuo"
      },
      "source": [
        "categóricas.isnull().sum()"
      ],
      "execution_count": null,
      "outputs": []
    },
    {
      "cell_type": "code",
      "metadata": {
        "id": "NKgaAP4SPUuq"
      },
      "source": [
        "dados['MetodoPagamento'].value_counts()"
      ],
      "execution_count": null,
      "outputs": []
    },
    {
      "cell_type": "markdown",
      "metadata": {
        "id": "AuD6oMltPUus"
      },
      "source": [
        "## Verificação da cardinalidade das variaveis categoricas\n",
        "Como todas as variáveis categóricas têm baixa cardinalidade (quantidade de valores únicos menor que 10), vamos criar variáveis dummy para todas."
      ]
    },
    {
      "cell_type": "code",
      "metadata": {
        "id": "0iVQIHcMPUus"
      },
      "source": [
        "categóricas.nunique()"
      ],
      "execution_count": null,
      "outputs": []
    },
    {
      "cell_type": "code",
      "metadata": {
        "id": "9xGhsyXUPUuv"
      },
      "source": [
        "dummies = pd.get_dummies(categóricas,\n",
        "                        prefix_sep='_',\n",
        "                        drop_first=True)"
      ],
      "execution_count": null,
      "outputs": []
    },
    {
      "cell_type": "code",
      "metadata": {
        "id": "P1mqk5JEPUuz"
      },
      "source": [
        "dummies.head()"
      ],
      "execution_count": null,
      "outputs": []
    },
    {
      "cell_type": "code",
      "metadata": {
        "id": "mmSJ5q0mPUu1"
      },
      "source": [
        "dummies['Idoso'].unique()"
      ],
      "execution_count": null,
      "outputs": []
    },
    {
      "cell_type": "code",
      "metadata": {
        "id": "DF-Sa2RwPUu3"
      },
      "source": [
        "dummies.columns"
      ],
      "execution_count": null,
      "outputs": []
    },
    {
      "cell_type": "markdown",
      "metadata": {
        "id": "3f_RSTVDPUu5"
      },
      "source": [
        "## Formação dos bancos de dados explicativas e target"
      ]
    },
    {
      "cell_type": "code",
      "metadata": {
        "id": "YEf2SO3uPUu5"
      },
      "source": [
        "explicativas=pd.concat([df_quant_bining,dummies],\n",
        "                      axis=1)"
      ],
      "execution_count": null,
      "outputs": []
    },
    {
      "cell_type": "code",
      "metadata": {
        "id": "QFTbiHdcPUu7"
      },
      "source": [
        "explicativas.columns"
      ],
      "execution_count": null,
      "outputs": []
    },
    {
      "cell_type": "code",
      "metadata": {
        "id": "gLRwkvjWPUvF"
      },
      "source": [
        "#explicativas.drop(['id'],axis=1,inplace=True)\n",
        "explicativas.head()"
      ],
      "execution_count": null,
      "outputs": []
    },
    {
      "cell_type": "code",
      "metadata": {
        "id": "WlWMAX96PUvI"
      },
      "source": [
        "target.head()"
      ],
      "execution_count": null,
      "outputs": []
    },
    {
      "cell_type": "markdown",
      "metadata": {
        "id": "QUw-8vajPUvK"
      },
      "source": [
        "## Separação dos conjuntos de treino e teste"
      ]
    },
    {
      "cell_type": "code",
      "metadata": {
        "id": "WmbldgnOPUvK"
      },
      "source": [
        "from sklearn.model_selection import train_test_split\n",
        "x_treino, x_teste, y_treino, y_teste = train_test_split(explicativas,\n",
        "                                                       target,\n",
        "                                                       test_size=0.3,\n",
        "                                                      random_state=42)"
      ],
      "execution_count": null,
      "outputs": []
    },
    {
      "cell_type": "markdown",
      "metadata": {
        "id": "4XpzeHXwPUvM"
      },
      "source": [
        "## Tuninng de hiperparâmetros\n",
        "Inicialmente, chamar o módulo de tuning.<br>\n",
        "Passo a passo <br>\n",
        "1 - definir um dict(dicionario com os valores dos hiperparams)<br>\n",
        "2 - chamar o modulo de tunning<br>\n",
        "3 - chamar obj do tunning<br>\n",
        "4 - treinamento<br>\n",
        "5 - avaliar os resultados"
      ]
    },
    {
      "cell_type": "markdown",
      "metadata": {
        "id": "o-TAwshVPUvN"
      },
      "source": [
        "### Chamar o módulo de Tuning"
      ]
    },
    {
      "cell_type": "code",
      "metadata": {
        "id": "FHjuPkujPUvN"
      },
      "source": [
        "from sklearn.model_selection import  GridSearchCV"
      ],
      "execution_count": null,
      "outputs": []
    },
    {
      "cell_type": "markdown",
      "metadata": {
        "id": "wDukdSH4PUvP"
      },
      "source": [
        "### Chamar módulo de acurácia"
      ]
    },
    {
      "cell_type": "code",
      "metadata": {
        "id": "IM5Dn6EoPUvQ"
      },
      "source": [
        "from sklearn.metrics import accuracy_score"
      ],
      "execution_count": null,
      "outputs": []
    },
    {
      "cell_type": "markdown",
      "metadata": {
        "id": "Xu4iK0VoPUvS"
      },
      "source": [
        "### Random Forest"
      ]
    },
    {
      "cell_type": "code",
      "metadata": {
        "id": "9TW9yJP8PUvT"
      },
      "source": [
        "import timeit"
      ],
      "execution_count": null,
      "outputs": []
    },
    {
      "cell_type": "code",
      "metadata": {
        "id": "6TAmHxS_PUvX"
      },
      "source": [
        "#1\n",
        "rf_dict = {                            # nome do dicionário que está sendo criado.\n",
        "    'n_estimators':[40,50,60,70],   # numero de estimadores que será testado. Quanto maior, mais exige poder computacional.\n",
        "    'criterion':['gini', 'entropy'],   #  critérios\n",
        "    'bootstrap':[False, True],  # Faz amostragem com e sem reposição.\n",
        "    'random_state': [42]\n",
        "}\n"
      ],
      "execution_count": null,
      "outputs": []
    },
    {
      "cell_type": "code",
      "metadata": {
        "id": "vr4S0Yi9PUvb"
      },
      "source": [
        "#2\n",
        "from sklearn.ensemble import RandomForestClassifier\n"
      ],
      "execution_count": null,
      "outputs": []
    },
    {
      "cell_type": "code",
      "metadata": {
        "id": "g_O9CZqGPUvd"
      },
      "source": [
        "#3\n",
        "rf = RandomForestClassifier(random_state=42)\n"
      ],
      "execution_count": null,
      "outputs": []
    },
    {
      "cell_type": "code",
      "metadata": {
        "id": "B_IYomPXPUvf"
      },
      "source": [
        "rf_grid = GridSearchCV(estimator=rf,\n",
        "                      param_grid=rf_dict,\n",
        "                      scoring='accuracy',\n",
        "                      cv=10,\n",
        "                      n_jobs=-1)\n"
      ],
      "execution_count": null,
      "outputs": []
    },
    {
      "cell_type": "code",
      "metadata": {
        "id": "wfJvFb0UPUvi"
      },
      "source": [
        "import joblib"
      ],
      "execution_count": null,
      "outputs": []
    },
    {
      "cell_type": "code",
      "metadata": {
        "id": "d-cUs05qPUvk"
      },
      "source": [
        "rf_grid.fit(x_treino, y_treino)#.values.ravel()  colocar este comando depois de y_treino se precisar."
      ],
      "execution_count": null,
      "outputs": []
    },
    {
      "cell_type": "code",
      "metadata": {
        "id": "mEtcVLQ3PUvn"
      },
      "source": [
        "rf_grid.best_params_"
      ],
      "execution_count": null,
      "outputs": []
    },
    {
      "cell_type": "code",
      "metadata": {
        "id": "-h6Vz-78PUvp"
      },
      "source": [
        "rf_grid.best_score_"
      ],
      "execution_count": null,
      "outputs": []
    },
    {
      "cell_type": "code",
      "metadata": {
        "id": "tAZ_E9BoPUvr"
      },
      "source": [
        "accuracy_score(y_teste, rf_grid.predict(x_teste))"
      ],
      "execution_count": null,
      "outputs": []
    },
    {
      "cell_type": "markdown",
      "metadata": {
        "id": "QzSYa05kPUvt"
      },
      "source": [
        "### Gradient Boosting"
      ]
    },
    {
      "cell_type": "code",
      "metadata": {
        "id": "KcOz7bCYPUvt"
      },
      "source": [
        "gb_dict = { \n",
        "    \"max_depth\":[3,5,8],\n",
        "    \"max_features\":[\"log2\",\"sqrt\"],\n",
        "    \"criterion\": [\"friedman_mse\",  \"mae\"],\n",
        "    'random_state': [1967]    \n",
        "    }"
      ],
      "execution_count": null,
      "outputs": []
    },
    {
      "cell_type": "code",
      "metadata": {
        "id": "W2wHMO4lPUvv"
      },
      "source": [
        "from sklearn.ensemble import GradientBoostingClassifier"
      ],
      "execution_count": null,
      "outputs": []
    },
    {
      "cell_type": "code",
      "metadata": {
        "id": "Zvu9N1IjPUvx"
      },
      "source": [
        "gb = GradientBoostingClassifier(random_state=42)"
      ],
      "execution_count": null,
      "outputs": []
    },
    {
      "cell_type": "code",
      "metadata": {
        "id": "x_VvKlN6PUvz"
      },
      "source": [
        "gb_grid = GridSearchCV(estimator=gb,\n",
        "                       param_grid=gb_dict,\n",
        "                       scoring='accuracy',\n",
        "                       cv=10,\n",
        "                       n_jobs=-1 # ACELERA O TEMPO DE PROCESSAMENTO\n",
        "                      )"
      ],
      "execution_count": null,
      "outputs": []
    },
    {
      "cell_type": "code",
      "metadata": {
        "id": "xL2lPyttPUv3"
      },
      "source": [
        "gb_grid.fit(x_treino,y_treino)"
      ],
      "execution_count": null,
      "outputs": []
    },
    {
      "cell_type": "code",
      "metadata": {
        "id": "gK-YDlzJPUv5"
      },
      "source": [
        "gb_grid.best_params_"
      ],
      "execution_count": null,
      "outputs": []
    },
    {
      "cell_type": "code",
      "metadata": {
        "id": "Xsnx5a47PUv6"
      },
      "source": [
        "gb_grid.best_score_"
      ],
      "execution_count": null,
      "outputs": []
    },
    {
      "cell_type": "code",
      "metadata": {
        "id": "Y_lpL4odPUv8"
      },
      "source": [
        "gb_grid.best_estimator_"
      ],
      "execution_count": null,
      "outputs": []
    },
    {
      "cell_type": "markdown",
      "metadata": {
        "id": "v2VgU_hVPUv-"
      },
      "source": [
        "### Salvar melhor modelo"
      ]
    },
    {
      "cell_type": "code",
      "metadata": {
        "id": "SETvqkbqPUv-"
      },
      "source": [
        "import joblib"
      ],
      "execution_count": null,
      "outputs": []
    },
    {
      "cell_type": "code",
      "metadata": {
        "id": "1LctYiHzPUwB"
      },
      "source": [
        "joblib.dump(gb_grid.best_estimator_,\n",
        "            'modelo_exemplo_gb.pkl',\n",
        "            compress=1)"
      ],
      "execution_count": null,
      "outputs": []
    },
    {
      "cell_type": "markdown",
      "metadata": {
        "id": "dC-K2rbzPUwD"
      },
      "source": [
        "### Score do grupo de teste"
      ]
    },
    {
      "cell_type": "code",
      "metadata": {
        "id": "pdRBpSnHPUwD"
      },
      "source": [
        "dados_teste = pd.read_csv('test.csv', sep=',')"
      ],
      "execution_count": null,
      "outputs": []
    },
    {
      "cell_type": "code",
      "metadata": {
        "id": "FnTYswm7PUwJ"
      },
      "source": [
        "dados_teste.head()"
      ],
      "execution_count": null,
      "outputs": []
    },
    {
      "cell_type": "code",
      "metadata": {
        "id": "abpggv-bPUwM"
      },
      "source": [
        "dados_teste = dados_teste.rename(columns={\n",
        "    'id':'id',\n",
        "    'gender':'genero',\n",
        "    'SeniorCitizen':'Idoso',\n",
        "    'Partner':'TemParceiro',\n",
        "    'Dependents':'TemDependentes',\n",
        "    'tenure':'MesesNaCompanhia',\n",
        "    'PhoneService':'TemTelefone',\n",
        "    'MultipleLines':'MaisLinhas',\n",
        "    'InternetService':'TemInternet',\n",
        "    'OnlineSecurity':'ServicoSegurancaOnline',\n",
        "    'OnlineBackup':'ServicoBackupOnline',\n",
        "    'DeviceProtection':'ServicoProtecaoOnline',\n",
        "    'TechSupport':'ServicoSuporteOnline',\n",
        "    'StreamingTV':'ServicoTV',\n",
        "    'StreamingMovies':'ServicoPctFilmes',\n",
        "    'Contract':'Contrato',\n",
        "    'PaperlessBilling':'ContaOnline',\n",
        "    'PaymentMethod':'MetodoPagamento',\n",
        "    'MonthlyCharges':'CobrancaMensal',\n",
        "    'TotalCharges':'CobrancaTotal'\n",
        "})"
      ],
      "execution_count": null,
      "outputs": []
    },
    {
      "cell_type": "code",
      "metadata": {
        "id": "T8QUCTeAPUwN"
      },
      "source": [
        "df_quant_teste = dados_teste[['MesesNaCompanhia','CobrancaMensal','CobrancaTotal']]\n",
        "categóricas_teste = dados_teste.drop(columns=['id','MesesNaCompanhia','CobrancaMensal','CobrancaTotal'],\n",
        "                         axis=1)"
      ],
      "execution_count": null,
      "outputs": []
    },
    {
      "cell_type": "code",
      "metadata": {
        "id": "0KJfMcZiPUwO"
      },
      "source": [
        "df_quant_teste.head()"
      ],
      "execution_count": null,
      "outputs": []
    },
    {
      "cell_type": "code",
      "metadata": {
        "id": "BJtdwjOjPUwQ"
      },
      "source": [
        "categóricas_teste.head()"
      ],
      "execution_count": null,
      "outputs": []
    },
    {
      "cell_type": "code",
      "metadata": {
        "id": "sxgruOHePUwR"
      },
      "source": [
        "df_quant_teste['CobrancaTotal'] = pd.to_numeric(df_quant_teste['CobrancaTotal'], errors='coerce')"
      ],
      "execution_count": null,
      "outputs": []
    },
    {
      "cell_type": "code",
      "metadata": {
        "id": "GY6ePikKPUwT"
      },
      "source": [
        "df_quant_teste.dtypes"
      ],
      "execution_count": null,
      "outputs": []
    },
    {
      "cell_type": "code",
      "metadata": {
        "id": "gWGSEVInPUwU"
      },
      "source": [
        "df_quant_teste.isnull().sum()"
      ],
      "execution_count": null,
      "outputs": []
    },
    {
      "cell_type": "code",
      "metadata": {
        "id": "bUEACWchPUwW"
      },
      "source": [
        "df_quant_teste['CobrancaTotal_2'] = df_quant_teste['CobrancaTotal'].fillna(df_quant_teste['CobrancaTotal'].mode()[0])"
      ],
      "execution_count": null,
      "outputs": []
    },
    {
      "cell_type": "code",
      "metadata": {
        "id": "w2SZeE4SPUwX"
      },
      "source": [
        "df_quant_teste[['CobrancaTotal_2']].isnull().any()"
      ],
      "execution_count": null,
      "outputs": []
    },
    {
      "cell_type": "code",
      "metadata": {
        "id": "mDix7IB-PUwZ"
      },
      "source": [
        "df_quant_teste['MesesNaCompanhia_2']  = df_quant_teste['MesesNaCompanhia'].fillna(df_quant_teste['CobrancaTotal']/\n",
        "                                                                               df_quant_teste['CobrancaMensal'])"
      ],
      "execution_count": null,
      "outputs": []
    },
    {
      "cell_type": "code",
      "metadata": {
        "id": "Aurit6zHPUwb"
      },
      "source": [
        "df_quant_teste['MesesNaCompanhia_2'].isnull().any()"
      ],
      "execution_count": null,
      "outputs": []
    },
    {
      "cell_type": "code",
      "metadata": {
        "id": "_F2KQrU8PUwe"
      },
      "source": [
        "df_quant_teste_2 = df_quant_teste[['CobrancaMensal','CobrancaTotal_2','MesesNaCompanhia_2']]"
      ],
      "execution_count": null,
      "outputs": []
    },
    {
      "cell_type": "code",
      "metadata": {
        "id": "5jmVQ3TUPUwg"
      },
      "source": [
        "df_quant_teste_2.head()"
      ],
      "execution_count": null,
      "outputs": []
    },
    {
      "cell_type": "code",
      "metadata": {
        "id": "ZSqnWSlePUwk"
      },
      "source": [
        "df_quant_teste_2.isnull().sum()"
      ],
      "execution_count": null,
      "outputs": []
    },
    {
      "cell_type": "code",
      "metadata": {
        "id": "dSXCO7exPUwl"
      },
      "source": [
        "discretizer_teste = KBinsDiscretizer(n_bins=5,\n",
        "                              encode='ordinal',\n",
        "                              strategy='quantile')"
      ],
      "execution_count": null,
      "outputs": []
    },
    {
      "cell_type": "code",
      "metadata": {
        "id": "Oc2UrzydPUwm"
      },
      "source": [
        "discretizer_teste.fit(df_quant_teste_2)"
      ],
      "execution_count": null,
      "outputs": []
    },
    {
      "cell_type": "code",
      "metadata": {
        "id": "VqJbElE6PUwo"
      },
      "source": [
        "bining_teste = discretizer_teste.fit_transform(df_quant_teste_2)"
      ],
      "execution_count": null,
      "outputs": []
    },
    {
      "cell_type": "code",
      "metadata": {
        "id": "Y2xtQw49PUwq"
      },
      "source": [
        "df_quant_teste_bining = pd.DataFrame(bining_teste,\n",
        "                                    columns=['CobrancaMensal',\n",
        "                                             'CobrancaTotal_2',\n",
        "                                             'MesesNaCompanhia_2'])"
      ],
      "execution_count": null,
      "outputs": []
    },
    {
      "cell_type": "code",
      "metadata": {
        "id": "vKElD_zPPUwr"
      },
      "source": [
        "df_quant_teste_bining.head()"
      ],
      "execution_count": null,
      "outputs": []
    },
    {
      "cell_type": "code",
      "metadata": {
        "id": "DN5NhIKtPUwt"
      },
      "source": [
        "df_quant_teste_bining.isnull().sum()"
      ],
      "execution_count": null,
      "outputs": []
    },
    {
      "cell_type": "code",
      "metadata": {
        "id": "8GaAZHCyPUwv"
      },
      "source": [
        "categóricas_teste.head()\n"
      ],
      "execution_count": null,
      "outputs": []
    },
    {
      "cell_type": "code",
      "metadata": {
        "id": "m1HcySGvPUww"
      },
      "source": [
        "categóricas_teste.isnull().sum()"
      ],
      "execution_count": null,
      "outputs": []
    },
    {
      "cell_type": "code",
      "metadata": {
        "id": "dTXT0o8aPUwx"
      },
      "source": [
        "categóricas_teste['TemDependentes'] = categóricas_teste['TemDependentes'].fillna(categóricas_teste['TemDependentes']=='Miss')"
      ],
      "execution_count": null,
      "outputs": []
    },
    {
      "cell_type": "code",
      "metadata": {
        "id": "dVp4otPXPUw0"
      },
      "source": [
        "categóricas_teste['MetodoPagamento'] = categóricas_teste['MetodoPagamento'].fillna(categóricas_teste['MetodoPagamento']=='Miss')"
      ],
      "execution_count": null,
      "outputs": []
    },
    {
      "cell_type": "code",
      "metadata": {
        "id": "e6nCAuUkPUw1"
      },
      "source": [
        "categóricas_teste.isnull().sum()"
      ],
      "execution_count": null,
      "outputs": []
    },
    {
      "cell_type": "code",
      "metadata": {
        "id": "DBnWW02_PUw3"
      },
      "source": [
        "categóricas_teste.nunique()"
      ],
      "execution_count": null,
      "outputs": []
    },
    {
      "cell_type": "code",
      "metadata": {
        "id": "5VcB-R-9PUw5"
      },
      "source": [
        "dummies_teste = pd.get_dummies(categóricas_teste,\n",
        "                        prefix_sep='_',\n",
        "                        drop_first=True)"
      ],
      "execution_count": null,
      "outputs": []
    },
    {
      "cell_type": "code",
      "metadata": {
        "id": "361QtlcYPUw6"
      },
      "source": [
        "dummies_teste.head()"
      ],
      "execution_count": null,
      "outputs": []
    },
    {
      "cell_type": "code",
      "metadata": {
        "id": "ALt4X0iCPUw-"
      },
      "source": [
        "dummies_teste.columns"
      ],
      "execution_count": null,
      "outputs": []
    },
    {
      "cell_type": "code",
      "metadata": {
        "id": "HdHgv80bPUw_"
      },
      "source": [
        "explicativas_teste=pd.concat([df_quant_teste_bining,dummies_teste],\n",
        "                      axis=1)"
      ],
      "execution_count": null,
      "outputs": []
    },
    {
      "cell_type": "code",
      "metadata": {
        "id": "ttqZPy8FPUxA"
      },
      "source": [
        "explicativas_teste.head()"
      ],
      "execution_count": null,
      "outputs": []
    },
    {
      "cell_type": "code",
      "metadata": {
        "id": "f3F-YXllPUxC"
      },
      "source": [
        "explicativas_teste.shape"
      ],
      "execution_count": null,
      "outputs": []
    },
    {
      "cell_type": "code",
      "metadata": {
        "id": "2_efE8iDPUxD"
      },
      "source": [
        "explicativas_teste.isnull().sum()"
      ],
      "execution_count": null,
      "outputs": []
    },
    {
      "cell_type": "code",
      "metadata": {
        "id": "pW6X8w2HPUxG"
      },
      "source": [
        "df_id = dados_teste[['id']]"
      ],
      "execution_count": null,
      "outputs": []
    },
    {
      "cell_type": "code",
      "metadata": {
        "id": "ZMDVux7FPUxI"
      },
      "source": [
        "df_id.head()"
      ],
      "execution_count": null,
      "outputs": []
    },
    {
      "cell_type": "code",
      "metadata": {
        "id": "N7kTFvVkPUxL"
      },
      "source": [
        "import joblib"
      ],
      "execution_count": null,
      "outputs": []
    },
    {
      "cell_type": "code",
      "metadata": {
        "id": "_s2ik2M9PUxN"
      },
      "source": [
        "modelo_salvo = joblib.load(open('modelo_exemplo_gb.pkl', 'rb'))"
      ],
      "execution_count": null,
      "outputs": []
    },
    {
      "cell_type": "code",
      "metadata": {
        "id": "YEwRMrFfPUxO"
      },
      "source": [
        "modelo_salvo"
      ],
      "execution_count": null,
      "outputs": []
    },
    {
      "cell_type": "code",
      "metadata": {
        "id": "fb1UtPlMPUxQ"
      },
      "source": [
        "resposta = modelo_salvo.predict(explicativas_teste)"
      ],
      "execution_count": null,
      "outputs": []
    },
    {
      "cell_type": "code",
      "metadata": {
        "id": "PvGXHDLSPUxS"
      },
      "source": [
        "resposta_df = pd.DataFrame(resposta, columns=['Churn'])"
      ],
      "execution_count": null,
      "outputs": []
    },
    {
      "cell_type": "code",
      "metadata": {
        "id": "tYGdrVZXPUxT"
      },
      "source": [
        "resposta_df.head()"
      ],
      "execution_count": null,
      "outputs": []
    },
    {
      "cell_type": "code",
      "metadata": {
        "id": "ePMExC3tPUxU"
      },
      "source": [
        "resultado_submissao = pd.concat([df_id,\n",
        "                                resposta_df], axis=1)"
      ],
      "execution_count": null,
      "outputs": []
    },
    {
      "cell_type": "code",
      "metadata": {
        "id": "9AGr1bb1PUxX"
      },
      "source": [
        "resultado_submissao.head().T"
      ],
      "execution_count": null,
      "outputs": []
    },
    {
      "cell_type": "code",
      "metadata": {
        "id": "Z9T0hs8wPUxY"
      },
      "source": [
        "resultado_submissao.to_csv('submissao_kaggle_2.csv', index=False)"
      ],
      "execution_count": null,
      "outputs": []
    },
    {
      "cell_type": "code",
      "metadata": {
        "id": "6mxiYpIDPUxa"
      },
      "source": [
        "csv = pd.read_csv('submissao_kaggle_2.csv',sep=',')"
      ],
      "execution_count": null,
      "outputs": []
    },
    {
      "cell_type": "code",
      "metadata": {
        "id": "p_gWNGA8PUxd"
      },
      "source": [
        "csv.head()"
      ],
      "execution_count": null,
      "outputs": []
    },
    {
      "cell_type": "code",
      "metadata": {
        "id": "Jopbj8i4PUxf"
      },
      "source": [
        ""
      ],
      "execution_count": null,
      "outputs": []
    },
    {
      "cell_type": "code",
      "metadata": {
        "id": "tJswSF5CPUxh"
      },
      "source": [
        ""
      ],
      "execution_count": null,
      "outputs": []
    },
    {
      "cell_type": "code",
      "metadata": {
        "id": "11IfeH-bPUxi"
      },
      "source": [
        ""
      ],
      "execution_count": null,
      "outputs": []
    }
  ]
}