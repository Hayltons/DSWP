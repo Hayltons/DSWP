{
  "nbformat": 4,
  "nbformat_minor": 0,
  "metadata": {
    "kernelspec": {
      "display_name": "Python 3",
      "language": "python",
      "name": "python3"
    },
    "language_info": {
      "codemirror_mode": {
        "name": "ipython",
        "version": 3
      },
      "file_extension": ".py",
      "mimetype": "text/x-python",
      "name": "python",
      "nbconvert_exporter": "python",
      "pygments_lexer": "ipython3",
      "version": "3.7.6"
    },
    "toc": {
      "base_numbering": 1,
      "nav_menu": {},
      "number_sections": true,
      "sideBar": true,
      "skip_h1_title": true,
      "title_cell": "Table of Contents",
      "title_sidebar": "Contents",
      "toc_cell": false,
      "toc_position": {
        "height": "calc(100% - 180px)",
        "left": "10px",
        "top": "150px",
        "width": "341.306px"
      },
      "toc_section_display": true,
      "toc_window_display": true
    },
    "varInspector": {
      "cols": {
        "lenName": 16,
        "lenType": 16,
        "lenVar": 40
      },
      "kernels_config": {
        "python": {
          "delete_cmd_postfix": "",
          "delete_cmd_prefix": "del ",
          "library": "var_list.py",
          "varRefreshCmd": "print(var_dic_list())"
        },
        "r": {
          "delete_cmd_postfix": ") ",
          "delete_cmd_prefix": "rm(",
          "library": "var_list.r",
          "varRefreshCmd": "cat(var_dic_list()) "
        }
      },
      "types_to_exclude": [
        "module",
        "function",
        "builtin_function_or_method",
        "instance",
        "_Feature"
      ],
      "window_display": false
    },
    "colab": {
      "name": "Churn_Kaggle_hs.ipynb",
      "provenance": []
    }
  },
  "cells": [
    {
      "cell_type": "markdown",
      "metadata": {
        "id": "liluVuCHPY4W"
      },
      "source": [
        "## NOTEBOOK DE EXEMPLO - COPIADO DO MARIO - usado como base para aprendizado no Kaggle - Desafio Churn\n",
        "\n",
        "* Versão 1"
      ]
    },
    {
      "cell_type": "markdown",
      "metadata": {
        "id": "l8di6VsoPUq_"
      },
      "source": [
        "## Problema:\n",
        "O objetivo desta análise consiste em prever a probabilidade de churn dos clientes de uma empresa de telecomunicações, isto é, a probabilidade de o cliente deixar de ser cliente."
      ]
    },
    {
      "cell_type": "markdown",
      "metadata": {
        "id": "AgcOVcw8PUrB"
      },
      "source": [
        "## Controle de versões\n",
        "1. Versão 1 : Seleção de variáveis - uso de variaveis selecionadas no modelo <br>\n",
        "Score: ? <br>\n",
        "2. Versão: Uso de todas as variáveis no modelo<br>\n",
        "Score: ?"
      ]
    },
    {
      "cell_type": "markdown",
      "metadata": {
        "id": "HVe_ysSYPUrD"
      },
      "source": [
        "## Configuração do ambiente"
      ]
    },
    {
      "cell_type": "code",
      "metadata": {
        "id": "qfHPwU4fPUrF",
        "outputId": "bd526cc2-21a7-42bd-a449-9ab449866b48",
        "colab": {
          "base_uri": "https://localhost:8080/"
        }
      },
      "source": [
        "from platform import python_version\n",
        "print(python_version())"
      ],
      "execution_count": 1,
      "outputs": [
        {
          "output_type": "stream",
          "text": [
            "3.6.9\n"
          ],
          "name": "stdout"
        }
      ]
    },
    {
      "cell_type": "markdown",
      "metadata": {
        "id": "4By57kWoPUrM"
      },
      "source": [
        "## Obtenção dos dados"
      ]
    },
    {
      "cell_type": "markdown",
      "metadata": {
        "id": "CWtj2C0nPUrN"
      },
      "source": [
        "### Importação das bibliotecas"
      ]
    },
    {
      "cell_type": "code",
      "metadata": {
        "id": "CzCX0a1bPUrO"
      },
      "source": [
        "import pandas as pd\n",
        "import numpy as np\n",
        "import matplotlib.pyplot as plt\n",
        "import seaborn as sns\n",
        "import warnings\n",
        "warnings.filterwarnings(\"ignore\", category=FutureWarning)\n",
        "pd.options.display.float_format = '{:,.2f}'.format\n",
        "pd.set_option('display.max_columns', None)\n",
        "pd.set_option('display.max_rows', 72)"
      ],
      "execution_count": 2,
      "outputs": []
    },
    {
      "cell_type": "markdown",
      "metadata": {
        "id": "rU0xVegqPUrT"
      },
      "source": [
        "### Carregamento dos dados"
      ]
    },
    {
      "cell_type": "code",
      "metadata": {
        "id": "KG0Ev5enYNy9"
      },
      "source": [
        "url = 'https://raw.githubusercontent.com/Hayltons/DSWP/Kaggle_Churn/Dataframes/1_churn_train.csv'"
      ],
      "execution_count": 9,
      "outputs": []
    },
    {
      "cell_type": "code",
      "metadata": {
        "id": "12zFGJRrPUrU"
      },
      "source": [
        "df_treino = pd.read_csv(url,sep=',')"
      ],
      "execution_count": 10,
      "outputs": []
    },
    {
      "cell_type": "markdown",
      "metadata": {
        "id": "jh0xw3vOPUre"
      },
      "source": [
        "### Visualização das linhas iniciais de dados"
      ]
    },
    {
      "cell_type": "code",
      "metadata": {
        "id": "MRNsTV3hPUrf",
        "outputId": "5056824d-0e6e-4307-9916-f6bd338f1515",
        "colab": {
          "base_uri": "https://localhost:8080/",
          "height": 309
        }
      },
      "source": [
        "df_treino.head()"
      ],
      "execution_count": 11,
      "outputs": [
        {
          "output_type": "execute_result",
          "data": {
            "text/html": [
              "<div>\n",
              "<style scoped>\n",
              "    .dataframe tbody tr th:only-of-type {\n",
              "        vertical-align: middle;\n",
              "    }\n",
              "\n",
              "    .dataframe tbody tr th {\n",
              "        vertical-align: top;\n",
              "    }\n",
              "\n",
              "    .dataframe thead th {\n",
              "        text-align: right;\n",
              "    }\n",
              "</style>\n",
              "<table border=\"1\" class=\"dataframe\">\n",
              "  <thead>\n",
              "    <tr style=\"text-align: right;\">\n",
              "      <th></th>\n",
              "      <th>id</th>\n",
              "      <th>gender</th>\n",
              "      <th>SeniorCitizen</th>\n",
              "      <th>Partner</th>\n",
              "      <th>Dependents</th>\n",
              "      <th>tenure</th>\n",
              "      <th>PhoneService</th>\n",
              "      <th>MultipleLines</th>\n",
              "      <th>InternetService</th>\n",
              "      <th>OnlineSecurity</th>\n",
              "      <th>OnlineBackup</th>\n",
              "      <th>DeviceProtection</th>\n",
              "      <th>TechSupport</th>\n",
              "      <th>StreamingTV</th>\n",
              "      <th>StreamingMovies</th>\n",
              "      <th>Contract</th>\n",
              "      <th>PaperlessBilling</th>\n",
              "      <th>PaymentMethod</th>\n",
              "      <th>MonthlyCharges</th>\n",
              "      <th>TotalCharges</th>\n",
              "      <th>Churn</th>\n",
              "    </tr>\n",
              "  </thead>\n",
              "  <tbody>\n",
              "    <tr>\n",
              "      <th>0</th>\n",
              "      <td>4030</td>\n",
              "      <td>Female</td>\n",
              "      <td>0</td>\n",
              "      <td>No</td>\n",
              "      <td>No</td>\n",
              "      <td>56.00</td>\n",
              "      <td>No</td>\n",
              "      <td>No phone service</td>\n",
              "      <td>DSL</td>\n",
              "      <td>Yes</td>\n",
              "      <td>Yes</td>\n",
              "      <td>Yes</td>\n",
              "      <td>Yes</td>\n",
              "      <td>No</td>\n",
              "      <td>No</td>\n",
              "      <td>Two year</td>\n",
              "      <td>No</td>\n",
              "      <td>NaN</td>\n",
              "      <td>45.05</td>\n",
              "      <td>2560.1</td>\n",
              "      <td>0</td>\n",
              "    </tr>\n",
              "    <tr>\n",
              "      <th>1</th>\n",
              "      <td>6731</td>\n",
              "      <td>Male</td>\n",
              "      <td>0</td>\n",
              "      <td>Yes</td>\n",
              "      <td>Yes</td>\n",
              "      <td>nan</td>\n",
              "      <td>Yes</td>\n",
              "      <td>No</td>\n",
              "      <td>No</td>\n",
              "      <td>No internet service</td>\n",
              "      <td>No internet service</td>\n",
              "      <td>No internet service</td>\n",
              "      <td>No internet service</td>\n",
              "      <td>No internet service</td>\n",
              "      <td>No internet service</td>\n",
              "      <td>One year</td>\n",
              "      <td>No</td>\n",
              "      <td>Mailed check</td>\n",
              "      <td>19.65</td>\n",
              "      <td>332.65</td>\n",
              "      <td>0</td>\n",
              "    </tr>\n",
              "    <tr>\n",
              "      <th>2</th>\n",
              "      <td>6479</td>\n",
              "      <td>Female</td>\n",
              "      <td>0</td>\n",
              "      <td>Yes</td>\n",
              "      <td>No</td>\n",
              "      <td>60.00</td>\n",
              "      <td>Yes</td>\n",
              "      <td>Yes</td>\n",
              "      <td>Fiber optic</td>\n",
              "      <td>No</td>\n",
              "      <td>Yes</td>\n",
              "      <td>Yes</td>\n",
              "      <td>Yes</td>\n",
              "      <td>Yes</td>\n",
              "      <td>Yes</td>\n",
              "      <td>Two year</td>\n",
              "      <td>Yes</td>\n",
              "      <td>Credit card (automatic)</td>\n",
              "      <td>110.80</td>\n",
              "      <td>6640.7</td>\n",
              "      <td>0</td>\n",
              "    </tr>\n",
              "    <tr>\n",
              "      <th>3</th>\n",
              "      <td>6861</td>\n",
              "      <td>Female</td>\n",
              "      <td>0</td>\n",
              "      <td>No</td>\n",
              "      <td>No</td>\n",
              "      <td>37.00</td>\n",
              "      <td>Yes</td>\n",
              "      <td>Yes</td>\n",
              "      <td>Fiber optic</td>\n",
              "      <td>No</td>\n",
              "      <td>Yes</td>\n",
              "      <td>Yes</td>\n",
              "      <td>No</td>\n",
              "      <td>Yes</td>\n",
              "      <td>Yes</td>\n",
              "      <td>Month-to-month</td>\n",
              "      <td>Yes</td>\n",
              "      <td>Bank transfer (automatic)</td>\n",
              "      <td>101.90</td>\n",
              "      <td>3545.35</td>\n",
              "      <td>1</td>\n",
              "    </tr>\n",
              "    <tr>\n",
              "      <th>4</th>\n",
              "      <td>3266</td>\n",
              "      <td>Male</td>\n",
              "      <td>0</td>\n",
              "      <td>Yes</td>\n",
              "      <td>Yes</td>\n",
              "      <td>29.00</td>\n",
              "      <td>Yes</td>\n",
              "      <td>No</td>\n",
              "      <td>Fiber optic</td>\n",
              "      <td>No</td>\n",
              "      <td>No</td>\n",
              "      <td>No</td>\n",
              "      <td>No</td>\n",
              "      <td>No</td>\n",
              "      <td>No</td>\n",
              "      <td>Month-to-month</td>\n",
              "      <td>Yes</td>\n",
              "      <td>Electronic check</td>\n",
              "      <td>70.75</td>\n",
              "      <td>1974.8</td>\n",
              "      <td>1</td>\n",
              "    </tr>\n",
              "  </tbody>\n",
              "</table>\n",
              "</div>"
            ],
            "text/plain": [
              "     id  gender  SeniorCitizen Partner Dependents  tenure PhoneService  \\\n",
              "0  4030  Female              0      No         No   56.00           No   \n",
              "1  6731    Male              0     Yes        Yes     nan          Yes   \n",
              "2  6479  Female              0     Yes         No   60.00          Yes   \n",
              "3  6861  Female              0      No         No   37.00          Yes   \n",
              "4  3266    Male              0     Yes        Yes   29.00          Yes   \n",
              "\n",
              "      MultipleLines InternetService       OnlineSecurity         OnlineBackup  \\\n",
              "0  No phone service             DSL                  Yes                  Yes   \n",
              "1                No              No  No internet service  No internet service   \n",
              "2               Yes     Fiber optic                   No                  Yes   \n",
              "3               Yes     Fiber optic                   No                  Yes   \n",
              "4                No     Fiber optic                   No                   No   \n",
              "\n",
              "      DeviceProtection          TechSupport          StreamingTV  \\\n",
              "0                  Yes                  Yes                   No   \n",
              "1  No internet service  No internet service  No internet service   \n",
              "2                  Yes                  Yes                  Yes   \n",
              "3                  Yes                   No                  Yes   \n",
              "4                   No                   No                   No   \n",
              "\n",
              "       StreamingMovies        Contract PaperlessBilling  \\\n",
              "0                   No        Two year               No   \n",
              "1  No internet service        One year               No   \n",
              "2                  Yes        Two year              Yes   \n",
              "3                  Yes  Month-to-month              Yes   \n",
              "4                   No  Month-to-month              Yes   \n",
              "\n",
              "               PaymentMethod  MonthlyCharges TotalCharges  Churn  \n",
              "0                        NaN           45.05       2560.1      0  \n",
              "1               Mailed check           19.65       332.65      0  \n",
              "2    Credit card (automatic)          110.80       6640.7      0  \n",
              "3  Bank transfer (automatic)          101.90      3545.35      1  \n",
              "4           Electronic check           70.75       1974.8      1  "
            ]
          },
          "metadata": {
            "tags": []
          },
          "execution_count": 11
        }
      ]
    },
    {
      "cell_type": "markdown",
      "metadata": {
        "id": "AkziuiCCPUrl"
      },
      "source": [
        "## Manipulação inicial do banco de dados"
      ]
    },
    {
      "cell_type": "markdown",
      "metadata": {
        "id": "OmUYp6WNPUrm"
      },
      "source": [
        "### Renomeando o banco de dados"
      ]
    },
    {
      "cell_type": "code",
      "metadata": {
        "id": "X5S3fRWuPUrn"
      },
      "source": [
        "df_treino.columns = df_treino.columns.str.lower()"
      ],
      "execution_count": 12,
      "outputs": []
    },
    {
      "cell_type": "code",
      "metadata": {
        "id": "HsyQvvYPaPqF",
        "outputId": "23574d92-3007-47a3-8211-dc9b3c7a2b0d",
        "colab": {
          "base_uri": "https://localhost:8080/"
        }
      },
      "source": [
        "df_treino.columns"
      ],
      "execution_count": 13,
      "outputs": [
        {
          "output_type": "execute_result",
          "data": {
            "text/plain": [
              "Index(['id', 'gender', 'seniorcitizen', 'partner', 'dependents', 'tenure',\n",
              "       'phoneservice', 'multiplelines', 'internetservice', 'onlinesecurity',\n",
              "       'onlinebackup', 'deviceprotection', 'techsupport', 'streamingtv',\n",
              "       'streamingmovies', 'contract', 'paperlessbilling', 'paymentmethod',\n",
              "       'monthlycharges', 'totalcharges', 'churn'],\n",
              "      dtype='object')"
            ]
          },
          "metadata": {
            "tags": []
          },
          "execution_count": 13
        }
      ]
    },
    {
      "cell_type": "markdown",
      "metadata": {
        "id": "Q7th6qQDPUrr"
      },
      "source": [
        "### Visualizando o banco de dados"
      ]
    },
    {
      "cell_type": "code",
      "metadata": {
        "id": "e2R55DalPUrs",
        "outputId": "dbab5f35-540c-4ff4-c2e6-faf15afea430",
        "colab": {
          "base_uri": "https://localhost:8080/",
          "height": 700
        }
      },
      "source": [
        "df_treino.head(10).T  #.T faz a transposta da exibiçao do comando head"
      ],
      "execution_count": 14,
      "outputs": [
        {
          "output_type": "execute_result",
          "data": {
            "text/html": [
              "<div>\n",
              "<style scoped>\n",
              "    .dataframe tbody tr th:only-of-type {\n",
              "        vertical-align: middle;\n",
              "    }\n",
              "\n",
              "    .dataframe tbody tr th {\n",
              "        vertical-align: top;\n",
              "    }\n",
              "\n",
              "    .dataframe thead th {\n",
              "        text-align: right;\n",
              "    }\n",
              "</style>\n",
              "<table border=\"1\" class=\"dataframe\">\n",
              "  <thead>\n",
              "    <tr style=\"text-align: right;\">\n",
              "      <th></th>\n",
              "      <th>0</th>\n",
              "      <th>1</th>\n",
              "      <th>2</th>\n",
              "      <th>3</th>\n",
              "      <th>4</th>\n",
              "      <th>5</th>\n",
              "      <th>6</th>\n",
              "      <th>7</th>\n",
              "      <th>8</th>\n",
              "      <th>9</th>\n",
              "    </tr>\n",
              "  </thead>\n",
              "  <tbody>\n",
              "    <tr>\n",
              "      <th>id</th>\n",
              "      <td>4030</td>\n",
              "      <td>6731</td>\n",
              "      <td>6479</td>\n",
              "      <td>6861</td>\n",
              "      <td>3266</td>\n",
              "      <td>6368</td>\n",
              "      <td>5830</td>\n",
              "      <td>4476</td>\n",
              "      <td>1508</td>\n",
              "      <td>2921</td>\n",
              "    </tr>\n",
              "    <tr>\n",
              "      <th>gender</th>\n",
              "      <td>Female</td>\n",
              "      <td>Male</td>\n",
              "      <td>Female</td>\n",
              "      <td>Female</td>\n",
              "      <td>Male</td>\n",
              "      <td>Male</td>\n",
              "      <td>Male</td>\n",
              "      <td>Female</td>\n",
              "      <td>Male</td>\n",
              "      <td>Female</td>\n",
              "    </tr>\n",
              "    <tr>\n",
              "      <th>seniorcitizen</th>\n",
              "      <td>0</td>\n",
              "      <td>0</td>\n",
              "      <td>0</td>\n",
              "      <td>0</td>\n",
              "      <td>0</td>\n",
              "      <td>0</td>\n",
              "      <td>0</td>\n",
              "      <td>0</td>\n",
              "      <td>0</td>\n",
              "      <td>0</td>\n",
              "    </tr>\n",
              "    <tr>\n",
              "      <th>partner</th>\n",
              "      <td>No</td>\n",
              "      <td>Yes</td>\n",
              "      <td>Yes</td>\n",
              "      <td>No</td>\n",
              "      <td>Yes</td>\n",
              "      <td>No</td>\n",
              "      <td>Yes</td>\n",
              "      <td>No</td>\n",
              "      <td>No</td>\n",
              "      <td>Yes</td>\n",
              "    </tr>\n",
              "    <tr>\n",
              "      <th>dependents</th>\n",
              "      <td>No</td>\n",
              "      <td>Yes</td>\n",
              "      <td>No</td>\n",
              "      <td>No</td>\n",
              "      <td>Yes</td>\n",
              "      <td>No</td>\n",
              "      <td>Yes</td>\n",
              "      <td>No</td>\n",
              "      <td>No</td>\n",
              "      <td>No</td>\n",
              "    </tr>\n",
              "    <tr>\n",
              "      <th>tenure</th>\n",
              "      <td>56.00</td>\n",
              "      <td>NaN</td>\n",
              "      <td>60.00</td>\n",
              "      <td>37.00</td>\n",
              "      <td>29.00</td>\n",
              "      <td>70.00</td>\n",
              "      <td>31.00</td>\n",
              "      <td>3.00</td>\n",
              "      <td>54.00</td>\n",
              "      <td>72.00</td>\n",
              "    </tr>\n",
              "    <tr>\n",
              "      <th>phoneservice</th>\n",
              "      <td>No</td>\n",
              "      <td>Yes</td>\n",
              "      <td>Yes</td>\n",
              "      <td>Yes</td>\n",
              "      <td>Yes</td>\n",
              "      <td>No</td>\n",
              "      <td>No</td>\n",
              "      <td>Yes</td>\n",
              "      <td>Yes</td>\n",
              "      <td>Yes</td>\n",
              "    </tr>\n",
              "    <tr>\n",
              "      <th>multiplelines</th>\n",
              "      <td>No phone service</td>\n",
              "      <td>No</td>\n",
              "      <td>Yes</td>\n",
              "      <td>Yes</td>\n",
              "      <td>No</td>\n",
              "      <td>No phone service</td>\n",
              "      <td>No phone service</td>\n",
              "      <td>No</td>\n",
              "      <td>No</td>\n",
              "      <td>No</td>\n",
              "    </tr>\n",
              "    <tr>\n",
              "      <th>internetservice</th>\n",
              "      <td>DSL</td>\n",
              "      <td>No</td>\n",
              "      <td>Fiber optic</td>\n",
              "      <td>Fiber optic</td>\n",
              "      <td>Fiber optic</td>\n",
              "      <td>DSL</td>\n",
              "      <td>DSL</td>\n",
              "      <td>No</td>\n",
              "      <td>No</td>\n",
              "      <td>DSL</td>\n",
              "    </tr>\n",
              "    <tr>\n",
              "      <th>onlinesecurity</th>\n",
              "      <td>Yes</td>\n",
              "      <td>No internet service</td>\n",
              "      <td>No</td>\n",
              "      <td>No</td>\n",
              "      <td>No</td>\n",
              "      <td>Yes</td>\n",
              "      <td>Yes</td>\n",
              "      <td>No internet service</td>\n",
              "      <td>No internet service</td>\n",
              "      <td>Yes</td>\n",
              "    </tr>\n",
              "    <tr>\n",
              "      <th>onlinebackup</th>\n",
              "      <td>Yes</td>\n",
              "      <td>No internet service</td>\n",
              "      <td>Yes</td>\n",
              "      <td>Yes</td>\n",
              "      <td>No</td>\n",
              "      <td>No</td>\n",
              "      <td>No</td>\n",
              "      <td>No internet service</td>\n",
              "      <td>No internet service</td>\n",
              "      <td>Yes</td>\n",
              "    </tr>\n",
              "    <tr>\n",
              "      <th>deviceprotection</th>\n",
              "      <td>Yes</td>\n",
              "      <td>No internet service</td>\n",
              "      <td>Yes</td>\n",
              "      <td>Yes</td>\n",
              "      <td>No</td>\n",
              "      <td>Yes</td>\n",
              "      <td>Yes</td>\n",
              "      <td>No internet service</td>\n",
              "      <td>No internet service</td>\n",
              "      <td>Yes</td>\n",
              "    </tr>\n",
              "    <tr>\n",
              "      <th>techsupport</th>\n",
              "      <td>Yes</td>\n",
              "      <td>No internet service</td>\n",
              "      <td>Yes</td>\n",
              "      <td>No</td>\n",
              "      <td>No</td>\n",
              "      <td>Yes</td>\n",
              "      <td>Yes</td>\n",
              "      <td>No internet service</td>\n",
              "      <td>No internet service</td>\n",
              "      <td>Yes</td>\n",
              "    </tr>\n",
              "    <tr>\n",
              "      <th>streamingtv</th>\n",
              "      <td>No</td>\n",
              "      <td>No internet service</td>\n",
              "      <td>Yes</td>\n",
              "      <td>Yes</td>\n",
              "      <td>No</td>\n",
              "      <td>No</td>\n",
              "      <td>Yes</td>\n",
              "      <td>No internet service</td>\n",
              "      <td>No internet service</td>\n",
              "      <td>Yes</td>\n",
              "    </tr>\n",
              "    <tr>\n",
              "      <th>streamingmovies</th>\n",
              "      <td>No</td>\n",
              "      <td>No internet service</td>\n",
              "      <td>Yes</td>\n",
              "      <td>Yes</td>\n",
              "      <td>No</td>\n",
              "      <td>Yes</td>\n",
              "      <td>Yes</td>\n",
              "      <td>No internet service</td>\n",
              "      <td>No internet service</td>\n",
              "      <td>Yes</td>\n",
              "    </tr>\n",
              "    <tr>\n",
              "      <th>contract</th>\n",
              "      <td>Two year</td>\n",
              "      <td>One year</td>\n",
              "      <td>Two year</td>\n",
              "      <td>Month-to-month</td>\n",
              "      <td>Month-to-month</td>\n",
              "      <td>Two year</td>\n",
              "      <td>One year</td>\n",
              "      <td>Month-to-month</td>\n",
              "      <td>Two year</td>\n",
              "      <td>Two year</td>\n",
              "    </tr>\n",
              "    <tr>\n",
              "      <th>paperlessbilling</th>\n",
              "      <td>No</td>\n",
              "      <td>No</td>\n",
              "      <td>Yes</td>\n",
              "      <td>Yes</td>\n",
              "      <td>Yes</td>\n",
              "      <td>No</td>\n",
              "      <td>No</td>\n",
              "      <td>No</td>\n",
              "      <td>No</td>\n",
              "      <td>No</td>\n",
              "    </tr>\n",
              "    <tr>\n",
              "      <th>paymentmethod</th>\n",
              "      <td>NaN</td>\n",
              "      <td>Mailed check</td>\n",
              "      <td>Credit card (automatic)</td>\n",
              "      <td>Bank transfer (automatic)</td>\n",
              "      <td>Electronic check</td>\n",
              "      <td>Bank transfer (automatic)</td>\n",
              "      <td>Electronic check</td>\n",
              "      <td>Electronic check</td>\n",
              "      <td>Credit card (automatic)</td>\n",
              "      <td>Mailed check</td>\n",
              "    </tr>\n",
              "    <tr>\n",
              "      <th>monthlycharges</th>\n",
              "      <td>45.05</td>\n",
              "      <td>19.65</td>\n",
              "      <td>110.80</td>\n",
              "      <td>101.90</td>\n",
              "      <td>70.75</td>\n",
              "      <td>48.40</td>\n",
              "      <td>59.95</td>\n",
              "      <td>19.55</td>\n",
              "      <td>19.65</td>\n",
              "      <td>85.10</td>\n",
              "    </tr>\n",
              "    <tr>\n",
              "      <th>totalcharges</th>\n",
              "      <td>2560.1</td>\n",
              "      <td>332.65</td>\n",
              "      <td>6640.7</td>\n",
              "      <td>3545.35</td>\n",
              "      <td>1974.8</td>\n",
              "      <td>3442.8</td>\n",
              "      <td>1848.8</td>\n",
              "      <td>61.05</td>\n",
              "      <td>1008.7</td>\n",
              "      <td>6155.4</td>\n",
              "    </tr>\n",
              "    <tr>\n",
              "      <th>churn</th>\n",
              "      <td>0</td>\n",
              "      <td>0</td>\n",
              "      <td>0</td>\n",
              "      <td>1</td>\n",
              "      <td>1</td>\n",
              "      <td>0</td>\n",
              "      <td>0</td>\n",
              "      <td>0</td>\n",
              "      <td>0</td>\n",
              "      <td>0</td>\n",
              "    </tr>\n",
              "  </tbody>\n",
              "</table>\n",
              "</div>"
            ],
            "text/plain": [
              "                                 0                    1  \\\n",
              "id                            4030                 6731   \n",
              "gender                      Female                 Male   \n",
              "seniorcitizen                    0                    0   \n",
              "partner                         No                  Yes   \n",
              "dependents                      No                  Yes   \n",
              "tenure                       56.00                  NaN   \n",
              "phoneservice                    No                  Yes   \n",
              "multiplelines     No phone service                   No   \n",
              "internetservice                DSL                   No   \n",
              "onlinesecurity                 Yes  No internet service   \n",
              "onlinebackup                   Yes  No internet service   \n",
              "deviceprotection               Yes  No internet service   \n",
              "techsupport                    Yes  No internet service   \n",
              "streamingtv                     No  No internet service   \n",
              "streamingmovies                 No  No internet service   \n",
              "contract                  Two year             One year   \n",
              "paperlessbilling                No                   No   \n",
              "paymentmethod                  NaN         Mailed check   \n",
              "monthlycharges               45.05                19.65   \n",
              "totalcharges                2560.1               332.65   \n",
              "churn                            0                    0   \n",
              "\n",
              "                                        2                          3  \\\n",
              "id                                   6479                       6861   \n",
              "gender                             Female                     Female   \n",
              "seniorcitizen                           0                          0   \n",
              "partner                               Yes                         No   \n",
              "dependents                             No                         No   \n",
              "tenure                              60.00                      37.00   \n",
              "phoneservice                          Yes                        Yes   \n",
              "multiplelines                         Yes                        Yes   \n",
              "internetservice               Fiber optic                Fiber optic   \n",
              "onlinesecurity                         No                         No   \n",
              "onlinebackup                          Yes                        Yes   \n",
              "deviceprotection                      Yes                        Yes   \n",
              "techsupport                           Yes                         No   \n",
              "streamingtv                           Yes                        Yes   \n",
              "streamingmovies                       Yes                        Yes   \n",
              "contract                         Two year             Month-to-month   \n",
              "paperlessbilling                      Yes                        Yes   \n",
              "paymentmethod     Credit card (automatic)  Bank transfer (automatic)   \n",
              "monthlycharges                     110.80                     101.90   \n",
              "totalcharges                       6640.7                    3545.35   \n",
              "churn                                   0                          1   \n",
              "\n",
              "                                 4                          5  \\\n",
              "id                            3266                       6368   \n",
              "gender                        Male                       Male   \n",
              "seniorcitizen                    0                          0   \n",
              "partner                        Yes                         No   \n",
              "dependents                     Yes                         No   \n",
              "tenure                       29.00                      70.00   \n",
              "phoneservice                   Yes                         No   \n",
              "multiplelines                   No           No phone service   \n",
              "internetservice        Fiber optic                        DSL   \n",
              "onlinesecurity                  No                        Yes   \n",
              "onlinebackup                    No                         No   \n",
              "deviceprotection                No                        Yes   \n",
              "techsupport                     No                        Yes   \n",
              "streamingtv                     No                         No   \n",
              "streamingmovies                 No                        Yes   \n",
              "contract            Month-to-month                   Two year   \n",
              "paperlessbilling               Yes                         No   \n",
              "paymentmethod     Electronic check  Bank transfer (automatic)   \n",
              "monthlycharges               70.75                      48.40   \n",
              "totalcharges                1974.8                     3442.8   \n",
              "churn                            1                          0   \n",
              "\n",
              "                                 6                    7  \\\n",
              "id                            5830                 4476   \n",
              "gender                        Male               Female   \n",
              "seniorcitizen                    0                    0   \n",
              "partner                        Yes                   No   \n",
              "dependents                     Yes                   No   \n",
              "tenure                       31.00                 3.00   \n",
              "phoneservice                    No                  Yes   \n",
              "multiplelines     No phone service                   No   \n",
              "internetservice                DSL                   No   \n",
              "onlinesecurity                 Yes  No internet service   \n",
              "onlinebackup                    No  No internet service   \n",
              "deviceprotection               Yes  No internet service   \n",
              "techsupport                    Yes  No internet service   \n",
              "streamingtv                    Yes  No internet service   \n",
              "streamingmovies                Yes  No internet service   \n",
              "contract                  One year       Month-to-month   \n",
              "paperlessbilling                No                   No   \n",
              "paymentmethod     Electronic check     Electronic check   \n",
              "monthlycharges               59.95                19.55   \n",
              "totalcharges                1848.8                61.05   \n",
              "churn                            0                    0   \n",
              "\n",
              "                                        8             9  \n",
              "id                                   1508          2921  \n",
              "gender                               Male        Female  \n",
              "seniorcitizen                           0             0  \n",
              "partner                                No           Yes  \n",
              "dependents                             No            No  \n",
              "tenure                              54.00         72.00  \n",
              "phoneservice                          Yes           Yes  \n",
              "multiplelines                          No            No  \n",
              "internetservice                        No           DSL  \n",
              "onlinesecurity        No internet service           Yes  \n",
              "onlinebackup          No internet service           Yes  \n",
              "deviceprotection      No internet service           Yes  \n",
              "techsupport           No internet service           Yes  \n",
              "streamingtv           No internet service           Yes  \n",
              "streamingmovies       No internet service           Yes  \n",
              "contract                         Two year      Two year  \n",
              "paperlessbilling                       No            No  \n",
              "paymentmethod     Credit card (automatic)  Mailed check  \n",
              "monthlycharges                      19.65         85.10  \n",
              "totalcharges                       1008.7        6155.4  \n",
              "churn                                   0             0  "
            ]
          },
          "metadata": {
            "tags": []
          },
          "execution_count": 14
        }
      ]
    },
    {
      "cell_type": "markdown",
      "metadata": {
        "id": "NhY-xHGnPUrx"
      },
      "source": [
        "### Verificando os tipos de dados"
      ]
    },
    {
      "cell_type": "code",
      "metadata": {
        "id": "vOZt-E-XPUry",
        "outputId": "85f6c4a8-f25e-457b-bef8-6b5708a50b7d",
        "colab": {
          "base_uri": "https://localhost:8080/"
        }
      },
      "source": [
        "df_treino.info()"
      ],
      "execution_count": 15,
      "outputs": [
        {
          "output_type": "stream",
          "text": [
            "<class 'pandas.core.frame.DataFrame'>\n",
            "RangeIndex: 5634 entries, 0 to 5633\n",
            "Data columns (total 21 columns):\n",
            " #   Column            Non-Null Count  Dtype  \n",
            "---  ------            --------------  -----  \n",
            " 0   id                5634 non-null   int64  \n",
            " 1   gender            5634 non-null   object \n",
            " 2   seniorcitizen     5634 non-null   int64  \n",
            " 3   partner           5634 non-null   object \n",
            " 4   dependents        5416 non-null   object \n",
            " 5   tenure            5173 non-null   float64\n",
            " 6   phoneservice      5634 non-null   object \n",
            " 7   multiplelines     5634 non-null   object \n",
            " 8   internetservice   5634 non-null   object \n",
            " 9   onlinesecurity    5634 non-null   object \n",
            " 10  onlinebackup      5634 non-null   object \n",
            " 11  deviceprotection  5634 non-null   object \n",
            " 12  techsupport       5634 non-null   object \n",
            " 13  streamingtv       5634 non-null   object \n",
            " 14  streamingmovies   5634 non-null   object \n",
            " 15  contract          5634 non-null   object \n",
            " 16  paperlessbilling  5634 non-null   object \n",
            " 17  paymentmethod     5535 non-null   object \n",
            " 18  monthlycharges    5634 non-null   float64\n",
            " 19  totalcharges      5634 non-null   object \n",
            " 20  churn             5634 non-null   int64  \n",
            "dtypes: float64(2), int64(3), object(16)\n",
            "memory usage: 924.5+ KB\n"
          ],
          "name": "stdout"
        }
      ]
    },
    {
      "cell_type": "markdown",
      "metadata": {
        "id": "TGTn0zeFPUr2"
      },
      "source": [
        "## EDA - Análise Exploratória de Dados"
      ]
    },
    {
      "cell_type": "markdown",
      "metadata": {
        "id": "6mWI4La7PUr3"
      },
      "source": [
        "### Separando as variáveis por tipo"
      ]
    },
    {
      "cell_type": "code",
      "metadata": {
        "id": "WEBvkLLKPUr5"
      },
      "source": [
        "df_quant = df_treino[['tenure','monthlycharges','totalcharges']]\n",
        "df_categ = df_treino.drop(columns=['id','tenure','monthlycharges','totalcharges','churn'], axis=1)\n",
        "df_target = df_treino['churn']"
      ],
      "execution_count": 20,
      "outputs": []
    },
    {
      "cell_type": "code",
      "metadata": {
        "id": "ZH64Xg8pPUr_",
        "outputId": "56806f3d-4161-4cbd-b484-1d2ae09782eb",
        "colab": {
          "base_uri": "https://localhost:8080/",
          "height": 204
        }
      },
      "source": [
        "df_quant.head()"
      ],
      "execution_count": 21,
      "outputs": [
        {
          "output_type": "execute_result",
          "data": {
            "text/html": [
              "<div>\n",
              "<style scoped>\n",
              "    .dataframe tbody tr th:only-of-type {\n",
              "        vertical-align: middle;\n",
              "    }\n",
              "\n",
              "    .dataframe tbody tr th {\n",
              "        vertical-align: top;\n",
              "    }\n",
              "\n",
              "    .dataframe thead th {\n",
              "        text-align: right;\n",
              "    }\n",
              "</style>\n",
              "<table border=\"1\" class=\"dataframe\">\n",
              "  <thead>\n",
              "    <tr style=\"text-align: right;\">\n",
              "      <th></th>\n",
              "      <th>tenure</th>\n",
              "      <th>monthlycharges</th>\n",
              "      <th>totalcharges</th>\n",
              "    </tr>\n",
              "  </thead>\n",
              "  <tbody>\n",
              "    <tr>\n",
              "      <th>0</th>\n",
              "      <td>56.00</td>\n",
              "      <td>45.05</td>\n",
              "      <td>2560.1</td>\n",
              "    </tr>\n",
              "    <tr>\n",
              "      <th>1</th>\n",
              "      <td>nan</td>\n",
              "      <td>19.65</td>\n",
              "      <td>332.65</td>\n",
              "    </tr>\n",
              "    <tr>\n",
              "      <th>2</th>\n",
              "      <td>60.00</td>\n",
              "      <td>110.80</td>\n",
              "      <td>6640.7</td>\n",
              "    </tr>\n",
              "    <tr>\n",
              "      <th>3</th>\n",
              "      <td>37.00</td>\n",
              "      <td>101.90</td>\n",
              "      <td>3545.35</td>\n",
              "    </tr>\n",
              "    <tr>\n",
              "      <th>4</th>\n",
              "      <td>29.00</td>\n",
              "      <td>70.75</td>\n",
              "      <td>1974.8</td>\n",
              "    </tr>\n",
              "  </tbody>\n",
              "</table>\n",
              "</div>"
            ],
            "text/plain": [
              "   tenure  monthlycharges totalcharges\n",
              "0   56.00           45.05       2560.1\n",
              "1     nan           19.65       332.65\n",
              "2   60.00          110.80       6640.7\n",
              "3   37.00          101.90      3545.35\n",
              "4   29.00           70.75       1974.8"
            ]
          },
          "metadata": {
            "tags": []
          },
          "execution_count": 21
        }
      ]
    },
    {
      "cell_type": "code",
      "metadata": {
        "id": "V2CnnivOPUsF",
        "outputId": "46bc5aea-b4e6-4ab8-ee57-72aaea07bd67",
        "colab": {
          "base_uri": "https://localhost:8080/",
          "height": 309
        }
      },
      "source": [
        "df_categ.head()"
      ],
      "execution_count": 22,
      "outputs": [
        {
          "output_type": "execute_result",
          "data": {
            "text/html": [
              "<div>\n",
              "<style scoped>\n",
              "    .dataframe tbody tr th:only-of-type {\n",
              "        vertical-align: middle;\n",
              "    }\n",
              "\n",
              "    .dataframe tbody tr th {\n",
              "        vertical-align: top;\n",
              "    }\n",
              "\n",
              "    .dataframe thead th {\n",
              "        text-align: right;\n",
              "    }\n",
              "</style>\n",
              "<table border=\"1\" class=\"dataframe\">\n",
              "  <thead>\n",
              "    <tr style=\"text-align: right;\">\n",
              "      <th></th>\n",
              "      <th>gender</th>\n",
              "      <th>seniorcitizen</th>\n",
              "      <th>partner</th>\n",
              "      <th>dependents</th>\n",
              "      <th>phoneservice</th>\n",
              "      <th>multiplelines</th>\n",
              "      <th>internetservice</th>\n",
              "      <th>onlinesecurity</th>\n",
              "      <th>onlinebackup</th>\n",
              "      <th>deviceprotection</th>\n",
              "      <th>techsupport</th>\n",
              "      <th>streamingtv</th>\n",
              "      <th>streamingmovies</th>\n",
              "      <th>contract</th>\n",
              "      <th>paperlessbilling</th>\n",
              "      <th>paymentmethod</th>\n",
              "    </tr>\n",
              "  </thead>\n",
              "  <tbody>\n",
              "    <tr>\n",
              "      <th>0</th>\n",
              "      <td>Female</td>\n",
              "      <td>0</td>\n",
              "      <td>No</td>\n",
              "      <td>No</td>\n",
              "      <td>No</td>\n",
              "      <td>No phone service</td>\n",
              "      <td>DSL</td>\n",
              "      <td>Yes</td>\n",
              "      <td>Yes</td>\n",
              "      <td>Yes</td>\n",
              "      <td>Yes</td>\n",
              "      <td>No</td>\n",
              "      <td>No</td>\n",
              "      <td>Two year</td>\n",
              "      <td>No</td>\n",
              "      <td>NaN</td>\n",
              "    </tr>\n",
              "    <tr>\n",
              "      <th>1</th>\n",
              "      <td>Male</td>\n",
              "      <td>0</td>\n",
              "      <td>Yes</td>\n",
              "      <td>Yes</td>\n",
              "      <td>Yes</td>\n",
              "      <td>No</td>\n",
              "      <td>No</td>\n",
              "      <td>No internet service</td>\n",
              "      <td>No internet service</td>\n",
              "      <td>No internet service</td>\n",
              "      <td>No internet service</td>\n",
              "      <td>No internet service</td>\n",
              "      <td>No internet service</td>\n",
              "      <td>One year</td>\n",
              "      <td>No</td>\n",
              "      <td>Mailed check</td>\n",
              "    </tr>\n",
              "    <tr>\n",
              "      <th>2</th>\n",
              "      <td>Female</td>\n",
              "      <td>0</td>\n",
              "      <td>Yes</td>\n",
              "      <td>No</td>\n",
              "      <td>Yes</td>\n",
              "      <td>Yes</td>\n",
              "      <td>Fiber optic</td>\n",
              "      <td>No</td>\n",
              "      <td>Yes</td>\n",
              "      <td>Yes</td>\n",
              "      <td>Yes</td>\n",
              "      <td>Yes</td>\n",
              "      <td>Yes</td>\n",
              "      <td>Two year</td>\n",
              "      <td>Yes</td>\n",
              "      <td>Credit card (automatic)</td>\n",
              "    </tr>\n",
              "    <tr>\n",
              "      <th>3</th>\n",
              "      <td>Female</td>\n",
              "      <td>0</td>\n",
              "      <td>No</td>\n",
              "      <td>No</td>\n",
              "      <td>Yes</td>\n",
              "      <td>Yes</td>\n",
              "      <td>Fiber optic</td>\n",
              "      <td>No</td>\n",
              "      <td>Yes</td>\n",
              "      <td>Yes</td>\n",
              "      <td>No</td>\n",
              "      <td>Yes</td>\n",
              "      <td>Yes</td>\n",
              "      <td>Month-to-month</td>\n",
              "      <td>Yes</td>\n",
              "      <td>Bank transfer (automatic)</td>\n",
              "    </tr>\n",
              "    <tr>\n",
              "      <th>4</th>\n",
              "      <td>Male</td>\n",
              "      <td>0</td>\n",
              "      <td>Yes</td>\n",
              "      <td>Yes</td>\n",
              "      <td>Yes</td>\n",
              "      <td>No</td>\n",
              "      <td>Fiber optic</td>\n",
              "      <td>No</td>\n",
              "      <td>No</td>\n",
              "      <td>No</td>\n",
              "      <td>No</td>\n",
              "      <td>No</td>\n",
              "      <td>No</td>\n",
              "      <td>Month-to-month</td>\n",
              "      <td>Yes</td>\n",
              "      <td>Electronic check</td>\n",
              "    </tr>\n",
              "  </tbody>\n",
              "</table>\n",
              "</div>"
            ],
            "text/plain": [
              "   gender  seniorcitizen partner dependents phoneservice     multiplelines  \\\n",
              "0  Female              0      No         No           No  No phone service   \n",
              "1    Male              0     Yes        Yes          Yes                No   \n",
              "2  Female              0     Yes         No          Yes               Yes   \n",
              "3  Female              0      No         No          Yes               Yes   \n",
              "4    Male              0     Yes        Yes          Yes                No   \n",
              "\n",
              "  internetservice       onlinesecurity         onlinebackup  \\\n",
              "0             DSL                  Yes                  Yes   \n",
              "1              No  No internet service  No internet service   \n",
              "2     Fiber optic                   No                  Yes   \n",
              "3     Fiber optic                   No                  Yes   \n",
              "4     Fiber optic                   No                   No   \n",
              "\n",
              "      deviceprotection          techsupport          streamingtv  \\\n",
              "0                  Yes                  Yes                   No   \n",
              "1  No internet service  No internet service  No internet service   \n",
              "2                  Yes                  Yes                  Yes   \n",
              "3                  Yes                   No                  Yes   \n",
              "4                   No                   No                   No   \n",
              "\n",
              "       streamingmovies        contract paperlessbilling  \\\n",
              "0                   No        Two year               No   \n",
              "1  No internet service        One year               No   \n",
              "2                  Yes        Two year              Yes   \n",
              "3                  Yes  Month-to-month              Yes   \n",
              "4                   No  Month-to-month              Yes   \n",
              "\n",
              "               paymentmethod  \n",
              "0                        NaN  \n",
              "1               Mailed check  \n",
              "2    Credit card (automatic)  \n",
              "3  Bank transfer (automatic)  \n",
              "4           Electronic check  "
            ]
          },
          "metadata": {
            "tags": []
          },
          "execution_count": 22
        }
      ]
    },
    {
      "cell_type": "code",
      "metadata": {
        "id": "KgJWgDxePUsI",
        "outputId": "150133a3-0288-4e86-d96a-52caff190ccf",
        "colab": {
          "base_uri": "https://localhost:8080/"
        }
      },
      "source": [
        "df_target.head()"
      ],
      "execution_count": 23,
      "outputs": [
        {
          "output_type": "execute_result",
          "data": {
            "text/plain": [
              "0    0\n",
              "1    0\n",
              "2    0\n",
              "3    1\n",
              "4    1\n",
              "Name: churn, dtype: int64"
            ]
          },
          "metadata": {
            "tags": []
          },
          "execution_count": 23
        }
      ]
    },
    {
      "cell_type": "markdown",
      "metadata": {
        "id": "4FusAbYkPUsL"
      },
      "source": [
        "### Variáveis quantitativas"
      ]
    },
    {
      "cell_type": "markdown",
      "metadata": {
        "id": "TGggAxILPUsM"
      },
      "source": [
        "#### Verificação dos tipos de dados das variáveis quantitativas"
      ]
    },
    {
      "cell_type": "code",
      "metadata": {
        "id": "NMIYKm7DPUsN",
        "outputId": "5b3c5fef-c10d-4024-e481-7a3d16592327",
        "colab": {
          "base_uri": "https://localhost:8080/"
        }
      },
      "source": [
        "df_quant.dtypes"
      ],
      "execution_count": 24,
      "outputs": [
        {
          "output_type": "execute_result",
          "data": {
            "text/plain": [
              "tenure            float64\n",
              "monthlycharges    float64\n",
              "totalcharges       object\n",
              "dtype: object"
            ]
          },
          "metadata": {
            "tags": []
          },
          "execution_count": 24
        }
      ]
    },
    {
      "cell_type": "markdown",
      "metadata": {
        "id": "IlTyRFEWPUsQ"
      },
      "source": [
        "#### Correção da variável 'totalcharges'\n",
        "Essa variável é quantitativa, mas foi importada como sendo do tipo Object. <br>\n",
        "Portanto, precisa ser alterada para o tipo numerico."
      ]
    },
    {
      "cell_type": "code",
      "metadata": {
        "id": "ivCwxh4jPUsT",
        "outputId": "343d9e86-656c-4d75-f144-00cf3130db4f",
        "colab": {
          "base_uri": "https://localhost:8080/"
        }
      },
      "source": [
        "df_treino['totalcharges'] = pd.to_numeric(df_treino['totalcharges'], errors='coerce')\n",
        "df_quant['totalcharges'] = pd.to_numeric(df_quant['totalcharges'], errors='coerce')"
      ],
      "execution_count": 29,
      "outputs": [
        {
          "output_type": "stream",
          "text": [
            "/usr/local/lib/python3.6/dist-packages/ipykernel_launcher.py:2: SettingWithCopyWarning: \n",
            "A value is trying to be set on a copy of a slice from a DataFrame.\n",
            "Try using .loc[row_indexer,col_indexer] = value instead\n",
            "\n",
            "See the caveats in the documentation: https://pandas.pydata.org/pandas-docs/stable/user_guide/indexing.html#returning-a-view-versus-a-copy\n",
            "  \n"
          ],
          "name": "stderr"
        }
      ]
    },
    {
      "cell_type": "markdown",
      "metadata": {
        "id": "3nbr5fXyPUsV"
      },
      "source": [
        "#### Verificação dos tipos de dados.\n",
        "Verifica-se que totalcharges foi corrigida."
      ]
    },
    {
      "cell_type": "code",
      "metadata": {
        "id": "wBB5mT0sPUsW",
        "outputId": "c256d943-bf30-415a-9ece-50f31f55ec60",
        "colab": {
          "base_uri": "https://localhost:8080/"
        }
      },
      "source": [
        "df_quant.info()"
      ],
      "execution_count": 30,
      "outputs": [
        {
          "output_type": "stream",
          "text": [
            "<class 'pandas.core.frame.DataFrame'>\n",
            "RangeIndex: 5634 entries, 0 to 5633\n",
            "Data columns (total 3 columns):\n",
            " #   Column          Non-Null Count  Dtype  \n",
            "---  ------          --------------  -----  \n",
            " 0   tenure          5173 non-null   float64\n",
            " 1   monthlycharges  5634 non-null   float64\n",
            " 2   totalcharges    5626 non-null   float64\n",
            "dtypes: float64(3)\n",
            "memory usage: 132.2 KB\n"
          ],
          "name": "stdout"
        }
      ]
    },
    {
      "cell_type": "markdown",
      "metadata": {
        "id": "4GUWV0ZpPUsa"
      },
      "source": [
        "#### Sumário estatístico das variáveis quantitativas"
      ]
    },
    {
      "cell_type": "code",
      "metadata": {
        "scrolled": false,
        "id": "3S-W8aSsPUsb"
      },
      "source": [
        "quantitativas.describe()"
      ],
      "execution_count": null,
      "outputs": []
    },
    {
      "cell_type": "markdown",
      "metadata": {
        "id": "BDUUkRN2PUse"
      },
      "source": [
        "#### Boxplot"
      ]
    },
    {
      "cell_type": "code",
      "metadata": {
        "id": "ZEB9X6vYPUsf"
      },
      "source": [
        "sns.catplot(data=quantitativas,\n",
        "              kind='box',\n",
        "              height=7,\n",
        "              aspect=2.5)"
      ],
      "execution_count": null,
      "outputs": []
    },
    {
      "cell_type": "markdown",
      "metadata": {
        "id": "kzV7LOC-PUsh"
      },
      "source": [
        "#### Verificação dos missing values das variáveis quantitativas"
      ]
    },
    {
      "cell_type": "code",
      "metadata": {
        "id": "YtRlhqRoPUsi"
      },
      "source": [
        "quantitativas.isnull().sum()"
      ],
      "execution_count": null,
      "outputs": []
    },
    {
      "cell_type": "markdown",
      "metadata": {
        "id": "N0eFMvY6PUsm"
      },
      "source": [
        "#### Variável quantitativa 'CobrancaMernsal'"
      ]
    },
    {
      "cell_type": "code",
      "metadata": {
        "id": "huSnX-jYPUsm"
      },
      "source": [
        "quantitativas[['CobrancaMensal']].hist(bins=150)"
      ],
      "execution_count": null,
      "outputs": []
    },
    {
      "cell_type": "code",
      "metadata": {
        "id": "b8zHFdcPPUsp"
      },
      "source": [
        "quantitativas[['CobrancaMensal']].mode()"
      ],
      "execution_count": null,
      "outputs": []
    },
    {
      "cell_type": "code",
      "metadata": {
        "id": "-bc0axtOPUsr"
      },
      "source": [
        "quantitativas[['CobrancaMensal']].describe()"
      ],
      "execution_count": null,
      "outputs": []
    },
    {
      "cell_type": "code",
      "metadata": {
        "id": "ocNzfmDjPUsu"
      },
      "source": [
        "# Coeficiente de variação\n",
        "quantitativas[['CobrancaMensal']].std()/quantitativas[['CobrancaMensal']].mean()*100"
      ],
      "execution_count": null,
      "outputs": []
    },
    {
      "cell_type": "code",
      "metadata": {
        "id": "W6OhbbzLPUsx"
      },
      "source": [
        "sns.catplot(data=quantitativas[['CobrancaMensal']],\n",
        "              kind='box',\n",
        "              height=2.5,\n",
        "              aspect=2.5)"
      ],
      "execution_count": null,
      "outputs": []
    },
    {
      "cell_type": "markdown",
      "metadata": {
        "id": "q5Wi5wf_PUs0"
      },
      "source": [
        "#### Variável quantitativa 'CobrancaTotal'"
      ]
    },
    {
      "cell_type": "code",
      "metadata": {
        "id": "xueMYZgXPUs1"
      },
      "source": [
        "quantitativas[['CobrancaTotal']].describe()"
      ],
      "execution_count": null,
      "outputs": []
    },
    {
      "cell_type": "code",
      "metadata": {
        "id": "GHaE7wwdPUs3"
      },
      "source": [
        "# Coeficiente de variação\n",
        "quantitativas[['CobrancaTotal']].std() / quantitativas[['CobrancaTotal']].mean() * 100"
      ],
      "execution_count": null,
      "outputs": []
    },
    {
      "cell_type": "code",
      "metadata": {
        "scrolled": true,
        "id": "sQoKHSMpPUs6"
      },
      "source": [
        "quantitativas[['CobrancaTotal']].mode()"
      ],
      "execution_count": null,
      "outputs": []
    },
    {
      "cell_type": "code",
      "metadata": {
        "id": "0tCKJBCuPUs9"
      },
      "source": [
        "quantitativas[['CobrancaTotal']].hist(bins=150)"
      ],
      "execution_count": null,
      "outputs": []
    },
    {
      "cell_type": "code",
      "metadata": {
        "id": "CnvWFxEcPUtB"
      },
      "source": [
        "sns.catplot(data=quantitativas[['CobrancaTotal']],\n",
        "              kind='box',\n",
        "              height=3,\n",
        "              aspect=2.5)"
      ],
      "execution_count": null,
      "outputs": []
    },
    {
      "cell_type": "code",
      "metadata": {
        "id": "J-qvspwcPUtE"
      },
      "source": [
        "quantitativas['CobrancaTotal_2'] = quantitativas['CobrancaTotal'].fillna(quantitativas['CobrancaTotal'].mode()[0])"
      ],
      "execution_count": null,
      "outputs": []
    },
    {
      "cell_type": "code",
      "metadata": {
        "id": "qpsiC_KSPUtG"
      },
      "source": [
        "quantitativas[['CobrancaTotal_2']].isnull().any()"
      ],
      "execution_count": null,
      "outputs": []
    },
    {
      "cell_type": "markdown",
      "metadata": {
        "id": "xtlDt9cQPUtJ"
      },
      "source": [
        "#### Variável quantitativa 'MesesNaCompanhia'"
      ]
    },
    {
      "cell_type": "code",
      "metadata": {
        "id": "xWsLZSyOPUtJ"
      },
      "source": [
        "quantitativas.head(23).T"
      ],
      "execution_count": null,
      "outputs": []
    },
    {
      "cell_type": "code",
      "metadata": {
        "id": "PjfLeUAxPUtM"
      },
      "source": [
        "quantitativas['RazaoCobrTotalMensal'] = quantitativas['CobrancaTotal']/quantitativas['CobrancaMensal']"
      ],
      "execution_count": null,
      "outputs": []
    },
    {
      "cell_type": "code",
      "metadata": {
        "id": "4VQxq0ebPUtQ"
      },
      "source": [
        "quantitativas['DiferencapercRazaoCobrTotMensal'] = (quantitativas['MesesNaCompanhia']-quantitativas['RazaoCobrTotalMensal'])/quantitativas['MesesNaCompanhia']"
      ],
      "execution_count": null,
      "outputs": []
    },
    {
      "cell_type": "markdown",
      "metadata": {
        "id": "O03YNLpMPUtT"
      },
      "source": [
        "Verifica-se que a razão entre os valores das variáveis CobrancaTotal e CobrancaMensal é um bom indicador<br>\n",
        "do valor da variável MesesNaCompanhia. Dessa forma, vamos usar essa razão para preencher os valores faltantes <br>\n",
        "da variável 'MesesNaCompanhia'."
      ]
    },
    {
      "cell_type": "code",
      "metadata": {
        "id": "K1CPUaq7PUtU"
      },
      "source": [
        "quantitativas.head(23).T"
      ],
      "execution_count": null,
      "outputs": []
    },
    {
      "cell_type": "code",
      "metadata": {
        "id": "191WypIpPUtX"
      },
      "source": [
        "quantitativas = quantitativas.drop(columns=['RazaoCobrTotalMensal','DiferencapercRazaoCobrTotMensal'],\n",
        "                   axis=1)"
      ],
      "execution_count": null,
      "outputs": []
    },
    {
      "cell_type": "code",
      "metadata": {
        "id": "1C19x7WHPUtZ"
      },
      "source": [
        "quantitativas.head().T"
      ],
      "execution_count": null,
      "outputs": []
    },
    {
      "cell_type": "code",
      "metadata": {
        "id": "fBd3m7guPUtc"
      },
      "source": [
        "quantitativas['MesesNaCompanhia_2']  = quantitativas['MesesNaCompanhia'].fillna(quantitativas['CobrancaTotal']/\n",
        "                                                                               quantitativas['CobrancaMensal'])"
      ],
      "execution_count": null,
      "outputs": []
    },
    {
      "cell_type": "code",
      "metadata": {
        "id": "qMpSjslSPUtg"
      },
      "source": [
        "quantitativas.head(20).T"
      ],
      "execution_count": null,
      "outputs": []
    },
    {
      "cell_type": "code",
      "metadata": {
        "id": "qydsoT_lPUtj"
      },
      "source": [
        "quantitativas_2 = quantitativas[['CobrancaMensal','CobrancaTotal_2','MesesNaCompanhia_2']]"
      ],
      "execution_count": null,
      "outputs": []
    },
    {
      "cell_type": "code",
      "metadata": {
        "id": "RMyC5VqJPUto"
      },
      "source": [
        "quantitativas_2.isnull().sum()"
      ],
      "execution_count": null,
      "outputs": []
    },
    {
      "cell_type": "markdown",
      "metadata": {
        "id": "gMMETG7rPUtu"
      },
      "source": [
        "### Discretização das variáveis quantitativas"
      ]
    },
    {
      "cell_type": "code",
      "metadata": {
        "id": "kqkwQgrbPUtv"
      },
      "source": [
        "quantitativas_2.nunique()"
      ],
      "execution_count": null,
      "outputs": []
    },
    {
      "cell_type": "code",
      "metadata": {
        "id": "q3kqVfKlPUtz"
      },
      "source": [
        "from sklearn.preprocessing import KBinsDiscretizer"
      ],
      "execution_count": null,
      "outputs": []
    },
    {
      "cell_type": "code",
      "metadata": {
        "id": "nqI4YLRWPUt1"
      },
      "source": [
        "discretizer = KBinsDiscretizer(n_bins=5,\n",
        "                              encode='ordinal',\n",
        "                              strategy='quantile')"
      ],
      "execution_count": null,
      "outputs": []
    },
    {
      "cell_type": "code",
      "metadata": {
        "id": "kud7TuifPUt4"
      },
      "source": [
        "discretizer.fit(quantitativas_2)"
      ],
      "execution_count": null,
      "outputs": []
    },
    {
      "cell_type": "code",
      "metadata": {
        "id": "bOb4sTQLPUt6"
      },
      "source": [
        "bining = discretizer.fit_transform(quantitativas_2)"
      ],
      "execution_count": null,
      "outputs": []
    },
    {
      "cell_type": "code",
      "metadata": {
        "id": "SMnn7ieYPUt-"
      },
      "source": [
        "quantitativas_bining = pd.DataFrame(bining,\n",
        "                                    columns=['CobrancaMensal',\n",
        "                                             'CobrancaTotal_2',\n",
        "                                             'MesesNaCompanhia_2'])"
      ],
      "execution_count": null,
      "outputs": []
    },
    {
      "cell_type": "code",
      "metadata": {
        "id": "cA_9AKayPUuD"
      },
      "source": [
        "quantitativas_bining.head(30).T"
      ],
      "execution_count": null,
      "outputs": []
    },
    {
      "cell_type": "markdown",
      "metadata": {
        "id": "lZerPWzBPUuF"
      },
      "source": [
        "### Variáveis categóricas"
      ]
    },
    {
      "cell_type": "code",
      "metadata": {
        "id": "q6FvwQLwPUuG"
      },
      "source": [
        "categóricas.head()"
      ],
      "execution_count": null,
      "outputs": []
    },
    {
      "cell_type": "code",
      "metadata": {
        "id": "UIX8bVusPUuM"
      },
      "source": [
        "categóricas.isna().sum()"
      ],
      "execution_count": null,
      "outputs": []
    },
    {
      "cell_type": "markdown",
      "metadata": {
        "id": "n1dpPzsuPUuP"
      },
      "source": [
        "#### Contagem de valores da variavel genero"
      ]
    },
    {
      "cell_type": "code",
      "metadata": {
        "id": "WQwH0HRfPUuQ"
      },
      "source": [
        "categóricas['genero'].value_counts()"
      ],
      "execution_count": null,
      "outputs": []
    },
    {
      "cell_type": "markdown",
      "metadata": {
        "id": "a7h8gQQyPUuU"
      },
      "source": [
        "#### Tabela de frequencias Churn x genero"
      ]
    },
    {
      "cell_type": "code",
      "metadata": {
        "id": "n0WPm-6oPUuU"
      },
      "source": [
        "# Table of survival vs. sex\n",
        "Churn_genero = pd.crosstab(index=dados[\"Churn\"], \n",
        "                           columns=dados[\"genero\"],\n",
        "                          margins=True)\n",
        "\n",
        "Churn_genero.columns=['Female','Male',\"rowtotal\"]\n",
        "Churn_genero.index= [\"0\",\"1\",\"coltotal\"]\n",
        "\n",
        "Churn_genero"
      ],
      "execution_count": null,
      "outputs": []
    },
    {
      "cell_type": "code",
      "metadata": {
        "id": "akk8AO4FPUuY"
      },
      "source": [
        "Churn_genero/Churn_genero.loc[\"coltotal\",\"rowtotal\"]"
      ],
      "execution_count": null,
      "outputs": []
    },
    {
      "cell_type": "markdown",
      "metadata": {
        "id": "Vpn5hwGjPUua"
      },
      "source": [
        "#Temos missing values em duas variáveis categóricas:\n",
        "#'TemParceiro'        categórica\n",
        "#'MetodoPagamento'    categórica"
      ]
    },
    {
      "cell_type": "markdown",
      "metadata": {
        "id": "LmhuKeWiPUua"
      },
      "source": [
        "#### Imputação de missing values na variável 'TemDependente'\n",
        "Como 'TemDependente' é uma variável categórica, criaremos uma nova categoria, chamada 'Miss', a qual será imputada a todos os missing values dessa variável."
      ]
    },
    {
      "cell_type": "code",
      "metadata": {
        "id": "PLKSiivjPUub"
      },
      "source": [
        "categóricas['TemDependentes'] = categóricas['TemDependentes'].fillna(categóricas['TemDependentes']=='Miss')"
      ],
      "execution_count": null,
      "outputs": []
    },
    {
      "cell_type": "code",
      "metadata": {
        "id": "yCM-mJ2jPUuc"
      },
      "source": [
        "categóricas['TemDependentes'].isnull().any()"
      ],
      "execution_count": null,
      "outputs": []
    },
    {
      "cell_type": "markdown",
      "metadata": {
        "id": "lyQuL6iAPUug"
      },
      "source": [
        "#### Imputação de missing values na variável 'MetodoPagamento'"
      ]
    },
    {
      "cell_type": "code",
      "metadata": {
        "id": "CdNLvDEmPUuh"
      },
      "source": [
        "categóricas['MetodoPagamento'] = categóricas['MetodoPagamento'].fillna(categóricas['MetodoPagamento']=='Miss')\n"
      ],
      "execution_count": null,
      "outputs": []
    },
    {
      "cell_type": "code",
      "metadata": {
        "id": "OAAxNeMGPUul"
      },
      "source": [
        "categóricas['MetodoPagamento'].isnull().any()"
      ],
      "execution_count": null,
      "outputs": []
    },
    {
      "cell_type": "code",
      "metadata": {
        "id": "b78pvaPdPUuo"
      },
      "source": [
        "categóricas.isnull().sum()"
      ],
      "execution_count": null,
      "outputs": []
    },
    {
      "cell_type": "code",
      "metadata": {
        "id": "NKgaAP4SPUuq"
      },
      "source": [
        "dados['MetodoPagamento'].value_counts()"
      ],
      "execution_count": null,
      "outputs": []
    },
    {
      "cell_type": "markdown",
      "metadata": {
        "id": "AuD6oMltPUus"
      },
      "source": [
        "## Verificação da cardinalidade das variaveis categoricas\n",
        "Como todas as variáveis categóricas têm baixa cardinalidade (quantidade de valores únicos menor que 10), vamos criar variáveis dummy para todas."
      ]
    },
    {
      "cell_type": "code",
      "metadata": {
        "id": "0iVQIHcMPUus"
      },
      "source": [
        "categóricas.nunique()"
      ],
      "execution_count": null,
      "outputs": []
    },
    {
      "cell_type": "code",
      "metadata": {
        "id": "9xGhsyXUPUuv"
      },
      "source": [
        "dummies = pd.get_dummies(categóricas,\n",
        "                        prefix_sep='_',\n",
        "                        drop_first=True)"
      ],
      "execution_count": null,
      "outputs": []
    },
    {
      "cell_type": "code",
      "metadata": {
        "id": "P1mqk5JEPUuz"
      },
      "source": [
        "dummies.head()"
      ],
      "execution_count": null,
      "outputs": []
    },
    {
      "cell_type": "code",
      "metadata": {
        "id": "mmSJ5q0mPUu1"
      },
      "source": [
        "dummies['Idoso'].unique()"
      ],
      "execution_count": null,
      "outputs": []
    },
    {
      "cell_type": "code",
      "metadata": {
        "id": "DF-Sa2RwPUu3"
      },
      "source": [
        "dummies.columns"
      ],
      "execution_count": null,
      "outputs": []
    },
    {
      "cell_type": "markdown",
      "metadata": {
        "id": "3f_RSTVDPUu5"
      },
      "source": [
        "## Formação dos bancos de dados explicativas e target"
      ]
    },
    {
      "cell_type": "code",
      "metadata": {
        "id": "YEf2SO3uPUu5"
      },
      "source": [
        "explicativas=pd.concat([quantitativas_bining,dummies],\n",
        "                      axis=1)"
      ],
      "execution_count": null,
      "outputs": []
    },
    {
      "cell_type": "code",
      "metadata": {
        "id": "QFTbiHdcPUu7"
      },
      "source": [
        "explicativas.columns"
      ],
      "execution_count": null,
      "outputs": []
    },
    {
      "cell_type": "code",
      "metadata": {
        "id": "gLRwkvjWPUvF"
      },
      "source": [
        "#explicativas.drop(['id'],axis=1,inplace=True)\n",
        "explicativas.head()"
      ],
      "execution_count": null,
      "outputs": []
    },
    {
      "cell_type": "code",
      "metadata": {
        "id": "WlWMAX96PUvI"
      },
      "source": [
        "target.head()"
      ],
      "execution_count": null,
      "outputs": []
    },
    {
      "cell_type": "markdown",
      "metadata": {
        "id": "QUw-8vajPUvK"
      },
      "source": [
        "## Separação dos conjuntos de treino e teste"
      ]
    },
    {
      "cell_type": "code",
      "metadata": {
        "id": "WmbldgnOPUvK"
      },
      "source": [
        "from sklearn.model_selection import train_test_split\n",
        "x_treino, x_teste, y_treino, y_teste = train_test_split(explicativas,\n",
        "                                                       target,\n",
        "                                                       test_size=0.3,\n",
        "                                                      random_state=42)"
      ],
      "execution_count": null,
      "outputs": []
    },
    {
      "cell_type": "markdown",
      "metadata": {
        "id": "4XpzeHXwPUvM"
      },
      "source": [
        "## Tuninng de hiperparâmetros\n",
        "Inicialmente, chamar o módulo de tuning.<br>\n",
        "Passo a passo <br>\n",
        "1 - definir um dict(dicionario com os valores dos hiperparams)<br>\n",
        "2 - chamar o modulo de tunning<br>\n",
        "3 - chamar obj do tunning<br>\n",
        "4 - treinamento<br>\n",
        "5 - avaliar os resultados"
      ]
    },
    {
      "cell_type": "markdown",
      "metadata": {
        "id": "o-TAwshVPUvN"
      },
      "source": [
        "### Chamar o módulo de Tuning"
      ]
    },
    {
      "cell_type": "code",
      "metadata": {
        "id": "FHjuPkujPUvN"
      },
      "source": [
        "from sklearn.model_selection import  GridSearchCV"
      ],
      "execution_count": null,
      "outputs": []
    },
    {
      "cell_type": "markdown",
      "metadata": {
        "id": "wDukdSH4PUvP"
      },
      "source": [
        "### Chamar módulo de acurácia"
      ]
    },
    {
      "cell_type": "code",
      "metadata": {
        "id": "IM5Dn6EoPUvQ"
      },
      "source": [
        "from sklearn.metrics import accuracy_score"
      ],
      "execution_count": null,
      "outputs": []
    },
    {
      "cell_type": "markdown",
      "metadata": {
        "id": "Xu4iK0VoPUvS"
      },
      "source": [
        "### Random Forest"
      ]
    },
    {
      "cell_type": "code",
      "metadata": {
        "id": "9TW9yJP8PUvT"
      },
      "source": [
        "import timeit"
      ],
      "execution_count": null,
      "outputs": []
    },
    {
      "cell_type": "code",
      "metadata": {
        "id": "6TAmHxS_PUvX"
      },
      "source": [
        "#1\n",
        "rf_dict = {                            # nome do dicionário que está sendo criado.\n",
        "    'n_estimators':[40,50,60,70],   # numero de estimadores que será testado. Quanto maior, mais exige poder computacional.\n",
        "    'criterion':['gini', 'entropy'],   #  critérios\n",
        "    'bootstrap':[False, True],  # Faz amostragem com e sem reposição.\n",
        "    'random_state': [42]\n",
        "}\n"
      ],
      "execution_count": null,
      "outputs": []
    },
    {
      "cell_type": "code",
      "metadata": {
        "id": "vr4S0Yi9PUvb"
      },
      "source": [
        "#2\n",
        "from sklearn.ensemble import RandomForestClassifier\n"
      ],
      "execution_count": null,
      "outputs": []
    },
    {
      "cell_type": "code",
      "metadata": {
        "id": "g_O9CZqGPUvd"
      },
      "source": [
        "#3\n",
        "rf = RandomForestClassifier(random_state=42)\n"
      ],
      "execution_count": null,
      "outputs": []
    },
    {
      "cell_type": "code",
      "metadata": {
        "id": "B_IYomPXPUvf"
      },
      "source": [
        "rf_grid = GridSearchCV(estimator=rf,\n",
        "                      param_grid=rf_dict,\n",
        "                      scoring='accuracy',\n",
        "                      cv=10,\n",
        "                      n_jobs=-1)\n"
      ],
      "execution_count": null,
      "outputs": []
    },
    {
      "cell_type": "code",
      "metadata": {
        "id": "wfJvFb0UPUvi"
      },
      "source": [
        "import joblib"
      ],
      "execution_count": null,
      "outputs": []
    },
    {
      "cell_type": "code",
      "metadata": {
        "id": "d-cUs05qPUvk"
      },
      "source": [
        "rf_grid.fit(x_treino, y_treino)#.values.ravel()  colocar este comando depois de y_treino se precisar."
      ],
      "execution_count": null,
      "outputs": []
    },
    {
      "cell_type": "code",
      "metadata": {
        "id": "mEtcVLQ3PUvn"
      },
      "source": [
        "rf_grid.best_params_"
      ],
      "execution_count": null,
      "outputs": []
    },
    {
      "cell_type": "code",
      "metadata": {
        "id": "-h6Vz-78PUvp"
      },
      "source": [
        "rf_grid.best_score_"
      ],
      "execution_count": null,
      "outputs": []
    },
    {
      "cell_type": "code",
      "metadata": {
        "id": "tAZ_E9BoPUvr"
      },
      "source": [
        "accuracy_score(y_teste, rf_grid.predict(x_teste))"
      ],
      "execution_count": null,
      "outputs": []
    },
    {
      "cell_type": "markdown",
      "metadata": {
        "id": "QzSYa05kPUvt"
      },
      "source": [
        "### Gradient Boosting"
      ]
    },
    {
      "cell_type": "code",
      "metadata": {
        "id": "KcOz7bCYPUvt"
      },
      "source": [
        "gb_dict = { \n",
        "    \"max_depth\":[3,5,8],\n",
        "    \"max_features\":[\"log2\",\"sqrt\"],\n",
        "    \"criterion\": [\"friedman_mse\",  \"mae\"],\n",
        "    'random_state': [1967]    \n",
        "    }"
      ],
      "execution_count": null,
      "outputs": []
    },
    {
      "cell_type": "code",
      "metadata": {
        "id": "W2wHMO4lPUvv"
      },
      "source": [
        "from sklearn.ensemble import GradientBoostingClassifier"
      ],
      "execution_count": null,
      "outputs": []
    },
    {
      "cell_type": "code",
      "metadata": {
        "id": "Zvu9N1IjPUvx"
      },
      "source": [
        "gb = GradientBoostingClassifier(random_state=42)"
      ],
      "execution_count": null,
      "outputs": []
    },
    {
      "cell_type": "code",
      "metadata": {
        "id": "x_VvKlN6PUvz"
      },
      "source": [
        "gb_grid = GridSearchCV(estimator=gb,\n",
        "                       param_grid=gb_dict,\n",
        "                       scoring='accuracy',\n",
        "                       cv=10,\n",
        "                       n_jobs=-1 # ACELERA O TEMPO DE PROCESSAMENTO\n",
        "                      )"
      ],
      "execution_count": null,
      "outputs": []
    },
    {
      "cell_type": "code",
      "metadata": {
        "id": "xL2lPyttPUv3"
      },
      "source": [
        "gb_grid.fit(x_treino,y_treino)"
      ],
      "execution_count": null,
      "outputs": []
    },
    {
      "cell_type": "code",
      "metadata": {
        "id": "gK-YDlzJPUv5"
      },
      "source": [
        "gb_grid.best_params_"
      ],
      "execution_count": null,
      "outputs": []
    },
    {
      "cell_type": "code",
      "metadata": {
        "id": "Xsnx5a47PUv6"
      },
      "source": [
        "gb_grid.best_score_"
      ],
      "execution_count": null,
      "outputs": []
    },
    {
      "cell_type": "code",
      "metadata": {
        "id": "Y_lpL4odPUv8"
      },
      "source": [
        "gb_grid.best_estimator_"
      ],
      "execution_count": null,
      "outputs": []
    },
    {
      "cell_type": "markdown",
      "metadata": {
        "id": "v2VgU_hVPUv-"
      },
      "source": [
        "### Salvar melhor modelo"
      ]
    },
    {
      "cell_type": "code",
      "metadata": {
        "id": "SETvqkbqPUv-"
      },
      "source": [
        "import joblib"
      ],
      "execution_count": null,
      "outputs": []
    },
    {
      "cell_type": "code",
      "metadata": {
        "id": "1LctYiHzPUwB"
      },
      "source": [
        "joblib.dump(gb_grid.best_estimator_,\n",
        "            'modelo_exemplo_gb.pkl',\n",
        "            compress=1)"
      ],
      "execution_count": null,
      "outputs": []
    },
    {
      "cell_type": "markdown",
      "metadata": {
        "id": "dC-K2rbzPUwD"
      },
      "source": [
        "### Score do grupo de teste"
      ]
    },
    {
      "cell_type": "code",
      "metadata": {
        "id": "pdRBpSnHPUwD"
      },
      "source": [
        "dados_teste = pd.read_csv('test.csv', sep=',')"
      ],
      "execution_count": null,
      "outputs": []
    },
    {
      "cell_type": "code",
      "metadata": {
        "id": "FnTYswm7PUwJ"
      },
      "source": [
        "dados_teste.head()"
      ],
      "execution_count": null,
      "outputs": []
    },
    {
      "cell_type": "code",
      "metadata": {
        "id": "abpggv-bPUwM"
      },
      "source": [
        "dados_teste = dados_teste.rename(columns={\n",
        "    'id':'id',\n",
        "    'gender':'genero',\n",
        "    'SeniorCitizen':'Idoso',\n",
        "    'Partner':'TemParceiro',\n",
        "    'Dependents':'TemDependentes',\n",
        "    'tenure':'MesesNaCompanhia',\n",
        "    'PhoneService':'TemTelefone',\n",
        "    'MultipleLines':'MaisLinhas',\n",
        "    'InternetService':'TemInternet',\n",
        "    'OnlineSecurity':'ServicoSegurancaOnline',\n",
        "    'OnlineBackup':'ServicoBackupOnline',\n",
        "    'DeviceProtection':'ServicoProtecaoOnline',\n",
        "    'TechSupport':'ServicoSuporteOnline',\n",
        "    'StreamingTV':'ServicoTV',\n",
        "    'StreamingMovies':'ServicoPctFilmes',\n",
        "    'Contract':'Contrato',\n",
        "    'PaperlessBilling':'ContaOnline',\n",
        "    'PaymentMethod':'MetodoPagamento',\n",
        "    'MonthlyCharges':'CobrancaMensal',\n",
        "    'TotalCharges':'CobrancaTotal'\n",
        "})"
      ],
      "execution_count": null,
      "outputs": []
    },
    {
      "cell_type": "code",
      "metadata": {
        "id": "T8QUCTeAPUwN"
      },
      "source": [
        "quantitativas_teste = dados_teste[['MesesNaCompanhia','CobrancaMensal','CobrancaTotal']]\n",
        "categóricas_teste = dados_teste.drop(columns=['id','MesesNaCompanhia','CobrancaMensal','CobrancaTotal'],\n",
        "                         axis=1)"
      ],
      "execution_count": null,
      "outputs": []
    },
    {
      "cell_type": "code",
      "metadata": {
        "id": "0KJfMcZiPUwO"
      },
      "source": [
        "quantitativas_teste.head()"
      ],
      "execution_count": null,
      "outputs": []
    },
    {
      "cell_type": "code",
      "metadata": {
        "id": "BJtdwjOjPUwQ"
      },
      "source": [
        "categóricas_teste.head()"
      ],
      "execution_count": null,
      "outputs": []
    },
    {
      "cell_type": "code",
      "metadata": {
        "id": "sxgruOHePUwR"
      },
      "source": [
        "quantitativas_teste['CobrancaTotal'] = pd.to_numeric(quantitativas_teste['CobrancaTotal'], errors='coerce')"
      ],
      "execution_count": null,
      "outputs": []
    },
    {
      "cell_type": "code",
      "metadata": {
        "id": "GY6ePikKPUwT"
      },
      "source": [
        "quantitativas_teste.dtypes"
      ],
      "execution_count": null,
      "outputs": []
    },
    {
      "cell_type": "code",
      "metadata": {
        "id": "gWGSEVInPUwU"
      },
      "source": [
        "quantitativas_teste.isnull().sum()"
      ],
      "execution_count": null,
      "outputs": []
    },
    {
      "cell_type": "code",
      "metadata": {
        "id": "bUEACWchPUwW"
      },
      "source": [
        "quantitativas_teste['CobrancaTotal_2'] = quantitativas_teste['CobrancaTotal'].fillna(quantitativas_teste['CobrancaTotal'].mode()[0])"
      ],
      "execution_count": null,
      "outputs": []
    },
    {
      "cell_type": "code",
      "metadata": {
        "id": "w2SZeE4SPUwX"
      },
      "source": [
        "quantitativas_teste[['CobrancaTotal_2']].isnull().any()"
      ],
      "execution_count": null,
      "outputs": []
    },
    {
      "cell_type": "code",
      "metadata": {
        "id": "mDix7IB-PUwZ"
      },
      "source": [
        "quantitativas_teste['MesesNaCompanhia_2']  = quantitativas_teste['MesesNaCompanhia'].fillna(quantitativas_teste['CobrancaTotal']/\n",
        "                                                                               quantitativas_teste['CobrancaMensal'])"
      ],
      "execution_count": null,
      "outputs": []
    },
    {
      "cell_type": "code",
      "metadata": {
        "id": "Aurit6zHPUwb"
      },
      "source": [
        "quantitativas_teste['MesesNaCompanhia_2'].isnull().any()"
      ],
      "execution_count": null,
      "outputs": []
    },
    {
      "cell_type": "code",
      "metadata": {
        "id": "_F2KQrU8PUwe"
      },
      "source": [
        "quantitativas_teste_2 = quantitativas_teste[['CobrancaMensal','CobrancaTotal_2','MesesNaCompanhia_2']]"
      ],
      "execution_count": null,
      "outputs": []
    },
    {
      "cell_type": "code",
      "metadata": {
        "id": "5jmVQ3TUPUwg"
      },
      "source": [
        "quantitativas_teste_2.head()"
      ],
      "execution_count": null,
      "outputs": []
    },
    {
      "cell_type": "code",
      "metadata": {
        "id": "ZSqnWSlePUwk"
      },
      "source": [
        "quantitativas_teste_2.isnull().sum()"
      ],
      "execution_count": null,
      "outputs": []
    },
    {
      "cell_type": "code",
      "metadata": {
        "id": "dSXCO7exPUwl"
      },
      "source": [
        "discretizer_teste = KBinsDiscretizer(n_bins=5,\n",
        "                              encode='ordinal',\n",
        "                              strategy='quantile')"
      ],
      "execution_count": null,
      "outputs": []
    },
    {
      "cell_type": "code",
      "metadata": {
        "id": "Oc2UrzydPUwm"
      },
      "source": [
        "discretizer_teste.fit(quantitativas_teste_2)"
      ],
      "execution_count": null,
      "outputs": []
    },
    {
      "cell_type": "code",
      "metadata": {
        "id": "VqJbElE6PUwo"
      },
      "source": [
        "bining_teste = discretizer_teste.fit_transform(quantitativas_teste_2)"
      ],
      "execution_count": null,
      "outputs": []
    },
    {
      "cell_type": "code",
      "metadata": {
        "id": "Y2xtQw49PUwq"
      },
      "source": [
        "quantitativas_teste_bining = pd.DataFrame(bining_teste,\n",
        "                                    columns=['CobrancaMensal',\n",
        "                                             'CobrancaTotal_2',\n",
        "                                             'MesesNaCompanhia_2'])"
      ],
      "execution_count": null,
      "outputs": []
    },
    {
      "cell_type": "code",
      "metadata": {
        "id": "vKElD_zPPUwr"
      },
      "source": [
        "quantitativas_teste_bining.head()"
      ],
      "execution_count": null,
      "outputs": []
    },
    {
      "cell_type": "code",
      "metadata": {
        "id": "DN5NhIKtPUwt"
      },
      "source": [
        "quantitativas_teste_bining.isnull().sum()"
      ],
      "execution_count": null,
      "outputs": []
    },
    {
      "cell_type": "code",
      "metadata": {
        "id": "8GaAZHCyPUwv"
      },
      "source": [
        "categóricas_teste.head()\n"
      ],
      "execution_count": null,
      "outputs": []
    },
    {
      "cell_type": "code",
      "metadata": {
        "id": "m1HcySGvPUww"
      },
      "source": [
        "categóricas_teste.isnull().sum()"
      ],
      "execution_count": null,
      "outputs": []
    },
    {
      "cell_type": "code",
      "metadata": {
        "id": "dTXT0o8aPUwx"
      },
      "source": [
        "categóricas_teste['TemDependentes'] = categóricas_teste['TemDependentes'].fillna(categóricas_teste['TemDependentes']=='Miss')"
      ],
      "execution_count": null,
      "outputs": []
    },
    {
      "cell_type": "code",
      "metadata": {
        "id": "dVp4otPXPUw0"
      },
      "source": [
        "categóricas_teste['MetodoPagamento'] = categóricas_teste['MetodoPagamento'].fillna(categóricas_teste['MetodoPagamento']=='Miss')"
      ],
      "execution_count": null,
      "outputs": []
    },
    {
      "cell_type": "code",
      "metadata": {
        "id": "e6nCAuUkPUw1"
      },
      "source": [
        "categóricas_teste.isnull().sum()"
      ],
      "execution_count": null,
      "outputs": []
    },
    {
      "cell_type": "code",
      "metadata": {
        "id": "DBnWW02_PUw3"
      },
      "source": [
        "categóricas_teste.nunique()"
      ],
      "execution_count": null,
      "outputs": []
    },
    {
      "cell_type": "code",
      "metadata": {
        "id": "5VcB-R-9PUw5"
      },
      "source": [
        "dummies_teste = pd.get_dummies(categóricas_teste,\n",
        "                        prefix_sep='_',\n",
        "                        drop_first=True)"
      ],
      "execution_count": null,
      "outputs": []
    },
    {
      "cell_type": "code",
      "metadata": {
        "id": "361QtlcYPUw6"
      },
      "source": [
        "dummies_teste.head()"
      ],
      "execution_count": null,
      "outputs": []
    },
    {
      "cell_type": "code",
      "metadata": {
        "id": "ALt4X0iCPUw-"
      },
      "source": [
        "dummies_teste.columns"
      ],
      "execution_count": null,
      "outputs": []
    },
    {
      "cell_type": "code",
      "metadata": {
        "id": "HdHgv80bPUw_"
      },
      "source": [
        "explicativas_teste=pd.concat([quantitativas_teste_bining,dummies_teste],\n",
        "                      axis=1)"
      ],
      "execution_count": null,
      "outputs": []
    },
    {
      "cell_type": "code",
      "metadata": {
        "id": "ttqZPy8FPUxA"
      },
      "source": [
        "explicativas_teste.head()"
      ],
      "execution_count": null,
      "outputs": []
    },
    {
      "cell_type": "code",
      "metadata": {
        "id": "f3F-YXllPUxC"
      },
      "source": [
        "explicativas_teste.shape"
      ],
      "execution_count": null,
      "outputs": []
    },
    {
      "cell_type": "code",
      "metadata": {
        "id": "2_efE8iDPUxD"
      },
      "source": [
        "explicativas_teste.isnull().sum()"
      ],
      "execution_count": null,
      "outputs": []
    },
    {
      "cell_type": "code",
      "metadata": {
        "id": "pW6X8w2HPUxG"
      },
      "source": [
        "df_id = dados_teste[['id']]"
      ],
      "execution_count": null,
      "outputs": []
    },
    {
      "cell_type": "code",
      "metadata": {
        "id": "ZMDVux7FPUxI"
      },
      "source": [
        "df_id.head()"
      ],
      "execution_count": null,
      "outputs": []
    },
    {
      "cell_type": "code",
      "metadata": {
        "id": "N7kTFvVkPUxL"
      },
      "source": [
        "import joblib"
      ],
      "execution_count": null,
      "outputs": []
    },
    {
      "cell_type": "code",
      "metadata": {
        "id": "_s2ik2M9PUxN"
      },
      "source": [
        "modelo_salvo = joblib.load(open('modelo_exemplo_gb.pkl', 'rb'))"
      ],
      "execution_count": null,
      "outputs": []
    },
    {
      "cell_type": "code",
      "metadata": {
        "id": "YEwRMrFfPUxO"
      },
      "source": [
        "modelo_salvo"
      ],
      "execution_count": null,
      "outputs": []
    },
    {
      "cell_type": "code",
      "metadata": {
        "id": "fb1UtPlMPUxQ"
      },
      "source": [
        "resposta = modelo_salvo.predict(explicativas_teste)"
      ],
      "execution_count": null,
      "outputs": []
    },
    {
      "cell_type": "code",
      "metadata": {
        "id": "PvGXHDLSPUxS"
      },
      "source": [
        "resposta_df = pd.DataFrame(resposta, columns=['Churn'])"
      ],
      "execution_count": null,
      "outputs": []
    },
    {
      "cell_type": "code",
      "metadata": {
        "id": "tYGdrVZXPUxT"
      },
      "source": [
        "resposta_df.head()"
      ],
      "execution_count": null,
      "outputs": []
    },
    {
      "cell_type": "code",
      "metadata": {
        "id": "ePMExC3tPUxU"
      },
      "source": [
        "resultado_submissao = pd.concat([df_id,\n",
        "                                resposta_df], axis=1)"
      ],
      "execution_count": null,
      "outputs": []
    },
    {
      "cell_type": "code",
      "metadata": {
        "id": "9AGr1bb1PUxX"
      },
      "source": [
        "resultado_submissao.head().T"
      ],
      "execution_count": null,
      "outputs": []
    },
    {
      "cell_type": "code",
      "metadata": {
        "id": "Z9T0hs8wPUxY"
      },
      "source": [
        "resultado_submissao.to_csv('submissao_kaggle_2.csv', index=False)"
      ],
      "execution_count": null,
      "outputs": []
    },
    {
      "cell_type": "code",
      "metadata": {
        "id": "6mxiYpIDPUxa"
      },
      "source": [
        "csv = pd.read_csv('submissao_kaggle_2.csv',sep=',')"
      ],
      "execution_count": null,
      "outputs": []
    },
    {
      "cell_type": "code",
      "metadata": {
        "id": "p_gWNGA8PUxd"
      },
      "source": [
        "csv.head()"
      ],
      "execution_count": null,
      "outputs": []
    },
    {
      "cell_type": "code",
      "metadata": {
        "id": "Jopbj8i4PUxf"
      },
      "source": [
        ""
      ],
      "execution_count": null,
      "outputs": []
    },
    {
      "cell_type": "code",
      "metadata": {
        "id": "tJswSF5CPUxh"
      },
      "source": [
        ""
      ],
      "execution_count": null,
      "outputs": []
    },
    {
      "cell_type": "code",
      "metadata": {
        "id": "11IfeH-bPUxi"
      },
      "source": [
        ""
      ],
      "execution_count": null,
      "outputs": []
    }
  ]
}