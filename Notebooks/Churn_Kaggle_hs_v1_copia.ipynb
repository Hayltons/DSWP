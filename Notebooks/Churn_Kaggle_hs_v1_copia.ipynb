{
  "nbformat": 4,
  "nbformat_minor": 0,
  "metadata": {
    "kernelspec": {
      "display_name": "Python 3",
      "language": "python",
      "name": "python3"
    },
    "language_info": {
      "codemirror_mode": {
        "name": "ipython",
        "version": 3
      },
      "file_extension": ".py",
      "mimetype": "text/x-python",
      "name": "python",
      "nbconvert_exporter": "python",
      "pygments_lexer": "ipython3",
      "version": "3.7.6"
    },
    "toc": {
      "base_numbering": 1,
      "nav_menu": {},
      "number_sections": true,
      "sideBar": true,
      "skip_h1_title": true,
      "title_cell": "Table of Contents",
      "title_sidebar": "Contents",
      "toc_cell": false,
      "toc_position": {
        "height": "calc(100% - 180px)",
        "left": "10px",
        "top": "150px",
        "width": "341.306px"
      },
      "toc_section_display": true,
      "toc_window_display": true
    },
    "varInspector": {
      "cols": {
        "lenName": 16,
        "lenType": 16,
        "lenVar": 40
      },
      "kernels_config": {
        "python": {
          "delete_cmd_postfix": "",
          "delete_cmd_prefix": "del ",
          "library": "var_list.py",
          "varRefreshCmd": "print(var_dic_list())"
        },
        "r": {
          "delete_cmd_postfix": ") ",
          "delete_cmd_prefix": "rm(",
          "library": "var_list.r",
          "varRefreshCmd": "cat(var_dic_list()) "
        }
      },
      "types_to_exclude": [
        "module",
        "function",
        "builtin_function_or_method",
        "instance",
        "_Feature"
      ],
      "window_display": false
    },
    "colab": {
      "name": "Churn_Kaggle_hs.ipynb",
      "provenance": []
    }
  },
  "cells": [
    {
      "cell_type": "markdown",
      "metadata": {
        "id": "liluVuCHPY4W"
      },
      "source": [
        "## NOTEBOOK DE EXEMPLO - COPIADO DO MARIO - usado como base para aprendizado no Kaggle - Desafio Churn\n",
        "\n",
        "* Versão 1"
      ]
    },
    {
      "cell_type": "markdown",
      "metadata": {
        "id": "l8di6VsoPUq_"
      },
      "source": [
        "## Problema:\n",
        "O objetivo desta análise consiste em prever a probabilidade de churn dos clientes de uma empresa de telecomunicações, isto é, a probabilidade de o cliente deixar de ser cliente."
      ]
    },
    {
      "cell_type": "markdown",
      "metadata": {
        "id": "AgcOVcw8PUrB"
      },
      "source": [
        "## Controle de versões\n",
        "1. Versão 1 : Seleção de variáveis - uso de variaveis selecionadas no modelo <br>\n",
        "Score: ? <br>\n",
        "2. Versão: Uso de todas as variáveis no modelo<br>\n",
        "Score: ?"
      ]
    },
    {
      "cell_type": "markdown",
      "metadata": {
        "id": "HVe_ysSYPUrD"
      },
      "source": [
        "## Configuração do ambiente"
      ]
    },
    {
      "cell_type": "code",
      "metadata": {
        "id": "qfHPwU4fPUrF",
        "outputId": "a9e0390f-6c2e-4f31-b38e-0502a399672b",
        "colab": {
          "base_uri": "https://localhost:8080/"
        }
      },
      "source": [
        "from platform import python_version\n",
        "print(python_version())"
      ],
      "execution_count": null,
      "outputs": [
        {
          "output_type": "stream",
          "text": [
            "3.6.9\n"
          ],
          "name": "stdout"
        }
      ]
    },
    {
      "cell_type": "markdown",
      "metadata": {
        "id": "4By57kWoPUrM"
      },
      "source": [
        "## Obtenção dos dados"
      ]
    },
    {
      "cell_type": "markdown",
      "metadata": {
        "id": "CWtj2C0nPUrN"
      },
      "source": [
        "### Importação das bibliotecas"
      ]
    },
    {
      "cell_type": "code",
      "metadata": {
        "id": "CzCX0a1bPUrO"
      },
      "source": [
        "import pandas as pd\n",
        "import numpy as np\n",
        "import matplotlib.pyplot as plt\n",
        "import seaborn as sns\n",
        "import warnings\n",
        "warnings.filterwarnings(\"ignore\", category=FutureWarning)\n",
        "pd.options.display.float_format = '{:,.2f}'.format\n",
        "pd.set_option('display.max_columns', None)\n",
        "pd.set_option('display.max_rows', 72)"
      ],
      "execution_count": null,
      "outputs": []
    },
    {
      "cell_type": "markdown",
      "metadata": {
        "id": "rU0xVegqPUrT"
      },
      "source": [
        "### Carregamento dos dados"
      ]
    },
    {
      "cell_type": "code",
      "metadata": {
        "id": "KG0Ev5enYNy9"
      },
      "source": [
        "url = 'https://raw.githubusercontent.com/Hayltons/DSWP/Kaggle_Churn/Dataframes/1_churn_train.csv'"
      ],
      "execution_count": null,
      "outputs": []
    },
    {
      "cell_type": "code",
      "metadata": {
        "id": "12zFGJRrPUrU"
      },
      "source": [
        "df_treino = pd.read_csv(url,sep=',')"
      ],
      "execution_count": null,
      "outputs": []
    },
    {
      "cell_type": "markdown",
      "metadata": {
        "id": "jh0xw3vOPUre"
      },
      "source": [
        "### Visualização das linhas iniciais de dados"
      ]
    },
    {
      "cell_type": "code",
      "metadata": {
        "id": "MRNsTV3hPUrf",
        "outputId": "20c19ded-4335-462a-ba54-06678cdedc58",
        "colab": {
          "base_uri": "https://localhost:8080/",
          "height": 309
        }
      },
      "source": [
        "df_treino.head()"
      ],
      "execution_count": null,
      "outputs": [
        {
          "output_type": "execute_result",
          "data": {
            "text/html": [
              "<div>\n",
              "<style scoped>\n",
              "    .dataframe tbody tr th:only-of-type {\n",
              "        vertical-align: middle;\n",
              "    }\n",
              "\n",
              "    .dataframe tbody tr th {\n",
              "        vertical-align: top;\n",
              "    }\n",
              "\n",
              "    .dataframe thead th {\n",
              "        text-align: right;\n",
              "    }\n",
              "</style>\n",
              "<table border=\"1\" class=\"dataframe\">\n",
              "  <thead>\n",
              "    <tr style=\"text-align: right;\">\n",
              "      <th></th>\n",
              "      <th>id</th>\n",
              "      <th>gender</th>\n",
              "      <th>SeniorCitizen</th>\n",
              "      <th>Partner</th>\n",
              "      <th>Dependents</th>\n",
              "      <th>tenure</th>\n",
              "      <th>PhoneService</th>\n",
              "      <th>MultipleLines</th>\n",
              "      <th>InternetService</th>\n",
              "      <th>OnlineSecurity</th>\n",
              "      <th>OnlineBackup</th>\n",
              "      <th>DeviceProtection</th>\n",
              "      <th>TechSupport</th>\n",
              "      <th>StreamingTV</th>\n",
              "      <th>StreamingMovies</th>\n",
              "      <th>Contract</th>\n",
              "      <th>PaperlessBilling</th>\n",
              "      <th>PaymentMethod</th>\n",
              "      <th>MonthlyCharges</th>\n",
              "      <th>TotalCharges</th>\n",
              "      <th>Churn</th>\n",
              "    </tr>\n",
              "  </thead>\n",
              "  <tbody>\n",
              "    <tr>\n",
              "      <th>0</th>\n",
              "      <td>4030</td>\n",
              "      <td>Female</td>\n",
              "      <td>0</td>\n",
              "      <td>No</td>\n",
              "      <td>No</td>\n",
              "      <td>56.00</td>\n",
              "      <td>No</td>\n",
              "      <td>No phone service</td>\n",
              "      <td>DSL</td>\n",
              "      <td>Yes</td>\n",
              "      <td>Yes</td>\n",
              "      <td>Yes</td>\n",
              "      <td>Yes</td>\n",
              "      <td>No</td>\n",
              "      <td>No</td>\n",
              "      <td>Two year</td>\n",
              "      <td>No</td>\n",
              "      <td>NaN</td>\n",
              "      <td>45.05</td>\n",
              "      <td>2560.1</td>\n",
              "      <td>0</td>\n",
              "    </tr>\n",
              "    <tr>\n",
              "      <th>1</th>\n",
              "      <td>6731</td>\n",
              "      <td>Male</td>\n",
              "      <td>0</td>\n",
              "      <td>Yes</td>\n",
              "      <td>Yes</td>\n",
              "      <td>nan</td>\n",
              "      <td>Yes</td>\n",
              "      <td>No</td>\n",
              "      <td>No</td>\n",
              "      <td>No internet service</td>\n",
              "      <td>No internet service</td>\n",
              "      <td>No internet service</td>\n",
              "      <td>No internet service</td>\n",
              "      <td>No internet service</td>\n",
              "      <td>No internet service</td>\n",
              "      <td>One year</td>\n",
              "      <td>No</td>\n",
              "      <td>Mailed check</td>\n",
              "      <td>19.65</td>\n",
              "      <td>332.65</td>\n",
              "      <td>0</td>\n",
              "    </tr>\n",
              "    <tr>\n",
              "      <th>2</th>\n",
              "      <td>6479</td>\n",
              "      <td>Female</td>\n",
              "      <td>0</td>\n",
              "      <td>Yes</td>\n",
              "      <td>No</td>\n",
              "      <td>60.00</td>\n",
              "      <td>Yes</td>\n",
              "      <td>Yes</td>\n",
              "      <td>Fiber optic</td>\n",
              "      <td>No</td>\n",
              "      <td>Yes</td>\n",
              "      <td>Yes</td>\n",
              "      <td>Yes</td>\n",
              "      <td>Yes</td>\n",
              "      <td>Yes</td>\n",
              "      <td>Two year</td>\n",
              "      <td>Yes</td>\n",
              "      <td>Credit card (automatic)</td>\n",
              "      <td>110.80</td>\n",
              "      <td>6640.7</td>\n",
              "      <td>0</td>\n",
              "    </tr>\n",
              "    <tr>\n",
              "      <th>3</th>\n",
              "      <td>6861</td>\n",
              "      <td>Female</td>\n",
              "      <td>0</td>\n",
              "      <td>No</td>\n",
              "      <td>No</td>\n",
              "      <td>37.00</td>\n",
              "      <td>Yes</td>\n",
              "      <td>Yes</td>\n",
              "      <td>Fiber optic</td>\n",
              "      <td>No</td>\n",
              "      <td>Yes</td>\n",
              "      <td>Yes</td>\n",
              "      <td>No</td>\n",
              "      <td>Yes</td>\n",
              "      <td>Yes</td>\n",
              "      <td>Month-to-month</td>\n",
              "      <td>Yes</td>\n",
              "      <td>Bank transfer (automatic)</td>\n",
              "      <td>101.90</td>\n",
              "      <td>3545.35</td>\n",
              "      <td>1</td>\n",
              "    </tr>\n",
              "    <tr>\n",
              "      <th>4</th>\n",
              "      <td>3266</td>\n",
              "      <td>Male</td>\n",
              "      <td>0</td>\n",
              "      <td>Yes</td>\n",
              "      <td>Yes</td>\n",
              "      <td>29.00</td>\n",
              "      <td>Yes</td>\n",
              "      <td>No</td>\n",
              "      <td>Fiber optic</td>\n",
              "      <td>No</td>\n",
              "      <td>No</td>\n",
              "      <td>No</td>\n",
              "      <td>No</td>\n",
              "      <td>No</td>\n",
              "      <td>No</td>\n",
              "      <td>Month-to-month</td>\n",
              "      <td>Yes</td>\n",
              "      <td>Electronic check</td>\n",
              "      <td>70.75</td>\n",
              "      <td>1974.8</td>\n",
              "      <td>1</td>\n",
              "    </tr>\n",
              "  </tbody>\n",
              "</table>\n",
              "</div>"
            ],
            "text/plain": [
              "     id  gender  SeniorCitizen Partner Dependents  tenure PhoneService  \\\n",
              "0  4030  Female              0      No         No   56.00           No   \n",
              "1  6731    Male              0     Yes        Yes     nan          Yes   \n",
              "2  6479  Female              0     Yes         No   60.00          Yes   \n",
              "3  6861  Female              0      No         No   37.00          Yes   \n",
              "4  3266    Male              0     Yes        Yes   29.00          Yes   \n",
              "\n",
              "      MultipleLines InternetService       OnlineSecurity         OnlineBackup  \\\n",
              "0  No phone service             DSL                  Yes                  Yes   \n",
              "1                No              No  No internet service  No internet service   \n",
              "2               Yes     Fiber optic                   No                  Yes   \n",
              "3               Yes     Fiber optic                   No                  Yes   \n",
              "4                No     Fiber optic                   No                   No   \n",
              "\n",
              "      DeviceProtection          TechSupport          StreamingTV  \\\n",
              "0                  Yes                  Yes                   No   \n",
              "1  No internet service  No internet service  No internet service   \n",
              "2                  Yes                  Yes                  Yes   \n",
              "3                  Yes                   No                  Yes   \n",
              "4                   No                   No                   No   \n",
              "\n",
              "       StreamingMovies        Contract PaperlessBilling  \\\n",
              "0                   No        Two year               No   \n",
              "1  No internet service        One year               No   \n",
              "2                  Yes        Two year              Yes   \n",
              "3                  Yes  Month-to-month              Yes   \n",
              "4                   No  Month-to-month              Yes   \n",
              "\n",
              "               PaymentMethod  MonthlyCharges TotalCharges  Churn  \n",
              "0                        NaN           45.05       2560.1      0  \n",
              "1               Mailed check           19.65       332.65      0  \n",
              "2    Credit card (automatic)          110.80       6640.7      0  \n",
              "3  Bank transfer (automatic)          101.90      3545.35      1  \n",
              "4           Electronic check           70.75       1974.8      1  "
            ]
          },
          "metadata": {
            "tags": []
          },
          "execution_count": 5
        }
      ]
    },
    {
      "cell_type": "code",
      "metadata": {
        "id": "h8SQTfBcDYrv"
      },
      "source": [
        "df_treino.tail()"
      ],
      "execution_count": null,
      "outputs": []
    },
    {
      "cell_type": "markdown",
      "metadata": {
        "id": "AkziuiCCPUrl"
      },
      "source": [
        "## Manipulação inicial do banco de dados"
      ]
    },
    {
      "cell_type": "markdown",
      "metadata": {
        "id": "OmUYp6WNPUrm"
      },
      "source": [
        "### Renomeando as colunas do Dataframe para minusculas"
      ]
    },
    {
      "cell_type": "code",
      "metadata": {
        "id": "X5S3fRWuPUrn"
      },
      "source": [
        "df_treino.columns = df_treino.columns.str.lower()"
      ],
      "execution_count": null,
      "outputs": []
    },
    {
      "cell_type": "code",
      "metadata": {
        "id": "HsyQvvYPaPqF"
      },
      "source": [
        "df_treino.columns"
      ],
      "execution_count": null,
      "outputs": []
    },
    {
      "cell_type": "markdown",
      "metadata": {
        "id": "Q7th6qQDPUrr"
      },
      "source": [
        "### Visualizando o banco de dados"
      ]
    },
    {
      "cell_type": "code",
      "metadata": {
        "id": "e2R55DalPUrs"
      },
      "source": [
        "df_treino.head(10).T  #.T faz a transposta da exibiçao do comando head"
      ],
      "execution_count": null,
      "outputs": []
    },
    {
      "cell_type": "markdown",
      "metadata": {
        "id": "NhY-xHGnPUrx"
      },
      "source": [
        "### Verificando os tipos de dados"
      ]
    },
    {
      "cell_type": "code",
      "metadata": {
        "id": "vOZt-E-XPUry"
      },
      "source": [
        "df_treino.info()"
      ],
      "execution_count": null,
      "outputs": []
    },
    {
      "cell_type": "markdown",
      "metadata": {
        "id": "TGTn0zeFPUr2"
      },
      "source": [
        "## EDA - Análise Exploratória de Dados"
      ]
    },
    {
      "cell_type": "markdown",
      "metadata": {
        "id": "6mWI4La7PUr3"
      },
      "source": [
        "### Separando as variáveis por tipo"
      ]
    },
    {
      "cell_type": "code",
      "metadata": {
        "id": "WEBvkLLKPUr5"
      },
      "source": [
        "df_quant = df_treino[['tenure','monthlycharges','totalcharges']]\n",
        "df_categ = df_treino.drop(columns=['id','tenure','monthlycharges','totalcharges','churn'], axis=1)\n",
        "df_target = df_treino['churn']"
      ],
      "execution_count": null,
      "outputs": []
    },
    {
      "cell_type": "code",
      "metadata": {
        "id": "ZH64Xg8pPUr_",
        "outputId": "aafa75fd-afc8-4be0-9583-217dab1c8b57",
        "colab": {
          "base_uri": "https://localhost:8080/",
          "height": 204
        }
      },
      "source": [
        "df_quant.head()"
      ],
      "execution_count": null,
      "outputs": [
        {
          "output_type": "execute_result",
          "data": {
            "text/html": [
              "<div>\n",
              "<style scoped>\n",
              "    .dataframe tbody tr th:only-of-type {\n",
              "        vertical-align: middle;\n",
              "    }\n",
              "\n",
              "    .dataframe tbody tr th {\n",
              "        vertical-align: top;\n",
              "    }\n",
              "\n",
              "    .dataframe thead th {\n",
              "        text-align: right;\n",
              "    }\n",
              "</style>\n",
              "<table border=\"1\" class=\"dataframe\">\n",
              "  <thead>\n",
              "    <tr style=\"text-align: right;\">\n",
              "      <th></th>\n",
              "      <th>tenure</th>\n",
              "      <th>monthlycharges</th>\n",
              "      <th>totalcharges</th>\n",
              "    </tr>\n",
              "  </thead>\n",
              "  <tbody>\n",
              "    <tr>\n",
              "      <th>0</th>\n",
              "      <td>56.00</td>\n",
              "      <td>45.05</td>\n",
              "      <td>2560.1</td>\n",
              "    </tr>\n",
              "    <tr>\n",
              "      <th>1</th>\n",
              "      <td>nan</td>\n",
              "      <td>19.65</td>\n",
              "      <td>332.65</td>\n",
              "    </tr>\n",
              "    <tr>\n",
              "      <th>2</th>\n",
              "      <td>60.00</td>\n",
              "      <td>110.80</td>\n",
              "      <td>6640.7</td>\n",
              "    </tr>\n",
              "    <tr>\n",
              "      <th>3</th>\n",
              "      <td>37.00</td>\n",
              "      <td>101.90</td>\n",
              "      <td>3545.35</td>\n",
              "    </tr>\n",
              "    <tr>\n",
              "      <th>4</th>\n",
              "      <td>29.00</td>\n",
              "      <td>70.75</td>\n",
              "      <td>1974.8</td>\n",
              "    </tr>\n",
              "  </tbody>\n",
              "</table>\n",
              "</div>"
            ],
            "text/plain": [
              "   tenure  monthlycharges totalcharges\n",
              "0   56.00           45.05       2560.1\n",
              "1     nan           19.65       332.65\n",
              "2   60.00          110.80       6640.7\n",
              "3   37.00          101.90      3545.35\n",
              "4   29.00           70.75       1974.8"
            ]
          },
          "metadata": {
            "tags": []
          },
          "execution_count": 8
        }
      ]
    },
    {
      "cell_type": "code",
      "metadata": {
        "id": "e68an48HC7Ma"
      },
      "source": [
        "df_quant.tail()"
      ],
      "execution_count": null,
      "outputs": []
    },
    {
      "cell_type": "code",
      "metadata": {
        "id": "V2CnnivOPUsF"
      },
      "source": [
        "df_categ.head()"
      ],
      "execution_count": null,
      "outputs": []
    },
    {
      "cell_type": "code",
      "metadata": {
        "id": "KgJWgDxePUsI"
      },
      "source": [
        "df_target.head()"
      ],
      "execution_count": null,
      "outputs": []
    },
    {
      "cell_type": "markdown",
      "metadata": {
        "id": "4FusAbYkPUsL"
      },
      "source": [
        "### Variáveis df_quant"
      ]
    },
    {
      "cell_type": "markdown",
      "metadata": {
        "id": "TGggAxILPUsM"
      },
      "source": [
        "#### Verificação dos tipos de dados das variáveis df_quant"
      ]
    },
    {
      "cell_type": "code",
      "metadata": {
        "id": "NMIYKm7DPUsN",
        "outputId": "a2747118-c966-4971-9922-9c15f8ce145b",
        "colab": {
          "base_uri": "https://localhost:8080/"
        }
      },
      "source": [
        "df_quant.dtypes"
      ],
      "execution_count": null,
      "outputs": [
        {
          "output_type": "execute_result",
          "data": {
            "text/plain": [
              "tenure            float64\n",
              "monthlycharges    float64\n",
              "totalcharges       object\n",
              "dtype: object"
            ]
          },
          "metadata": {
            "tags": []
          },
          "execution_count": 9
        }
      ]
    },
    {
      "cell_type": "markdown",
      "metadata": {
        "id": "IlTyRFEWPUsQ"
      },
      "source": [
        "#### Correção da variável 'totalcharges'\n",
        "Essa variável é quantitativa, mas foi importada como sendo do tipo Object. <br>\n",
        "Portanto, precisa ser alterada para o tipo numerico."
      ]
    },
    {
      "cell_type": "code",
      "metadata": {
        "id": "ivCwxh4jPUsT"
      },
      "source": [
        "df_treino['totalcharges'] = pd.to_numeric(df_treino['totalcharges'], errors='coerce')"
      ],
      "execution_count": null,
      "outputs": []
    },
    {
      "cell_type": "code",
      "metadata": {
        "id": "i71Jo5JlCkXp",
        "outputId": "6698cf9a-4832-4c79-e9a5-6750bccdf4fd",
        "colab": {
          "base_uri": "https://localhost:8080/"
        }
      },
      "source": [
        "df_quant['totalcharges'] = pd.to_numeric(df_quant['totalcharges'], errors='coerce')"
      ],
      "execution_count": null,
      "outputs": [
        {
          "output_type": "stream",
          "text": [
            "/usr/local/lib/python3.6/dist-packages/ipykernel_launcher.py:1: SettingWithCopyWarning: \n",
            "A value is trying to be set on a copy of a slice from a DataFrame.\n",
            "Try using .loc[row_indexer,col_indexer] = value instead\n",
            "\n",
            "See the caveats in the documentation: https://pandas.pydata.org/pandas-docs/stable/user_guide/indexing.html#returning-a-view-versus-a-copy\n",
            "  \"\"\"Entry point for launching an IPython kernel.\n"
          ],
          "name": "stderr"
        }
      ]
    },
    {
      "cell_type": "code",
      "metadata": {
        "id": "YQiR5I5HCl2R",
        "outputId": "a00d5bcb-f10f-42e5-9087-a15b5814a0a3",
        "colab": {
          "base_uri": "https://localhost:8080/",
          "height": 204
        }
      },
      "source": [
        "df_quant.tail(5)"
      ],
      "execution_count": null,
      "outputs": [
        {
          "output_type": "execute_result",
          "data": {
            "text/html": [
              "<div>\n",
              "<style scoped>\n",
              "    .dataframe tbody tr th:only-of-type {\n",
              "        vertical-align: middle;\n",
              "    }\n",
              "\n",
              "    .dataframe tbody tr th {\n",
              "        vertical-align: top;\n",
              "    }\n",
              "\n",
              "    .dataframe thead th {\n",
              "        text-align: right;\n",
              "    }\n",
              "</style>\n",
              "<table border=\"1\" class=\"dataframe\">\n",
              "  <thead>\n",
              "    <tr style=\"text-align: right;\">\n",
              "      <th></th>\n",
              "      <th>tenure</th>\n",
              "      <th>monthlycharges</th>\n",
              "      <th>totalcharges</th>\n",
              "    </tr>\n",
              "  </thead>\n",
              "  <tbody>\n",
              "    <tr>\n",
              "      <th>5629</th>\n",
              "      <td>43.00</td>\n",
              "      <td>44.15</td>\n",
              "      <td>1,931.30</td>\n",
              "    </tr>\n",
              "    <tr>\n",
              "      <th>5630</th>\n",
              "      <td>nan</td>\n",
              "      <td>108.65</td>\n",
              "      <td>4,903.20</td>\n",
              "    </tr>\n",
              "    <tr>\n",
              "      <th>5631</th>\n",
              "      <td>28.00</td>\n",
              "      <td>54.65</td>\n",
              "      <td>1,517.50</td>\n",
              "    </tr>\n",
              "    <tr>\n",
              "      <th>5632</th>\n",
              "      <td>63.00</td>\n",
              "      <td>25.25</td>\n",
              "      <td>1,573.05</td>\n",
              "    </tr>\n",
              "    <tr>\n",
              "      <th>5633</th>\n",
              "      <td>38.00</td>\n",
              "      <td>95.00</td>\n",
              "      <td>3,605.60</td>\n",
              "    </tr>\n",
              "  </tbody>\n",
              "</table>\n",
              "</div>"
            ],
            "text/plain": [
              "      tenure  monthlycharges  totalcharges\n",
              "5629   43.00           44.15      1,931.30\n",
              "5630     nan          108.65      4,903.20\n",
              "5631   28.00           54.65      1,517.50\n",
              "5632   63.00           25.25      1,573.05\n",
              "5633   38.00           95.00      3,605.60"
            ]
          },
          "metadata": {
            "tags": []
          },
          "execution_count": 12
        }
      ]
    },
    {
      "cell_type": "markdown",
      "metadata": {
        "id": "3nbr5fXyPUsV"
      },
      "source": [
        "#### Verificação dos tipos de dados.\n",
        "Verifica-se que totalcharges foi corrigida."
      ]
    },
    {
      "cell_type": "code",
      "metadata": {
        "id": "wBB5mT0sPUsW",
        "outputId": "31923bc1-dfdf-499f-9f5d-99d42c45d8d8",
        "colab": {
          "base_uri": "https://localhost:8080/"
        }
      },
      "source": [
        "df_quant.info()"
      ],
      "execution_count": null,
      "outputs": [
        {
          "output_type": "stream",
          "text": [
            "<class 'pandas.core.frame.DataFrame'>\n",
            "RangeIndex: 5634 entries, 0 to 5633\n",
            "Data columns (total 3 columns):\n",
            " #   Column          Non-Null Count  Dtype  \n",
            "---  ------          --------------  -----  \n",
            " 0   tenure          5173 non-null   float64\n",
            " 1   monthlycharges  5634 non-null   float64\n",
            " 2   totalcharges    5626 non-null   float64\n",
            "dtypes: float64(3)\n",
            "memory usage: 132.2 KB\n"
          ],
          "name": "stdout"
        }
      ]
    },
    {
      "cell_type": "markdown",
      "metadata": {
        "id": "4GUWV0ZpPUsa"
      },
      "source": [
        "#### Sumário estatístico das variáveis df_quant"
      ]
    },
    {
      "cell_type": "code",
      "metadata": {
        "scrolled": false,
        "id": "3S-W8aSsPUsb",
        "outputId": "1b02d635-0599-46a3-aa04-7691c9814bd0",
        "colab": {
          "base_uri": "https://localhost:8080/",
          "height": 297
        }
      },
      "source": [
        "df_quant.describe()"
      ],
      "execution_count": null,
      "outputs": [
        {
          "output_type": "execute_result",
          "data": {
            "text/html": [
              "<div>\n",
              "<style scoped>\n",
              "    .dataframe tbody tr th:only-of-type {\n",
              "        vertical-align: middle;\n",
              "    }\n",
              "\n",
              "    .dataframe tbody tr th {\n",
              "        vertical-align: top;\n",
              "    }\n",
              "\n",
              "    .dataframe thead th {\n",
              "        text-align: right;\n",
              "    }\n",
              "</style>\n",
              "<table border=\"1\" class=\"dataframe\">\n",
              "  <thead>\n",
              "    <tr style=\"text-align: right;\">\n",
              "      <th></th>\n",
              "      <th>tenure</th>\n",
              "      <th>monthlycharges</th>\n",
              "      <th>totalcharges</th>\n",
              "    </tr>\n",
              "  </thead>\n",
              "  <tbody>\n",
              "    <tr>\n",
              "      <th>count</th>\n",
              "      <td>5,173.00</td>\n",
              "      <td>5,634.00</td>\n",
              "      <td>5,626.00</td>\n",
              "    </tr>\n",
              "    <tr>\n",
              "      <th>mean</th>\n",
              "      <td>32.33</td>\n",
              "      <td>64.63</td>\n",
              "      <td>2,273.51</td>\n",
              "    </tr>\n",
              "    <tr>\n",
              "      <th>std</th>\n",
              "      <td>24.46</td>\n",
              "      <td>30.02</td>\n",
              "      <td>2,258.38</td>\n",
              "    </tr>\n",
              "    <tr>\n",
              "      <th>min</th>\n",
              "      <td>0.00</td>\n",
              "      <td>18.25</td>\n",
              "      <td>18.80</td>\n",
              "    </tr>\n",
              "    <tr>\n",
              "      <th>25%</th>\n",
              "      <td>9.00</td>\n",
              "      <td>35.46</td>\n",
              "      <td>401.59</td>\n",
              "    </tr>\n",
              "    <tr>\n",
              "      <th>50%</th>\n",
              "      <td>29.00</td>\n",
              "      <td>70.25</td>\n",
              "      <td>1,396.12</td>\n",
              "    </tr>\n",
              "    <tr>\n",
              "      <th>75%</th>\n",
              "      <td>55.00</td>\n",
              "      <td>89.80</td>\n",
              "      <td>3,764.29</td>\n",
              "    </tr>\n",
              "    <tr>\n",
              "      <th>max</th>\n",
              "      <td>72.00</td>\n",
              "      <td>118.75</td>\n",
              "      <td>8,684.80</td>\n",
              "    </tr>\n",
              "  </tbody>\n",
              "</table>\n",
              "</div>"
            ],
            "text/plain": [
              "        tenure  monthlycharges  totalcharges\n",
              "count 5,173.00        5,634.00      5,626.00\n",
              "mean     32.33           64.63      2,273.51\n",
              "std      24.46           30.02      2,258.38\n",
              "min       0.00           18.25         18.80\n",
              "25%       9.00           35.46        401.59\n",
              "50%      29.00           70.25      1,396.12\n",
              "75%      55.00           89.80      3,764.29\n",
              "max      72.00          118.75      8,684.80"
            ]
          },
          "metadata": {
            "tags": []
          },
          "execution_count": 14
        }
      ]
    },
    {
      "cell_type": "markdown",
      "metadata": {
        "id": "BDUUkRN2PUse"
      },
      "source": [
        "#### Boxplot"
      ]
    },
    {
      "cell_type": "code",
      "metadata": {
        "id": "ZEB9X6vYPUsf",
        "outputId": "ee7d2290-8566-4169-f760-daaa8e58687f",
        "colab": {
          "base_uri": "https://localhost:8080/",
          "height": 530
        }
      },
      "source": [
        "sns.catplot(data=df_quant,\n",
        "              kind='box',\n",
        "              height=7,\n",
        "              aspect=2.5)"
      ],
      "execution_count": null,
      "outputs": [
        {
          "output_type": "execute_result",
          "data": {
            "text/plain": [
              "<seaborn.axisgrid.FacetGrid at 0x7fbccc65d8d0>"
            ]
          },
          "metadata": {
            "tags": []
          },
          "execution_count": 15
        },
        {
          "output_type": "display_data",
          "data": {
            "image/png": "[encoded data removed]",
            "text/plain": [
              "<Figure size 1260x504 with 1 Axes>"
            ]
          },
          "metadata": {
            "tags": [],
            "needs_background": "light"
          }
        }
      ]
    },
    {
      "cell_type": "markdown",
      "metadata": {
        "id": "kzV7LOC-PUsh"
      },
      "source": [
        "#### Verificação dos missing values das variáveis df_quant"
      ]
    },
    {
      "cell_type": "code",
      "metadata": {
        "id": "YtRlhqRoPUsi",
        "outputId": "3a9cbde8-061a-45d0-ec4f-12a8d6430541",
        "colab": {
          "base_uri": "https://localhost:8080/"
        }
      },
      "source": [
        "df_quant.isnull().sum()"
      ],
      "execution_count": null,
      "outputs": [
        {
          "output_type": "execute_result",
          "data": {
            "text/plain": [
              "tenure            461\n",
              "monthlycharges      0\n",
              "totalcharges        8\n",
              "dtype: int64"
            ]
          },
          "metadata": {
            "tags": []
          },
          "execution_count": 16
        }
      ]
    },
    {
      "cell_type": "markdown",
      "metadata": {
        "id": "N0eFMvY6PUsm"
      },
      "source": [
        "#### Variável quantitativa 'monthlycharges'"
      ]
    },
    {
      "cell_type": "code",
      "metadata": {
        "id": "huSnX-jYPUsm"
      },
      "source": [
        "df_quant[['monthlycharges']].hist(bins=150)"
      ],
      "execution_count": null,
      "outputs": []
    },
    {
      "cell_type": "code",
      "metadata": {
        "id": "b8zHFdcPPUsp"
      },
      "source": [
        "df_quant[['monthlycharges']].mode()"
      ],
      "execution_count": null,
      "outputs": []
    },
    {
      "cell_type": "code",
      "metadata": {
        "id": "-bc0axtOPUsr"
      },
      "source": [
        "df_quant[['monthlycharges']].describe()"
      ],
      "execution_count": null,
      "outputs": []
    },
    {
      "cell_type": "code",
      "metadata": {
        "id": "ocNzfmDjPUsu"
      },
      "source": [
        "# Coeficiente de variação\n",
        "df_quant[['monthlycharges']].std()/df_quant[['monthlycharges']].mean()*100"
      ],
      "execution_count": null,
      "outputs": []
    },
    {
      "cell_type": "code",
      "metadata": {
        "id": "W6OhbbzLPUsx"
      },
      "source": [
        "sns.catplot(data=df_quant[['monthlycharges']],\n",
        "              kind='box',\n",
        "              height=2.5,\n",
        "              aspect=2.5)"
      ],
      "execution_count": null,
      "outputs": []
    },
    {
      "cell_type": "markdown",
      "metadata": {
        "id": "q5Wi5wf_PUs0"
      },
      "source": [
        "#### Variável quantitativa 'totalcharges'"
      ]
    },
    {
      "cell_type": "code",
      "metadata": {
        "id": "t3usFwn_6_a-"
      },
      "source": [
        "df_quant[['totalcharges']].hist(bins=150)"
      ],
      "execution_count": null,
      "outputs": []
    },
    {
      "cell_type": "code",
      "metadata": {
        "id": "xueMYZgXPUs1"
      },
      "source": [
        "df_quant[['totalcharges']].describe()"
      ],
      "execution_count": null,
      "outputs": []
    },
    {
      "cell_type": "code",
      "metadata": {
        "id": "GHaE7wwdPUs3"
      },
      "source": [
        "# Coeficiente de variação\n",
        "df_quant[['totalcharges']].std() / df_quant[['totalcharges']].mean() * 100"
      ],
      "execution_count": null,
      "outputs": []
    },
    {
      "cell_type": "code",
      "metadata": {
        "scrolled": true,
        "id": "sQoKHSMpPUs6"
      },
      "source": [
        "df_quant[['totalcharges']].mode()"
      ],
      "execution_count": null,
      "outputs": []
    },
    {
      "cell_type": "code",
      "metadata": {
        "id": "CnvWFxEcPUtB"
      },
      "source": [
        "sns.catplot(data=df_quant[['totalcharges']],\n",
        "              kind='box',\n",
        "              height=3,\n",
        "              aspect=2.5)"
      ],
      "execution_count": null,
      "outputs": []
    },
    {
      "cell_type": "code",
      "metadata": {
        "id": "J-qvspwcPUtE",
        "outputId": "2ad53a05-cff6-40ed-c490-0f98d267fe12",
        "colab": {
          "base_uri": "https://localhost:8080/"
        }
      },
      "source": [
        "df_quant['totalcharges_2'] = df_quant['totalcharges'].fillna(df_quant['totalcharges'].mode()[0])"
      ],
      "execution_count": null,
      "outputs": [
        {
          "output_type": "stream",
          "text": [
            "/usr/local/lib/python3.6/dist-packages/ipykernel_launcher.py:1: SettingWithCopyWarning: \n",
            "A value is trying to be set on a copy of a slice from a DataFrame.\n",
            "Try using .loc[row_indexer,col_indexer] = value instead\n",
            "\n",
            "See the caveats in the documentation: https://pandas.pydata.org/pandas-docs/stable/user_guide/indexing.html#returning-a-view-versus-a-copy\n",
            "  \"\"\"Entry point for launching an IPython kernel.\n"
          ],
          "name": "stderr"
        }
      ]
    },
    {
      "cell_type": "code",
      "metadata": {
        "id": "qpsiC_KSPUtG",
        "outputId": "c1e8e372-1b87-4c31-ce07-68055a737713",
        "colab": {
          "base_uri": "https://localhost:8080/"
        }
      },
      "source": [
        "df_quant[['totalcharges_2']].isnull().any()"
      ],
      "execution_count": null,
      "outputs": [
        {
          "output_type": "execute_result",
          "data": {
            "text/plain": [
              "totalcharges_2    False\n",
              "dtype: bool"
            ]
          },
          "metadata": {
            "tags": []
          },
          "execution_count": 18
        }
      ]
    },
    {
      "cell_type": "markdown",
      "metadata": {
        "id": "xtlDt9cQPUtJ"
      },
      "source": [
        "#### Variável quantitativa 'tenure' (quantidade de meses como cliente da companhia)"
      ]
    },
    {
      "cell_type": "code",
      "metadata": {
        "id": "xWsLZSyOPUtJ"
      },
      "source": [
        "df_quant.head(23).T"
      ],
      "execution_count": null,
      "outputs": []
    },
    {
      "cell_type": "code",
      "metadata": {
        "id": "PjfLeUAxPUtM"
      },
      "source": [
        "df_quant['RazaoCobrTotalMensal'] = df_quant['totalcharges']/df_quant['monthlycharges']"
      ],
      "execution_count": null,
      "outputs": []
    },
    {
      "cell_type": "code",
      "metadata": {
        "id": "4VQxq0ebPUtQ"
      },
      "source": [
        "df_quant['DiferencapercRazaoCobrTotMensal'] = (df_quant['tenure']-df_quant['RazaoCobrTotalMensal'])/df_quant['tenure']"
      ],
      "execution_count": null,
      "outputs": []
    },
    {
      "cell_type": "markdown",
      "metadata": {
        "id": "O03YNLpMPUtT"
      },
      "source": [
        "Verifica-se que a razão entre os valores das variáveis CobrancaTotal e CobrancaMensal é um bom indicador<br>\n",
        "do valor da variável MesesNaCompanhia. Dessa forma, vamos usar essa razão para preencher os valores faltantes <br>\n",
        "da variável 'MesesNaCompanhia'."
      ]
    },
    {
      "cell_type": "code",
      "metadata": {
        "id": "K1CPUaq7PUtU"
      },
      "source": [
        "df_quant.tail(23).T"
      ],
      "execution_count": null,
      "outputs": []
    },
    {
      "cell_type": "code",
      "metadata": {
        "id": "191WypIpPUtX"
      },
      "source": [
        "df_quant = df_quant.drop(columns=['RazaoCobrTotalMensal','DiferencapercRazaoCobrTotMensal'],\n",
        "                   axis=1)"
      ],
      "execution_count": null,
      "outputs": []
    },
    {
      "cell_type": "code",
      "metadata": {
        "id": "1C19x7WHPUtZ"
      },
      "source": [
        "df_quant.head().T"
      ],
      "execution_count": null,
      "outputs": []
    },
    {
      "cell_type": "code",
      "metadata": {
        "id": "fBd3m7guPUtc",
        "outputId": "ce975b11-eb58-4b62-c82b-91bb13638562",
        "colab": {
          "base_uri": "https://localhost:8080/"
        }
      },
      "source": [
        "df_quant['tenure_2']  = df_quant['tenure'].fillna(df_quant['totalcharges_2']/df_quant['monthlycharges'])"
      ],
      "execution_count": null,
      "outputs": [
        {
          "output_type": "stream",
          "text": [
            "/usr/local/lib/python3.6/dist-packages/ipykernel_launcher.py:1: SettingWithCopyWarning: \n",
            "A value is trying to be set on a copy of a slice from a DataFrame.\n",
            "Try using .loc[row_indexer,col_indexer] = value instead\n",
            "\n",
            "See the caveats in the documentation: https://pandas.pydata.org/pandas-docs/stable/user_guide/indexing.html#returning-a-view-versus-a-copy\n",
            "  \"\"\"Entry point for launching an IPython kernel.\n"
          ],
          "name": "stderr"
        }
      ]
    },
    {
      "cell_type": "code",
      "metadata": {
        "id": "qMpSjslSPUtg",
        "outputId": "13f42571-63ac-44dc-dbbe-334e49201590",
        "colab": {
          "base_uri": "https://localhost:8080/",
          "height": 204
        }
      },
      "source": [
        "df_quant.head(20).T"
      ],
      "execution_count": null,
      "outputs": [
        {
          "output_type": "execute_result",
          "data": {
            "text/html": [
              "<div>\n",
              "<style scoped>\n",
              "    .dataframe tbody tr th:only-of-type {\n",
              "        vertical-align: middle;\n",
              "    }\n",
              "\n",
              "    .dataframe tbody tr th {\n",
              "        vertical-align: top;\n",
              "    }\n",
              "\n",
              "    .dataframe thead th {\n",
              "        text-align: right;\n",
              "    }\n",
              "</style>\n",
              "<table border=\"1\" class=\"dataframe\">\n",
              "  <thead>\n",
              "    <tr style=\"text-align: right;\">\n",
              "      <th></th>\n",
              "      <th>0</th>\n",
              "      <th>1</th>\n",
              "      <th>2</th>\n",
              "      <th>3</th>\n",
              "      <th>4</th>\n",
              "      <th>5</th>\n",
              "      <th>6</th>\n",
              "      <th>7</th>\n",
              "      <th>8</th>\n",
              "      <th>9</th>\n",
              "      <th>10</th>\n",
              "      <th>11</th>\n",
              "      <th>12</th>\n",
              "      <th>13</th>\n",
              "      <th>14</th>\n",
              "      <th>15</th>\n",
              "      <th>16</th>\n",
              "      <th>17</th>\n",
              "      <th>18</th>\n",
              "      <th>19</th>\n",
              "    </tr>\n",
              "  </thead>\n",
              "  <tbody>\n",
              "    <tr>\n",
              "      <th>tenure</th>\n",
              "      <td>56.00</td>\n",
              "      <td>nan</td>\n",
              "      <td>60.00</td>\n",
              "      <td>37.00</td>\n",
              "      <td>29.00</td>\n",
              "      <td>70.00</td>\n",
              "      <td>31.00</td>\n",
              "      <td>3.00</td>\n",
              "      <td>54.00</td>\n",
              "      <td>72.00</td>\n",
              "      <td>6.00</td>\n",
              "      <td>nan</td>\n",
              "      <td>7.00</td>\n",
              "      <td>1.00</td>\n",
              "      <td>72.00</td>\n",
              "      <td>19.00</td>\n",
              "      <td>8.00</td>\n",
              "      <td>72.00</td>\n",
              "      <td>4.00</td>\n",
              "      <td>38.00</td>\n",
              "    </tr>\n",
              "    <tr>\n",
              "      <th>monthlycharges</th>\n",
              "      <td>45.05</td>\n",
              "      <td>19.65</td>\n",
              "      <td>110.80</td>\n",
              "      <td>101.90</td>\n",
              "      <td>70.75</td>\n",
              "      <td>48.40</td>\n",
              "      <td>59.95</td>\n",
              "      <td>19.55</td>\n",
              "      <td>19.65</td>\n",
              "      <td>85.10</td>\n",
              "      <td>18.95</td>\n",
              "      <td>94.90</td>\n",
              "      <td>66.85</td>\n",
              "      <td>69.80</td>\n",
              "      <td>84.45</td>\n",
              "      <td>69.60</td>\n",
              "      <td>43.45</td>\n",
              "      <td>90.45</td>\n",
              "      <td>76.05</td>\n",
              "      <td>81.85</td>\n",
              "    </tr>\n",
              "    <tr>\n",
              "      <th>totalcharges</th>\n",
              "      <td>2,560.10</td>\n",
              "      <td>332.65</td>\n",
              "      <td>6,640.70</td>\n",
              "      <td>3,545.35</td>\n",
              "      <td>1,974.80</td>\n",
              "      <td>3,442.80</td>\n",
              "      <td>1,848.80</td>\n",
              "      <td>61.05</td>\n",
              "      <td>1,008.70</td>\n",
              "      <td>6,155.40</td>\n",
              "      <td>110.15</td>\n",
              "      <td>4,422.95</td>\n",
              "      <td>458.10</td>\n",
              "      <td>69.80</td>\n",
              "      <td>6,033.10</td>\n",
              "      <td>1,394.55</td>\n",
              "      <td>345.50</td>\n",
              "      <td>6,565.85</td>\n",
              "      <td>318.90</td>\n",
              "      <td>3,141.70</td>\n",
              "    </tr>\n",
              "    <tr>\n",
              "      <th>totalcharges_2</th>\n",
              "      <td>2,560.10</td>\n",
              "      <td>332.65</td>\n",
              "      <td>6,640.70</td>\n",
              "      <td>3,545.35</td>\n",
              "      <td>1,974.80</td>\n",
              "      <td>3,442.80</td>\n",
              "      <td>1,848.80</td>\n",
              "      <td>61.05</td>\n",
              "      <td>1,008.70</td>\n",
              "      <td>6,155.40</td>\n",
              "      <td>110.15</td>\n",
              "      <td>4,422.95</td>\n",
              "      <td>458.10</td>\n",
              "      <td>69.80</td>\n",
              "      <td>6,033.10</td>\n",
              "      <td>1,394.55</td>\n",
              "      <td>345.50</td>\n",
              "      <td>6,565.85</td>\n",
              "      <td>318.90</td>\n",
              "      <td>3,141.70</td>\n",
              "    </tr>\n",
              "    <tr>\n",
              "      <th>tenure_2</th>\n",
              "      <td>56.00</td>\n",
              "      <td>16.93</td>\n",
              "      <td>60.00</td>\n",
              "      <td>37.00</td>\n",
              "      <td>29.00</td>\n",
              "      <td>70.00</td>\n",
              "      <td>31.00</td>\n",
              "      <td>3.00</td>\n",
              "      <td>54.00</td>\n",
              "      <td>72.00</td>\n",
              "      <td>6.00</td>\n",
              "      <td>46.61</td>\n",
              "      <td>7.00</td>\n",
              "      <td>1.00</td>\n",
              "      <td>72.00</td>\n",
              "      <td>19.00</td>\n",
              "      <td>8.00</td>\n",
              "      <td>72.00</td>\n",
              "      <td>4.00</td>\n",
              "      <td>38.00</td>\n",
              "    </tr>\n",
              "  </tbody>\n",
              "</table>\n",
              "</div>"
            ],
            "text/plain": [
              "                     0      1        2        3        4        5        6   \\\n",
              "tenure            56.00    nan    60.00    37.00    29.00    70.00    31.00   \n",
              "monthlycharges    45.05  19.65   110.80   101.90    70.75    48.40    59.95   \n",
              "totalcharges   2,560.10 332.65 6,640.70 3,545.35 1,974.80 3,442.80 1,848.80   \n",
              "totalcharges_2 2,560.10 332.65 6,640.70 3,545.35 1,974.80 3,442.80 1,848.80   \n",
              "tenure_2          56.00  16.93    60.00    37.00    29.00    70.00    31.00   \n",
              "\n",
              "                  7        8        9      10       11     12    13       14  \\\n",
              "tenure          3.00    54.00    72.00   6.00      nan   7.00  1.00    72.00   \n",
              "monthlycharges 19.55    19.65    85.10  18.95    94.90  66.85 69.80    84.45   \n",
              "totalcharges   61.05 1,008.70 6,155.40 110.15 4,422.95 458.10 69.80 6,033.10   \n",
              "totalcharges_2 61.05 1,008.70 6,155.40 110.15 4,422.95 458.10 69.80 6,033.10   \n",
              "tenure_2        3.00    54.00    72.00   6.00    46.61   7.00  1.00    72.00   \n",
              "\n",
              "                     15     16       17     18       19  \n",
              "tenure            19.00   8.00    72.00   4.00    38.00  \n",
              "monthlycharges    69.60  43.45    90.45  76.05    81.85  \n",
              "totalcharges   1,394.55 345.50 6,565.85 318.90 3,141.70  \n",
              "totalcharges_2 1,394.55 345.50 6,565.85 318.90 3,141.70  \n",
              "tenure_2          19.00   8.00    72.00   4.00    38.00  "
            ]
          },
          "metadata": {
            "tags": []
          },
          "execution_count": 20
        }
      ]
    },
    {
      "cell_type": "code",
      "metadata": {
        "id": "qydsoT_lPUtj"
      },
      "source": [
        "df_quant_2 = df_quant[['monthlycharges','totalcharges_2','tenure_2']]"
      ],
      "execution_count": null,
      "outputs": []
    },
    {
      "cell_type": "code",
      "metadata": {
        "id": "RMyC5VqJPUto",
        "outputId": "7404a598-63e4-4df1-ebdc-0195815a88af",
        "colab": {
          "base_uri": "https://localhost:8080/"
        }
      },
      "source": [
        "df_quant_2.isnull().sum()"
      ],
      "execution_count": null,
      "outputs": [
        {
          "output_type": "execute_result",
          "data": {
            "text/plain": [
              "monthlycharges    0\n",
              "totalcharges_2    0\n",
              "tenure_2          0\n",
              "dtype: int64"
            ]
          },
          "metadata": {
            "tags": []
          },
          "execution_count": 22
        }
      ]
    },
    {
      "cell_type": "markdown",
      "metadata": {
        "id": "gMMETG7rPUtu"
      },
      "source": [
        "### Discretização das variáveis quantitativas"
      ]
    },
    {
      "cell_type": "code",
      "metadata": {
        "id": "kqkwQgrbPUtv",
        "outputId": "236204c0-c334-4741-d8a3-24ca0fc25be8",
        "colab": {
          "base_uri": "https://localhost:8080/"
        }
      },
      "source": [
        "df_quant_2.nunique()"
      ],
      "execution_count": null,
      "outputs": [
        {
          "output_type": "execute_result",
          "data": {
            "text/plain": [
              "monthlycharges    1505\n",
              "totalcharges_2    5285\n",
              "tenure_2           490\n",
              "dtype: int64"
            ]
          },
          "metadata": {
            "tags": []
          },
          "execution_count": 23
        }
      ]
    },
    {
      "cell_type": "code",
      "metadata": {
        "id": "q3kqVfKlPUtz"
      },
      "source": [
        "from sklearn.preprocessing import KBinsDiscretizer"
      ],
      "execution_count": null,
      "outputs": []
    },
    {
      "cell_type": "code",
      "metadata": {
        "id": "nqI4YLRWPUt1"
      },
      "source": [
        "discretizer = KBinsDiscretizer(n_bins=5,\n",
        "                              encode='ordinal',\n",
        "                              strategy='quantile')"
      ],
      "execution_count": null,
      "outputs": []
    },
    {
      "cell_type": "code",
      "metadata": {
        "id": "kud7TuifPUt4",
        "outputId": "23a6f021-91fe-4ccb-a61d-014e736bfbee",
        "colab": {
          "base_uri": "https://localhost:8080/"
        }
      },
      "source": [
        "discretizer.fit(df_quant_2)"
      ],
      "execution_count": null,
      "outputs": [
        {
          "output_type": "execute_result",
          "data": {
            "text/plain": [
              "KBinsDiscretizer(encode='ordinal', n_bins=5, strategy='quantile')"
            ]
          },
          "metadata": {
            "tags": []
          },
          "execution_count": 26
        }
      ]
    },
    {
      "cell_type": "code",
      "metadata": {
        "id": "bOb4sTQLPUt6"
      },
      "source": [
        "bining = discretizer.fit_transform(df_quant_2)"
      ],
      "execution_count": null,
      "outputs": []
    },
    {
      "cell_type": "code",
      "metadata": {
        "id": "SMnn7ieYPUt-"
      },
      "source": [
        "df_quant_bining = pd.DataFrame(bining,\n",
        "                                    columns=['monthlycharges',\n",
        "                                             'totalcharges_2',\n",
        "                                             'tenure_2'])"
      ],
      "execution_count": null,
      "outputs": []
    },
    {
      "cell_type": "code",
      "metadata": {
        "id": "cA_9AKayPUuD",
        "outputId": "d32cd44f-d2a6-4f15-819f-5e1481a83c9d",
        "colab": {
          "base_uri": "https://localhost:8080/",
          "height": 142
        }
      },
      "source": [
        "df_quant_bining.head(30).T"
      ],
      "execution_count": null,
      "outputs": [
        {
          "output_type": "execute_result",
          "data": {
            "text/html": [
              "<div>\n",
              "<style scoped>\n",
              "    .dataframe tbody tr th:only-of-type {\n",
              "        vertical-align: middle;\n",
              "    }\n",
              "\n",
              "    .dataframe tbody tr th {\n",
              "        vertical-align: top;\n",
              "    }\n",
              "\n",
              "    .dataframe thead th {\n",
              "        text-align: right;\n",
              "    }\n",
              "</style>\n",
              "<table border=\"1\" class=\"dataframe\">\n",
              "  <thead>\n",
              "    <tr style=\"text-align: right;\">\n",
              "      <th></th>\n",
              "      <th>0</th>\n",
              "      <th>1</th>\n",
              "      <th>2</th>\n",
              "      <th>3</th>\n",
              "      <th>4</th>\n",
              "      <th>5</th>\n",
              "      <th>6</th>\n",
              "      <th>7</th>\n",
              "      <th>8</th>\n",
              "      <th>9</th>\n",
              "      <th>10</th>\n",
              "      <th>11</th>\n",
              "      <th>12</th>\n",
              "      <th>13</th>\n",
              "      <th>14</th>\n",
              "      <th>15</th>\n",
              "      <th>16</th>\n",
              "      <th>17</th>\n",
              "      <th>18</th>\n",
              "      <th>19</th>\n",
              "      <th>20</th>\n",
              "      <th>21</th>\n",
              "      <th>22</th>\n",
              "      <th>23</th>\n",
              "      <th>24</th>\n",
              "      <th>25</th>\n",
              "      <th>26</th>\n",
              "      <th>27</th>\n",
              "      <th>28</th>\n",
              "      <th>29</th>\n",
              "    </tr>\n",
              "  </thead>\n",
              "  <tbody>\n",
              "    <tr>\n",
              "      <th>monthlycharges</th>\n",
              "      <td>1.00</td>\n",
              "      <td>0.00</td>\n",
              "      <td>4.00</td>\n",
              "      <td>4.00</td>\n",
              "      <td>2.00</td>\n",
              "      <td>1.00</td>\n",
              "      <td>2.00</td>\n",
              "      <td>0.00</td>\n",
              "      <td>0.00</td>\n",
              "      <td>3.00</td>\n",
              "      <td>0.00</td>\n",
              "      <td>4.00</td>\n",
              "      <td>2.00</td>\n",
              "      <td>2.00</td>\n",
              "      <td>3.00</td>\n",
              "      <td>2.00</td>\n",
              "      <td>1.00</td>\n",
              "      <td>3.00</td>\n",
              "      <td>2.00</td>\n",
              "      <td>3.00</td>\n",
              "      <td>1.00</td>\n",
              "      <td>2.00</td>\n",
              "      <td>1.00</td>\n",
              "      <td>2.00</td>\n",
              "      <td>1.00</td>\n",
              "      <td>3.00</td>\n",
              "      <td>1.00</td>\n",
              "      <td>2.00</td>\n",
              "      <td>4.00</td>\n",
              "      <td>0.00</td>\n",
              "    </tr>\n",
              "    <tr>\n",
              "      <th>totalcharges_2</th>\n",
              "      <td>3.00</td>\n",
              "      <td>1.00</td>\n",
              "      <td>4.00</td>\n",
              "      <td>3.00</td>\n",
              "      <td>2.00</td>\n",
              "      <td>3.00</td>\n",
              "      <td>2.00</td>\n",
              "      <td>0.00</td>\n",
              "      <td>2.00</td>\n",
              "      <td>4.00</td>\n",
              "      <td>0.00</td>\n",
              "      <td>3.00</td>\n",
              "      <td>1.00</td>\n",
              "      <td>0.00</td>\n",
              "      <td>4.00</td>\n",
              "      <td>2.00</td>\n",
              "      <td>1.00</td>\n",
              "      <td>4.00</td>\n",
              "      <td>1.00</td>\n",
              "      <td>3.00</td>\n",
              "      <td>1.00</td>\n",
              "      <td>2.00</td>\n",
              "      <td>3.00</td>\n",
              "      <td>3.00</td>\n",
              "      <td>3.00</td>\n",
              "      <td>4.00</td>\n",
              "      <td>3.00</td>\n",
              "      <td>3.00</td>\n",
              "      <td>4.00</td>\n",
              "      <td>1.00</td>\n",
              "    </tr>\n",
              "    <tr>\n",
              "      <th>tenure_2</th>\n",
              "      <td>3.00</td>\n",
              "      <td>1.00</td>\n",
              "      <td>4.00</td>\n",
              "      <td>2.00</td>\n",
              "      <td>2.00</td>\n",
              "      <td>4.00</td>\n",
              "      <td>2.00</td>\n",
              "      <td>0.00</td>\n",
              "      <td>3.00</td>\n",
              "      <td>4.00</td>\n",
              "      <td>1.00</td>\n",
              "      <td>3.00</td>\n",
              "      <td>1.00</td>\n",
              "      <td>0.00</td>\n",
              "      <td>4.00</td>\n",
              "      <td>1.00</td>\n",
              "      <td>1.00</td>\n",
              "      <td>4.00</td>\n",
              "      <td>0.00</td>\n",
              "      <td>2.00</td>\n",
              "      <td>1.00</td>\n",
              "      <td>2.00</td>\n",
              "      <td>4.00</td>\n",
              "      <td>3.00</td>\n",
              "      <td>4.00</td>\n",
              "      <td>4.00</td>\n",
              "      <td>3.00</td>\n",
              "      <td>4.00</td>\n",
              "      <td>4.00</td>\n",
              "      <td>1.00</td>\n",
              "    </tr>\n",
              "  </tbody>\n",
              "</table>\n",
              "</div>"
            ],
            "text/plain": [
              "                 0    1    2    3    4    5    6    7    8    9    10   11  \\\n",
              "monthlycharges 1.00 0.00 4.00 4.00 2.00 1.00 2.00 0.00 0.00 3.00 0.00 4.00   \n",
              "totalcharges_2 3.00 1.00 4.00 3.00 2.00 3.00 2.00 0.00 2.00 4.00 0.00 3.00   \n",
              "tenure_2       3.00 1.00 4.00 2.00 2.00 4.00 2.00 0.00 3.00 4.00 1.00 3.00   \n",
              "\n",
              "                 12   13   14   15   16   17   18   19   20   21   22   23  \\\n",
              "monthlycharges 2.00 2.00 3.00 2.00 1.00 3.00 2.00 3.00 1.00 2.00 1.00 2.00   \n",
              "totalcharges_2 1.00 0.00 4.00 2.00 1.00 4.00 1.00 3.00 1.00 2.00 3.00 3.00   \n",
              "tenure_2       1.00 0.00 4.00 1.00 1.00 4.00 0.00 2.00 1.00 2.00 4.00 3.00   \n",
              "\n",
              "                 24   25   26   27   28   29  \n",
              "monthlycharges 1.00 3.00 1.00 2.00 4.00 0.00  \n",
              "totalcharges_2 3.00 4.00 3.00 3.00 4.00 1.00  \n",
              "tenure_2       4.00 4.00 3.00 4.00 4.00 1.00  "
            ]
          },
          "metadata": {
            "tags": []
          },
          "execution_count": 30
        }
      ]
    },
    {
      "cell_type": "markdown",
      "metadata": {
        "id": "lZerPWzBPUuF"
      },
      "source": [
        "### Variáveis categóricas"
      ]
    },
    {
      "cell_type": "code",
      "metadata": {
        "id": "q6FvwQLwPUuG",
        "outputId": "4e85f2e1-7fd4-4d0d-df61-1ddad2169e2b",
        "colab": {
          "base_uri": "https://localhost:8080/",
          "height": 309
        }
      },
      "source": [
        "df_categ.head()"
      ],
      "execution_count": null,
      "outputs": [
        {
          "output_type": "execute_result",
          "data": {
            "text/html": [
              "<div>\n",
              "<style scoped>\n",
              "    .dataframe tbody tr th:only-of-type {\n",
              "        vertical-align: middle;\n",
              "    }\n",
              "\n",
              "    .dataframe tbody tr th {\n",
              "        vertical-align: top;\n",
              "    }\n",
              "\n",
              "    .dataframe thead th {\n",
              "        text-align: right;\n",
              "    }\n",
              "</style>\n",
              "<table border=\"1\" class=\"dataframe\">\n",
              "  <thead>\n",
              "    <tr style=\"text-align: right;\">\n",
              "      <th></th>\n",
              "      <th>gender</th>\n",
              "      <th>seniorcitizen</th>\n",
              "      <th>partner</th>\n",
              "      <th>dependents</th>\n",
              "      <th>phoneservice</th>\n",
              "      <th>multiplelines</th>\n",
              "      <th>internetservice</th>\n",
              "      <th>onlinesecurity</th>\n",
              "      <th>onlinebackup</th>\n",
              "      <th>deviceprotection</th>\n",
              "      <th>techsupport</th>\n",
              "      <th>streamingtv</th>\n",
              "      <th>streamingmovies</th>\n",
              "      <th>contract</th>\n",
              "      <th>paperlessbilling</th>\n",
              "      <th>paymentmethod</th>\n",
              "    </tr>\n",
              "  </thead>\n",
              "  <tbody>\n",
              "    <tr>\n",
              "      <th>0</th>\n",
              "      <td>Female</td>\n",
              "      <td>0</td>\n",
              "      <td>No</td>\n",
              "      <td>No</td>\n",
              "      <td>No</td>\n",
              "      <td>No phone service</td>\n",
              "      <td>DSL</td>\n",
              "      <td>Yes</td>\n",
              "      <td>Yes</td>\n",
              "      <td>Yes</td>\n",
              "      <td>Yes</td>\n",
              "      <td>No</td>\n",
              "      <td>No</td>\n",
              "      <td>Two year</td>\n",
              "      <td>No</td>\n",
              "      <td>NaN</td>\n",
              "    </tr>\n",
              "    <tr>\n",
              "      <th>1</th>\n",
              "      <td>Male</td>\n",
              "      <td>0</td>\n",
              "      <td>Yes</td>\n",
              "      <td>Yes</td>\n",
              "      <td>Yes</td>\n",
              "      <td>No</td>\n",
              "      <td>No</td>\n",
              "      <td>No internet service</td>\n",
              "      <td>No internet service</td>\n",
              "      <td>No internet service</td>\n",
              "      <td>No internet service</td>\n",
              "      <td>No internet service</td>\n",
              "      <td>No internet service</td>\n",
              "      <td>One year</td>\n",
              "      <td>No</td>\n",
              "      <td>Mailed check</td>\n",
              "    </tr>\n",
              "    <tr>\n",
              "      <th>2</th>\n",
              "      <td>Female</td>\n",
              "      <td>0</td>\n",
              "      <td>Yes</td>\n",
              "      <td>No</td>\n",
              "      <td>Yes</td>\n",
              "      <td>Yes</td>\n",
              "      <td>Fiber optic</td>\n",
              "      <td>No</td>\n",
              "      <td>Yes</td>\n",
              "      <td>Yes</td>\n",
              "      <td>Yes</td>\n",
              "      <td>Yes</td>\n",
              "      <td>Yes</td>\n",
              "      <td>Two year</td>\n",
              "      <td>Yes</td>\n",
              "      <td>Credit card (automatic)</td>\n",
              "    </tr>\n",
              "    <tr>\n",
              "      <th>3</th>\n",
              "      <td>Female</td>\n",
              "      <td>0</td>\n",
              "      <td>No</td>\n",
              "      <td>No</td>\n",
              "      <td>Yes</td>\n",
              "      <td>Yes</td>\n",
              "      <td>Fiber optic</td>\n",
              "      <td>No</td>\n",
              "      <td>Yes</td>\n",
              "      <td>Yes</td>\n",
              "      <td>No</td>\n",
              "      <td>Yes</td>\n",
              "      <td>Yes</td>\n",
              "      <td>Month-to-month</td>\n",
              "      <td>Yes</td>\n",
              "      <td>Bank transfer (automatic)</td>\n",
              "    </tr>\n",
              "    <tr>\n",
              "      <th>4</th>\n",
              "      <td>Male</td>\n",
              "      <td>0</td>\n",
              "      <td>Yes</td>\n",
              "      <td>Yes</td>\n",
              "      <td>Yes</td>\n",
              "      <td>No</td>\n",
              "      <td>Fiber optic</td>\n",
              "      <td>No</td>\n",
              "      <td>No</td>\n",
              "      <td>No</td>\n",
              "      <td>No</td>\n",
              "      <td>No</td>\n",
              "      <td>No</td>\n",
              "      <td>Month-to-month</td>\n",
              "      <td>Yes</td>\n",
              "      <td>Electronic check</td>\n",
              "    </tr>\n",
              "  </tbody>\n",
              "</table>\n",
              "</div>"
            ],
            "text/plain": [
              "   gender  seniorcitizen partner dependents phoneservice     multiplelines  \\\n",
              "0  Female              0      No         No           No  No phone service   \n",
              "1    Male              0     Yes        Yes          Yes                No   \n",
              "2  Female              0     Yes         No          Yes               Yes   \n",
              "3  Female              0      No         No          Yes               Yes   \n",
              "4    Male              0     Yes        Yes          Yes                No   \n",
              "\n",
              "  internetservice       onlinesecurity         onlinebackup  \\\n",
              "0             DSL                  Yes                  Yes   \n",
              "1              No  No internet service  No internet service   \n",
              "2     Fiber optic                   No                  Yes   \n",
              "3     Fiber optic                   No                  Yes   \n",
              "4     Fiber optic                   No                   No   \n",
              "\n",
              "      deviceprotection          techsupport          streamingtv  \\\n",
              "0                  Yes                  Yes                   No   \n",
              "1  No internet service  No internet service  No internet service   \n",
              "2                  Yes                  Yes                  Yes   \n",
              "3                  Yes                   No                  Yes   \n",
              "4                   No                   No                   No   \n",
              "\n",
              "       streamingmovies        contract paperlessbilling  \\\n",
              "0                   No        Two year               No   \n",
              "1  No internet service        One year               No   \n",
              "2                  Yes        Two year              Yes   \n",
              "3                  Yes  Month-to-month              Yes   \n",
              "4                   No  Month-to-month              Yes   \n",
              "\n",
              "               paymentmethod  \n",
              "0                        NaN  \n",
              "1               Mailed check  \n",
              "2    Credit card (automatic)  \n",
              "3  Bank transfer (automatic)  \n",
              "4           Electronic check  "
            ]
          },
          "metadata": {
            "tags": []
          },
          "execution_count": 31
        }
      ]
    },
    {
      "cell_type": "code",
      "metadata": {
        "id": "UIX8bVusPUuM",
        "outputId": "5a83bf1f-e45f-457b-c8ea-518335bd7666",
        "colab": {
          "base_uri": "https://localhost:8080/"
        }
      },
      "source": [
        "df_categ.isna().sum()"
      ],
      "execution_count": null,
      "outputs": [
        {
          "output_type": "execute_result",
          "data": {
            "text/plain": [
              "gender                0\n",
              "seniorcitizen         0\n",
              "partner               0\n",
              "dependents          218\n",
              "phoneservice          0\n",
              "multiplelines         0\n",
              "internetservice       0\n",
              "onlinesecurity        0\n",
              "onlinebackup          0\n",
              "deviceprotection      0\n",
              "techsupport           0\n",
              "streamingtv           0\n",
              "streamingmovies       0\n",
              "contract              0\n",
              "paperlessbilling      0\n",
              "paymentmethod        99\n",
              "dtype: int64"
            ]
          },
          "metadata": {
            "tags": []
          },
          "execution_count": 32
        }
      ]
    },
    {
      "cell_type": "markdown",
      "metadata": {
        "id": "n1dpPzsuPUuP"
      },
      "source": [
        "#### Contagem de valores da variavel gender (genero)\n",
        "\n",
        "\n"
      ]
    },
    {
      "cell_type": "code",
      "metadata": {
        "id": "WQwH0HRfPUuQ"
      },
      "source": [
        "df_categ['gender'].value_counts()"
      ],
      "execution_count": null,
      "outputs": []
    },
    {
      "cell_type": "markdown",
      "metadata": {
        "id": "a7h8gQQyPUuU"
      },
      "source": [
        "#### Tabela de frequencias churn x gender ()"
      ]
    },
    {
      "cell_type": "code",
      "metadata": {
        "id": "n0WPm-6oPUuU"
      },
      "source": [
        "# Table of churn x gender\n",
        "Churn_genero = pd.crosstab(index=df_treino[\"churn\"], \n",
        "                           columns=df_treino[\"gender\"],\n",
        "                          margins=True)\n",
        "\n",
        "Churn_genero.columns=['Female','Male',\"rowtotal\"]\n",
        "Churn_genero.index= [\"0\",\"1\",\"coltotal\"]\n",
        "\n",
        "Churn_genero"
      ],
      "execution_count": null,
      "outputs": []
    },
    {
      "cell_type": "code",
      "metadata": {
        "id": "akk8AO4FPUuY"
      },
      "source": [
        "Churn_genero/Churn_genero.loc[\"coltotal\",\"rowtotal\"]"
      ],
      "execution_count": null,
      "outputs": []
    },
    {
      "cell_type": "markdown",
      "metadata": {
        "id": "Vpn5hwGjPUua"
      },
      "source": [
        "#Temos missing values em duas variáveis categóricas:\n",
        "* 'dependents'\n",
        "* 'paymentmethod'"
      ]
    },
    {
      "cell_type": "markdown",
      "metadata": {
        "id": "LmhuKeWiPUua"
      },
      "source": [
        "#### Imputação de missing values na variável 'dependents'\n",
        "Como 'dependents' é uma variável categórica, criaremos uma nova categoria, chamada 'Miss', a qual será imputada a todos os missing values dessa variável."
      ]
    },
    {
      "cell_type": "code",
      "metadata": {
        "id": "PLKSiivjPUub"
      },
      "source": [
        "# linha anterior do Mário - df_categ['dependents'] = df_categ['dependents'].fillna(df_categ['dependents']=='Miss')\n",
        "df_categ['dependents'] = df_categ['dependents'].fillna('Miss')"
      ],
      "execution_count": null,
      "outputs": []
    },
    {
      "cell_type": "code",
      "metadata": {
        "id": "46R8N7XveebB",
        "outputId": "f5a5967f-121a-4412-d1b5-1a4a68dd9ec4",
        "colab": {
          "base_uri": "https://localhost:8080/"
        }
      },
      "source": [
        "df_categ.loc[df_categ.dependents == 'Miss', 'dependents'].head()"
      ],
      "execution_count": null,
      "outputs": [
        {
          "output_type": "execute_result",
          "data": {
            "text/plain": [
              "73     Miss\n",
              "89     Miss\n",
              "110    Miss\n",
              "156    Miss\n",
              "179    Miss\n",
              "Name: dependents, dtype: object"
            ]
          },
          "metadata": {
            "tags": []
          },
          "execution_count": 34
        }
      ]
    },
    {
      "cell_type": "code",
      "metadata": {
        "id": "yCM-mJ2jPUuc",
        "outputId": "ae4a3ee2-857e-47d2-dde6-d25c49e903d0",
        "colab": {
          "base_uri": "https://localhost:8080/"
        }
      },
      "source": [
        "df_categ['dependents'].isnull().any()"
      ],
      "execution_count": null,
      "outputs": [
        {
          "output_type": "execute_result",
          "data": {
            "text/plain": [
              "False"
            ]
          },
          "metadata": {
            "tags": []
          },
          "execution_count": 35
        }
      ]
    },
    {
      "cell_type": "markdown",
      "metadata": {
        "id": "lyQuL6iAPUug"
      },
      "source": [
        "#### Imputação de missing values na variável 'paymentmethod'"
      ]
    },
    {
      "cell_type": "code",
      "metadata": {
        "id": "CdNLvDEmPUuh"
      },
      "source": [
        "df_categ['paymentmethod'] = df_categ['paymentmethod'].fillna('Miss')\n"
      ],
      "execution_count": null,
      "outputs": []
    },
    {
      "cell_type": "code",
      "metadata": {
        "id": "n0WfWarLiFrW",
        "outputId": "7b61dfbe-2249-41e1-bfce-50940ab3776b",
        "colab": {
          "base_uri": "https://localhost:8080/"
        }
      },
      "source": [
        "df_categ.loc[df_categ.paymentmethod == 'Miss', 'paymentmethod'].head()"
      ],
      "execution_count": null,
      "outputs": [
        {
          "output_type": "execute_result",
          "data": {
            "text/plain": [
              "0      Miss\n",
              "59     Miss\n",
              "196    Miss\n",
              "247    Miss\n",
              "337    Miss\n",
              "Name: paymentmethod, dtype: object"
            ]
          },
          "metadata": {
            "tags": []
          },
          "execution_count": 37
        }
      ]
    },
    {
      "cell_type": "code",
      "metadata": {
        "id": "OAAxNeMGPUul",
        "outputId": "0f29bd65-a6b8-410f-d0ee-bad3b72da363",
        "colab": {
          "base_uri": "https://localhost:8080/"
        }
      },
      "source": [
        "df_categ['paymentmethod'].isnull().any()"
      ],
      "execution_count": null,
      "outputs": [
        {
          "output_type": "execute_result",
          "data": {
            "text/plain": [
              "False"
            ]
          },
          "metadata": {
            "tags": []
          },
          "execution_count": 38
        }
      ]
    },
    {
      "cell_type": "code",
      "metadata": {
        "id": "b78pvaPdPUuo"
      },
      "source": [
        "df_categ.isnull().sum()"
      ],
      "execution_count": null,
      "outputs": []
    },
    {
      "cell_type": "code",
      "metadata": {
        "id": "NKgaAP4SPUuq",
        "outputId": "0752f5ba-ebe0-41b2-e297-f32775538d59",
        "colab": {
          "base_uri": "https://localhost:8080/"
        }
      },
      "source": [
        "df_treino['paymentmethod'].value_counts()"
      ],
      "execution_count": null,
      "outputs": [
        {
          "output_type": "execute_result",
          "data": {
            "text/plain": [
              "Electronic check             1887\n",
              "Mailed check                 1272\n",
              "Bank transfer (automatic)    1212\n",
              "Credit card (automatic)      1164\n",
              "Name: paymentmethod, dtype: int64"
            ]
          },
          "metadata": {
            "tags": []
          },
          "execution_count": 39
        }
      ]
    },
    {
      "cell_type": "code",
      "metadata": {
        "id": "Oe_8zy_bkB0M",
        "outputId": "59236e82-f0e6-4fdc-ff23-6b610e0576df",
        "colab": {
          "base_uri": "https://localhost:8080/"
        }
      },
      "source": [
        "df_categ['paymentmethod'].value_counts()"
      ],
      "execution_count": null,
      "outputs": [
        {
          "output_type": "execute_result",
          "data": {
            "text/plain": [
              "Electronic check             1887\n",
              "Mailed check                 1272\n",
              "Bank transfer (automatic)    1212\n",
              "Credit card (automatic)      1164\n",
              "Miss                           99\n",
              "Name: paymentmethod, dtype: int64"
            ]
          },
          "metadata": {
            "tags": []
          },
          "execution_count": 40
        }
      ]
    },
    {
      "cell_type": "markdown",
      "metadata": {
        "id": "AuD6oMltPUus"
      },
      "source": [
        "## Verificação da cardinalidade das variaveis categoricas\n",
        "Como todas as variáveis categóricas têm baixa cardinalidade (quantidade de valores únicos menor que 10), vamos criar variáveis dummy para todas."
      ]
    },
    {
      "cell_type": "code",
      "metadata": {
        "id": "0iVQIHcMPUus"
      },
      "source": [
        "df_categ.nunique()"
      ],
      "execution_count": null,
      "outputs": []
    },
    {
      "cell_type": "code",
      "metadata": {
        "id": "9xGhsyXUPUuv"
      },
      "source": [
        "dummies = pd.get_dummies(df_categ,\n",
        "                        prefix_sep='_',\n",
        "                        drop_first=True)"
      ],
      "execution_count": null,
      "outputs": []
    },
    {
      "cell_type": "code",
      "metadata": {
        "id": "P1mqk5JEPUuz"
      },
      "source": [
        "dummies.head()"
      ],
      "execution_count": null,
      "outputs": []
    },
    {
      "cell_type": "code",
      "metadata": {
        "id": "mmSJ5q0mPUu1"
      },
      "source": [
        "dummies['seniorcitizen'].unique()"
      ],
      "execution_count": null,
      "outputs": []
    },
    {
      "cell_type": "code",
      "metadata": {
        "id": "DF-Sa2RwPUu3"
      },
      "source": [
        "dummies.columns"
      ],
      "execution_count": null,
      "outputs": []
    },
    {
      "cell_type": "markdown",
      "metadata": {
        "id": "3f_RSTVDPUu5"
      },
      "source": [
        "## Formação dos bancos de dados explicativas e df_target"
      ]
    },
    {
      "cell_type": "code",
      "metadata": {
        "id": "YEf2SO3uPUu5"
      },
      "source": [
        "explicativas=pd.concat([df_quant_bining,dummies],\n",
        "                      axis=1)"
      ],
      "execution_count": null,
      "outputs": []
    },
    {
      "cell_type": "code",
      "metadata": {
        "id": "QFTbiHdcPUu7"
      },
      "source": [
        "explicativas.columns"
      ],
      "execution_count": null,
      "outputs": []
    },
    {
      "cell_type": "code",
      "metadata": {
        "id": "gLRwkvjWPUvF",
        "outputId": "fff2555a-33cf-4ba8-e0aa-7dae8ace4e12",
        "colab": {
          "base_uri": "https://localhost:8080/",
          "height": 258
        }
      },
      "source": [
        "#explicativas.drop(['id'],axis=1,inplace=True)\n",
        "explicativas.head()"
      ],
      "execution_count": null,
      "outputs": [
        {
          "output_type": "execute_result",
          "data": {
            "text/html": [
              "<div>\n",
              "<style scoped>\n",
              "    .dataframe tbody tr th:only-of-type {\n",
              "        vertical-align: middle;\n",
              "    }\n",
              "\n",
              "    .dataframe tbody tr th {\n",
              "        vertical-align: top;\n",
              "    }\n",
              "\n",
              "    .dataframe thead th {\n",
              "        text-align: right;\n",
              "    }\n",
              "</style>\n",
              "<table border=\"1\" class=\"dataframe\">\n",
              "  <thead>\n",
              "    <tr style=\"text-align: right;\">\n",
              "      <th></th>\n",
              "      <th>monthlycharges</th>\n",
              "      <th>totalcharges_2</th>\n",
              "      <th>tenure_2</th>\n",
              "      <th>seniorcitizen</th>\n",
              "      <th>gender_Male</th>\n",
              "      <th>partner_Yes</th>\n",
              "      <th>dependents_No</th>\n",
              "      <th>dependents_Yes</th>\n",
              "      <th>phoneservice_Yes</th>\n",
              "      <th>multiplelines_No phone service</th>\n",
              "      <th>multiplelines_Yes</th>\n",
              "      <th>internetservice_Fiber optic</th>\n",
              "      <th>internetservice_No</th>\n",
              "      <th>onlinesecurity_No internet service</th>\n",
              "      <th>onlinesecurity_Yes</th>\n",
              "      <th>onlinebackup_No internet service</th>\n",
              "      <th>onlinebackup_Yes</th>\n",
              "      <th>deviceprotection_No internet service</th>\n",
              "      <th>deviceprotection_Yes</th>\n",
              "      <th>techsupport_No internet service</th>\n",
              "      <th>techsupport_Yes</th>\n",
              "      <th>streamingtv_No internet service</th>\n",
              "      <th>streamingtv_Yes</th>\n",
              "      <th>streamingmovies_No internet service</th>\n",
              "      <th>streamingmovies_Yes</th>\n",
              "      <th>contract_One year</th>\n",
              "      <th>contract_Two year</th>\n",
              "      <th>paperlessbilling_Yes</th>\n",
              "      <th>paymentmethod_Credit card (automatic)</th>\n",
              "      <th>paymentmethod_Electronic check</th>\n",
              "      <th>paymentmethod_Mailed check</th>\n",
              "      <th>paymentmethod_Miss</th>\n",
              "    </tr>\n",
              "  </thead>\n",
              "  <tbody>\n",
              "    <tr>\n",
              "      <th>0</th>\n",
              "      <td>1.00</td>\n",
              "      <td>3.00</td>\n",
              "      <td>3.00</td>\n",
              "      <td>0</td>\n",
              "      <td>0</td>\n",
              "      <td>0</td>\n",
              "      <td>1</td>\n",
              "      <td>0</td>\n",
              "      <td>0</td>\n",
              "      <td>1</td>\n",
              "      <td>0</td>\n",
              "      <td>0</td>\n",
              "      <td>0</td>\n",
              "      <td>0</td>\n",
              "      <td>1</td>\n",
              "      <td>0</td>\n",
              "      <td>1</td>\n",
              "      <td>0</td>\n",
              "      <td>1</td>\n",
              "      <td>0</td>\n",
              "      <td>1</td>\n",
              "      <td>0</td>\n",
              "      <td>0</td>\n",
              "      <td>0</td>\n",
              "      <td>0</td>\n",
              "      <td>0</td>\n",
              "      <td>1</td>\n",
              "      <td>0</td>\n",
              "      <td>0</td>\n",
              "      <td>0</td>\n",
              "      <td>0</td>\n",
              "      <td>1</td>\n",
              "    </tr>\n",
              "    <tr>\n",
              "      <th>1</th>\n",
              "      <td>0.00</td>\n",
              "      <td>1.00</td>\n",
              "      <td>1.00</td>\n",
              "      <td>0</td>\n",
              "      <td>1</td>\n",
              "      <td>1</td>\n",
              "      <td>0</td>\n",
              "      <td>1</td>\n",
              "      <td>1</td>\n",
              "      <td>0</td>\n",
              "      <td>0</td>\n",
              "      <td>0</td>\n",
              "      <td>1</td>\n",
              "      <td>1</td>\n",
              "      <td>0</td>\n",
              "      <td>1</td>\n",
              "      <td>0</td>\n",
              "      <td>1</td>\n",
              "      <td>0</td>\n",
              "      <td>1</td>\n",
              "      <td>0</td>\n",
              "      <td>1</td>\n",
              "      <td>0</td>\n",
              "      <td>1</td>\n",
              "      <td>0</td>\n",
              "      <td>1</td>\n",
              "      <td>0</td>\n",
              "      <td>0</td>\n",
              "      <td>0</td>\n",
              "      <td>0</td>\n",
              "      <td>1</td>\n",
              "      <td>0</td>\n",
              "    </tr>\n",
              "    <tr>\n",
              "      <th>2</th>\n",
              "      <td>4.00</td>\n",
              "      <td>4.00</td>\n",
              "      <td>4.00</td>\n",
              "      <td>0</td>\n",
              "      <td>0</td>\n",
              "      <td>1</td>\n",
              "      <td>1</td>\n",
              "      <td>0</td>\n",
              "      <td>1</td>\n",
              "      <td>0</td>\n",
              "      <td>1</td>\n",
              "      <td>1</td>\n",
              "      <td>0</td>\n",
              "      <td>0</td>\n",
              "      <td>0</td>\n",
              "      <td>0</td>\n",
              "      <td>1</td>\n",
              "      <td>0</td>\n",
              "      <td>1</td>\n",
              "      <td>0</td>\n",
              "      <td>1</td>\n",
              "      <td>0</td>\n",
              "      <td>1</td>\n",
              "      <td>0</td>\n",
              "      <td>1</td>\n",
              "      <td>0</td>\n",
              "      <td>1</td>\n",
              "      <td>1</td>\n",
              "      <td>1</td>\n",
              "      <td>0</td>\n",
              "      <td>0</td>\n",
              "      <td>0</td>\n",
              "    </tr>\n",
              "    <tr>\n",
              "      <th>3</th>\n",
              "      <td>4.00</td>\n",
              "      <td>3.00</td>\n",
              "      <td>2.00</td>\n",
              "      <td>0</td>\n",
              "      <td>0</td>\n",
              "      <td>0</td>\n",
              "      <td>1</td>\n",
              "      <td>0</td>\n",
              "      <td>1</td>\n",
              "      <td>0</td>\n",
              "      <td>1</td>\n",
              "      <td>1</td>\n",
              "      <td>0</td>\n",
              "      <td>0</td>\n",
              "      <td>0</td>\n",
              "      <td>0</td>\n",
              "      <td>1</td>\n",
              "      <td>0</td>\n",
              "      <td>1</td>\n",
              "      <td>0</td>\n",
              "      <td>0</td>\n",
              "      <td>0</td>\n",
              "      <td>1</td>\n",
              "      <td>0</td>\n",
              "      <td>1</td>\n",
              "      <td>0</td>\n",
              "      <td>0</td>\n",
              "      <td>1</td>\n",
              "      <td>0</td>\n",
              "      <td>0</td>\n",
              "      <td>0</td>\n",
              "      <td>0</td>\n",
              "    </tr>\n",
              "    <tr>\n",
              "      <th>4</th>\n",
              "      <td>2.00</td>\n",
              "      <td>2.00</td>\n",
              "      <td>2.00</td>\n",
              "      <td>0</td>\n",
              "      <td>1</td>\n",
              "      <td>1</td>\n",
              "      <td>0</td>\n",
              "      <td>1</td>\n",
              "      <td>1</td>\n",
              "      <td>0</td>\n",
              "      <td>0</td>\n",
              "      <td>1</td>\n",
              "      <td>0</td>\n",
              "      <td>0</td>\n",
              "      <td>0</td>\n",
              "      <td>0</td>\n",
              "      <td>0</td>\n",
              "      <td>0</td>\n",
              "      <td>0</td>\n",
              "      <td>0</td>\n",
              "      <td>0</td>\n",
              "      <td>0</td>\n",
              "      <td>0</td>\n",
              "      <td>0</td>\n",
              "      <td>0</td>\n",
              "      <td>0</td>\n",
              "      <td>0</td>\n",
              "      <td>1</td>\n",
              "      <td>0</td>\n",
              "      <td>1</td>\n",
              "      <td>0</td>\n",
              "      <td>0</td>\n",
              "    </tr>\n",
              "  </tbody>\n",
              "</table>\n",
              "</div>"
            ],
            "text/plain": [
              "   monthlycharges  totalcharges_2  tenure_2  seniorcitizen  gender_Male  \\\n",
              "0            1.00            3.00      3.00              0            0   \n",
              "1            0.00            1.00      1.00              0            1   \n",
              "2            4.00            4.00      4.00              0            0   \n",
              "3            4.00            3.00      2.00              0            0   \n",
              "4            2.00            2.00      2.00              0            1   \n",
              "\n",
              "   partner_Yes  dependents_No  dependents_Yes  phoneservice_Yes  \\\n",
              "0            0              1               0                 0   \n",
              "1            1              0               1                 1   \n",
              "2            1              1               0                 1   \n",
              "3            0              1               0                 1   \n",
              "4            1              0               1                 1   \n",
              "\n",
              "   multiplelines_No phone service  multiplelines_Yes  \\\n",
              "0                               1                  0   \n",
              "1                               0                  0   \n",
              "2                               0                  1   \n",
              "3                               0                  1   \n",
              "4                               0                  0   \n",
              "\n",
              "   internetservice_Fiber optic  internetservice_No  \\\n",
              "0                            0                   0   \n",
              "1                            0                   1   \n",
              "2                            1                   0   \n",
              "3                            1                   0   \n",
              "4                            1                   0   \n",
              "\n",
              "   onlinesecurity_No internet service  onlinesecurity_Yes  \\\n",
              "0                                   0                   1   \n",
              "1                                   1                   0   \n",
              "2                                   0                   0   \n",
              "3                                   0                   0   \n",
              "4                                   0                   0   \n",
              "\n",
              "   onlinebackup_No internet service  onlinebackup_Yes  \\\n",
              "0                                 0                 1   \n",
              "1                                 1                 0   \n",
              "2                                 0                 1   \n",
              "3                                 0                 1   \n",
              "4                                 0                 0   \n",
              "\n",
              "   deviceprotection_No internet service  deviceprotection_Yes  \\\n",
              "0                                     0                     1   \n",
              "1                                     1                     0   \n",
              "2                                     0                     1   \n",
              "3                                     0                     1   \n",
              "4                                     0                     0   \n",
              "\n",
              "   techsupport_No internet service  techsupport_Yes  \\\n",
              "0                                0                1   \n",
              "1                                1                0   \n",
              "2                                0                1   \n",
              "3                                0                0   \n",
              "4                                0                0   \n",
              "\n",
              "   streamingtv_No internet service  streamingtv_Yes  \\\n",
              "0                                0                0   \n",
              "1                                1                0   \n",
              "2                                0                1   \n",
              "3                                0                1   \n",
              "4                                0                0   \n",
              "\n",
              "   streamingmovies_No internet service  streamingmovies_Yes  \\\n",
              "0                                    0                    0   \n",
              "1                                    1                    0   \n",
              "2                                    0                    1   \n",
              "3                                    0                    1   \n",
              "4                                    0                    0   \n",
              "\n",
              "   contract_One year  contract_Two year  paperlessbilling_Yes  \\\n",
              "0                  0                  1                     0   \n",
              "1                  1                  0                     0   \n",
              "2                  0                  1                     1   \n",
              "3                  0                  0                     1   \n",
              "4                  0                  0                     1   \n",
              "\n",
              "   paymentmethod_Credit card (automatic)  paymentmethod_Electronic check  \\\n",
              "0                                      0                               0   \n",
              "1                                      0                               0   \n",
              "2                                      1                               0   \n",
              "3                                      0                               0   \n",
              "4                                      0                               1   \n",
              "\n",
              "   paymentmethod_Mailed check  paymentmethod_Miss  \n",
              "0                           0                   1  \n",
              "1                           1                   0  \n",
              "2                           0                   0  \n",
              "3                           0                   0  \n",
              "4                           0                   0  "
            ]
          },
          "metadata": {
            "tags": []
          },
          "execution_count": 43
        }
      ]
    },
    {
      "cell_type": "code",
      "metadata": {
        "id": "WlWMAX96PUvI",
        "outputId": "7d05a1cb-c1c0-45eb-aaa7-80b1cc172b92",
        "colab": {
          "base_uri": "https://localhost:8080/"
        }
      },
      "source": [
        "df_target.head()"
      ],
      "execution_count": null,
      "outputs": [
        {
          "output_type": "execute_result",
          "data": {
            "text/plain": [
              "0    0\n",
              "1    0\n",
              "2    0\n",
              "3    1\n",
              "4    1\n",
              "Name: churn, dtype: int64"
            ]
          },
          "metadata": {
            "tags": []
          },
          "execution_count": 44
        }
      ]
    },
    {
      "cell_type": "markdown",
      "metadata": {
        "id": "QUw-8vajPUvK"
      },
      "source": [
        "## Separação dos conjuntos de treino e teste"
      ]
    },
    {
      "cell_type": "code",
      "metadata": {
        "id": "WmbldgnOPUvK"
      },
      "source": [
        "from sklearn.model_selection import train_test_split\n",
        "x_treino, x_teste, y_treino, y_teste = train_test_split(explicativas,\n",
        "                                                       df_target,\n",
        "                                                       test_size=0.3,\n",
        "                                                      random_state=42)"
      ],
      "execution_count": null,
      "outputs": []
    },
    {
      "cell_type": "markdown",
      "metadata": {
        "id": "4XpzeHXwPUvM"
      },
      "source": [
        "## Tuninng de hiperparâmetros\n",
        "Inicialmente, chamar o módulo de tuning.<br>\n",
        "Passo a passo <br>\n",
        "1 - definir um dict(dicionario com os valores dos hiperparams)<br>\n",
        "2 - chamar o modulo de tunning<br>\n",
        "3 - chamar obj do tunning<br>\n",
        "4 - treinamento<br>\n",
        "5 - avaliar os resultados"
      ]
    },
    {
      "cell_type": "markdown",
      "metadata": {
        "id": "o-TAwshVPUvN"
      },
      "source": [
        "### Chamar o módulo de Tuning"
      ]
    },
    {
      "cell_type": "code",
      "metadata": {
        "id": "FHjuPkujPUvN"
      },
      "source": [
        "from sklearn.model_selection import  GridSearchCV"
      ],
      "execution_count": null,
      "outputs": []
    },
    {
      "cell_type": "markdown",
      "metadata": {
        "id": "wDukdSH4PUvP"
      },
      "source": [
        "### Chamar módulo de acurácia"
      ]
    },
    {
      "cell_type": "code",
      "metadata": {
        "id": "IM5Dn6EoPUvQ"
      },
      "source": [
        "from sklearn.metrics import accuracy_score"
      ],
      "execution_count": null,
      "outputs": []
    },
    {
      "cell_type": "markdown",
      "metadata": {
        "id": "Xu4iK0VoPUvS"
      },
      "source": [
        "### Random Forest"
      ]
    },
    {
      "cell_type": "code",
      "metadata": {
        "id": "9TW9yJP8PUvT"
      },
      "source": [
        "import timeit"
      ],
      "execution_count": null,
      "outputs": []
    },
    {
      "cell_type": "code",
      "metadata": {
        "id": "6TAmHxS_PUvX"
      },
      "source": [
        "#1\n",
        "rf_dict = {                            # nome do dicionário que está sendo criado.\n",
        "    'n_estimators':[40,50,60,70],   # numero de estimadores que será testado. Quanto maior, mais exige poder computacional.\n",
        "    'criterion':['gini', 'entropy'],   #  critérios\n",
        "    'bootstrap':[False, True],  # Faz amostragem com e sem reposição.\n",
        "    'random_state': [42]\n",
        "}\n"
      ],
      "execution_count": null,
      "outputs": []
    },
    {
      "cell_type": "code",
      "metadata": {
        "id": "vr4S0Yi9PUvb"
      },
      "source": [
        "#2\n",
        "from sklearn.ensemble import RandomForestClassifier\n"
      ],
      "execution_count": null,
      "outputs": []
    },
    {
      "cell_type": "code",
      "metadata": {
        "id": "g_O9CZqGPUvd"
      },
      "source": [
        "#3\n",
        "rf = RandomForestClassifier(random_state=42)\n"
      ],
      "execution_count": null,
      "outputs": []
    },
    {
      "cell_type": "code",
      "metadata": {
        "id": "B_IYomPXPUvf"
      },
      "source": [
        "rf_grid = GridSearchCV(estimator=rf,\n",
        "                      param_grid=rf_dict,\n",
        "                      scoring='accuracy',\n",
        "                      cv=10,\n",
        "                      n_jobs=-1)\n"
      ],
      "execution_count": null,
      "outputs": []
    },
    {
      "cell_type": "code",
      "metadata": {
        "id": "wfJvFb0UPUvi"
      },
      "source": [
        "import joblib # DÚVIDA (precisa desse joblib?)"
      ],
      "execution_count": null,
      "outputs": []
    },
    {
      "cell_type": "code",
      "metadata": {
        "id": "d-cUs05qPUvk",
        "outputId": "2115148d-6ce6-4287-cb6d-3aefef545aa4",
        "colab": {
          "base_uri": "https://localhost:8080/"
        }
      },
      "source": [
        "rf_grid.fit(x_treino, y_treino)#.values.ravel()  colocar este comando depois de y_treino se precisar."
      ],
      "execution_count": null,
      "outputs": [
        {
          "output_type": "execute_result",
          "data": {
            "text/plain": [
              "GridSearchCV(cv=10, error_score=nan,\n",
              "             estimator=RandomForestClassifier(bootstrap=True, ccp_alpha=0.0,\n",
              "                                              class_weight=None,\n",
              "                                              criterion='gini', max_depth=None,\n",
              "                                              max_features='auto',\n",
              "                                              max_leaf_nodes=None,\n",
              "                                              max_samples=None,\n",
              "                                              min_impurity_decrease=0.0,\n",
              "                                              min_impurity_split=None,\n",
              "                                              min_samples_leaf=1,\n",
              "                                              min_samples_split=2,\n",
              "                                              min_weight_fraction_leaf=0.0,\n",
              "                                              n_estimators=100, n_jobs=None,\n",
              "                                              oob_score=False, random_state=42,\n",
              "                                              verbose=0, warm_start=False),\n",
              "             iid='deprecated', n_jobs=-1,\n",
              "             param_grid={'bootstrap': [False, True],\n",
              "                         'criterion': ['gini', 'entropy'],\n",
              "                         'n_estimators': [40, 50, 60, 70],\n",
              "                         'random_state': [42]},\n",
              "             pre_dispatch='2*n_jobs', refit=True, return_train_score=False,\n",
              "             scoring='accuracy', verbose=0)"
            ]
          },
          "metadata": {
            "tags": []
          },
          "execution_count": 55
        }
      ]
    },
    {
      "cell_type": "code",
      "metadata": {
        "id": "mEtcVLQ3PUvn",
        "outputId": "52d03772-72b9-4181-c67c-0121a8635fca",
        "colab": {
          "base_uri": "https://localhost:8080/"
        }
      },
      "source": [
        "rf_grid.best_params_"
      ],
      "execution_count": null,
      "outputs": [
        {
          "output_type": "execute_result",
          "data": {
            "text/plain": [
              "{'bootstrap': True,\n",
              " 'criterion': 'gini',\n",
              " 'n_estimators': 50,\n",
              " 'random_state': 42}"
            ]
          },
          "metadata": {
            "tags": []
          },
          "execution_count": 56
        }
      ]
    },
    {
      "cell_type": "code",
      "metadata": {
        "id": "-h6Vz-78PUvp",
        "outputId": "4543ab6d-d6a7-457e-91e6-784758ce07f0",
        "colab": {
          "base_uri": "https://localhost:8080/"
        }
      },
      "source": [
        "rf_grid.best_score_"
      ],
      "execution_count": null,
      "outputs": [
        {
          "output_type": "execute_result",
          "data": {
            "text/plain": [
              "0.7829101073057894"
            ]
          },
          "metadata": {
            "tags": []
          },
          "execution_count": 57
        }
      ]
    },
    {
      "cell_type": "code",
      "metadata": {
        "id": "tAZ_E9BoPUvr",
        "outputId": "7f22c595-9919-48f5-e9e6-3bb68053c8f5",
        "colab": {
          "base_uri": "https://localhost:8080/"
        }
      },
      "source": [
        "accuracy_score(y_teste, rf_grid.predict(x_teste))"
      ],
      "execution_count": null,
      "outputs": [
        {
          "output_type": "execute_result",
          "data": {
            "text/plain": [
              "0.7871082199881727"
            ]
          },
          "metadata": {
            "tags": []
          },
          "execution_count": 58
        }
      ]
    },
    {
      "cell_type": "markdown",
      "metadata": {
        "id": "QzSYa05kPUvt"
      },
      "source": [
        "### Gradient Boosting"
      ]
    },
    {
      "cell_type": "code",
      "metadata": {
        "id": "KcOz7bCYPUvt"
      },
      "source": [
        "gb_dict = { \n",
        "    \"max_depth\":[3,5,8],\n",
        "    \"max_features\":[\"log2\",\"sqrt\"],\n",
        "    \"criterion\": [\"friedman_mse\",  \"mae\"],\n",
        "    'random_state': [1967]    \n",
        "    }"
      ],
      "execution_count": null,
      "outputs": []
    },
    {
      "cell_type": "code",
      "metadata": {
        "id": "W2wHMO4lPUvv"
      },
      "source": [
        "from sklearn.ensemble import GradientBoostingClassifier"
      ],
      "execution_count": null,
      "outputs": []
    },
    {
      "cell_type": "code",
      "metadata": {
        "id": "Zvu9N1IjPUvx"
      },
      "source": [
        "gb = GradientBoostingClassifier(random_state=42)"
      ],
      "execution_count": null,
      "outputs": []
    },
    {
      "cell_type": "code",
      "metadata": {
        "id": "x_VvKlN6PUvz"
      },
      "source": [
        "gb_grid = GridSearchCV(estimator=gb,\n",
        "                       param_grid=gb_dict,\n",
        "                       scoring='accuracy',\n",
        "                       cv=10,\n",
        "                       n_jobs=-1 # ACELERA O TEMPO DE PROCESSAMENTO\n",
        "                      )"
      ],
      "execution_count": null,
      "outputs": []
    },
    {
      "cell_type": "code",
      "metadata": {
        "id": "xL2lPyttPUv3",
        "outputId": "7e4205ef-38d9-4103-9103-fbb288fa7b07",
        "colab": {
          "base_uri": "https://localhost:8080/"
        }
      },
      "source": [
        "gb_grid.fit(x_treino,y_treino)"
      ],
      "execution_count": null,
      "outputs": [
        {
          "output_type": "execute_result",
          "data": {
            "text/plain": [
              "GridSearchCV(cv=10, error_score=nan,\n",
              "             estimator=GradientBoostingClassifier(ccp_alpha=0.0,\n",
              "                                                  criterion='friedman_mse',\n",
              "                                                  init=None, learning_rate=0.1,\n",
              "                                                  loss='deviance', max_depth=3,\n",
              "                                                  max_features=None,\n",
              "                                                  max_leaf_nodes=None,\n",
              "                                                  min_impurity_decrease=0.0,\n",
              "                                                  min_impurity_split=None,\n",
              "                                                  min_samples_leaf=1,\n",
              "                                                  min_samples_split=2,\n",
              "                                                  min_weight_fraction_leaf=0.0,\n",
              "                                                  n_estimators=100,\n",
              "                                                  n_iter_no_...\n",
              "                                                  presort='deprecated',\n",
              "                                                  random_state=42,\n",
              "                                                  subsample=1.0, tol=0.0001,\n",
              "                                                  validation_fraction=0.1,\n",
              "                                                  verbose=0, warm_start=False),\n",
              "             iid='deprecated', n_jobs=-1,\n",
              "             param_grid={'criterion': ['friedman_mse', 'mae'],\n",
              "                         'max_depth': [3, 5, 8],\n",
              "                         'max_features': ['log2', 'sqrt'],\n",
              "                         'random_state': [1967]},\n",
              "             pre_dispatch='2*n_jobs', refit=True, return_train_score=False,\n",
              "             scoring='accuracy', verbose=0)"
            ]
          },
          "metadata": {
            "tags": []
          },
          "execution_count": 64
        }
      ]
    },
    {
      "cell_type": "code",
      "metadata": {
        "id": "gK-YDlzJPUv5",
        "outputId": "84c6ee89-9cf4-46cb-ca62-c1c8ee1bc637",
        "colab": {
          "base_uri": "https://localhost:8080/"
        }
      },
      "source": [
        "gb_grid.best_params_"
      ],
      "execution_count": null,
      "outputs": [
        {
          "output_type": "execute_result",
          "data": {
            "text/plain": [
              "{'criterion': 'friedman_mse',\n",
              " 'max_depth': 3,\n",
              " 'max_features': 'log2',\n",
              " 'random_state': 1967}"
            ]
          },
          "metadata": {
            "tags": []
          },
          "execution_count": 65
        }
      ]
    },
    {
      "cell_type": "code",
      "metadata": {
        "id": "Xsnx5a47PUv6",
        "outputId": "0b04b62d-14ef-49e4-80a8-8cb06435540c",
        "colab": {
          "base_uri": "https://localhost:8080/"
        }
      },
      "source": [
        "gb_grid.best_score_"
      ],
      "execution_count": null,
      "outputs": [
        {
          "output_type": "execute_result",
          "data": {
            "text/plain": [
              "0.8077735655079354"
            ]
          },
          "metadata": {
            "tags": []
          },
          "execution_count": 66
        }
      ]
    },
    {
      "cell_type": "code",
      "metadata": {
        "id": "Y_lpL4odPUv8",
        "outputId": "6e624c3f-b434-4819-c058-8e7b507dcd78",
        "colab": {
          "base_uri": "https://localhost:8080/"
        }
      },
      "source": [
        "gb_grid.best_estimator_"
      ],
      "execution_count": null,
      "outputs": [
        {
          "output_type": "execute_result",
          "data": {
            "text/plain": [
              "GradientBoostingClassifier(ccp_alpha=0.0, criterion='friedman_mse', init=None,\n",
              "                           learning_rate=0.1, loss='deviance', max_depth=3,\n",
              "                           max_features='log2', max_leaf_nodes=None,\n",
              "                           min_impurity_decrease=0.0, min_impurity_split=None,\n",
              "                           min_samples_leaf=1, min_samples_split=2,\n",
              "                           min_weight_fraction_leaf=0.0, n_estimators=100,\n",
              "                           n_iter_no_change=None, presort='deprecated',\n",
              "                           random_state=1967, subsample=1.0, tol=0.0001,\n",
              "                           validation_fraction=0.1, verbose=0,\n",
              "                           warm_start=False)"
            ]
          },
          "metadata": {
            "tags": []
          },
          "execution_count": 67
        }
      ]
    },
    {
      "cell_type": "markdown",
      "metadata": {
        "id": "v2VgU_hVPUv-"
      },
      "source": [
        "### Salvar melhor modelo"
      ]
    },
    {
      "cell_type": "code",
      "metadata": {
        "id": "SETvqkbqPUv-"
      },
      "source": [
        "import joblib"
      ],
      "execution_count": null,
      "outputs": []
    },
    {
      "cell_type": "code",
      "metadata": {
        "id": "1LctYiHzPUwB",
        "outputId": "3320a018-c490-43df-8b50-4200fa054d11",
        "colab": {
          "base_uri": "https://localhost:8080/"
        }
      },
      "source": [
        "joblib.dump(gb_grid.best_estimator_,\n",
        "            'modelo_exemplo_gb.pkl',\n",
        "            compress=1)"
      ],
      "execution_count": null,
      "outputs": [
        {
          "output_type": "execute_result",
          "data": {
            "text/plain": [
              "['modelo_exemplo_gb.pkl']"
            ]
          },
          "metadata": {
            "tags": []
          },
          "execution_count": 70
        }
      ]
    },
    {
      "cell_type": "markdown",
      "metadata": {
        "id": "dC-K2rbzPUwD"
      },
      "source": [
        "### Score do grupo de teste"
      ]
    },
    {
      "cell_type": "code",
      "metadata": {
        "id": "pdRBpSnHPUwD"
      },
      "source": [
        "url = 'https://raw.githubusercontent.com/Hayltons/DSWP/Kaggle_Churn/Dataframes/2_churn_test.csv'\n",
        "df_teste = pd.read_csv(url, sep=',')"
      ],
      "execution_count": null,
      "outputs": []
    },
    {
      "cell_type": "code",
      "metadata": {
        "id": "FnTYswm7PUwJ",
        "outputId": "92c79a72-a6bb-4d15-c8b5-208352fb7875",
        "colab": {
          "base_uri": "https://localhost:8080/",
          "height": 292
        }
      },
      "source": [
        "df_teste.head()"
      ],
      "execution_count": null,
      "outputs": [
        {
          "output_type": "execute_result",
          "data": {
            "text/html": [
              "<div>\n",
              "<style scoped>\n",
              "    .dataframe tbody tr th:only-of-type {\n",
              "        vertical-align: middle;\n",
              "    }\n",
              "\n",
              "    .dataframe tbody tr th {\n",
              "        vertical-align: top;\n",
              "    }\n",
              "\n",
              "    .dataframe thead th {\n",
              "        text-align: right;\n",
              "    }\n",
              "</style>\n",
              "<table border=\"1\" class=\"dataframe\">\n",
              "  <thead>\n",
              "    <tr style=\"text-align: right;\">\n",
              "      <th></th>\n",
              "      <th>id</th>\n",
              "      <th>gender</th>\n",
              "      <th>SeniorCitizen</th>\n",
              "      <th>Partner</th>\n",
              "      <th>Dependents</th>\n",
              "      <th>tenure</th>\n",
              "      <th>PhoneService</th>\n",
              "      <th>MultipleLines</th>\n",
              "      <th>InternetService</th>\n",
              "      <th>OnlineSecurity</th>\n",
              "      <th>OnlineBackup</th>\n",
              "      <th>DeviceProtection</th>\n",
              "      <th>TechSupport</th>\n",
              "      <th>StreamingTV</th>\n",
              "      <th>StreamingMovies</th>\n",
              "      <th>Contract</th>\n",
              "      <th>PaperlessBilling</th>\n",
              "      <th>PaymentMethod</th>\n",
              "      <th>MonthlyCharges</th>\n",
              "      <th>TotalCharges</th>\n",
              "    </tr>\n",
              "  </thead>\n",
              "  <tbody>\n",
              "    <tr>\n",
              "      <th>0</th>\n",
              "      <td>5027</td>\n",
              "      <td>Male</td>\n",
              "      <td>0</td>\n",
              "      <td>Yes</td>\n",
              "      <td>Yes</td>\n",
              "      <td>23.00</td>\n",
              "      <td>Yes</td>\n",
              "      <td>No</td>\n",
              "      <td>No</td>\n",
              "      <td>No internet service</td>\n",
              "      <td>No internet service</td>\n",
              "      <td>No internet service</td>\n",
              "      <td>No internet service</td>\n",
              "      <td>No internet service</td>\n",
              "      <td>No internet service</td>\n",
              "      <td>One year</td>\n",
              "      <td>Yes</td>\n",
              "      <td>Credit card (automatic)</td>\n",
              "      <td>20.00</td>\n",
              "      <td>445.3</td>\n",
              "    </tr>\n",
              "    <tr>\n",
              "      <th>1</th>\n",
              "      <td>1733</td>\n",
              "      <td>Male</td>\n",
              "      <td>1</td>\n",
              "      <td>Yes</td>\n",
              "      <td>Yes</td>\n",
              "      <td>61.00</td>\n",
              "      <td>Yes</td>\n",
              "      <td>Yes</td>\n",
              "      <td>Fiber optic</td>\n",
              "      <td>No</td>\n",
              "      <td>Yes</td>\n",
              "      <td>No</td>\n",
              "      <td>No</td>\n",
              "      <td>Yes</td>\n",
              "      <td>Yes</td>\n",
              "      <td>One year</td>\n",
              "      <td>No</td>\n",
              "      <td>NaN</td>\n",
              "      <td>99.00</td>\n",
              "      <td>5969.3</td>\n",
              "    </tr>\n",
              "    <tr>\n",
              "      <th>2</th>\n",
              "      <td>5384</td>\n",
              "      <td>Male</td>\n",
              "      <td>0</td>\n",
              "      <td>No</td>\n",
              "      <td>No</td>\n",
              "      <td>36.00</td>\n",
              "      <td>Yes</td>\n",
              "      <td>Yes</td>\n",
              "      <td>Fiber optic</td>\n",
              "      <td>No</td>\n",
              "      <td>No</td>\n",
              "      <td>No</td>\n",
              "      <td>No</td>\n",
              "      <td>No</td>\n",
              "      <td>Yes</td>\n",
              "      <td>Month-to-month</td>\n",
              "      <td>Yes</td>\n",
              "      <td>Electronic check</td>\n",
              "      <td>84.75</td>\n",
              "      <td>3050.15</td>\n",
              "    </tr>\n",
              "    <tr>\n",
              "      <th>3</th>\n",
              "      <td>6554</td>\n",
              "      <td>Female</td>\n",
              "      <td>0</td>\n",
              "      <td>Yes</td>\n",
              "      <td>Yes</td>\n",
              "      <td>61.00</td>\n",
              "      <td>No</td>\n",
              "      <td>No phone service</td>\n",
              "      <td>DSL</td>\n",
              "      <td>No</td>\n",
              "      <td>Yes</td>\n",
              "      <td>Yes</td>\n",
              "      <td>Yes</td>\n",
              "      <td>Yes</td>\n",
              "      <td>Yes</td>\n",
              "      <td>Two year</td>\n",
              "      <td>Yes</td>\n",
              "      <td>Bank transfer (automatic)</td>\n",
              "      <td>61.45</td>\n",
              "      <td>3751.15</td>\n",
              "    </tr>\n",
              "    <tr>\n",
              "      <th>4</th>\n",
              "      <td>364</td>\n",
              "      <td>Female</td>\n",
              "      <td>0</td>\n",
              "      <td>No</td>\n",
              "      <td>No</td>\n",
              "      <td>47.00</td>\n",
              "      <td>Yes</td>\n",
              "      <td>No</td>\n",
              "      <td>No</td>\n",
              "      <td>No internet service</td>\n",
              "      <td>No internet service</td>\n",
              "      <td>No internet service</td>\n",
              "      <td>No internet service</td>\n",
              "      <td>No internet service</td>\n",
              "      <td>No internet service</td>\n",
              "      <td>Two year</td>\n",
              "      <td>Yes</td>\n",
              "      <td>Mailed check</td>\n",
              "      <td>20.55</td>\n",
              "      <td>945.7</td>\n",
              "    </tr>\n",
              "  </tbody>\n",
              "</table>\n",
              "</div>"
            ],
            "text/plain": [
              "     id  gender  SeniorCitizen Partner Dependents  tenure PhoneService  \\\n",
              "0  5027    Male              0     Yes        Yes   23.00          Yes   \n",
              "1  1733    Male              1     Yes        Yes   61.00          Yes   \n",
              "2  5384    Male              0      No         No   36.00          Yes   \n",
              "3  6554  Female              0     Yes        Yes   61.00           No   \n",
              "4   364  Female              0      No         No   47.00          Yes   \n",
              "\n",
              "      MultipleLines InternetService       OnlineSecurity         OnlineBackup  \\\n",
              "0                No              No  No internet service  No internet service   \n",
              "1               Yes     Fiber optic                   No                  Yes   \n",
              "2               Yes     Fiber optic                   No                   No   \n",
              "3  No phone service             DSL                   No                  Yes   \n",
              "4                No              No  No internet service  No internet service   \n",
              "\n",
              "      DeviceProtection          TechSupport          StreamingTV  \\\n",
              "0  No internet service  No internet service  No internet service   \n",
              "1                   No                   No                  Yes   \n",
              "2                   No                   No                   No   \n",
              "3                  Yes                  Yes                  Yes   \n",
              "4  No internet service  No internet service  No internet service   \n",
              "\n",
              "       StreamingMovies        Contract PaperlessBilling  \\\n",
              "0  No internet service        One year              Yes   \n",
              "1                  Yes        One year               No   \n",
              "2                  Yes  Month-to-month              Yes   \n",
              "3                  Yes        Two year              Yes   \n",
              "4  No internet service        Two year              Yes   \n",
              "\n",
              "               PaymentMethod  MonthlyCharges TotalCharges  \n",
              "0    Credit card (automatic)           20.00        445.3  \n",
              "1                        NaN           99.00       5969.3  \n",
              "2           Electronic check           84.75      3050.15  \n",
              "3  Bank transfer (automatic)           61.45      3751.15  \n",
              "4               Mailed check           20.55        945.7  "
            ]
          },
          "metadata": {
            "tags": []
          },
          "execution_count": 72
        }
      ]
    },
    {
      "cell_type": "code",
      "metadata": {
        "id": "abpggv-bPUwM"
      },
      "source": [
        "# Renomeando as colunas do Dataframe para minusculas\n",
        "df_teste.columns = df_teste.columns.str.lower()"
      ],
      "execution_count": null,
      "outputs": []
    },
    {
      "cell_type": "code",
      "metadata": {
        "id": "T8QUCTeAPUwN"
      },
      "source": [
        "# Separando as variáveis por tipo\n",
        "df_quant_teste = df_teste[['tenure','monthlycharges','totalcharges']]\n",
        "df_categ_teste = df_teste.drop(columns=['id','tenure','monthlycharges','totalcharges'], axis=1)"
      ],
      "execution_count": null,
      "outputs": []
    },
    {
      "cell_type": "code",
      "metadata": {
        "id": "0KJfMcZiPUwO",
        "outputId": "48cf5b85-5f04-436e-b080-861a92684542",
        "colab": {
          "base_uri": "https://localhost:8080/",
          "height": 204
        }
      },
      "source": [
        "df_quant_teste.head()"
      ],
      "execution_count": null,
      "outputs": [
        {
          "output_type": "execute_result",
          "data": {
            "text/html": [
              "<div>\n",
              "<style scoped>\n",
              "    .dataframe tbody tr th:only-of-type {\n",
              "        vertical-align: middle;\n",
              "    }\n",
              "\n",
              "    .dataframe tbody tr th {\n",
              "        vertical-align: top;\n",
              "    }\n",
              "\n",
              "    .dataframe thead th {\n",
              "        text-align: right;\n",
              "    }\n",
              "</style>\n",
              "<table border=\"1\" class=\"dataframe\">\n",
              "  <thead>\n",
              "    <tr style=\"text-align: right;\">\n",
              "      <th></th>\n",
              "      <th>tenure</th>\n",
              "      <th>monthlycharges</th>\n",
              "      <th>totalcharges</th>\n",
              "    </tr>\n",
              "  </thead>\n",
              "  <tbody>\n",
              "    <tr>\n",
              "      <th>0</th>\n",
              "      <td>23.00</td>\n",
              "      <td>20.00</td>\n",
              "      <td>445.3</td>\n",
              "    </tr>\n",
              "    <tr>\n",
              "      <th>1</th>\n",
              "      <td>61.00</td>\n",
              "      <td>99.00</td>\n",
              "      <td>5969.3</td>\n",
              "    </tr>\n",
              "    <tr>\n",
              "      <th>2</th>\n",
              "      <td>36.00</td>\n",
              "      <td>84.75</td>\n",
              "      <td>3050.15</td>\n",
              "    </tr>\n",
              "    <tr>\n",
              "      <th>3</th>\n",
              "      <td>61.00</td>\n",
              "      <td>61.45</td>\n",
              "      <td>3751.15</td>\n",
              "    </tr>\n",
              "    <tr>\n",
              "      <th>4</th>\n",
              "      <td>47.00</td>\n",
              "      <td>20.55</td>\n",
              "      <td>945.7</td>\n",
              "    </tr>\n",
              "  </tbody>\n",
              "</table>\n",
              "</div>"
            ],
            "text/plain": [
              "   tenure  monthlycharges totalcharges\n",
              "0   23.00           20.00        445.3\n",
              "1   61.00           99.00       5969.3\n",
              "2   36.00           84.75      3050.15\n",
              "3   61.00           61.45      3751.15\n",
              "4   47.00           20.55        945.7"
            ]
          },
          "metadata": {
            "tags": []
          },
          "execution_count": 75
        }
      ]
    },
    {
      "cell_type": "code",
      "metadata": {
        "id": "BJtdwjOjPUwQ",
        "outputId": "23ed5763-4703-4502-9fa6-b38b9704dbdb",
        "colab": {
          "base_uri": "https://localhost:8080/",
          "height": 292
        }
      },
      "source": [
        "df_categ_teste.head()"
      ],
      "execution_count": null,
      "outputs": [
        {
          "output_type": "execute_result",
          "data": {
            "text/html": [
              "<div>\n",
              "<style scoped>\n",
              "    .dataframe tbody tr th:only-of-type {\n",
              "        vertical-align: middle;\n",
              "    }\n",
              "\n",
              "    .dataframe tbody tr th {\n",
              "        vertical-align: top;\n",
              "    }\n",
              "\n",
              "    .dataframe thead th {\n",
              "        text-align: right;\n",
              "    }\n",
              "</style>\n",
              "<table border=\"1\" class=\"dataframe\">\n",
              "  <thead>\n",
              "    <tr style=\"text-align: right;\">\n",
              "      <th></th>\n",
              "      <th>gender</th>\n",
              "      <th>seniorcitizen</th>\n",
              "      <th>partner</th>\n",
              "      <th>dependents</th>\n",
              "      <th>phoneservice</th>\n",
              "      <th>multiplelines</th>\n",
              "      <th>internetservice</th>\n",
              "      <th>onlinesecurity</th>\n",
              "      <th>onlinebackup</th>\n",
              "      <th>deviceprotection</th>\n",
              "      <th>techsupport</th>\n",
              "      <th>streamingtv</th>\n",
              "      <th>streamingmovies</th>\n",
              "      <th>contract</th>\n",
              "      <th>paperlessbilling</th>\n",
              "      <th>paymentmethod</th>\n",
              "    </tr>\n",
              "  </thead>\n",
              "  <tbody>\n",
              "    <tr>\n",
              "      <th>0</th>\n",
              "      <td>Male</td>\n",
              "      <td>0</td>\n",
              "      <td>Yes</td>\n",
              "      <td>Yes</td>\n",
              "      <td>Yes</td>\n",
              "      <td>No</td>\n",
              "      <td>No</td>\n",
              "      <td>No internet service</td>\n",
              "      <td>No internet service</td>\n",
              "      <td>No internet service</td>\n",
              "      <td>No internet service</td>\n",
              "      <td>No internet service</td>\n",
              "      <td>No internet service</td>\n",
              "      <td>One year</td>\n",
              "      <td>Yes</td>\n",
              "      <td>Credit card (automatic)</td>\n",
              "    </tr>\n",
              "    <tr>\n",
              "      <th>1</th>\n",
              "      <td>Male</td>\n",
              "      <td>1</td>\n",
              "      <td>Yes</td>\n",
              "      <td>Yes</td>\n",
              "      <td>Yes</td>\n",
              "      <td>Yes</td>\n",
              "      <td>Fiber optic</td>\n",
              "      <td>No</td>\n",
              "      <td>Yes</td>\n",
              "      <td>No</td>\n",
              "      <td>No</td>\n",
              "      <td>Yes</td>\n",
              "      <td>Yes</td>\n",
              "      <td>One year</td>\n",
              "      <td>No</td>\n",
              "      <td>NaN</td>\n",
              "    </tr>\n",
              "    <tr>\n",
              "      <th>2</th>\n",
              "      <td>Male</td>\n",
              "      <td>0</td>\n",
              "      <td>No</td>\n",
              "      <td>No</td>\n",
              "      <td>Yes</td>\n",
              "      <td>Yes</td>\n",
              "      <td>Fiber optic</td>\n",
              "      <td>No</td>\n",
              "      <td>No</td>\n",
              "      <td>No</td>\n",
              "      <td>No</td>\n",
              "      <td>No</td>\n",
              "      <td>Yes</td>\n",
              "      <td>Month-to-month</td>\n",
              "      <td>Yes</td>\n",
              "      <td>Electronic check</td>\n",
              "    </tr>\n",
              "    <tr>\n",
              "      <th>3</th>\n",
              "      <td>Female</td>\n",
              "      <td>0</td>\n",
              "      <td>Yes</td>\n",
              "      <td>Yes</td>\n",
              "      <td>No</td>\n",
              "      <td>No phone service</td>\n",
              "      <td>DSL</td>\n",
              "      <td>No</td>\n",
              "      <td>Yes</td>\n",
              "      <td>Yes</td>\n",
              "      <td>Yes</td>\n",
              "      <td>Yes</td>\n",
              "      <td>Yes</td>\n",
              "      <td>Two year</td>\n",
              "      <td>Yes</td>\n",
              "      <td>Bank transfer (automatic)</td>\n",
              "    </tr>\n",
              "    <tr>\n",
              "      <th>4</th>\n",
              "      <td>Female</td>\n",
              "      <td>0</td>\n",
              "      <td>No</td>\n",
              "      <td>No</td>\n",
              "      <td>Yes</td>\n",
              "      <td>No</td>\n",
              "      <td>No</td>\n",
              "      <td>No internet service</td>\n",
              "      <td>No internet service</td>\n",
              "      <td>No internet service</td>\n",
              "      <td>No internet service</td>\n",
              "      <td>No internet service</td>\n",
              "      <td>No internet service</td>\n",
              "      <td>Two year</td>\n",
              "      <td>Yes</td>\n",
              "      <td>Mailed check</td>\n",
              "    </tr>\n",
              "  </tbody>\n",
              "</table>\n",
              "</div>"
            ],
            "text/plain": [
              "   gender  seniorcitizen partner dependents phoneservice     multiplelines  \\\n",
              "0    Male              0     Yes        Yes          Yes                No   \n",
              "1    Male              1     Yes        Yes          Yes               Yes   \n",
              "2    Male              0      No         No          Yes               Yes   \n",
              "3  Female              0     Yes        Yes           No  No phone service   \n",
              "4  Female              0      No         No          Yes                No   \n",
              "\n",
              "  internetservice       onlinesecurity         onlinebackup  \\\n",
              "0              No  No internet service  No internet service   \n",
              "1     Fiber optic                   No                  Yes   \n",
              "2     Fiber optic                   No                   No   \n",
              "3             DSL                   No                  Yes   \n",
              "4              No  No internet service  No internet service   \n",
              "\n",
              "      deviceprotection          techsupport          streamingtv  \\\n",
              "0  No internet service  No internet service  No internet service   \n",
              "1                   No                   No                  Yes   \n",
              "2                   No                   No                   No   \n",
              "3                  Yes                  Yes                  Yes   \n",
              "4  No internet service  No internet service  No internet service   \n",
              "\n",
              "       streamingmovies        contract paperlessbilling  \\\n",
              "0  No internet service        One year              Yes   \n",
              "1                  Yes        One year               No   \n",
              "2                  Yes  Month-to-month              Yes   \n",
              "3                  Yes        Two year              Yes   \n",
              "4  No internet service        Two year              Yes   \n",
              "\n",
              "               paymentmethod  \n",
              "0    Credit card (automatic)  \n",
              "1                        NaN  \n",
              "2           Electronic check  \n",
              "3  Bank transfer (automatic)  \n",
              "4               Mailed check  "
            ]
          },
          "metadata": {
            "tags": []
          },
          "execution_count": 76
        }
      ]
    },
    {
      "cell_type": "code",
      "metadata": {
        "id": "sxgruOHePUwR",
        "outputId": "948113bb-e90d-409e-f0ae-ca427b3b1cfc",
        "colab": {
          "base_uri": "https://localhost:8080/"
        }
      },
      "source": [
        "# Correção da variável 'totalcharges' (Objet para Numeric)\n",
        "df_quant_teste['totalcharges'] = pd.to_numeric(df_quant_teste['totalcharges'], errors='coerce')"
      ],
      "execution_count": null,
      "outputs": [
        {
          "output_type": "stream",
          "text": [
            "/usr/local/lib/python3.6/dist-packages/ipykernel_launcher.py:2: SettingWithCopyWarning: \n",
            "A value is trying to be set on a copy of a slice from a DataFrame.\n",
            "Try using .loc[row_indexer,col_indexer] = value instead\n",
            "\n",
            "See the caveats in the documentation: https://pandas.pydata.org/pandas-docs/stable/user_guide/indexing.html#returning-a-view-versus-a-copy\n",
            "  \n"
          ],
          "name": "stderr"
        }
      ]
    },
    {
      "cell_type": "code",
      "metadata": {
        "id": "GY6ePikKPUwT",
        "outputId": "33ebced8-f384-4949-ea0f-7a0bacb74b74",
        "colab": {
          "base_uri": "https://localhost:8080/"
        }
      },
      "source": [
        "df_quant_teste.dtypes"
      ],
      "execution_count": null,
      "outputs": [
        {
          "output_type": "execute_result",
          "data": {
            "text/plain": [
              "tenure            float64\n",
              "monthlycharges    float64\n",
              "totalcharges      float64\n",
              "dtype: object"
            ]
          },
          "metadata": {
            "tags": []
          },
          "execution_count": 78
        }
      ]
    },
    {
      "cell_type": "code",
      "metadata": {
        "id": "gWGSEVInPUwU",
        "outputId": "ccb41944-5340-4b57-d369-1d3033697fcd",
        "colab": {
          "base_uri": "https://localhost:8080/"
        }
      },
      "source": [
        "df_quant_teste.isnull().sum()"
      ],
      "execution_count": null,
      "outputs": [
        {
          "output_type": "execute_result",
          "data": {
            "text/plain": [
              "tenure            118\n",
              "monthlycharges      0\n",
              "totalcharges        3\n",
              "dtype: int64"
            ]
          },
          "metadata": {
            "tags": []
          },
          "execution_count": 79
        }
      ]
    },
    {
      "cell_type": "code",
      "metadata": {
        "id": "bUEACWchPUwW",
        "outputId": "3023f66a-5215-411d-da2d-b8f5dfe7c00d",
        "colab": {
          "base_uri": "https://localhost:8080/"
        }
      },
      "source": [
        "# Corrige NaNs na variável 'totalcharges' substituindo pela Moda\n",
        "df_quant_teste['totalcharges_2'] = df_quant_teste['totalcharges'].fillna(df_quant_teste['totalcharges'].mode()[0])"
      ],
      "execution_count": null,
      "outputs": [
        {
          "output_type": "stream",
          "text": [
            "/usr/local/lib/python3.6/dist-packages/ipykernel_launcher.py:1: SettingWithCopyWarning: \n",
            "A value is trying to be set on a copy of a slice from a DataFrame.\n",
            "Try using .loc[row_indexer,col_indexer] = value instead\n",
            "\n",
            "See the caveats in the documentation: https://pandas.pydata.org/pandas-docs/stable/user_guide/indexing.html#returning-a-view-versus-a-copy\n",
            "  \"\"\"Entry point for launching an IPython kernel.\n"
          ],
          "name": "stderr"
        }
      ]
    },
    {
      "cell_type": "code",
      "metadata": {
        "id": "w2SZeE4SPUwX",
        "outputId": "fd1fe05c-05ca-423c-97bd-94394d6cf0de",
        "colab": {
          "base_uri": "https://localhost:8080/"
        }
      },
      "source": [
        "df_quant_teste[['totalcharges_2']].isnull().any()"
      ],
      "execution_count": null,
      "outputs": [
        {
          "output_type": "execute_result",
          "data": {
            "text/plain": [
              "totalcharges_2    False\n",
              "dtype: bool"
            ]
          },
          "metadata": {
            "tags": []
          },
          "execution_count": 82
        }
      ]
    },
    {
      "cell_type": "code",
      "metadata": {
        "id": "mDix7IB-PUwZ",
        "outputId": "7170bb84-dcf2-44b4-bae1-6b13534de42f",
        "colab": {
          "base_uri": "https://localhost:8080/"
        }
      },
      "source": [
        "# Corrige a variável 'tenure' substituindo por um valor calculado ('totalcharges_2 / 'monthlycharges)\n",
        "df_quant_teste['tenure_2']  = df_quant_teste['tenure'].fillna(df_quant_teste['totalcharges_2'] / df_quant_teste['monthlycharges'])"
      ],
      "execution_count": null,
      "outputs": [
        {
          "output_type": "stream",
          "text": [
            "/usr/local/lib/python3.6/dist-packages/ipykernel_launcher.py:2: SettingWithCopyWarning: \n",
            "A value is trying to be set on a copy of a slice from a DataFrame.\n",
            "Try using .loc[row_indexer,col_indexer] = value instead\n",
            "\n",
            "See the caveats in the documentation: https://pandas.pydata.org/pandas-docs/stable/user_guide/indexing.html#returning-a-view-versus-a-copy\n",
            "  \n"
          ],
          "name": "stderr"
        }
      ]
    },
    {
      "cell_type": "code",
      "metadata": {
        "id": "Aurit6zHPUwb",
        "outputId": "a0007bf0-54e3-4786-c80b-a46b2591a6ac",
        "colab": {
          "base_uri": "https://localhost:8080/"
        }
      },
      "source": [
        "df_quant_teste['tenure_2'].isnull().any()"
      ],
      "execution_count": null,
      "outputs": [
        {
          "output_type": "execute_result",
          "data": {
            "text/plain": [
              "False"
            ]
          },
          "metadata": {
            "tags": []
          },
          "execution_count": 84
        }
      ]
    },
    {
      "cell_type": "code",
      "metadata": {
        "id": "_F2KQrU8PUwe"
      },
      "source": [
        "# cria COPIA de df_quant_teste\n",
        "df_quant_teste_2 = df_quant_teste[['monthlycharges','totalcharges_2','tenure_2']]"
      ],
      "execution_count": null,
      "outputs": []
    },
    {
      "cell_type": "code",
      "metadata": {
        "id": "5jmVQ3TUPUwg",
        "outputId": "ba33e0de-5b60-467e-ebd1-594e623e6727",
        "colab": {
          "base_uri": "https://localhost:8080/",
          "height": 204
        }
      },
      "source": [
        "df_quant_teste_2.head()"
      ],
      "execution_count": null,
      "outputs": [
        {
          "output_type": "execute_result",
          "data": {
            "text/html": [
              "<div>\n",
              "<style scoped>\n",
              "    .dataframe tbody tr th:only-of-type {\n",
              "        vertical-align: middle;\n",
              "    }\n",
              "\n",
              "    .dataframe tbody tr th {\n",
              "        vertical-align: top;\n",
              "    }\n",
              "\n",
              "    .dataframe thead th {\n",
              "        text-align: right;\n",
              "    }\n",
              "</style>\n",
              "<table border=\"1\" class=\"dataframe\">\n",
              "  <thead>\n",
              "    <tr style=\"text-align: right;\">\n",
              "      <th></th>\n",
              "      <th>monthlycharges</th>\n",
              "      <th>totalcharges_2</th>\n",
              "      <th>tenure_2</th>\n",
              "    </tr>\n",
              "  </thead>\n",
              "  <tbody>\n",
              "    <tr>\n",
              "      <th>0</th>\n",
              "      <td>20.00</td>\n",
              "      <td>445.30</td>\n",
              "      <td>23.00</td>\n",
              "    </tr>\n",
              "    <tr>\n",
              "      <th>1</th>\n",
              "      <td>99.00</td>\n",
              "      <td>5,969.30</td>\n",
              "      <td>61.00</td>\n",
              "    </tr>\n",
              "    <tr>\n",
              "      <th>2</th>\n",
              "      <td>84.75</td>\n",
              "      <td>3,050.15</td>\n",
              "      <td>36.00</td>\n",
              "    </tr>\n",
              "    <tr>\n",
              "      <th>3</th>\n",
              "      <td>61.45</td>\n",
              "      <td>3,751.15</td>\n",
              "      <td>61.00</td>\n",
              "    </tr>\n",
              "    <tr>\n",
              "      <th>4</th>\n",
              "      <td>20.55</td>\n",
              "      <td>945.70</td>\n",
              "      <td>47.00</td>\n",
              "    </tr>\n",
              "  </tbody>\n",
              "</table>\n",
              "</div>"
            ],
            "text/plain": [
              "   monthlycharges  totalcharges_2  tenure_2\n",
              "0           20.00          445.30     23.00\n",
              "1           99.00        5,969.30     61.00\n",
              "2           84.75        3,050.15     36.00\n",
              "3           61.45        3,751.15     61.00\n",
              "4           20.55          945.70     47.00"
            ]
          },
          "metadata": {
            "tags": []
          },
          "execution_count": 86
        }
      ]
    },
    {
      "cell_type": "code",
      "metadata": {
        "id": "ZSqnWSlePUwk",
        "outputId": "a085f26e-8aff-4d79-a1cb-309f6cc4ce65",
        "colab": {
          "base_uri": "https://localhost:8080/"
        }
      },
      "source": [
        "df_quant_teste_2.isnull().sum()"
      ],
      "execution_count": null,
      "outputs": [
        {
          "output_type": "execute_result",
          "data": {
            "text/plain": [
              "monthlycharges    0\n",
              "totalcharges_2    0\n",
              "tenure_2          0\n",
              "dtype: int64"
            ]
          },
          "metadata": {
            "tags": []
          },
          "execution_count": 87
        }
      ]
    },
    {
      "cell_type": "code",
      "metadata": {
        "id": "dSXCO7exPUwl"
      },
      "source": [
        "# Discretização das variáveis quantitativas (instacia o objeto)\n",
        "discretizer_teste = KBinsDiscretizer(n_bins=5,\n",
        "                              encode='ordinal',\n",
        "                              strategy='quantile')"
      ],
      "execution_count": null,
      "outputs": []
    },
    {
      "cell_type": "code",
      "metadata": {
        "id": "Oc2UrzydPUwm",
        "outputId": "a723da4e-391a-4f8b-ff3f-f16346ac961b",
        "colab": {
          "base_uri": "https://localhost:8080/"
        }
      },
      "source": [
        "# Discretização das variáveis quantitativas (treina o objeto)  # DÚVIDA: precisa treinar antes, já que no comendo seguinte vai treinar e transformar?\n",
        "discretizer_teste.fit(df_quant_teste_2)"
      ],
      "execution_count": null,
      "outputs": [
        {
          "output_type": "execute_result",
          "data": {
            "text/plain": [
              "KBinsDiscretizer(encode='ordinal', n_bins=5, strategy='quantile')"
            ]
          },
          "metadata": {
            "tags": []
          },
          "execution_count": 89
        }
      ]
    },
    {
      "cell_type": "code",
      "metadata": {
        "id": "VqJbElE6PUwo"
      },
      "source": [
        "# Discretização das variáveis quantitativas (treina e transforma o objeto, guardando o resultado)\n",
        "bining_teste = discretizer_teste.fit_transform(df_quant_teste_2) # bining_teste é um ARRAY"
      ],
      "execution_count": null,
      "outputs": []
    },
    {
      "cell_type": "code",
      "metadata": {
        "id": "h5B9HuAL7lAQ",
        "outputId": "b045a79f-dd4d-4764-dbcb-bced706aeceb",
        "colab": {
          "base_uri": "https://localhost:8080/"
        }
      },
      "source": [
        "# bining_teste é um ARRAY\n",
        "bining_teste[:5]"
      ],
      "execution_count": null,
      "outputs": [
        {
          "output_type": "execute_result",
          "data": {
            "text/plain": [
              "array([[0., 1., 2.],\n",
              "       [4., 4., 4.],\n",
              "       [3., 3., 2.],\n",
              "       [2., 3., 4.],\n",
              "       [0., 1., 3.]])"
            ]
          },
          "metadata": {
            "tags": []
          },
          "execution_count": 94
        }
      ]
    },
    {
      "cell_type": "code",
      "metadata": {
        "id": "Y2xtQw49PUwq"
      },
      "source": [
        "# Discretização das variáveis quantitativas (cria DataFrame com variáveis discretizadas guardadas em bining_teste)\n",
        "df_quant_teste_bining = pd.DataFrame(bining_teste,\n",
        "                                    columns=['monthlycharges',\n",
        "                                             'totalcharges_2',\n",
        "                                             'tenure_2'])"
      ],
      "execution_count": null,
      "outputs": []
    },
    {
      "cell_type": "code",
      "metadata": {
        "id": "vKElD_zPPUwr",
        "outputId": "d58887b7-d8e3-4bca-ad09-3fa242cb13da",
        "colab": {
          "base_uri": "https://localhost:8080/",
          "height": 204
        }
      },
      "source": [
        "df_quant_teste_bining.head()"
      ],
      "execution_count": null,
      "outputs": [
        {
          "output_type": "execute_result",
          "data": {
            "text/html": [
              "<div>\n",
              "<style scoped>\n",
              "    .dataframe tbody tr th:only-of-type {\n",
              "        vertical-align: middle;\n",
              "    }\n",
              "\n",
              "    .dataframe tbody tr th {\n",
              "        vertical-align: top;\n",
              "    }\n",
              "\n",
              "    .dataframe thead th {\n",
              "        text-align: right;\n",
              "    }\n",
              "</style>\n",
              "<table border=\"1\" class=\"dataframe\">\n",
              "  <thead>\n",
              "    <tr style=\"text-align: right;\">\n",
              "      <th></th>\n",
              "      <th>monthlycharges</th>\n",
              "      <th>totalcharges_2</th>\n",
              "      <th>tenure_2</th>\n",
              "    </tr>\n",
              "  </thead>\n",
              "  <tbody>\n",
              "    <tr>\n",
              "      <th>0</th>\n",
              "      <td>0.00</td>\n",
              "      <td>1.00</td>\n",
              "      <td>2.00</td>\n",
              "    </tr>\n",
              "    <tr>\n",
              "      <th>1</th>\n",
              "      <td>4.00</td>\n",
              "      <td>4.00</td>\n",
              "      <td>4.00</td>\n",
              "    </tr>\n",
              "    <tr>\n",
              "      <th>2</th>\n",
              "      <td>3.00</td>\n",
              "      <td>3.00</td>\n",
              "      <td>2.00</td>\n",
              "    </tr>\n",
              "    <tr>\n",
              "      <th>3</th>\n",
              "      <td>2.00</td>\n",
              "      <td>3.00</td>\n",
              "      <td>4.00</td>\n",
              "    </tr>\n",
              "    <tr>\n",
              "      <th>4</th>\n",
              "      <td>0.00</td>\n",
              "      <td>1.00</td>\n",
              "      <td>3.00</td>\n",
              "    </tr>\n",
              "  </tbody>\n",
              "</table>\n",
              "</div>"
            ],
            "text/plain": [
              "   monthlycharges  totalcharges_2  tenure_2\n",
              "0            0.00            1.00      2.00\n",
              "1            4.00            4.00      4.00\n",
              "2            3.00            3.00      2.00\n",
              "3            2.00            3.00      4.00\n",
              "4            0.00            1.00      3.00"
            ]
          },
          "metadata": {
            "tags": []
          },
          "execution_count": 92
        }
      ]
    },
    {
      "cell_type": "code",
      "metadata": {
        "id": "DN5NhIKtPUwt",
        "outputId": "7c9f3251-9027-4cd2-f55e-aea8ed349e1b",
        "colab": {
          "base_uri": "https://localhost:8080/"
        }
      },
      "source": [
        "df_quant_teste_bining.isnull().sum()"
      ],
      "execution_count": null,
      "outputs": [
        {
          "output_type": "execute_result",
          "data": {
            "text/plain": [
              "monthlycharges    0\n",
              "totalcharges_2    0\n",
              "tenure_2          0\n",
              "dtype: int64"
            ]
          },
          "metadata": {
            "tags": []
          },
          "execution_count": 95
        }
      ]
    },
    {
      "cell_type": "code",
      "metadata": {
        "id": "8GaAZHCyPUwv",
        "outputId": "b969fad0-a5bb-4ba8-80fa-cbad16c4106d",
        "colab": {
          "base_uri": "https://localhost:8080/",
          "height": 292
        }
      },
      "source": [
        "df_categ_teste.head()\n"
      ],
      "execution_count": null,
      "outputs": [
        {
          "output_type": "execute_result",
          "data": {
            "text/html": [
              "<div>\n",
              "<style scoped>\n",
              "    .dataframe tbody tr th:only-of-type {\n",
              "        vertical-align: middle;\n",
              "    }\n",
              "\n",
              "    .dataframe tbody tr th {\n",
              "        vertical-align: top;\n",
              "    }\n",
              "\n",
              "    .dataframe thead th {\n",
              "        text-align: right;\n",
              "    }\n",
              "</style>\n",
              "<table border=\"1\" class=\"dataframe\">\n",
              "  <thead>\n",
              "    <tr style=\"text-align: right;\">\n",
              "      <th></th>\n",
              "      <th>gender</th>\n",
              "      <th>seniorcitizen</th>\n",
              "      <th>partner</th>\n",
              "      <th>dependents</th>\n",
              "      <th>phoneservice</th>\n",
              "      <th>multiplelines</th>\n",
              "      <th>internetservice</th>\n",
              "      <th>onlinesecurity</th>\n",
              "      <th>onlinebackup</th>\n",
              "      <th>deviceprotection</th>\n",
              "      <th>techsupport</th>\n",
              "      <th>streamingtv</th>\n",
              "      <th>streamingmovies</th>\n",
              "      <th>contract</th>\n",
              "      <th>paperlessbilling</th>\n",
              "      <th>paymentmethod</th>\n",
              "    </tr>\n",
              "  </thead>\n",
              "  <tbody>\n",
              "    <tr>\n",
              "      <th>0</th>\n",
              "      <td>Male</td>\n",
              "      <td>0</td>\n",
              "      <td>Yes</td>\n",
              "      <td>Yes</td>\n",
              "      <td>Yes</td>\n",
              "      <td>No</td>\n",
              "      <td>No</td>\n",
              "      <td>No internet service</td>\n",
              "      <td>No internet service</td>\n",
              "      <td>No internet service</td>\n",
              "      <td>No internet service</td>\n",
              "      <td>No internet service</td>\n",
              "      <td>No internet service</td>\n",
              "      <td>One year</td>\n",
              "      <td>Yes</td>\n",
              "      <td>Credit card (automatic)</td>\n",
              "    </tr>\n",
              "    <tr>\n",
              "      <th>1</th>\n",
              "      <td>Male</td>\n",
              "      <td>1</td>\n",
              "      <td>Yes</td>\n",
              "      <td>Yes</td>\n",
              "      <td>Yes</td>\n",
              "      <td>Yes</td>\n",
              "      <td>Fiber optic</td>\n",
              "      <td>No</td>\n",
              "      <td>Yes</td>\n",
              "      <td>No</td>\n",
              "      <td>No</td>\n",
              "      <td>Yes</td>\n",
              "      <td>Yes</td>\n",
              "      <td>One year</td>\n",
              "      <td>No</td>\n",
              "      <td>NaN</td>\n",
              "    </tr>\n",
              "    <tr>\n",
              "      <th>2</th>\n",
              "      <td>Male</td>\n",
              "      <td>0</td>\n",
              "      <td>No</td>\n",
              "      <td>No</td>\n",
              "      <td>Yes</td>\n",
              "      <td>Yes</td>\n",
              "      <td>Fiber optic</td>\n",
              "      <td>No</td>\n",
              "      <td>No</td>\n",
              "      <td>No</td>\n",
              "      <td>No</td>\n",
              "      <td>No</td>\n",
              "      <td>Yes</td>\n",
              "      <td>Month-to-month</td>\n",
              "      <td>Yes</td>\n",
              "      <td>Electronic check</td>\n",
              "    </tr>\n",
              "    <tr>\n",
              "      <th>3</th>\n",
              "      <td>Female</td>\n",
              "      <td>0</td>\n",
              "      <td>Yes</td>\n",
              "      <td>Yes</td>\n",
              "      <td>No</td>\n",
              "      <td>No phone service</td>\n",
              "      <td>DSL</td>\n",
              "      <td>No</td>\n",
              "      <td>Yes</td>\n",
              "      <td>Yes</td>\n",
              "      <td>Yes</td>\n",
              "      <td>Yes</td>\n",
              "      <td>Yes</td>\n",
              "      <td>Two year</td>\n",
              "      <td>Yes</td>\n",
              "      <td>Bank transfer (automatic)</td>\n",
              "    </tr>\n",
              "    <tr>\n",
              "      <th>4</th>\n",
              "      <td>Female</td>\n",
              "      <td>0</td>\n",
              "      <td>No</td>\n",
              "      <td>No</td>\n",
              "      <td>Yes</td>\n",
              "      <td>No</td>\n",
              "      <td>No</td>\n",
              "      <td>No internet service</td>\n",
              "      <td>No internet service</td>\n",
              "      <td>No internet service</td>\n",
              "      <td>No internet service</td>\n",
              "      <td>No internet service</td>\n",
              "      <td>No internet service</td>\n",
              "      <td>Two year</td>\n",
              "      <td>Yes</td>\n",
              "      <td>Mailed check</td>\n",
              "    </tr>\n",
              "  </tbody>\n",
              "</table>\n",
              "</div>"
            ],
            "text/plain": [
              "   gender  seniorcitizen partner dependents phoneservice     multiplelines  \\\n",
              "0    Male              0     Yes        Yes          Yes                No   \n",
              "1    Male              1     Yes        Yes          Yes               Yes   \n",
              "2    Male              0      No         No          Yes               Yes   \n",
              "3  Female              0     Yes        Yes           No  No phone service   \n",
              "4  Female              0      No         No          Yes                No   \n",
              "\n",
              "  internetservice       onlinesecurity         onlinebackup  \\\n",
              "0              No  No internet service  No internet service   \n",
              "1     Fiber optic                   No                  Yes   \n",
              "2     Fiber optic                   No                   No   \n",
              "3             DSL                   No                  Yes   \n",
              "4              No  No internet service  No internet service   \n",
              "\n",
              "      deviceprotection          techsupport          streamingtv  \\\n",
              "0  No internet service  No internet service  No internet service   \n",
              "1                   No                   No                  Yes   \n",
              "2                   No                   No                   No   \n",
              "3                  Yes                  Yes                  Yes   \n",
              "4  No internet service  No internet service  No internet service   \n",
              "\n",
              "       streamingmovies        contract paperlessbilling  \\\n",
              "0  No internet service        One year              Yes   \n",
              "1                  Yes        One year               No   \n",
              "2                  Yes  Month-to-month              Yes   \n",
              "3                  Yes        Two year              Yes   \n",
              "4  No internet service        Two year              Yes   \n",
              "\n",
              "               paymentmethod  \n",
              "0    Credit card (automatic)  \n",
              "1                        NaN  \n",
              "2           Electronic check  \n",
              "3  Bank transfer (automatic)  \n",
              "4               Mailed check  "
            ]
          },
          "metadata": {
            "tags": []
          },
          "execution_count": 96
        }
      ]
    },
    {
      "cell_type": "code",
      "metadata": {
        "id": "m1HcySGvPUww",
        "outputId": "179b5334-dafd-495b-9e5c-47ccedd3cc38",
        "colab": {
          "base_uri": "https://localhost:8080/"
        }
      },
      "source": [
        "# verifica NaNs nas variáveis categóricas\n",
        "df_categ_teste.isnull().sum()"
      ],
      "execution_count": null,
      "outputs": [
        {
          "output_type": "execute_result",
          "data": {
            "text/plain": [
              "gender               0\n",
              "seniorcitizen        0\n",
              "partner              0\n",
              "dependents          41\n",
              "phoneservice         0\n",
              "multiplelines        0\n",
              "internetservice      0\n",
              "onlinesecurity       0\n",
              "onlinebackup         0\n",
              "deviceprotection     0\n",
              "techsupport          0\n",
              "streamingtv          0\n",
              "streamingmovies      0\n",
              "contract             0\n",
              "paperlessbilling     0\n",
              "paymentmethod       30\n",
              "dtype: int64"
            ]
          },
          "metadata": {
            "tags": []
          },
          "execution_count": 97
        }
      ]
    },
    {
      "cell_type": "code",
      "metadata": {
        "id": "dTXT0o8aPUwx"
      },
      "source": [
        "# Imputação de missing values na variável 'dependents'\n",
        "# categóricas_teste['dependents'] = categóricas_teste['dependents'].fillna(categóricas_teste['dependents']=='Miss') \n",
        "# COMENTÁRIO > código desnecessário acima -> 'categóricas_teste['dependents']=='\n",
        "df_categ_teste['dependents'] = df_categ_teste['dependents'].fillna('Miss')"
      ],
      "execution_count": null,
      "outputs": []
    },
    {
      "cell_type": "code",
      "metadata": {
        "id": "dVp4otPXPUw0"
      },
      "source": [
        "# Imputação de missing values na variável 'paymentmethod'\n",
        "df_categ_teste['paymentmethod'] = df_categ_teste['paymentmethod'].fillna('Miss') # COMENTÁRIO idem acima - parte do código original desncessário já retirado aqui"
      ],
      "execution_count": null,
      "outputs": []
    },
    {
      "cell_type": "code",
      "metadata": {
        "id": "e6nCAuUkPUw1",
        "outputId": "3afab973-6336-4dc2-ae5b-5dd439e2495e",
        "colab": {
          "base_uri": "https://localhost:8080/"
        }
      },
      "source": [
        "df_categ_teste.isnull().sum()"
      ],
      "execution_count": null,
      "outputs": [
        {
          "output_type": "execute_result",
          "data": {
            "text/plain": [
              "gender              0\n",
              "seniorcitizen       0\n",
              "partner             0\n",
              "dependents          0\n",
              "phoneservice        0\n",
              "multiplelines       0\n",
              "internetservice     0\n",
              "onlinesecurity      0\n",
              "onlinebackup        0\n",
              "deviceprotection    0\n",
              "techsupport         0\n",
              "streamingtv         0\n",
              "streamingmovies     0\n",
              "contract            0\n",
              "paperlessbilling    0\n",
              "paymentmethod       0\n",
              "dtype: int64"
            ]
          },
          "metadata": {
            "tags": []
          },
          "execution_count": 100
        }
      ]
    },
    {
      "cell_type": "code",
      "metadata": {
        "id": "DBnWW02_PUw3",
        "outputId": "c8a38799-6c10-4310-8279-e666bb7b62ca",
        "colab": {
          "base_uri": "https://localhost:8080/"
        }
      },
      "source": [
        "# Verificação da cardinalidade das variaveis categoricas\n",
        "df_categ_teste.nunique()"
      ],
      "execution_count": null,
      "outputs": [
        {
          "output_type": "execute_result",
          "data": {
            "text/plain": [
              "gender              2\n",
              "seniorcitizen       2\n",
              "partner             2\n",
              "dependents          3\n",
              "phoneservice        2\n",
              "multiplelines       3\n",
              "internetservice     3\n",
              "onlinesecurity      3\n",
              "onlinebackup        3\n",
              "deviceprotection    3\n",
              "techsupport         3\n",
              "streamingtv         3\n",
              "streamingmovies     3\n",
              "contract            3\n",
              "paperlessbilling    2\n",
              "paymentmethod       5\n",
              "dtype: int64"
            ]
          },
          "metadata": {
            "tags": []
          },
          "execution_count": 101
        }
      ]
    },
    {
      "cell_type": "code",
      "metadata": {
        "id": "5VcB-R-9PUw5"
      },
      "source": [
        "# criação de dummies para variáveis categóricas de baixa cardinalidade\n",
        "dummies_teste = pd.get_dummies(df_categ_teste,\n",
        "                        prefix_sep='_',\n",
        "                        drop_first=True)"
      ],
      "execution_count": null,
      "outputs": []
    },
    {
      "cell_type": "code",
      "metadata": {
        "id": "361QtlcYPUw6",
        "outputId": "f0a40eb8-5517-413d-ac31-959c841c6e87",
        "colab": {
          "base_uri": "https://localhost:8080/",
          "height": 258
        }
      },
      "source": [
        "dummies_teste.head()"
      ],
      "execution_count": null,
      "outputs": [
        {
          "output_type": "execute_result",
          "data": {
            "text/html": [
              "<div>\n",
              "<style scoped>\n",
              "    .dataframe tbody tr th:only-of-type {\n",
              "        vertical-align: middle;\n",
              "    }\n",
              "\n",
              "    .dataframe tbody tr th {\n",
              "        vertical-align: top;\n",
              "    }\n",
              "\n",
              "    .dataframe thead th {\n",
              "        text-align: right;\n",
              "    }\n",
              "</style>\n",
              "<table border=\"1\" class=\"dataframe\">\n",
              "  <thead>\n",
              "    <tr style=\"text-align: right;\">\n",
              "      <th></th>\n",
              "      <th>seniorcitizen</th>\n",
              "      <th>gender_Male</th>\n",
              "      <th>partner_Yes</th>\n",
              "      <th>dependents_No</th>\n",
              "      <th>dependents_Yes</th>\n",
              "      <th>phoneservice_Yes</th>\n",
              "      <th>multiplelines_No phone service</th>\n",
              "      <th>multiplelines_Yes</th>\n",
              "      <th>internetservice_Fiber optic</th>\n",
              "      <th>internetservice_No</th>\n",
              "      <th>onlinesecurity_No internet service</th>\n",
              "      <th>onlinesecurity_Yes</th>\n",
              "      <th>onlinebackup_No internet service</th>\n",
              "      <th>onlinebackup_Yes</th>\n",
              "      <th>deviceprotection_No internet service</th>\n",
              "      <th>deviceprotection_Yes</th>\n",
              "      <th>techsupport_No internet service</th>\n",
              "      <th>techsupport_Yes</th>\n",
              "      <th>streamingtv_No internet service</th>\n",
              "      <th>streamingtv_Yes</th>\n",
              "      <th>streamingmovies_No internet service</th>\n",
              "      <th>streamingmovies_Yes</th>\n",
              "      <th>contract_One year</th>\n",
              "      <th>contract_Two year</th>\n",
              "      <th>paperlessbilling_Yes</th>\n",
              "      <th>paymentmethod_Credit card (automatic)</th>\n",
              "      <th>paymentmethod_Electronic check</th>\n",
              "      <th>paymentmethod_Mailed check</th>\n",
              "      <th>paymentmethod_Miss</th>\n",
              "    </tr>\n",
              "  </thead>\n",
              "  <tbody>\n",
              "    <tr>\n",
              "      <th>0</th>\n",
              "      <td>0</td>\n",
              "      <td>1</td>\n",
              "      <td>1</td>\n",
              "      <td>0</td>\n",
              "      <td>1</td>\n",
              "      <td>1</td>\n",
              "      <td>0</td>\n",
              "      <td>0</td>\n",
              "      <td>0</td>\n",
              "      <td>1</td>\n",
              "      <td>1</td>\n",
              "      <td>0</td>\n",
              "      <td>1</td>\n",
              "      <td>0</td>\n",
              "      <td>1</td>\n",
              "      <td>0</td>\n",
              "      <td>1</td>\n",
              "      <td>0</td>\n",
              "      <td>1</td>\n",
              "      <td>0</td>\n",
              "      <td>1</td>\n",
              "      <td>0</td>\n",
              "      <td>1</td>\n",
              "      <td>0</td>\n",
              "      <td>1</td>\n",
              "      <td>1</td>\n",
              "      <td>0</td>\n",
              "      <td>0</td>\n",
              "      <td>0</td>\n",
              "    </tr>\n",
              "    <tr>\n",
              "      <th>1</th>\n",
              "      <td>1</td>\n",
              "      <td>1</td>\n",
              "      <td>1</td>\n",
              "      <td>0</td>\n",
              "      <td>1</td>\n",
              "      <td>1</td>\n",
              "      <td>0</td>\n",
              "      <td>1</td>\n",
              "      <td>1</td>\n",
              "      <td>0</td>\n",
              "      <td>0</td>\n",
              "      <td>0</td>\n",
              "      <td>0</td>\n",
              "      <td>1</td>\n",
              "      <td>0</td>\n",
              "      <td>0</td>\n",
              "      <td>0</td>\n",
              "      <td>0</td>\n",
              "      <td>0</td>\n",
              "      <td>1</td>\n",
              "      <td>0</td>\n",
              "      <td>1</td>\n",
              "      <td>1</td>\n",
              "      <td>0</td>\n",
              "      <td>0</td>\n",
              "      <td>0</td>\n",
              "      <td>0</td>\n",
              "      <td>0</td>\n",
              "      <td>1</td>\n",
              "    </tr>\n",
              "    <tr>\n",
              "      <th>2</th>\n",
              "      <td>0</td>\n",
              "      <td>1</td>\n",
              "      <td>0</td>\n",
              "      <td>1</td>\n",
              "      <td>0</td>\n",
              "      <td>1</td>\n",
              "      <td>0</td>\n",
              "      <td>1</td>\n",
              "      <td>1</td>\n",
              "      <td>0</td>\n",
              "      <td>0</td>\n",
              "      <td>0</td>\n",
              "      <td>0</td>\n",
              "      <td>0</td>\n",
              "      <td>0</td>\n",
              "      <td>0</td>\n",
              "      <td>0</td>\n",
              "      <td>0</td>\n",
              "      <td>0</td>\n",
              "      <td>0</td>\n",
              "      <td>0</td>\n",
              "      <td>1</td>\n",
              "      <td>0</td>\n",
              "      <td>0</td>\n",
              "      <td>1</td>\n",
              "      <td>0</td>\n",
              "      <td>1</td>\n",
              "      <td>0</td>\n",
              "      <td>0</td>\n",
              "    </tr>\n",
              "    <tr>\n",
              "      <th>3</th>\n",
              "      <td>0</td>\n",
              "      <td>0</td>\n",
              "      <td>1</td>\n",
              "      <td>0</td>\n",
              "      <td>1</td>\n",
              "      <td>0</td>\n",
              "      <td>1</td>\n",
              "      <td>0</td>\n",
              "      <td>0</td>\n",
              "      <td>0</td>\n",
              "      <td>0</td>\n",
              "      <td>0</td>\n",
              "      <td>0</td>\n",
              "      <td>1</td>\n",
              "      <td>0</td>\n",
              "      <td>1</td>\n",
              "      <td>0</td>\n",
              "      <td>1</td>\n",
              "      <td>0</td>\n",
              "      <td>1</td>\n",
              "      <td>0</td>\n",
              "      <td>1</td>\n",
              "      <td>0</td>\n",
              "      <td>1</td>\n",
              "      <td>1</td>\n",
              "      <td>0</td>\n",
              "      <td>0</td>\n",
              "      <td>0</td>\n",
              "      <td>0</td>\n",
              "    </tr>\n",
              "    <tr>\n",
              "      <th>4</th>\n",
              "      <td>0</td>\n",
              "      <td>0</td>\n",
              "      <td>0</td>\n",
              "      <td>1</td>\n",
              "      <td>0</td>\n",
              "      <td>1</td>\n",
              "      <td>0</td>\n",
              "      <td>0</td>\n",
              "      <td>0</td>\n",
              "      <td>1</td>\n",
              "      <td>1</td>\n",
              "      <td>0</td>\n",
              "      <td>1</td>\n",
              "      <td>0</td>\n",
              "      <td>1</td>\n",
              "      <td>0</td>\n",
              "      <td>1</td>\n",
              "      <td>0</td>\n",
              "      <td>1</td>\n",
              "      <td>0</td>\n",
              "      <td>1</td>\n",
              "      <td>0</td>\n",
              "      <td>0</td>\n",
              "      <td>1</td>\n",
              "      <td>1</td>\n",
              "      <td>0</td>\n",
              "      <td>0</td>\n",
              "      <td>1</td>\n",
              "      <td>0</td>\n",
              "    </tr>\n",
              "  </tbody>\n",
              "</table>\n",
              "</div>"
            ],
            "text/plain": [
              "   seniorcitizen  gender_Male  partner_Yes  dependents_No  dependents_Yes  \\\n",
              "0              0            1            1              0               1   \n",
              "1              1            1            1              0               1   \n",
              "2              0            1            0              1               0   \n",
              "3              0            0            1              0               1   \n",
              "4              0            0            0              1               0   \n",
              "\n",
              "   phoneservice_Yes  multiplelines_No phone service  multiplelines_Yes  \\\n",
              "0                 1                               0                  0   \n",
              "1                 1                               0                  1   \n",
              "2                 1                               0                  1   \n",
              "3                 0                               1                  0   \n",
              "4                 1                               0                  0   \n",
              "\n",
              "   internetservice_Fiber optic  internetservice_No  \\\n",
              "0                            0                   1   \n",
              "1                            1                   0   \n",
              "2                            1                   0   \n",
              "3                            0                   0   \n",
              "4                            0                   1   \n",
              "\n",
              "   onlinesecurity_No internet service  onlinesecurity_Yes  \\\n",
              "0                                   1                   0   \n",
              "1                                   0                   0   \n",
              "2                                   0                   0   \n",
              "3                                   0                   0   \n",
              "4                                   1                   0   \n",
              "\n",
              "   onlinebackup_No internet service  onlinebackup_Yes  \\\n",
              "0                                 1                 0   \n",
              "1                                 0                 1   \n",
              "2                                 0                 0   \n",
              "3                                 0                 1   \n",
              "4                                 1                 0   \n",
              "\n",
              "   deviceprotection_No internet service  deviceprotection_Yes  \\\n",
              "0                                     1                     0   \n",
              "1                                     0                     0   \n",
              "2                                     0                     0   \n",
              "3                                     0                     1   \n",
              "4                                     1                     0   \n",
              "\n",
              "   techsupport_No internet service  techsupport_Yes  \\\n",
              "0                                1                0   \n",
              "1                                0                0   \n",
              "2                                0                0   \n",
              "3                                0                1   \n",
              "4                                1                0   \n",
              "\n",
              "   streamingtv_No internet service  streamingtv_Yes  \\\n",
              "0                                1                0   \n",
              "1                                0                1   \n",
              "2                                0                0   \n",
              "3                                0                1   \n",
              "4                                1                0   \n",
              "\n",
              "   streamingmovies_No internet service  streamingmovies_Yes  \\\n",
              "0                                    1                    0   \n",
              "1                                    0                    1   \n",
              "2                                    0                    1   \n",
              "3                                    0                    1   \n",
              "4                                    1                    0   \n",
              "\n",
              "   contract_One year  contract_Two year  paperlessbilling_Yes  \\\n",
              "0                  1                  0                     1   \n",
              "1                  1                  0                     0   \n",
              "2                  0                  0                     1   \n",
              "3                  0                  1                     1   \n",
              "4                  0                  1                     1   \n",
              "\n",
              "   paymentmethod_Credit card (automatic)  paymentmethod_Electronic check  \\\n",
              "0                                      1                               0   \n",
              "1                                      0                               0   \n",
              "2                                      0                               1   \n",
              "3                                      0                               0   \n",
              "4                                      0                               0   \n",
              "\n",
              "   paymentmethod_Mailed check  paymentmethod_Miss  \n",
              "0                           0                   0  \n",
              "1                           0                   1  \n",
              "2                           0                   0  \n",
              "3                           0                   0  \n",
              "4                           1                   0  "
            ]
          },
          "metadata": {
            "tags": []
          },
          "execution_count": 103
        }
      ]
    },
    {
      "cell_type": "code",
      "metadata": {
        "id": "ALt4X0iCPUw-",
        "outputId": "94ac7be9-05a9-4278-f299-c29ddfce7a42",
        "colab": {
          "base_uri": "https://localhost:8080/"
        }
      },
      "source": [
        "dummies_teste.columns"
      ],
      "execution_count": null,
      "outputs": [
        {
          "output_type": "execute_result",
          "data": {
            "text/plain": [
              "Index(['seniorcitizen', 'gender_Male', 'partner_Yes', 'dependents_No',\n",
              "       'dependents_Yes', 'phoneservice_Yes', 'multiplelines_No phone service',\n",
              "       'multiplelines_Yes', 'internetservice_Fiber optic',\n",
              "       'internetservice_No', 'onlinesecurity_No internet service',\n",
              "       'onlinesecurity_Yes', 'onlinebackup_No internet service',\n",
              "       'onlinebackup_Yes', 'deviceprotection_No internet service',\n",
              "       'deviceprotection_Yes', 'techsupport_No internet service',\n",
              "       'techsupport_Yes', 'streamingtv_No internet service', 'streamingtv_Yes',\n",
              "       'streamingmovies_No internet service', 'streamingmovies_Yes',\n",
              "       'contract_One year', 'contract_Two year', 'paperlessbilling_Yes',\n",
              "       'paymentmethod_Credit card (automatic)',\n",
              "       'paymentmethod_Electronic check', 'paymentmethod_Mailed check',\n",
              "       'paymentmethod_Miss'],\n",
              "      dtype='object')"
            ]
          },
          "metadata": {
            "tags": []
          },
          "execution_count": 104
        }
      ]
    },
    {
      "cell_type": "code",
      "metadata": {
        "id": "HdHgv80bPUw_"
      },
      "source": [
        "# CONCATENAR dataframes para juntar a parte QUANTITATIVA discretizada com as dummies da parte CATEGÓRICA\n",
        "explicativas_teste=pd.concat([df_quant_teste_bining,dummies_teste],\n",
        "                      axis=1)"
      ],
      "execution_count": null,
      "outputs": []
    },
    {
      "cell_type": "code",
      "metadata": {
        "id": "ttqZPy8FPUxA",
        "outputId": "7def4171-82fb-4f9a-ba78-376b6b5c2037",
        "colab": {
          "base_uri": "https://localhost:8080/",
          "height": 258
        }
      },
      "source": [
        "explicativas_teste.head()"
      ],
      "execution_count": null,
      "outputs": [
        {
          "output_type": "execute_result",
          "data": {
            "text/html": [
              "<div>\n",
              "<style scoped>\n",
              "    .dataframe tbody tr th:only-of-type {\n",
              "        vertical-align: middle;\n",
              "    }\n",
              "\n",
              "    .dataframe tbody tr th {\n",
              "        vertical-align: top;\n",
              "    }\n",
              "\n",
              "    .dataframe thead th {\n",
              "        text-align: right;\n",
              "    }\n",
              "</style>\n",
              "<table border=\"1\" class=\"dataframe\">\n",
              "  <thead>\n",
              "    <tr style=\"text-align: right;\">\n",
              "      <th></th>\n",
              "      <th>monthlycharges</th>\n",
              "      <th>totalcharges_2</th>\n",
              "      <th>tenure_2</th>\n",
              "      <th>seniorcitizen</th>\n",
              "      <th>gender_Male</th>\n",
              "      <th>partner_Yes</th>\n",
              "      <th>dependents_No</th>\n",
              "      <th>dependents_Yes</th>\n",
              "      <th>phoneservice_Yes</th>\n",
              "      <th>multiplelines_No phone service</th>\n",
              "      <th>multiplelines_Yes</th>\n",
              "      <th>internetservice_Fiber optic</th>\n",
              "      <th>internetservice_No</th>\n",
              "      <th>onlinesecurity_No internet service</th>\n",
              "      <th>onlinesecurity_Yes</th>\n",
              "      <th>onlinebackup_No internet service</th>\n",
              "      <th>onlinebackup_Yes</th>\n",
              "      <th>deviceprotection_No internet service</th>\n",
              "      <th>deviceprotection_Yes</th>\n",
              "      <th>techsupport_No internet service</th>\n",
              "      <th>techsupport_Yes</th>\n",
              "      <th>streamingtv_No internet service</th>\n",
              "      <th>streamingtv_Yes</th>\n",
              "      <th>streamingmovies_No internet service</th>\n",
              "      <th>streamingmovies_Yes</th>\n",
              "      <th>contract_One year</th>\n",
              "      <th>contract_Two year</th>\n",
              "      <th>paperlessbilling_Yes</th>\n",
              "      <th>paymentmethod_Credit card (automatic)</th>\n",
              "      <th>paymentmethod_Electronic check</th>\n",
              "      <th>paymentmethod_Mailed check</th>\n",
              "      <th>paymentmethod_Miss</th>\n",
              "    </tr>\n",
              "  </thead>\n",
              "  <tbody>\n",
              "    <tr>\n",
              "      <th>0</th>\n",
              "      <td>0.00</td>\n",
              "      <td>1.00</td>\n",
              "      <td>2.00</td>\n",
              "      <td>0</td>\n",
              "      <td>1</td>\n",
              "      <td>1</td>\n",
              "      <td>0</td>\n",
              "      <td>1</td>\n",
              "      <td>1</td>\n",
              "      <td>0</td>\n",
              "      <td>0</td>\n",
              "      <td>0</td>\n",
              "      <td>1</td>\n",
              "      <td>1</td>\n",
              "      <td>0</td>\n",
              "      <td>1</td>\n",
              "      <td>0</td>\n",
              "      <td>1</td>\n",
              "      <td>0</td>\n",
              "      <td>1</td>\n",
              "      <td>0</td>\n",
              "      <td>1</td>\n",
              "      <td>0</td>\n",
              "      <td>1</td>\n",
              "      <td>0</td>\n",
              "      <td>1</td>\n",
              "      <td>0</td>\n",
              "      <td>1</td>\n",
              "      <td>1</td>\n",
              "      <td>0</td>\n",
              "      <td>0</td>\n",
              "      <td>0</td>\n",
              "    </tr>\n",
              "    <tr>\n",
              "      <th>1</th>\n",
              "      <td>4.00</td>\n",
              "      <td>4.00</td>\n",
              "      <td>4.00</td>\n",
              "      <td>1</td>\n",
              "      <td>1</td>\n",
              "      <td>1</td>\n",
              "      <td>0</td>\n",
              "      <td>1</td>\n",
              "      <td>1</td>\n",
              "      <td>0</td>\n",
              "      <td>1</td>\n",
              "      <td>1</td>\n",
              "      <td>0</td>\n",
              "      <td>0</td>\n",
              "      <td>0</td>\n",
              "      <td>0</td>\n",
              "      <td>1</td>\n",
              "      <td>0</td>\n",
              "      <td>0</td>\n",
              "      <td>0</td>\n",
              "      <td>0</td>\n",
              "      <td>0</td>\n",
              "      <td>1</td>\n",
              "      <td>0</td>\n",
              "      <td>1</td>\n",
              "      <td>1</td>\n",
              "      <td>0</td>\n",
              "      <td>0</td>\n",
              "      <td>0</td>\n",
              "      <td>0</td>\n",
              "      <td>0</td>\n",
              "      <td>1</td>\n",
              "    </tr>\n",
              "    <tr>\n",
              "      <th>2</th>\n",
              "      <td>3.00</td>\n",
              "      <td>3.00</td>\n",
              "      <td>2.00</td>\n",
              "      <td>0</td>\n",
              "      <td>1</td>\n",
              "      <td>0</td>\n",
              "      <td>1</td>\n",
              "      <td>0</td>\n",
              "      <td>1</td>\n",
              "      <td>0</td>\n",
              "      <td>1</td>\n",
              "      <td>1</td>\n",
              "      <td>0</td>\n",
              "      <td>0</td>\n",
              "      <td>0</td>\n",
              "      <td>0</td>\n",
              "      <td>0</td>\n",
              "      <td>0</td>\n",
              "      <td>0</td>\n",
              "      <td>0</td>\n",
              "      <td>0</td>\n",
              "      <td>0</td>\n",
              "      <td>0</td>\n",
              "      <td>0</td>\n",
              "      <td>1</td>\n",
              "      <td>0</td>\n",
              "      <td>0</td>\n",
              "      <td>1</td>\n",
              "      <td>0</td>\n",
              "      <td>1</td>\n",
              "      <td>0</td>\n",
              "      <td>0</td>\n",
              "    </tr>\n",
              "    <tr>\n",
              "      <th>3</th>\n",
              "      <td>2.00</td>\n",
              "      <td>3.00</td>\n",
              "      <td>4.00</td>\n",
              "      <td>0</td>\n",
              "      <td>0</td>\n",
              "      <td>1</td>\n",
              "      <td>0</td>\n",
              "      <td>1</td>\n",
              "      <td>0</td>\n",
              "      <td>1</td>\n",
              "      <td>0</td>\n",
              "      <td>0</td>\n",
              "      <td>0</td>\n",
              "      <td>0</td>\n",
              "      <td>0</td>\n",
              "      <td>0</td>\n",
              "      <td>1</td>\n",
              "      <td>0</td>\n",
              "      <td>1</td>\n",
              "      <td>0</td>\n",
              "      <td>1</td>\n",
              "      <td>0</td>\n",
              "      <td>1</td>\n",
              "      <td>0</td>\n",
              "      <td>1</td>\n",
              "      <td>0</td>\n",
              "      <td>1</td>\n",
              "      <td>1</td>\n",
              "      <td>0</td>\n",
              "      <td>0</td>\n",
              "      <td>0</td>\n",
              "      <td>0</td>\n",
              "    </tr>\n",
              "    <tr>\n",
              "      <th>4</th>\n",
              "      <td>0.00</td>\n",
              "      <td>1.00</td>\n",
              "      <td>3.00</td>\n",
              "      <td>0</td>\n",
              "      <td>0</td>\n",
              "      <td>0</td>\n",
              "      <td>1</td>\n",
              "      <td>0</td>\n",
              "      <td>1</td>\n",
              "      <td>0</td>\n",
              "      <td>0</td>\n",
              "      <td>0</td>\n",
              "      <td>1</td>\n",
              "      <td>1</td>\n",
              "      <td>0</td>\n",
              "      <td>1</td>\n",
              "      <td>0</td>\n",
              "      <td>1</td>\n",
              "      <td>0</td>\n",
              "      <td>1</td>\n",
              "      <td>0</td>\n",
              "      <td>1</td>\n",
              "      <td>0</td>\n",
              "      <td>1</td>\n",
              "      <td>0</td>\n",
              "      <td>0</td>\n",
              "      <td>1</td>\n",
              "      <td>1</td>\n",
              "      <td>0</td>\n",
              "      <td>0</td>\n",
              "      <td>1</td>\n",
              "      <td>0</td>\n",
              "    </tr>\n",
              "  </tbody>\n",
              "</table>\n",
              "</div>"
            ],
            "text/plain": [
              "   monthlycharges  totalcharges_2  tenure_2  seniorcitizen  gender_Male  \\\n",
              "0            0.00            1.00      2.00              0            1   \n",
              "1            4.00            4.00      4.00              1            1   \n",
              "2            3.00            3.00      2.00              0            1   \n",
              "3            2.00            3.00      4.00              0            0   \n",
              "4            0.00            1.00      3.00              0            0   \n",
              "\n",
              "   partner_Yes  dependents_No  dependents_Yes  phoneservice_Yes  \\\n",
              "0            1              0               1                 1   \n",
              "1            1              0               1                 1   \n",
              "2            0              1               0                 1   \n",
              "3            1              0               1                 0   \n",
              "4            0              1               0                 1   \n",
              "\n",
              "   multiplelines_No phone service  multiplelines_Yes  \\\n",
              "0                               0                  0   \n",
              "1                               0                  1   \n",
              "2                               0                  1   \n",
              "3                               1                  0   \n",
              "4                               0                  0   \n",
              "\n",
              "   internetservice_Fiber optic  internetservice_No  \\\n",
              "0                            0                   1   \n",
              "1                            1                   0   \n",
              "2                            1                   0   \n",
              "3                            0                   0   \n",
              "4                            0                   1   \n",
              "\n",
              "   onlinesecurity_No internet service  onlinesecurity_Yes  \\\n",
              "0                                   1                   0   \n",
              "1                                   0                   0   \n",
              "2                                   0                   0   \n",
              "3                                   0                   0   \n",
              "4                                   1                   0   \n",
              "\n",
              "   onlinebackup_No internet service  onlinebackup_Yes  \\\n",
              "0                                 1                 0   \n",
              "1                                 0                 1   \n",
              "2                                 0                 0   \n",
              "3                                 0                 1   \n",
              "4                                 1                 0   \n",
              "\n",
              "   deviceprotection_No internet service  deviceprotection_Yes  \\\n",
              "0                                     1                     0   \n",
              "1                                     0                     0   \n",
              "2                                     0                     0   \n",
              "3                                     0                     1   \n",
              "4                                     1                     0   \n",
              "\n",
              "   techsupport_No internet service  techsupport_Yes  \\\n",
              "0                                1                0   \n",
              "1                                0                0   \n",
              "2                                0                0   \n",
              "3                                0                1   \n",
              "4                                1                0   \n",
              "\n",
              "   streamingtv_No internet service  streamingtv_Yes  \\\n",
              "0                                1                0   \n",
              "1                                0                1   \n",
              "2                                0                0   \n",
              "3                                0                1   \n",
              "4                                1                0   \n",
              "\n",
              "   streamingmovies_No internet service  streamingmovies_Yes  \\\n",
              "0                                    1                    0   \n",
              "1                                    0                    1   \n",
              "2                                    0                    1   \n",
              "3                                    0                    1   \n",
              "4                                    1                    0   \n",
              "\n",
              "   contract_One year  contract_Two year  paperlessbilling_Yes  \\\n",
              "0                  1                  0                     1   \n",
              "1                  1                  0                     0   \n",
              "2                  0                  0                     1   \n",
              "3                  0                  1                     1   \n",
              "4                  0                  1                     1   \n",
              "\n",
              "   paymentmethod_Credit card (automatic)  paymentmethod_Electronic check  \\\n",
              "0                                      1                               0   \n",
              "1                                      0                               0   \n",
              "2                                      0                               1   \n",
              "3                                      0                               0   \n",
              "4                                      0                               0   \n",
              "\n",
              "   paymentmethod_Mailed check  paymentmethod_Miss  \n",
              "0                           0                   0  \n",
              "1                           0                   1  \n",
              "2                           0                   0  \n",
              "3                           0                   0  \n",
              "4                           1                   0  "
            ]
          },
          "metadata": {
            "tags": []
          },
          "execution_count": 106
        }
      ]
    },
    {
      "cell_type": "code",
      "metadata": {
        "id": "f3F-YXllPUxC",
        "outputId": "99879daa-9cd7-4669-defd-87f7046a62c6",
        "colab": {
          "base_uri": "https://localhost:8080/"
        }
      },
      "source": [
        "explicativas_teste.shape"
      ],
      "execution_count": null,
      "outputs": [
        {
          "output_type": "execute_result",
          "data": {
            "text/plain": [
              "(1409, 32)"
            ]
          },
          "metadata": {
            "tags": []
          },
          "execution_count": 107
        }
      ]
    },
    {
      "cell_type": "code",
      "metadata": {
        "id": "2_efE8iDPUxD",
        "outputId": "5c3d3058-9bef-4253-ca05-b18f8504dae4",
        "colab": {
          "base_uri": "https://localhost:8080/"
        }
      },
      "source": [
        "explicativas_teste.isnull().sum()"
      ],
      "execution_count": null,
      "outputs": [
        {
          "output_type": "execute_result",
          "data": {
            "text/plain": [
              "monthlycharges                           0\n",
              "totalcharges_2                           0\n",
              "tenure_2                                 0\n",
              "seniorcitizen                            0\n",
              "gender_Male                              0\n",
              "partner_Yes                              0\n",
              "dependents_No                            0\n",
              "dependents_Yes                           0\n",
              "phoneservice_Yes                         0\n",
              "multiplelines_No phone service           0\n",
              "multiplelines_Yes                        0\n",
              "internetservice_Fiber optic              0\n",
              "internetservice_No                       0\n",
              "onlinesecurity_No internet service       0\n",
              "onlinesecurity_Yes                       0\n",
              "onlinebackup_No internet service         0\n",
              "onlinebackup_Yes                         0\n",
              "deviceprotection_No internet service     0\n",
              "deviceprotection_Yes                     0\n",
              "techsupport_No internet service          0\n",
              "techsupport_Yes                          0\n",
              "streamingtv_No internet service          0\n",
              "streamingtv_Yes                          0\n",
              "streamingmovies_No internet service      0\n",
              "streamingmovies_Yes                      0\n",
              "contract_One year                        0\n",
              "contract_Two year                        0\n",
              "paperlessbilling_Yes                     0\n",
              "paymentmethod_Credit card (automatic)    0\n",
              "paymentmethod_Electronic check           0\n",
              "paymentmethod_Mailed check               0\n",
              "paymentmethod_Miss                       0\n",
              "dtype: int64"
            ]
          },
          "metadata": {
            "tags": []
          },
          "execution_count": 108
        }
      ]
    },
    {
      "cell_type": "code",
      "metadata": {
        "id": "pW6X8w2HPUxG"
      },
      "source": [
        "df_id = df_teste[['id']]"
      ],
      "execution_count": null,
      "outputs": []
    },
    {
      "cell_type": "code",
      "metadata": {
        "id": "ZMDVux7FPUxI",
        "outputId": "889a122a-008a-4a26-dfcf-7ad7257b4e69",
        "colab": {
          "base_uri": "https://localhost:8080/",
          "height": 204
        }
      },
      "source": [
        "df_id.head()"
      ],
      "execution_count": null,
      "outputs": [
        {
          "output_type": "execute_result",
          "data": {
            "text/html": [
              "<div>\n",
              "<style scoped>\n",
              "    .dataframe tbody tr th:only-of-type {\n",
              "        vertical-align: middle;\n",
              "    }\n",
              "\n",
              "    .dataframe tbody tr th {\n",
              "        vertical-align: top;\n",
              "    }\n",
              "\n",
              "    .dataframe thead th {\n",
              "        text-align: right;\n",
              "    }\n",
              "</style>\n",
              "<table border=\"1\" class=\"dataframe\">\n",
              "  <thead>\n",
              "    <tr style=\"text-align: right;\">\n",
              "      <th></th>\n",
              "      <th>id</th>\n",
              "    </tr>\n",
              "  </thead>\n",
              "  <tbody>\n",
              "    <tr>\n",
              "      <th>0</th>\n",
              "      <td>5027</td>\n",
              "    </tr>\n",
              "    <tr>\n",
              "      <th>1</th>\n",
              "      <td>1733</td>\n",
              "    </tr>\n",
              "    <tr>\n",
              "      <th>2</th>\n",
              "      <td>5384</td>\n",
              "    </tr>\n",
              "    <tr>\n",
              "      <th>3</th>\n",
              "      <td>6554</td>\n",
              "    </tr>\n",
              "    <tr>\n",
              "      <th>4</th>\n",
              "      <td>364</td>\n",
              "    </tr>\n",
              "  </tbody>\n",
              "</table>\n",
              "</div>"
            ],
            "text/plain": [
              "     id\n",
              "0  5027\n",
              "1  1733\n",
              "2  5384\n",
              "3  6554\n",
              "4   364"
            ]
          },
          "metadata": {
            "tags": []
          },
          "execution_count": 110
        }
      ]
    },
    {
      "cell_type": "code",
      "metadata": {
        "id": "N7kTFvVkPUxL"
      },
      "source": [
        "import joblib"
      ],
      "execution_count": null,
      "outputs": []
    },
    {
      "cell_type": "code",
      "metadata": {
        "id": "_s2ik2M9PUxN"
      },
      "source": [
        "modelo_salvo = joblib.load(open('modelo_exemplo_gb.pkl', 'rb'))"
      ],
      "execution_count": null,
      "outputs": []
    },
    {
      "cell_type": "code",
      "metadata": {
        "id": "YEwRMrFfPUxO",
        "outputId": "8ece2a7a-8f95-41c3-94dc-4302076a4567",
        "colab": {
          "base_uri": "https://localhost:8080/"
        }
      },
      "source": [
        "modelo_salvo"
      ],
      "execution_count": null,
      "outputs": [
        {
          "output_type": "execute_result",
          "data": {
            "text/plain": [
              "GradientBoostingClassifier(ccp_alpha=0.0, criterion='friedman_mse', init=None,\n",
              "                           learning_rate=0.1, loss='deviance', max_depth=3,\n",
              "                           max_features='log2', max_leaf_nodes=None,\n",
              "                           min_impurity_decrease=0.0, min_impurity_split=None,\n",
              "                           min_samples_leaf=1, min_samples_split=2,\n",
              "                           min_weight_fraction_leaf=0.0, n_estimators=100,\n",
              "                           n_iter_no_change=None, presort='deprecated',\n",
              "                           random_state=1967, subsample=1.0, tol=0.0001,\n",
              "                           validation_fraction=0.1, verbose=0,\n",
              "                           warm_start=False)"
            ]
          },
          "metadata": {
            "tags": []
          },
          "execution_count": 113
        }
      ]
    },
    {
      "cell_type": "code",
      "metadata": {
        "id": "fb1UtPlMPUxQ"
      },
      "source": [
        "resposta = modelo_salvo.predict(explicativas_teste)"
      ],
      "execution_count": null,
      "outputs": []
    },
    {
      "cell_type": "code",
      "metadata": {
        "id": "PvGXHDLSPUxS"
      },
      "source": [
        "resposta_df = pd.DataFrame(resposta, columns=['Churn'])"
      ],
      "execution_count": null,
      "outputs": []
    },
    {
      "cell_type": "code",
      "metadata": {
        "id": "tYGdrVZXPUxT",
        "outputId": "150e375a-ad12-471f-9349-6ef2a2dd8bb1",
        "colab": {
          "base_uri": "https://localhost:8080/",
          "height": 204
        }
      },
      "source": [
        "resposta_df.head()"
      ],
      "execution_count": null,
      "outputs": [
        {
          "output_type": "execute_result",
          "data": {
            "text/html": [
              "<div>\n",
              "<style scoped>\n",
              "    .dataframe tbody tr th:only-of-type {\n",
              "        vertical-align: middle;\n",
              "    }\n",
              "\n",
              "    .dataframe tbody tr th {\n",
              "        vertical-align: top;\n",
              "    }\n",
              "\n",
              "    .dataframe thead th {\n",
              "        text-align: right;\n",
              "    }\n",
              "</style>\n",
              "<table border=\"1\" class=\"dataframe\">\n",
              "  <thead>\n",
              "    <tr style=\"text-align: right;\">\n",
              "      <th></th>\n",
              "      <th>Churn</th>\n",
              "    </tr>\n",
              "  </thead>\n",
              "  <tbody>\n",
              "    <tr>\n",
              "      <th>0</th>\n",
              "      <td>0</td>\n",
              "    </tr>\n",
              "    <tr>\n",
              "      <th>1</th>\n",
              "      <td>0</td>\n",
              "    </tr>\n",
              "    <tr>\n",
              "      <th>2</th>\n",
              "      <td>1</td>\n",
              "    </tr>\n",
              "    <tr>\n",
              "      <th>3</th>\n",
              "      <td>0</td>\n",
              "    </tr>\n",
              "    <tr>\n",
              "      <th>4</th>\n",
              "      <td>0</td>\n",
              "    </tr>\n",
              "  </tbody>\n",
              "</table>\n",
              "</div>"
            ],
            "text/plain": [
              "   Churn\n",
              "0      0\n",
              "1      0\n",
              "2      1\n",
              "3      0\n",
              "4      0"
            ]
          },
          "metadata": {
            "tags": []
          },
          "execution_count": 116
        }
      ]
    },
    {
      "cell_type": "code",
      "metadata": {
        "id": "ePMExC3tPUxU"
      },
      "source": [
        "resultado_submissao = pd.concat([df_id,\n",
        "                                resposta_df], axis=1)"
      ],
      "execution_count": null,
      "outputs": []
    },
    {
      "cell_type": "code",
      "metadata": {
        "id": "9AGr1bb1PUxX",
        "outputId": "b124626f-3da2-4254-d7c5-2d6bf4a36c4d",
        "colab": {
          "base_uri": "https://localhost:8080/",
          "height": 111
        }
      },
      "source": [
        "resultado_submissao.head().T"
      ],
      "execution_count": null,
      "outputs": [
        {
          "output_type": "execute_result",
          "data": {
            "text/html": [
              "<div>\n",
              "<style scoped>\n",
              "    .dataframe tbody tr th:only-of-type {\n",
              "        vertical-align: middle;\n",
              "    }\n",
              "\n",
              "    .dataframe tbody tr th {\n",
              "        vertical-align: top;\n",
              "    }\n",
              "\n",
              "    .dataframe thead th {\n",
              "        text-align: right;\n",
              "    }\n",
              "</style>\n",
              "<table border=\"1\" class=\"dataframe\">\n",
              "  <thead>\n",
              "    <tr style=\"text-align: right;\">\n",
              "      <th></th>\n",
              "      <th>0</th>\n",
              "      <th>1</th>\n",
              "      <th>2</th>\n",
              "      <th>3</th>\n",
              "      <th>4</th>\n",
              "    </tr>\n",
              "  </thead>\n",
              "  <tbody>\n",
              "    <tr>\n",
              "      <th>id</th>\n",
              "      <td>5027</td>\n",
              "      <td>1733</td>\n",
              "      <td>5384</td>\n",
              "      <td>6554</td>\n",
              "      <td>364</td>\n",
              "    </tr>\n",
              "    <tr>\n",
              "      <th>Churn</th>\n",
              "      <td>0</td>\n",
              "      <td>0</td>\n",
              "      <td>1</td>\n",
              "      <td>0</td>\n",
              "      <td>0</td>\n",
              "    </tr>\n",
              "  </tbody>\n",
              "</table>\n",
              "</div>"
            ],
            "text/plain": [
              "          0     1     2     3    4\n",
              "id     5027  1733  5384  6554  364\n",
              "Churn     0     0     1     0    0"
            ]
          },
          "metadata": {
            "tags": []
          },
          "execution_count": 118
        }
      ]
    },
    {
      "cell_type": "code",
      "metadata": {
        "id": "Z9T0hs8wPUxY"
      },
      "source": [
        "resultado_submissao.to_csv('submissao_kaggle_2.csv', index=False)"
      ],
      "execution_count": null,
      "outputs": []
    },
    {
      "cell_type": "code",
      "metadata": {
        "id": "6mxiYpIDPUxa"
      },
      "source": [
        "csv = pd.read_csv('submissao_kaggle_2.csv',sep=',')"
      ],
      "execution_count": null,
      "outputs": []
    },
    {
      "cell_type": "code",
      "metadata": {
        "id": "p_gWNGA8PUxd",
        "outputId": "68c166ac-e3f8-4ca9-995c-85f2bb03fb6d",
        "colab": {
          "base_uri": "https://localhost:8080/",
          "height": 204
        }
      },
      "source": [
        "csv.head()"
      ],
      "execution_count": null,
      "outputs": [
        {
          "output_type": "execute_result",
          "data": {
            "text/html": [
              "<div>\n",
              "<style scoped>\n",
              "    .dataframe tbody tr th:only-of-type {\n",
              "        vertical-align: middle;\n",
              "    }\n",
              "\n",
              "    .dataframe tbody tr th {\n",
              "        vertical-align: top;\n",
              "    }\n",
              "\n",
              "    .dataframe thead th {\n",
              "        text-align: right;\n",
              "    }\n",
              "</style>\n",
              "<table border=\"1\" class=\"dataframe\">\n",
              "  <thead>\n",
              "    <tr style=\"text-align: right;\">\n",
              "      <th></th>\n",
              "      <th>id</th>\n",
              "      <th>Churn</th>\n",
              "    </tr>\n",
              "  </thead>\n",
              "  <tbody>\n",
              "    <tr>\n",
              "      <th>0</th>\n",
              "      <td>5027</td>\n",
              "      <td>0</td>\n",
              "    </tr>\n",
              "    <tr>\n",
              "      <th>1</th>\n",
              "      <td>1733</td>\n",
              "      <td>0</td>\n",
              "    </tr>\n",
              "    <tr>\n",
              "      <th>2</th>\n",
              "      <td>5384</td>\n",
              "      <td>1</td>\n",
              "    </tr>\n",
              "    <tr>\n",
              "      <th>3</th>\n",
              "      <td>6554</td>\n",
              "      <td>0</td>\n",
              "    </tr>\n",
              "    <tr>\n",
              "      <th>4</th>\n",
              "      <td>364</td>\n",
              "      <td>0</td>\n",
              "    </tr>\n",
              "  </tbody>\n",
              "</table>\n",
              "</div>"
            ],
            "text/plain": [
              "     id  Churn\n",
              "0  5027      0\n",
              "1  1733      0\n",
              "2  5384      1\n",
              "3  6554      0\n",
              "4   364      0"
            ]
          },
          "metadata": {
            "tags": []
          },
          "execution_count": 121
        }
      ]
    },
    {
      "cell_type": "code",
      "metadata": {
        "id": "Jopbj8i4PUxf"
      },
      "source": [
        ""
      ],
      "execution_count": null,
      "outputs": []
    },
    {
      "cell_type": "code",
      "metadata": {
        "id": "tJswSF5CPUxh"
      },
      "source": [
        ""
      ],
      "execution_count": null,
      "outputs": []
    },
    {
      "cell_type": "code",
      "metadata": {
        "id": "11IfeH-bPUxi"
      },
      "source": [
        ""
      ],
      "execution_count": null,
      "outputs": []
    }
  ]
}